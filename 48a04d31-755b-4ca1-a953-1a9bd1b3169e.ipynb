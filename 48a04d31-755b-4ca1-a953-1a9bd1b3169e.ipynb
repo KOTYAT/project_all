{
 "cells": [
  {
   "cell_type": "markdown",
   "metadata": {},
   "source": [
    "## Описание проекта"
   ]
  },
  {
   "cell_type": "markdown",
   "metadata": {},
   "source": [
    "**Перед нами данные интернет-магазина «Стримчик», который продаёт по всему миру компьютерные игры. Из открытых источников доступны исторические данные о продажах игр, оценки пользователей и экспертов, жанры и платформы (например, Xbox или PlayStation). Нам предстоит выявить определяющие успешность игры закономерности. Это позволит сделать ставку на потенциально популярный продукт и спланировать рекламные кампании.**"
   ]
  },
  {
   "cell_type": "markdown",
   "metadata": {},
   "source": [
    "## Подготовка данных"
   ]
  },
  {
   "cell_type": "markdown",
   "metadata": {},
   "source": [
    "**Для дальнейшей работы импортируем нужные нам библиотеки.**"
   ]
  },
  {
   "cell_type": "code",
   "execution_count": 1,
   "metadata": {},
   "outputs": [],
   "source": [
    "import pandas as pd\n",
    "import matplotlib.pyplot as plt\n",
    "import seaborn as sns\n",
    "from scipy import stats as st"
   ]
  },
  {
   "cell_type": "markdown",
   "metadata": {},
   "source": [
    "**Прочитаем файл и взглянем на данные.**"
   ]
  },
  {
   "cell_type": "code",
   "execution_count": 2,
   "metadata": {},
   "outputs": [],
   "source": [
    "data = pd.read_csv('/datasets/games.csv')"
   ]
  },
  {
   "cell_type": "code",
   "execution_count": 3,
   "metadata": {},
   "outputs": [
    {
     "data": {
      "text/html": [
       "<div>\n",
       "<style scoped>\n",
       "    .dataframe tbody tr th:only-of-type {\n",
       "        vertical-align: middle;\n",
       "    }\n",
       "\n",
       "    .dataframe tbody tr th {\n",
       "        vertical-align: top;\n",
       "    }\n",
       "\n",
       "    .dataframe thead th {\n",
       "        text-align: right;\n",
       "    }\n",
       "</style>\n",
       "<table border=\"1\" class=\"dataframe\">\n",
       "  <thead>\n",
       "    <tr style=\"text-align: right;\">\n",
       "      <th></th>\n",
       "      <th>Name</th>\n",
       "      <th>Platform</th>\n",
       "      <th>Year_of_Release</th>\n",
       "      <th>Genre</th>\n",
       "      <th>NA_sales</th>\n",
       "      <th>EU_sales</th>\n",
       "      <th>JP_sales</th>\n",
       "      <th>Other_sales</th>\n",
       "      <th>Critic_Score</th>\n",
       "      <th>User_Score</th>\n",
       "      <th>Rating</th>\n",
       "    </tr>\n",
       "  </thead>\n",
       "  <tbody>\n",
       "    <tr>\n",
       "      <th>0</th>\n",
       "      <td>Wii Sports</td>\n",
       "      <td>Wii</td>\n",
       "      <td>2006.0</td>\n",
       "      <td>Sports</td>\n",
       "      <td>41.36</td>\n",
       "      <td>28.96</td>\n",
       "      <td>3.77</td>\n",
       "      <td>8.45</td>\n",
       "      <td>76.0</td>\n",
       "      <td>8</td>\n",
       "      <td>E</td>\n",
       "    </tr>\n",
       "    <tr>\n",
       "      <th>1</th>\n",
       "      <td>Super Mario Bros.</td>\n",
       "      <td>NES</td>\n",
       "      <td>1985.0</td>\n",
       "      <td>Platform</td>\n",
       "      <td>29.08</td>\n",
       "      <td>3.58</td>\n",
       "      <td>6.81</td>\n",
       "      <td>0.77</td>\n",
       "      <td>NaN</td>\n",
       "      <td>NaN</td>\n",
       "      <td>NaN</td>\n",
       "    </tr>\n",
       "    <tr>\n",
       "      <th>2</th>\n",
       "      <td>Mario Kart Wii</td>\n",
       "      <td>Wii</td>\n",
       "      <td>2008.0</td>\n",
       "      <td>Racing</td>\n",
       "      <td>15.68</td>\n",
       "      <td>12.76</td>\n",
       "      <td>3.79</td>\n",
       "      <td>3.29</td>\n",
       "      <td>82.0</td>\n",
       "      <td>8.3</td>\n",
       "      <td>E</td>\n",
       "    </tr>\n",
       "    <tr>\n",
       "      <th>3</th>\n",
       "      <td>Wii Sports Resort</td>\n",
       "      <td>Wii</td>\n",
       "      <td>2009.0</td>\n",
       "      <td>Sports</td>\n",
       "      <td>15.61</td>\n",
       "      <td>10.93</td>\n",
       "      <td>3.28</td>\n",
       "      <td>2.95</td>\n",
       "      <td>80.0</td>\n",
       "      <td>8</td>\n",
       "      <td>E</td>\n",
       "    </tr>\n",
       "    <tr>\n",
       "      <th>4</th>\n",
       "      <td>Pokemon Red/Pokemon Blue</td>\n",
       "      <td>GB</td>\n",
       "      <td>1996.0</td>\n",
       "      <td>Role-Playing</td>\n",
       "      <td>11.27</td>\n",
       "      <td>8.89</td>\n",
       "      <td>10.22</td>\n",
       "      <td>1.00</td>\n",
       "      <td>NaN</td>\n",
       "      <td>NaN</td>\n",
       "      <td>NaN</td>\n",
       "    </tr>\n",
       "    <tr>\n",
       "      <th>...</th>\n",
       "      <td>...</td>\n",
       "      <td>...</td>\n",
       "      <td>...</td>\n",
       "      <td>...</td>\n",
       "      <td>...</td>\n",
       "      <td>...</td>\n",
       "      <td>...</td>\n",
       "      <td>...</td>\n",
       "      <td>...</td>\n",
       "      <td>...</td>\n",
       "      <td>...</td>\n",
       "    </tr>\n",
       "    <tr>\n",
       "      <th>16710</th>\n",
       "      <td>Samurai Warriors: Sanada Maru</td>\n",
       "      <td>PS3</td>\n",
       "      <td>2016.0</td>\n",
       "      <td>Action</td>\n",
       "      <td>0.00</td>\n",
       "      <td>0.00</td>\n",
       "      <td>0.01</td>\n",
       "      <td>0.00</td>\n",
       "      <td>NaN</td>\n",
       "      <td>NaN</td>\n",
       "      <td>NaN</td>\n",
       "    </tr>\n",
       "    <tr>\n",
       "      <th>16711</th>\n",
       "      <td>LMA Manager 2007</td>\n",
       "      <td>X360</td>\n",
       "      <td>2006.0</td>\n",
       "      <td>Sports</td>\n",
       "      <td>0.00</td>\n",
       "      <td>0.01</td>\n",
       "      <td>0.00</td>\n",
       "      <td>0.00</td>\n",
       "      <td>NaN</td>\n",
       "      <td>NaN</td>\n",
       "      <td>NaN</td>\n",
       "    </tr>\n",
       "    <tr>\n",
       "      <th>16712</th>\n",
       "      <td>Haitaka no Psychedelica</td>\n",
       "      <td>PSV</td>\n",
       "      <td>2016.0</td>\n",
       "      <td>Adventure</td>\n",
       "      <td>0.00</td>\n",
       "      <td>0.00</td>\n",
       "      <td>0.01</td>\n",
       "      <td>0.00</td>\n",
       "      <td>NaN</td>\n",
       "      <td>NaN</td>\n",
       "      <td>NaN</td>\n",
       "    </tr>\n",
       "    <tr>\n",
       "      <th>16713</th>\n",
       "      <td>Spirits &amp; Spells</td>\n",
       "      <td>GBA</td>\n",
       "      <td>2003.0</td>\n",
       "      <td>Platform</td>\n",
       "      <td>0.01</td>\n",
       "      <td>0.00</td>\n",
       "      <td>0.00</td>\n",
       "      <td>0.00</td>\n",
       "      <td>NaN</td>\n",
       "      <td>NaN</td>\n",
       "      <td>NaN</td>\n",
       "    </tr>\n",
       "    <tr>\n",
       "      <th>16714</th>\n",
       "      <td>Winning Post 8 2016</td>\n",
       "      <td>PSV</td>\n",
       "      <td>2016.0</td>\n",
       "      <td>Simulation</td>\n",
       "      <td>0.00</td>\n",
       "      <td>0.00</td>\n",
       "      <td>0.01</td>\n",
       "      <td>0.00</td>\n",
       "      <td>NaN</td>\n",
       "      <td>NaN</td>\n",
       "      <td>NaN</td>\n",
       "    </tr>\n",
       "  </tbody>\n",
       "</table>\n",
       "<p>16715 rows × 11 columns</p>\n",
       "</div>"
      ],
      "text/plain": [
       "                                Name Platform  Year_of_Release         Genre  \\\n",
       "0                         Wii Sports      Wii           2006.0        Sports   \n",
       "1                  Super Mario Bros.      NES           1985.0      Platform   \n",
       "2                     Mario Kart Wii      Wii           2008.0        Racing   \n",
       "3                  Wii Sports Resort      Wii           2009.0        Sports   \n",
       "4           Pokemon Red/Pokemon Blue       GB           1996.0  Role-Playing   \n",
       "...                              ...      ...              ...           ...   \n",
       "16710  Samurai Warriors: Sanada Maru      PS3           2016.0        Action   \n",
       "16711               LMA Manager 2007     X360           2006.0        Sports   \n",
       "16712        Haitaka no Psychedelica      PSV           2016.0     Adventure   \n",
       "16713               Spirits & Spells      GBA           2003.0      Platform   \n",
       "16714            Winning Post 8 2016      PSV           2016.0    Simulation   \n",
       "\n",
       "       NA_sales  EU_sales  JP_sales  Other_sales  Critic_Score User_Score  \\\n",
       "0         41.36     28.96      3.77         8.45          76.0          8   \n",
       "1         29.08      3.58      6.81         0.77           NaN        NaN   \n",
       "2         15.68     12.76      3.79         3.29          82.0        8.3   \n",
       "3         15.61     10.93      3.28         2.95          80.0          8   \n",
       "4         11.27      8.89     10.22         1.00           NaN        NaN   \n",
       "...         ...       ...       ...          ...           ...        ...   \n",
       "16710      0.00      0.00      0.01         0.00           NaN        NaN   \n",
       "16711      0.00      0.01      0.00         0.00           NaN        NaN   \n",
       "16712      0.00      0.00      0.01         0.00           NaN        NaN   \n",
       "16713      0.01      0.00      0.00         0.00           NaN        NaN   \n",
       "16714      0.00      0.00      0.01         0.00           NaN        NaN   \n",
       "\n",
       "      Rating  \n",
       "0          E  \n",
       "1        NaN  \n",
       "2          E  \n",
       "3          E  \n",
       "4        NaN  \n",
       "...      ...  \n",
       "16710    NaN  \n",
       "16711    NaN  \n",
       "16712    NaN  \n",
       "16713    NaN  \n",
       "16714    NaN  \n",
       "\n",
       "[16715 rows x 11 columns]"
      ]
     },
     "execution_count": 3,
     "metadata": {},
     "output_type": "execute_result"
    }
   ],
   "source": [
    "data"
   ]
  },
  {
   "cell_type": "markdown",
   "metadata": {},
   "source": [
    "**Всего у нас 16715 строк и 11 столбов со следующими названиями:**\n",
    "\n",
    "- Name — название игры\n",
    "- Platform — платформа\n",
    "- Year_of_Release — год выпуска\n",
    "- Genre — жанр игры\n",
    "- NA_sales — продажи в Северной Америке (миллионы проданных копий)\n",
    "- EU_sales — продажи в Европе (миллионы проданных копий)\n",
    "- JP_sales — продажи в Японии (миллионы проданных копий)\n",
    "- Other_sales — продажи в других странах (миллионы проданных копий)\n",
    "- Critic_Score — оценка критиков (максимум 100)\n",
    "- User_Score — оценка пользователей (максимум 10)\n",
    "- Rating — рейтинг от организации ESRB (англ. Entertainment Software Rating Board). Эта - ассоциация определяет рейтинг компьютерных игр и присваивает им подходящую возрастную категорию."
   ]
  },
  {
   "cell_type": "markdown",
   "metadata": {},
   "source": [
    "### Названия и типы столбцов"
   ]
  },
  {
   "cell_type": "markdown",
   "metadata": {},
   "source": [
    "**Выведем общую информацию о датафрейме.**"
   ]
  },
  {
   "cell_type": "code",
   "execution_count": 4,
   "metadata": {
    "scrolled": true
   },
   "outputs": [
    {
     "name": "stdout",
     "output_type": "stream",
     "text": [
      "<class 'pandas.core.frame.DataFrame'>\n",
      "RangeIndex: 16715 entries, 0 to 16714\n",
      "Data columns (total 11 columns):\n",
      " #   Column           Non-Null Count  Dtype  \n",
      "---  ------           --------------  -----  \n",
      " 0   Name             16713 non-null  object \n",
      " 1   Platform         16715 non-null  object \n",
      " 2   Year_of_Release  16446 non-null  float64\n",
      " 3   Genre            16713 non-null  object \n",
      " 4   NA_sales         16715 non-null  float64\n",
      " 5   EU_sales         16715 non-null  float64\n",
      " 6   JP_sales         16715 non-null  float64\n",
      " 7   Other_sales      16715 non-null  float64\n",
      " 8   Critic_Score     8137 non-null   float64\n",
      " 9   User_Score       10014 non-null  object \n",
      " 10  Rating           9949 non-null   object \n",
      "dtypes: float64(6), object(5)\n",
      "memory usage: 1.4+ MB\n"
     ]
    }
   ],
   "source": [
    "data.info()"
   ]
  },
  {
   "cell_type": "markdown",
   "metadata": {},
   "source": [
    "**Взглянув на названия столбцов можно заметить, что их стоит привести к нижнему регистру.**"
   ]
  },
  {
   "cell_type": "code",
   "execution_count": 5,
   "metadata": {},
   "outputs": [
    {
     "data": {
      "text/plain": [
       "Index(['name', 'platform', 'year_of_release', 'genre', 'na_sales', 'eu_sales',\n",
       "       'jp_sales', 'other_sales', 'critic_score', 'user_score', 'rating'],\n",
       "      dtype='object')"
      ]
     },
     "execution_count": 5,
     "metadata": {},
     "output_type": "execute_result"
    }
   ],
   "source": [
    "data.columns = data.columns.str.lower()\n",
    "data.columns"
   ]
  },
  {
   "cell_type": "markdown",
   "metadata": {},
   "source": [
    "**Теперь заменим тип данных в столбце `user_score` на `float64`, но перед этим взглянем на содержимое.**"
   ]
  },
  {
   "cell_type": "code",
   "execution_count": 6,
   "metadata": {},
   "outputs": [
    {
     "data": {
      "text/plain": [
       "tbd    2424\n",
       "7.8     324\n",
       "8       290\n",
       "8.2     282\n",
       "8.3     254\n",
       "       ... \n",
       "1         2\n",
       "9.6       2\n",
       "0.2       2\n",
       "9.7       1\n",
       "0         1\n",
       "Name: user_score, Length: 96, dtype: int64"
      ]
     },
     "execution_count": 6,
     "metadata": {},
     "output_type": "execute_result"
    }
   ],
   "source": [
    "#data['user_score'] = pd.to_numeric(data['user_score'], errors='raise')\n",
    "data['user_score'].value_counts()"
   ]
  },
  {
   "cell_type": "markdown",
   "metadata": {},
   "source": [
    "**tbd - это означает \"to be determined\"(\"будет определено позднее\"). Это указывает на то, что для некоторых игр оценка пользователей еще не была установлена на момент сбора данных. Заменим их на NaN при замене типа.**"
   ]
  },
  {
   "cell_type": "code",
   "execution_count": 7,
   "metadata": {},
   "outputs": [
    {
     "data": {
      "text/plain": [
       "7.8    324\n",
       "8.0    290\n",
       "8.2    282\n",
       "8.3    254\n",
       "8.5    253\n",
       "      ... \n",
       "0.9      2\n",
       "1.9      2\n",
       "1.3      2\n",
       "9.7      1\n",
       "0.0      1\n",
       "Name: user_score, Length: 95, dtype: int64"
      ]
     },
     "execution_count": 7,
     "metadata": {},
     "output_type": "execute_result"
    }
   ],
   "source": [
    "data['user_score'] = pd.to_numeric(\n",
    "    data['user_score'], errors='coerce')#coerse - принудительная замена на NaN\n",
    "data['user_score'].value_counts()"
   ]
  },
  {
   "cell_type": "markdown",
   "metadata": {},
   "source": [
    "**Готово, мы привели названия столбцов к нижнему регистру и поменяли тип данных в столбце `user_score`, параллельно заменив значения `tbd` на NaN.**"
   ]
  },
  {
   "cell_type": "markdown",
   "metadata": {},
   "source": [
    "### Пропуски и дубликаты"
   ]
  },
  {
   "cell_type": "markdown",
   "metadata": {},
   "source": [
    "**Ещё раз взглянем на всю информацию о датафрейме и начнём заполнять пропуски.**"
   ]
  },
  {
   "cell_type": "code",
   "execution_count": 8,
   "metadata": {},
   "outputs": [
    {
     "name": "stdout",
     "output_type": "stream",
     "text": [
      "<class 'pandas.core.frame.DataFrame'>\n",
      "RangeIndex: 16715 entries, 0 to 16714\n",
      "Data columns (total 11 columns):\n",
      " #   Column           Non-Null Count  Dtype  \n",
      "---  ------           --------------  -----  \n",
      " 0   name             16713 non-null  object \n",
      " 1   platform         16715 non-null  object \n",
      " 2   year_of_release  16446 non-null  float64\n",
      " 3   genre            16713 non-null  object \n",
      " 4   na_sales         16715 non-null  float64\n",
      " 5   eu_sales         16715 non-null  float64\n",
      " 6   jp_sales         16715 non-null  float64\n",
      " 7   other_sales      16715 non-null  float64\n",
      " 8   critic_score     8137 non-null   float64\n",
      " 9   user_score       7590 non-null   float64\n",
      " 10  rating           9949 non-null   object \n",
      "dtypes: float64(7), object(4)\n",
      "memory usage: 1.4+ MB\n"
     ]
    }
   ],
   "source": [
    "data.info()"
   ]
  },
  {
   "cell_type": "markdown",
   "metadata": {},
   "source": [
    "**Два пропуска в столбце `name`, посмотрим на них.**"
   ]
  },
  {
   "cell_type": "code",
   "execution_count": 9,
   "metadata": {},
   "outputs": [
    {
     "data": {
      "text/html": [
       "<div>\n",
       "<style scoped>\n",
       "    .dataframe tbody tr th:only-of-type {\n",
       "        vertical-align: middle;\n",
       "    }\n",
       "\n",
       "    .dataframe tbody tr th {\n",
       "        vertical-align: top;\n",
       "    }\n",
       "\n",
       "    .dataframe thead th {\n",
       "        text-align: right;\n",
       "    }\n",
       "</style>\n",
       "<table border=\"1\" class=\"dataframe\">\n",
       "  <thead>\n",
       "    <tr style=\"text-align: right;\">\n",
       "      <th></th>\n",
       "      <th>name</th>\n",
       "      <th>platform</th>\n",
       "      <th>year_of_release</th>\n",
       "      <th>genre</th>\n",
       "      <th>na_sales</th>\n",
       "      <th>eu_sales</th>\n",
       "      <th>jp_sales</th>\n",
       "      <th>other_sales</th>\n",
       "      <th>critic_score</th>\n",
       "      <th>user_score</th>\n",
       "      <th>rating</th>\n",
       "    </tr>\n",
       "  </thead>\n",
       "  <tbody>\n",
       "    <tr>\n",
       "      <th>659</th>\n",
       "      <td>NaN</td>\n",
       "      <td>GEN</td>\n",
       "      <td>1993.0</td>\n",
       "      <td>NaN</td>\n",
       "      <td>1.78</td>\n",
       "      <td>0.53</td>\n",
       "      <td>0.00</td>\n",
       "      <td>0.08</td>\n",
       "      <td>NaN</td>\n",
       "      <td>NaN</td>\n",
       "      <td>NaN</td>\n",
       "    </tr>\n",
       "    <tr>\n",
       "      <th>14244</th>\n",
       "      <td>NaN</td>\n",
       "      <td>GEN</td>\n",
       "      <td>1993.0</td>\n",
       "      <td>NaN</td>\n",
       "      <td>0.00</td>\n",
       "      <td>0.00</td>\n",
       "      <td>0.03</td>\n",
       "      <td>0.00</td>\n",
       "      <td>NaN</td>\n",
       "      <td>NaN</td>\n",
       "      <td>NaN</td>\n",
       "    </tr>\n",
       "  </tbody>\n",
       "</table>\n",
       "</div>"
      ],
      "text/plain": [
       "      name platform  year_of_release genre  na_sales  eu_sales  jp_sales  \\\n",
       "659    NaN      GEN           1993.0   NaN      1.78      0.53      0.00   \n",
       "14244  NaN      GEN           1993.0   NaN      0.00      0.00      0.03   \n",
       "\n",
       "       other_sales  critic_score  user_score rating  \n",
       "659           0.08           NaN         NaN    NaN  \n",
       "14244         0.00           NaN         NaN    NaN  "
      ]
     },
     "execution_count": 9,
     "metadata": {},
     "output_type": "execute_result"
    }
   ],
   "source": [
    "data[data['name'].isna()]"
   ]
  },
  {
   "cell_type": "markdown",
   "metadata": {},
   "source": [
    "**Удалим их, данные явно не получится заполнить корректно.**"
   ]
  },
  {
   "cell_type": "code",
   "execution_count": 10,
   "metadata": {},
   "outputs": [
    {
     "data": {
      "text/plain": [
       "name                  0\n",
       "platform              0\n",
       "year_of_release     269\n",
       "genre                 0\n",
       "na_sales              0\n",
       "eu_sales              0\n",
       "jp_sales              0\n",
       "other_sales           0\n",
       "critic_score       8576\n",
       "user_score         9123\n",
       "rating             6764\n",
       "dtype: int64"
      ]
     },
     "execution_count": 10,
     "metadata": {},
     "output_type": "execute_result"
    }
   ],
   "source": [
    "data = data.dropna(subset=['name'])\n",
    "data.isna().sum()"
   ]
  },
  {
   "cell_type": "markdown",
   "metadata": {},
   "source": [
    "**Остальные пропуски мы заполним следующим образом:**\n",
    "\n",
    "- year_of_release - медианным значением по `platform`;\n",
    "- critic_score и user_score - медианным значением по `genre`;\n",
    "- rating - модой по `genre`."
   ]
  },
  {
   "cell_type": "code",
   "execution_count": 11,
   "metadata": {
    "scrolled": true
   },
   "outputs": [],
   "source": [
    "pd.options.mode.chained_assignment = None #Выключаем предупреждения\n",
    "\n",
    "for i in data['platform'].unique(): #замена в year_of_release\n",
    "    data.loc[(data['platform'] == i) & (data['year_of_release'].isna()), 'year_of_release'] =\\\n",
    "    data.loc[(data['platform'] == i), 'year_of_release'].median()"
   ]
  },
  {
   "cell_type": "code",
   "execution_count": 12,
   "metadata": {
    "scrolled": true
   },
   "outputs": [],
   "source": [
    "for i in data['genre'].unique(): #замена в critic_score\n",
    "    data.loc[(data['genre'] == i) & (data['critic_score'].isna()), 'critic_score'] =\\\n",
    "    data.loc[(data['genre'] == i), 'critic_score'].median()"
   ]
  },
  {
   "cell_type": "code",
   "execution_count": 13,
   "metadata": {
    "scrolled": true
   },
   "outputs": [],
   "source": [
    "for i in data['genre'].unique(): #замена в user_score\n",
    "    data.loc[(data['genre'] == i) & (data['user_score'].isna()), 'user_score'] =\\\n",
    "    data.loc[(data['genre'] == i), 'user_score'].median()"
   ]
  },
  {
   "cell_type": "code",
   "execution_count": 14,
   "metadata": {},
   "outputs": [],
   "source": [
    "for i in data['genre'].unique(): #замена в user_score по genre\n",
    "    ra = data.loc[data['genre'] == i, 'rating'].mode()\n",
    "    data.loc[(data['genre'] == i) & (data['rating'].isna()), 'rating'] = ra.iloc[0]"
   ]
  },
  {
   "cell_type": "markdown",
   "metadata": {},
   "source": [
    "<div class=\"alert alert-block alert-warning\">\n",
    " \n",
    "### Комментарий ревьюера\n",
    "    \n",
    "#### Совет\n",
    "\n",
    "А тут не совсем оптимальный метод. В целом, оценки критиков и пользователей достаточно индивидуальный и субъективны и лучше всего их оставить как есть или заменить заглушкой. "
   ]
  },
  {
   "cell_type": "markdown",
   "metadata": {},
   "source": [
    "**Взглянем на готовый данные.**"
   ]
  },
  {
   "cell_type": "code",
   "execution_count": 15,
   "metadata": {},
   "outputs": [
    {
     "name": "stdout",
     "output_type": "stream",
     "text": [
      "<class 'pandas.core.frame.DataFrame'>\n",
      "Int64Index: 16713 entries, 0 to 16714\n",
      "Data columns (total 11 columns):\n",
      " #   Column           Non-Null Count  Dtype  \n",
      "---  ------           --------------  -----  \n",
      " 0   name             16713 non-null  object \n",
      " 1   platform         16713 non-null  object \n",
      " 2   year_of_release  16713 non-null  float64\n",
      " 3   genre            16713 non-null  object \n",
      " 4   na_sales         16713 non-null  float64\n",
      " 5   eu_sales         16713 non-null  float64\n",
      " 6   jp_sales         16713 non-null  float64\n",
      " 7   other_sales      16713 non-null  float64\n",
      " 8   critic_score     16713 non-null  float64\n",
      " 9   user_score       16713 non-null  float64\n",
      " 10  rating           16713 non-null  object \n",
      "dtypes: float64(7), object(4)\n",
      "memory usage: 1.5+ MB\n"
     ]
    }
   ],
   "source": [
    "data.info()"
   ]
  },
  {
   "cell_type": "markdown",
   "metadata": {},
   "source": [
    "**Пропуски могли быть пропущены по большому количеству причин, например ошибка выгрузки данных, из-за которой часть из них могла потеряться. Так же ошибка программы или человека, которые заполняли данные. Момент с `tbd`(\"будет определено позднее\") мы разобрали, вероятнее всего данные просто забыли заполнить, ведь там были и старые игры, а новые игры ещё не успели.**"
   ]
  },
  {
   "cell_type": "markdown",
   "metadata": {},
   "source": [
    "**Теперь посмотрим на полные дубликаты и на дубликаты по группам**"
   ]
  },
  {
   "cell_type": "code",
   "execution_count": 16,
   "metadata": {},
   "outputs": [
    {
     "data": {
      "text/plain": [
       "0"
      ]
     },
     "execution_count": 16,
     "metadata": {},
     "output_type": "execute_result"
    }
   ],
   "source": [
    "data.duplicated().sum()"
   ]
  },
  {
   "cell_type": "markdown",
   "metadata": {},
   "source": [
    "**Полных дубликатов нет, взглянем на дубликаты, объединив в группу с `name` и`year_of_realese`.**"
   ]
  },
  {
   "cell_type": "code",
   "execution_count": 17,
   "metadata": {
    "scrolled": true
   },
   "outputs": [
    {
     "data": {
      "text/html": [
       "<div>\n",
       "<style scoped>\n",
       "    .dataframe tbody tr th:only-of-type {\n",
       "        vertical-align: middle;\n",
       "    }\n",
       "\n",
       "    .dataframe tbody tr th {\n",
       "        vertical-align: top;\n",
       "    }\n",
       "\n",
       "    .dataframe thead th {\n",
       "        text-align: right;\n",
       "    }\n",
       "</style>\n",
       "<table border=\"1\" class=\"dataframe\">\n",
       "  <thead>\n",
       "    <tr style=\"text-align: right;\">\n",
       "      <th></th>\n",
       "      <th>name</th>\n",
       "      <th>platform</th>\n",
       "      <th>year_of_release</th>\n",
       "      <th>genre</th>\n",
       "      <th>na_sales</th>\n",
       "      <th>eu_sales</th>\n",
       "      <th>jp_sales</th>\n",
       "      <th>other_sales</th>\n",
       "      <th>critic_score</th>\n",
       "      <th>user_score</th>\n",
       "      <th>rating</th>\n",
       "    </tr>\n",
       "  </thead>\n",
       "  <tbody>\n",
       "    <tr>\n",
       "      <th>1591</th>\n",
       "      <td>Need for Speed: Most Wanted</td>\n",
       "      <td>X360</td>\n",
       "      <td>2005.0</td>\n",
       "      <td>Racing</td>\n",
       "      <td>1.0</td>\n",
       "      <td>0.13</td>\n",
       "      <td>0.02</td>\n",
       "      <td>0.10</td>\n",
       "      <td>83.0</td>\n",
       "      <td>8.5</td>\n",
       "      <td>T</td>\n",
       "    </tr>\n",
       "    <tr>\n",
       "      <th>4127</th>\n",
       "      <td>Sonic the Hedgehog</td>\n",
       "      <td>PS3</td>\n",
       "      <td>2011.0</td>\n",
       "      <td>Platform</td>\n",
       "      <td>0.0</td>\n",
       "      <td>0.48</td>\n",
       "      <td>0.00</td>\n",
       "      <td>0.00</td>\n",
       "      <td>43.0</td>\n",
       "      <td>4.1</td>\n",
       "      <td>E10+</td>\n",
       "    </tr>\n",
       "    <tr>\n",
       "      <th>11715</th>\n",
       "      <td>Need for Speed: Most Wanted</td>\n",
       "      <td>PC</td>\n",
       "      <td>2012.0</td>\n",
       "      <td>Racing</td>\n",
       "      <td>0.0</td>\n",
       "      <td>0.06</td>\n",
       "      <td>0.00</td>\n",
       "      <td>0.02</td>\n",
       "      <td>82.0</td>\n",
       "      <td>8.5</td>\n",
       "      <td>T</td>\n",
       "    </tr>\n",
       "    <tr>\n",
       "      <th>16230</th>\n",
       "      <td>Madden NFL 13</td>\n",
       "      <td>PS3</td>\n",
       "      <td>2012.0</td>\n",
       "      <td>Sports</td>\n",
       "      <td>0.0</td>\n",
       "      <td>0.01</td>\n",
       "      <td>0.00</td>\n",
       "      <td>0.00</td>\n",
       "      <td>83.0</td>\n",
       "      <td>5.5</td>\n",
       "      <td>E</td>\n",
       "    </tr>\n",
       "  </tbody>\n",
       "</table>\n",
       "</div>"
      ],
      "text/plain": [
       "                              name platform  year_of_release     genre  \\\n",
       "1591   Need for Speed: Most Wanted     X360           2005.0    Racing   \n",
       "4127            Sonic the Hedgehog      PS3           2011.0  Platform   \n",
       "11715  Need for Speed: Most Wanted       PC           2012.0    Racing   \n",
       "16230                Madden NFL 13      PS3           2012.0    Sports   \n",
       "\n",
       "       na_sales  eu_sales  jp_sales  other_sales  critic_score  user_score  \\\n",
       "1591        1.0      0.13      0.02         0.10          83.0         8.5   \n",
       "4127        0.0      0.48      0.00         0.00          43.0         4.1   \n",
       "11715       0.0      0.06      0.00         0.02          82.0         8.5   \n",
       "16230       0.0      0.01      0.00         0.00          83.0         5.5   \n",
       "\n",
       "      rating  \n",
       "1591       T  \n",
       "4127    E10+  \n",
       "11715      T  \n",
       "16230      E  "
      ]
     },
     "execution_count": 17,
     "metadata": {},
     "output_type": "execute_result"
    }
   ],
   "source": [
    "data[data[['name', 'platform']].duplicated()]"
   ]
  },
  {
   "cell_type": "markdown",
   "metadata": {},
   "source": [
    "**Мы удалим дубликаты, в которых указан год, приближенный к 2016, то есть более молодые, добавленные позже.**"
   ]
  },
  {
   "cell_type": "code",
   "execution_count": 18,
   "metadata": {},
   "outputs": [
    {
     "data": {
      "text/html": [
       "<div>\n",
       "<style scoped>\n",
       "    .dataframe tbody tr th:only-of-type {\n",
       "        vertical-align: middle;\n",
       "    }\n",
       "\n",
       "    .dataframe tbody tr th {\n",
       "        vertical-align: top;\n",
       "    }\n",
       "\n",
       "    .dataframe thead th {\n",
       "        text-align: right;\n",
       "    }\n",
       "</style>\n",
       "<table border=\"1\" class=\"dataframe\">\n",
       "  <thead>\n",
       "    <tr style=\"text-align: right;\">\n",
       "      <th></th>\n",
       "      <th>name</th>\n",
       "      <th>platform</th>\n",
       "      <th>year_of_release</th>\n",
       "      <th>genre</th>\n",
       "      <th>na_sales</th>\n",
       "      <th>eu_sales</th>\n",
       "      <th>jp_sales</th>\n",
       "      <th>other_sales</th>\n",
       "      <th>critic_score</th>\n",
       "      <th>user_score</th>\n",
       "      <th>rating</th>\n",
       "    </tr>\n",
       "  </thead>\n",
       "  <tbody>\n",
       "  </tbody>\n",
       "</table>\n",
       "</div>"
      ],
      "text/plain": [
       "Empty DataFrame\n",
       "Columns: [name, platform, year_of_release, genre, na_sales, eu_sales, jp_sales, other_sales, critic_score, user_score, rating]\n",
       "Index: []"
      ]
     },
     "execution_count": 18,
     "metadata": {},
     "output_type": "execute_result"
    }
   ],
   "source": [
    "data.drop([1190, 4127, 11715, 16230], inplace=True)\n",
    "data[data[['name', 'platform']].duplicated()]"
   ]
  },
  {
   "cell_type": "markdown",
   "metadata": {},
   "source": [
    "**Готово, дубликатов больше нет.**"
   ]
  },
  {
   "cell_type": "markdown",
   "metadata": {},
   "source": [
    "### Столбец общей выручки"
   ]
  },
  {
   "cell_type": "markdown",
   "metadata": {},
   "source": [
    "**Создадим столбец, в котором будут суммарные продажи во всех регионах, назовём его `full_sales`.**"
   ]
  },
  {
   "cell_type": "code",
   "execution_count": 19,
   "metadata": {},
   "outputs": [
    {
     "data": {
      "text/html": [
       "<div>\n",
       "<style scoped>\n",
       "    .dataframe tbody tr th:only-of-type {\n",
       "        vertical-align: middle;\n",
       "    }\n",
       "\n",
       "    .dataframe tbody tr th {\n",
       "        vertical-align: top;\n",
       "    }\n",
       "\n",
       "    .dataframe thead th {\n",
       "        text-align: right;\n",
       "    }\n",
       "</style>\n",
       "<table border=\"1\" class=\"dataframe\">\n",
       "  <thead>\n",
       "    <tr style=\"text-align: right;\">\n",
       "      <th></th>\n",
       "      <th>name</th>\n",
       "      <th>platform</th>\n",
       "      <th>year_of_release</th>\n",
       "      <th>genre</th>\n",
       "      <th>na_sales</th>\n",
       "      <th>eu_sales</th>\n",
       "      <th>jp_sales</th>\n",
       "      <th>other_sales</th>\n",
       "      <th>critic_score</th>\n",
       "      <th>user_score</th>\n",
       "      <th>rating</th>\n",
       "      <th>full_sales</th>\n",
       "    </tr>\n",
       "  </thead>\n",
       "  <tbody>\n",
       "    <tr>\n",
       "      <th>0</th>\n",
       "      <td>Wii Sports</td>\n",
       "      <td>Wii</td>\n",
       "      <td>2006.0</td>\n",
       "      <td>Sports</td>\n",
       "      <td>41.36</td>\n",
       "      <td>28.96</td>\n",
       "      <td>3.77</td>\n",
       "      <td>8.45</td>\n",
       "      <td>76.0</td>\n",
       "      <td>8.0</td>\n",
       "      <td>E</td>\n",
       "      <td>82.54</td>\n",
       "    </tr>\n",
       "    <tr>\n",
       "      <th>1</th>\n",
       "      <td>Super Mario Bros.</td>\n",
       "      <td>NES</td>\n",
       "      <td>1985.0</td>\n",
       "      <td>Platform</td>\n",
       "      <td>29.08</td>\n",
       "      <td>3.58</td>\n",
       "      <td>6.81</td>\n",
       "      <td>0.77</td>\n",
       "      <td>69.0</td>\n",
       "      <td>7.7</td>\n",
       "      <td>E</td>\n",
       "      <td>40.24</td>\n",
       "    </tr>\n",
       "    <tr>\n",
       "      <th>2</th>\n",
       "      <td>Mario Kart Wii</td>\n",
       "      <td>Wii</td>\n",
       "      <td>2008.0</td>\n",
       "      <td>Racing</td>\n",
       "      <td>15.68</td>\n",
       "      <td>12.76</td>\n",
       "      <td>3.79</td>\n",
       "      <td>3.29</td>\n",
       "      <td>82.0</td>\n",
       "      <td>8.3</td>\n",
       "      <td>E</td>\n",
       "      <td>35.52</td>\n",
       "    </tr>\n",
       "    <tr>\n",
       "      <th>3</th>\n",
       "      <td>Wii Sports Resort</td>\n",
       "      <td>Wii</td>\n",
       "      <td>2009.0</td>\n",
       "      <td>Sports</td>\n",
       "      <td>15.61</td>\n",
       "      <td>10.93</td>\n",
       "      <td>3.28</td>\n",
       "      <td>2.95</td>\n",
       "      <td>80.0</td>\n",
       "      <td>8.0</td>\n",
       "      <td>E</td>\n",
       "      <td>32.77</td>\n",
       "    </tr>\n",
       "    <tr>\n",
       "      <th>4</th>\n",
       "      <td>Pokemon Red/Pokemon Blue</td>\n",
       "      <td>GB</td>\n",
       "      <td>1996.0</td>\n",
       "      <td>Role-Playing</td>\n",
       "      <td>11.27</td>\n",
       "      <td>8.89</td>\n",
       "      <td>10.22</td>\n",
       "      <td>1.00</td>\n",
       "      <td>74.0</td>\n",
       "      <td>7.8</td>\n",
       "      <td>T</td>\n",
       "      <td>31.38</td>\n",
       "    </tr>\n",
       "    <tr>\n",
       "      <th>...</th>\n",
       "      <td>...</td>\n",
       "      <td>...</td>\n",
       "      <td>...</td>\n",
       "      <td>...</td>\n",
       "      <td>...</td>\n",
       "      <td>...</td>\n",
       "      <td>...</td>\n",
       "      <td>...</td>\n",
       "      <td>...</td>\n",
       "      <td>...</td>\n",
       "      <td>...</td>\n",
       "      <td>...</td>\n",
       "    </tr>\n",
       "    <tr>\n",
       "      <th>16704</th>\n",
       "      <td>Samurai Warriors: Sanada Maru</td>\n",
       "      <td>PS3</td>\n",
       "      <td>2016.0</td>\n",
       "      <td>Action</td>\n",
       "      <td>0.00</td>\n",
       "      <td>0.00</td>\n",
       "      <td>0.01</td>\n",
       "      <td>0.00</td>\n",
       "      <td>68.0</td>\n",
       "      <td>7.4</td>\n",
       "      <td>T</td>\n",
       "      <td>0.01</td>\n",
       "    </tr>\n",
       "    <tr>\n",
       "      <th>16705</th>\n",
       "      <td>LMA Manager 2007</td>\n",
       "      <td>X360</td>\n",
       "      <td>2006.0</td>\n",
       "      <td>Sports</td>\n",
       "      <td>0.00</td>\n",
       "      <td>0.01</td>\n",
       "      <td>0.00</td>\n",
       "      <td>0.00</td>\n",
       "      <td>75.0</td>\n",
       "      <td>7.4</td>\n",
       "      <td>E</td>\n",
       "      <td>0.01</td>\n",
       "    </tr>\n",
       "    <tr>\n",
       "      <th>16706</th>\n",
       "      <td>Haitaka no Psychedelica</td>\n",
       "      <td>PSV</td>\n",
       "      <td>2016.0</td>\n",
       "      <td>Adventure</td>\n",
       "      <td>0.00</td>\n",
       "      <td>0.00</td>\n",
       "      <td>0.01</td>\n",
       "      <td>0.00</td>\n",
       "      <td>66.0</td>\n",
       "      <td>7.6</td>\n",
       "      <td>E</td>\n",
       "      <td>0.01</td>\n",
       "    </tr>\n",
       "    <tr>\n",
       "      <th>16707</th>\n",
       "      <td>Spirits &amp; Spells</td>\n",
       "      <td>GBA</td>\n",
       "      <td>2003.0</td>\n",
       "      <td>Platform</td>\n",
       "      <td>0.01</td>\n",
       "      <td>0.00</td>\n",
       "      <td>0.00</td>\n",
       "      <td>0.00</td>\n",
       "      <td>69.0</td>\n",
       "      <td>7.7</td>\n",
       "      <td>E</td>\n",
       "      <td>0.01</td>\n",
       "    </tr>\n",
       "    <tr>\n",
       "      <th>16708</th>\n",
       "      <td>Winning Post 8 2016</td>\n",
       "      <td>PSV</td>\n",
       "      <td>2016.0</td>\n",
       "      <td>Simulation</td>\n",
       "      <td>0.00</td>\n",
       "      <td>0.00</td>\n",
       "      <td>0.01</td>\n",
       "      <td>0.00</td>\n",
       "      <td>70.0</td>\n",
       "      <td>7.5</td>\n",
       "      <td>E</td>\n",
       "      <td>0.01</td>\n",
       "    </tr>\n",
       "  </tbody>\n",
       "</table>\n",
       "<p>16709 rows × 12 columns</p>\n",
       "</div>"
      ],
      "text/plain": [
       "                                name platform  year_of_release         genre  \\\n",
       "0                         Wii Sports      Wii           2006.0        Sports   \n",
       "1                  Super Mario Bros.      NES           1985.0      Platform   \n",
       "2                     Mario Kart Wii      Wii           2008.0        Racing   \n",
       "3                  Wii Sports Resort      Wii           2009.0        Sports   \n",
       "4           Pokemon Red/Pokemon Blue       GB           1996.0  Role-Playing   \n",
       "...                              ...      ...              ...           ...   \n",
       "16704  Samurai Warriors: Sanada Maru      PS3           2016.0        Action   \n",
       "16705               LMA Manager 2007     X360           2006.0        Sports   \n",
       "16706        Haitaka no Psychedelica      PSV           2016.0     Adventure   \n",
       "16707               Spirits & Spells      GBA           2003.0      Platform   \n",
       "16708            Winning Post 8 2016      PSV           2016.0    Simulation   \n",
       "\n",
       "       na_sales  eu_sales  jp_sales  other_sales  critic_score  user_score  \\\n",
       "0         41.36     28.96      3.77         8.45          76.0         8.0   \n",
       "1         29.08      3.58      6.81         0.77          69.0         7.7   \n",
       "2         15.68     12.76      3.79         3.29          82.0         8.3   \n",
       "3         15.61     10.93      3.28         2.95          80.0         8.0   \n",
       "4         11.27      8.89     10.22         1.00          74.0         7.8   \n",
       "...         ...       ...       ...          ...           ...         ...   \n",
       "16704      0.00      0.00      0.01         0.00          68.0         7.4   \n",
       "16705      0.00      0.01      0.00         0.00          75.0         7.4   \n",
       "16706      0.00      0.00      0.01         0.00          66.0         7.6   \n",
       "16707      0.01      0.00      0.00         0.00          69.0         7.7   \n",
       "16708      0.00      0.00      0.01         0.00          70.0         7.5   \n",
       "\n",
       "      rating  full_sales  \n",
       "0          E       82.54  \n",
       "1          E       40.24  \n",
       "2          E       35.52  \n",
       "3          E       32.77  \n",
       "4          T       31.38  \n",
       "...      ...         ...  \n",
       "16704      T        0.01  \n",
       "16705      E        0.01  \n",
       "16706      E        0.01  \n",
       "16707      E        0.01  \n",
       "16708      E        0.01  \n",
       "\n",
       "[16709 rows x 12 columns]"
      ]
     },
     "execution_count": 19,
     "metadata": {},
     "output_type": "execute_result"
    }
   ],
   "source": [
    "for i in range(len(data)):\n",
    "    data['full_sales'] = data['na_sales'] + data['eu_sales'] + data['jp_sales'] + data['other_sales']\n",
    "data.reset_index(drop=True)"
   ]
  },
  {
   "cell_type": "markdown",
   "metadata": {},
   "source": [
    "<div class=\"alert alert-block alert-warning\">\n",
    " \n",
    "### Комментарий ревьюера\n",
    "    \n",
    "#### Совет\n",
    "\n",
    "А еще есть такой метод `df['x'] = df[['a', 'b', 'c']].sum(axis=1)`"
   ]
  },
  {
   "cell_type": "markdown",
   "metadata": {},
   "source": [
    "**Готово, мы удали дубликаты по группам(их было 4 штуки), заполнили все пропуски в след столбцах:**\n",
    "- year_of_release\n",
    "- critic_score\n",
    "- user_score\n",
    "- rating\n",
    "\n",
    "**Так же создали новый столбец с суммой продаж по всем регионам для каждой игры. У нас осталось 16709 строк.**"
   ]
  },
  {
   "cell_type": "markdown",
   "metadata": {},
   "source": [
    "## Исследовательский анализ"
   ]
  },
  {
   "cell_type": "markdown",
   "metadata": {},
   "source": [
    "**Взглянем, сколько игр выпускалось в разные года.**"
   ]
  },
  {
   "cell_type": "code",
   "execution_count": 20,
   "metadata": {},
   "outputs": [
    {
     "data": {
      "image/png": "[encoded data removed]",
      "text/plain": [
       "<Figure size 432x288 with 1 Axes>"
      ]
     },
     "metadata": {
      "needs_background": "light"
     },
     "output_type": "display_data"
    }
   ],
   "source": [
    "year_gr = data.pivot_table(index='year_of_release', values='name', aggfunc='count')\n",
    "year_gr.plot(kind='line')\n",
    "plt.ylabel('Количество продаж')\n",
    "plt.xlabel('Год')\n",
    "plt.title('Количество продаж за определённый год');"
   ]
  },
  {
   "cell_type": "markdown",
   "metadata": {},
   "source": [
    "**Видим хороший рост, начиная с 2000 года. Думаю, все года до 2000 не так важны, как после него.**"
   ]
  },
  {
   "cell_type": "markdown",
   "metadata": {},
   "source": [
    "**Далее возьмём топ платформ по продажам и построим по нему график. Так же покажем появление и исчезновение каждой платформы.**"
   ]
  },
  {
   "cell_type": "code",
   "execution_count": 21,
   "metadata": {},
   "outputs": [
    {
     "data": {
      "text/plain": [
       "platform\n",
       "PCFX       0.03\n",
       "GG         0.04\n",
       "3DO        0.10\n",
       "TG16       0.16\n",
       "WS         1.42\n",
       "NG         1.44\n",
       "SCD        1.86\n",
       "DC        15.95\n",
       "GEN       28.35\n",
       "SAT       33.59\n",
       "PSV       54.07\n",
       "WiiU      82.19\n",
       "2600      96.98\n",
       "XOne     159.32\n",
       "GC       198.93\n",
       "SNES     200.04\n",
       "N64      218.68\n",
       "NES      251.05\n",
       "GB       255.46\n",
       "XB       257.74\n",
       "3DS      259.00\n",
       "PC       259.44\n",
       "PSP      294.05\n",
       "PS4      314.14\n",
       "GBA      317.85\n",
       "PS       730.86\n",
       "DS       806.12\n",
       "Wii      907.51\n",
       "PS3      939.16\n",
       "X360     969.86\n",
       "PS2     1255.77\n",
       "Name: full_sales, dtype: float64"
      ]
     },
     "execution_count": 21,
     "metadata": {},
     "output_type": "execute_result"
    }
   ],
   "source": [
    "qq = data.groupby('platform')['full_sales'].sum()\n",
    "qq.sort_values()"
   ]
  },
  {
   "cell_type": "markdown",
   "metadata": {},
   "source": [
    "**Самые популярные платформы - `PS`, `DS`, `Wii`, `PS3`, `X360`, `PS2`. Построим по ним график.**"
   ]
  },
  {
   "cell_type": "code",
   "execution_count": 22,
   "metadata": {},
   "outputs": [
    {
     "data": {
      "image/png": "[encoded data removed]",
      "text/plain": [
       "<Figure size 864x504 with 1 Axes>"
      ]
     },
     "metadata": {
      "needs_background": "light"
     },
     "output_type": "display_data"
    }
   ],
   "source": [
    "top_platforms = ['PS', 'DS', 'Wii', 'PS3', 'X360', 'PS2']\n",
    "filt_data = data[data['platform'].isin(top_platforms)]\n",
    "filt_data = filt_data.groupby(['year_of_release', 'platform'])['full_sales'].sum().unstack()\n",
    "filt_data.plot(kind='line', figsize=(12, 7), marker='o')\n",
    "plt.ylabel('Количество продаж (млн)')\n",
    "plt.xlabel('Год')\n",
    "plt.title('Количество продаж и продолжительность \"жизни\" платформы');"
   ]
  },
  {
   "cell_type": "markdown",
   "metadata": {},
   "source": [
    "**Подозрительная запись платформы `DS` в 1985 году, вероятнее всего такой платформы раньше не существовало, стоит её удалить и вывести новый график.**"
   ]
  },
  {
   "cell_type": "code",
   "execution_count": 23,
   "metadata": {},
   "outputs": [
    {
     "data": {
      "text/html": [
       "<div>\n",
       "<style scoped>\n",
       "    .dataframe tbody tr th:only-of-type {\n",
       "        vertical-align: middle;\n",
       "    }\n",
       "\n",
       "    .dataframe tbody tr th {\n",
       "        vertical-align: top;\n",
       "    }\n",
       "\n",
       "    .dataframe thead th {\n",
       "        text-align: right;\n",
       "    }\n",
       "</style>\n",
       "<table border=\"1\" class=\"dataframe\">\n",
       "  <thead>\n",
       "    <tr style=\"text-align: right;\">\n",
       "      <th></th>\n",
       "      <th>name</th>\n",
       "      <th>platform</th>\n",
       "      <th>year_of_release</th>\n",
       "      <th>genre</th>\n",
       "      <th>na_sales</th>\n",
       "      <th>eu_sales</th>\n",
       "      <th>jp_sales</th>\n",
       "      <th>other_sales</th>\n",
       "      <th>critic_score</th>\n",
       "      <th>user_score</th>\n",
       "      <th>rating</th>\n",
       "      <th>full_sales</th>\n",
       "    </tr>\n",
       "  </thead>\n",
       "  <tbody>\n",
       "    <tr>\n",
       "      <th>15957</th>\n",
       "      <td>Strongest Tokyo University Shogi DS</td>\n",
       "      <td>DS</td>\n",
       "      <td>1985.0</td>\n",
       "      <td>Action</td>\n",
       "      <td>0.0</td>\n",
       "      <td>0.0</td>\n",
       "      <td>0.02</td>\n",
       "      <td>0.0</td>\n",
       "      <td>68.0</td>\n",
       "      <td>7.4</td>\n",
       "      <td>T</td>\n",
       "      <td>0.02</td>\n",
       "    </tr>\n",
       "  </tbody>\n",
       "</table>\n",
       "</div>"
      ],
      "text/plain": [
       "                                      name platform  year_of_release   genre  \\\n",
       "15957  Strongest Tokyo University Shogi DS       DS           1985.0  Action   \n",
       "\n",
       "       na_sales  eu_sales  jp_sales  other_sales  critic_score  user_score  \\\n",
       "15957       0.0       0.0      0.02          0.0          68.0         7.4   \n",
       "\n",
       "      rating  full_sales  \n",
       "15957      T        0.02  "
      ]
     },
     "execution_count": 23,
     "metadata": {},
     "output_type": "execute_result"
    }
   ],
   "source": [
    "data.query('(year_of_release == 1985) & (platform == \"DS\")')"
   ]
  },
  {
   "cell_type": "code",
   "execution_count": 24,
   "metadata": {},
   "outputs": [
    {
     "data": {
      "image/png": "[encoded data removed]",
      "text/plain": [
       "<Figure size 864x504 with 1 Axes>"
      ]
     },
     "metadata": {
      "needs_background": "light"
     },
     "output_type": "display_data"
    }
   ],
   "source": [
    "data.drop(15957, inplace=True)\n",
    "data.reset_index(drop=True)\n",
    "top_platforms = ['PS', 'DS', 'Wii', 'PS3', 'X360', 'PS2']\n",
    "filt_data = data[data['platform'].isin(top_platforms)]\n",
    "filt_data = filt_data.groupby(['year_of_release', 'platform'])['full_sales'].sum().unstack()\n",
    "filt_data.plot(kind='line', figsize=(12, 7), marker='o')\n",
    "plt.ylabel('Количество продаж (млн)')\n",
    "plt.xlabel('Год')\n",
    "plt.title('Количество продаж и продолжительность \"жизни\" платформы');"
   ]
  },
  {
   "cell_type": "markdown",
   "metadata": {},
   "source": [
    "**Срок жизни топовых платформ:**\n",
    "- PS с 1993 по 2003; \n",
    "- DS - с 2004 по 2013;\n",
    "- Wii - 2006 по 2016;\n",
    "- PS3 - с 2006 по 2016;\n",
    "- X360 - с 2005 по 2016;\n",
    "- PS2 - с 2000 по 2011."
   ]
  },
  {
   "cell_type": "markdown",
   "metadata": {},
   "source": [
    "**Теперь посмотрим когда начали и закончили выпускать игры на определённые платформы, так же выявим среднюю продолжительность всех платформ.**"
   ]
  },
  {
   "cell_type": "code",
   "execution_count": 25,
   "metadata": {},
   "outputs": [
    {
     "data": {
      "text/html": [
       "<div>\n",
       "<style scoped>\n",
       "    .dataframe tbody tr th:only-of-type {\n",
       "        vertical-align: middle;\n",
       "    }\n",
       "\n",
       "    .dataframe tbody tr th {\n",
       "        vertical-align: top;\n",
       "    }\n",
       "\n",
       "    .dataframe thead th {\n",
       "        text-align: right;\n",
       "    }\n",
       "</style>\n",
       "<table border=\"1\" class=\"dataframe\">\n",
       "  <thead>\n",
       "    <tr style=\"text-align: right;\">\n",
       "      <th></th>\n",
       "      <th>min</th>\n",
       "      <th>max</th>\n",
       "      <th>life</th>\n",
       "    </tr>\n",
       "    <tr>\n",
       "      <th>platform</th>\n",
       "      <th></th>\n",
       "      <th></th>\n",
       "      <th></th>\n",
       "    </tr>\n",
       "  </thead>\n",
       "  <tbody>\n",
       "    <tr>\n",
       "      <th>2600</th>\n",
       "      <td>1980.0</td>\n",
       "      <td>1989.0</td>\n",
       "      <td>10.0</td>\n",
       "    </tr>\n",
       "    <tr>\n",
       "      <th>3DO</th>\n",
       "      <td>1994.0</td>\n",
       "      <td>1995.0</td>\n",
       "      <td>2.0</td>\n",
       "    </tr>\n",
       "    <tr>\n",
       "      <th>3DS</th>\n",
       "      <td>2011.0</td>\n",
       "      <td>2016.0</td>\n",
       "      <td>6.0</td>\n",
       "    </tr>\n",
       "    <tr>\n",
       "      <th>DC</th>\n",
       "      <td>1998.0</td>\n",
       "      <td>2008.0</td>\n",
       "      <td>11.0</td>\n",
       "    </tr>\n",
       "    <tr>\n",
       "      <th>DS</th>\n",
       "      <td>2004.0</td>\n",
       "      <td>2013.0</td>\n",
       "      <td>10.0</td>\n",
       "    </tr>\n",
       "    <tr>\n",
       "      <th>GB</th>\n",
       "      <td>1988.0</td>\n",
       "      <td>2001.0</td>\n",
       "      <td>14.0</td>\n",
       "    </tr>\n",
       "    <tr>\n",
       "      <th>GBA</th>\n",
       "      <td>2000.0</td>\n",
       "      <td>2007.0</td>\n",
       "      <td>8.0</td>\n",
       "    </tr>\n",
       "    <tr>\n",
       "      <th>GC</th>\n",
       "      <td>2001.0</td>\n",
       "      <td>2007.0</td>\n",
       "      <td>7.0</td>\n",
       "    </tr>\n",
       "    <tr>\n",
       "      <th>GEN</th>\n",
       "      <td>1990.0</td>\n",
       "      <td>1994.0</td>\n",
       "      <td>5.0</td>\n",
       "    </tr>\n",
       "    <tr>\n",
       "      <th>GG</th>\n",
       "      <td>1992.0</td>\n",
       "      <td>1992.0</td>\n",
       "      <td>1.0</td>\n",
       "    </tr>\n",
       "    <tr>\n",
       "      <th>N64</th>\n",
       "      <td>1996.0</td>\n",
       "      <td>2002.0</td>\n",
       "      <td>7.0</td>\n",
       "    </tr>\n",
       "    <tr>\n",
       "      <th>NES</th>\n",
       "      <td>1983.0</td>\n",
       "      <td>1994.0</td>\n",
       "      <td>12.0</td>\n",
       "    </tr>\n",
       "    <tr>\n",
       "      <th>NG</th>\n",
       "      <td>1993.0</td>\n",
       "      <td>1996.0</td>\n",
       "      <td>4.0</td>\n",
       "    </tr>\n",
       "    <tr>\n",
       "      <th>PC</th>\n",
       "      <td>1985.0</td>\n",
       "      <td>2016.0</td>\n",
       "      <td>32.0</td>\n",
       "    </tr>\n",
       "    <tr>\n",
       "      <th>PCFX</th>\n",
       "      <td>1996.0</td>\n",
       "      <td>1996.0</td>\n",
       "      <td>1.0</td>\n",
       "    </tr>\n",
       "    <tr>\n",
       "      <th>PS</th>\n",
       "      <td>1994.0</td>\n",
       "      <td>2003.0</td>\n",
       "      <td>10.0</td>\n",
       "    </tr>\n",
       "    <tr>\n",
       "      <th>PS2</th>\n",
       "      <td>2000.0</td>\n",
       "      <td>2011.0</td>\n",
       "      <td>12.0</td>\n",
       "    </tr>\n",
       "    <tr>\n",
       "      <th>PS3</th>\n",
       "      <td>2006.0</td>\n",
       "      <td>2016.0</td>\n",
       "      <td>11.0</td>\n",
       "    </tr>\n",
       "    <tr>\n",
       "      <th>PS4</th>\n",
       "      <td>2013.0</td>\n",
       "      <td>2016.0</td>\n",
       "      <td>4.0</td>\n",
       "    </tr>\n",
       "    <tr>\n",
       "      <th>PSP</th>\n",
       "      <td>2004.0</td>\n",
       "      <td>2015.0</td>\n",
       "      <td>12.0</td>\n",
       "    </tr>\n",
       "    <tr>\n",
       "      <th>PSV</th>\n",
       "      <td>2011.0</td>\n",
       "      <td>2016.0</td>\n",
       "      <td>6.0</td>\n",
       "    </tr>\n",
       "    <tr>\n",
       "      <th>SAT</th>\n",
       "      <td>1994.0</td>\n",
       "      <td>1999.0</td>\n",
       "      <td>6.0</td>\n",
       "    </tr>\n",
       "    <tr>\n",
       "      <th>SCD</th>\n",
       "      <td>1993.0</td>\n",
       "      <td>1994.0</td>\n",
       "      <td>2.0</td>\n",
       "    </tr>\n",
       "    <tr>\n",
       "      <th>SNES</th>\n",
       "      <td>1990.0</td>\n",
       "      <td>1999.0</td>\n",
       "      <td>10.0</td>\n",
       "    </tr>\n",
       "    <tr>\n",
       "      <th>TG16</th>\n",
       "      <td>1995.0</td>\n",
       "      <td>1995.0</td>\n",
       "      <td>1.0</td>\n",
       "    </tr>\n",
       "    <tr>\n",
       "      <th>WS</th>\n",
       "      <td>1999.0</td>\n",
       "      <td>2001.0</td>\n",
       "      <td>3.0</td>\n",
       "    </tr>\n",
       "    <tr>\n",
       "      <th>Wii</th>\n",
       "      <td>2006.0</td>\n",
       "      <td>2016.0</td>\n",
       "      <td>11.0</td>\n",
       "    </tr>\n",
       "    <tr>\n",
       "      <th>WiiU</th>\n",
       "      <td>2012.0</td>\n",
       "      <td>2016.0</td>\n",
       "      <td>5.0</td>\n",
       "    </tr>\n",
       "    <tr>\n",
       "      <th>X360</th>\n",
       "      <td>2005.0</td>\n",
       "      <td>2016.0</td>\n",
       "      <td>12.0</td>\n",
       "    </tr>\n",
       "    <tr>\n",
       "      <th>XB</th>\n",
       "      <td>2000.0</td>\n",
       "      <td>2008.0</td>\n",
       "      <td>9.0</td>\n",
       "    </tr>\n",
       "    <tr>\n",
       "      <th>XOne</th>\n",
       "      <td>2013.0</td>\n",
       "      <td>2016.0</td>\n",
       "      <td>4.0</td>\n",
       "    </tr>\n",
       "  </tbody>\n",
       "</table>\n",
       "</div>"
      ],
      "text/plain": [
       "             min     max  life\n",
       "platform                      \n",
       "2600      1980.0  1989.0  10.0\n",
       "3DO       1994.0  1995.0   2.0\n",
       "3DS       2011.0  2016.0   6.0\n",
       "DC        1998.0  2008.0  11.0\n",
       "DS        2004.0  2013.0  10.0\n",
       "GB        1988.0  2001.0  14.0\n",
       "GBA       2000.0  2007.0   8.0\n",
       "GC        2001.0  2007.0   7.0\n",
       "GEN       1990.0  1994.0   5.0\n",
       "GG        1992.0  1992.0   1.0\n",
       "N64       1996.0  2002.0   7.0\n",
       "NES       1983.0  1994.0  12.0\n",
       "NG        1993.0  1996.0   4.0\n",
       "PC        1985.0  2016.0  32.0\n",
       "PCFX      1996.0  1996.0   1.0\n",
       "PS        1994.0  2003.0  10.0\n",
       "PS2       2000.0  2011.0  12.0\n",
       "PS3       2006.0  2016.0  11.0\n",
       "PS4       2013.0  2016.0   4.0\n",
       "PSP       2004.0  2015.0  12.0\n",
       "PSV       2011.0  2016.0   6.0\n",
       "SAT       1994.0  1999.0   6.0\n",
       "SCD       1993.0  1994.0   2.0\n",
       "SNES      1990.0  1999.0  10.0\n",
       "TG16      1995.0  1995.0   1.0\n",
       "WS        1999.0  2001.0   3.0\n",
       "Wii       2006.0  2016.0  11.0\n",
       "WiiU      2012.0  2016.0   5.0\n",
       "X360      2005.0  2016.0  12.0\n",
       "XB        2000.0  2008.0   9.0\n",
       "XOne      2013.0  2016.0   4.0"
      ]
     },
     "metadata": {},
     "output_type": "display_data"
    },
    {
     "name": "stdout",
     "output_type": "stream",
     "text": [
      "Средняя продолжительность всех платформ равна - 8.0 годам.\n"
     ]
    }
   ],
   "source": [
    "life_pl = data.groupby('platform')['year_of_release'].agg(['min', 'max'])\n",
    "life_pl['life'] = life_pl['max'] - life_pl['min'] + 1\n",
    "display(life_pl)\n",
    "print('Средняя продолжительность всех платформ равна -', life_pl['life'].mean(), 'годам.')"
   ]
  },
  {
   "cell_type": "markdown",
   "metadata": {},
   "source": [
    "**`PC` самая долгоживущая платформа, она актуально и по сей день.**"
   ]
  },
  {
   "cell_type": "markdown",
   "metadata": {},
   "source": [
    "### Актуальный период"
   ]
  },
  {
   "cell_type": "markdown",
   "metadata": {},
   "source": [
    "**Актуальный период - это период, с которым мы будем работать далее, для нас это с 2014 по 2016 года, брать более ранние смысла нет, они будут не актуальны. Основной фактор — эти данные помогут построить прогноз на 2017 год.**"
   ]
  },
  {
   "cell_type": "code",
   "execution_count": 26,
   "metadata": {},
   "outputs": [
    {
     "data": {
      "text/html": [
       "<div>\n",
       "<style scoped>\n",
       "    .dataframe tbody tr th:only-of-type {\n",
       "        vertical-align: middle;\n",
       "    }\n",
       "\n",
       "    .dataframe tbody tr th {\n",
       "        vertical-align: top;\n",
       "    }\n",
       "\n",
       "    .dataframe thead th {\n",
       "        text-align: right;\n",
       "    }\n",
       "</style>\n",
       "<table border=\"1\" class=\"dataframe\">\n",
       "  <thead>\n",
       "    <tr style=\"text-align: right;\">\n",
       "      <th></th>\n",
       "      <th>name</th>\n",
       "      <th>platform</th>\n",
       "      <th>year_of_release</th>\n",
       "      <th>genre</th>\n",
       "      <th>na_sales</th>\n",
       "      <th>eu_sales</th>\n",
       "      <th>jp_sales</th>\n",
       "      <th>other_sales</th>\n",
       "      <th>critic_score</th>\n",
       "      <th>user_score</th>\n",
       "      <th>rating</th>\n",
       "      <th>full_sales</th>\n",
       "    </tr>\n",
       "  </thead>\n",
       "  <tbody>\n",
       "    <tr>\n",
       "      <th>0</th>\n",
       "      <td>Call of Duty: Black Ops 3</td>\n",
       "      <td>PS4</td>\n",
       "      <td>2015.0</td>\n",
       "      <td>Shooter</td>\n",
       "      <td>6.03</td>\n",
       "      <td>5.86</td>\n",
       "      <td>0.36</td>\n",
       "      <td>2.38</td>\n",
       "      <td>73.0</td>\n",
       "      <td>7.4</td>\n",
       "      <td>M</td>\n",
       "      <td>14.63</td>\n",
       "    </tr>\n",
       "    <tr>\n",
       "      <th>1</th>\n",
       "      <td>Grand Theft Auto V</td>\n",
       "      <td>PS4</td>\n",
       "      <td>2014.0</td>\n",
       "      <td>Action</td>\n",
       "      <td>3.96</td>\n",
       "      <td>6.31</td>\n",
       "      <td>0.38</td>\n",
       "      <td>1.97</td>\n",
       "      <td>97.0</td>\n",
       "      <td>8.3</td>\n",
       "      <td>M</td>\n",
       "      <td>12.62</td>\n",
       "    </tr>\n",
       "    <tr>\n",
       "      <th>2</th>\n",
       "      <td>Pokemon Omega Ruby/Pokemon Alpha Sapphire</td>\n",
       "      <td>3DS</td>\n",
       "      <td>2014.0</td>\n",
       "      <td>Role-Playing</td>\n",
       "      <td>4.35</td>\n",
       "      <td>3.49</td>\n",
       "      <td>3.10</td>\n",
       "      <td>0.74</td>\n",
       "      <td>74.0</td>\n",
       "      <td>7.8</td>\n",
       "      <td>T</td>\n",
       "      <td>11.68</td>\n",
       "    </tr>\n",
       "    <tr>\n",
       "      <th>3</th>\n",
       "      <td>FIFA 16</td>\n",
       "      <td>PS4</td>\n",
       "      <td>2015.0</td>\n",
       "      <td>Sports</td>\n",
       "      <td>1.12</td>\n",
       "      <td>6.12</td>\n",
       "      <td>0.06</td>\n",
       "      <td>1.28</td>\n",
       "      <td>82.0</td>\n",
       "      <td>4.3</td>\n",
       "      <td>E</td>\n",
       "      <td>8.58</td>\n",
       "    </tr>\n",
       "    <tr>\n",
       "      <th>4</th>\n",
       "      <td>Star Wars Battlefront (2015)</td>\n",
       "      <td>PS4</td>\n",
       "      <td>2015.0</td>\n",
       "      <td>Shooter</td>\n",
       "      <td>2.99</td>\n",
       "      <td>3.49</td>\n",
       "      <td>0.22</td>\n",
       "      <td>1.28</td>\n",
       "      <td>73.0</td>\n",
       "      <td>7.4</td>\n",
       "      <td>M</td>\n",
       "      <td>7.98</td>\n",
       "    </tr>\n",
       "    <tr>\n",
       "      <th>...</th>\n",
       "      <td>...</td>\n",
       "      <td>...</td>\n",
       "      <td>...</td>\n",
       "      <td>...</td>\n",
       "      <td>...</td>\n",
       "      <td>...</td>\n",
       "      <td>...</td>\n",
       "      <td>...</td>\n",
       "      <td>...</td>\n",
       "      <td>...</td>\n",
       "      <td>...</td>\n",
       "      <td>...</td>\n",
       "    </tr>\n",
       "    <tr>\n",
       "      <th>1685</th>\n",
       "      <td>Strawberry Nauts</td>\n",
       "      <td>PSV</td>\n",
       "      <td>2016.0</td>\n",
       "      <td>Adventure</td>\n",
       "      <td>0.00</td>\n",
       "      <td>0.00</td>\n",
       "      <td>0.01</td>\n",
       "      <td>0.00</td>\n",
       "      <td>66.0</td>\n",
       "      <td>7.6</td>\n",
       "      <td>E</td>\n",
       "      <td>0.01</td>\n",
       "    </tr>\n",
       "    <tr>\n",
       "      <th>1686</th>\n",
       "      <td>Aiyoku no Eustia</td>\n",
       "      <td>PSV</td>\n",
       "      <td>2014.0</td>\n",
       "      <td>Misc</td>\n",
       "      <td>0.00</td>\n",
       "      <td>0.00</td>\n",
       "      <td>0.01</td>\n",
       "      <td>0.00</td>\n",
       "      <td>69.0</td>\n",
       "      <td>7.1</td>\n",
       "      <td>E</td>\n",
       "      <td>0.01</td>\n",
       "    </tr>\n",
       "    <tr>\n",
       "      <th>1687</th>\n",
       "      <td>Samurai Warriors: Sanada Maru</td>\n",
       "      <td>PS3</td>\n",
       "      <td>2016.0</td>\n",
       "      <td>Action</td>\n",
       "      <td>0.00</td>\n",
       "      <td>0.00</td>\n",
       "      <td>0.01</td>\n",
       "      <td>0.00</td>\n",
       "      <td>68.0</td>\n",
       "      <td>7.4</td>\n",
       "      <td>T</td>\n",
       "      <td>0.01</td>\n",
       "    </tr>\n",
       "    <tr>\n",
       "      <th>1688</th>\n",
       "      <td>Haitaka no Psychedelica</td>\n",
       "      <td>PSV</td>\n",
       "      <td>2016.0</td>\n",
       "      <td>Adventure</td>\n",
       "      <td>0.00</td>\n",
       "      <td>0.00</td>\n",
       "      <td>0.01</td>\n",
       "      <td>0.00</td>\n",
       "      <td>66.0</td>\n",
       "      <td>7.6</td>\n",
       "      <td>E</td>\n",
       "      <td>0.01</td>\n",
       "    </tr>\n",
       "    <tr>\n",
       "      <th>1689</th>\n",
       "      <td>Winning Post 8 2016</td>\n",
       "      <td>PSV</td>\n",
       "      <td>2016.0</td>\n",
       "      <td>Simulation</td>\n",
       "      <td>0.00</td>\n",
       "      <td>0.00</td>\n",
       "      <td>0.01</td>\n",
       "      <td>0.00</td>\n",
       "      <td>70.0</td>\n",
       "      <td>7.5</td>\n",
       "      <td>E</td>\n",
       "      <td>0.01</td>\n",
       "    </tr>\n",
       "  </tbody>\n",
       "</table>\n",
       "<p>1690 rows × 12 columns</p>\n",
       "</div>"
      ],
      "text/plain": [
       "                                           name platform  year_of_release  \\\n",
       "0                     Call of Duty: Black Ops 3      PS4           2015.0   \n",
       "1                            Grand Theft Auto V      PS4           2014.0   \n",
       "2     Pokemon Omega Ruby/Pokemon Alpha Sapphire      3DS           2014.0   \n",
       "3                                       FIFA 16      PS4           2015.0   \n",
       "4                  Star Wars Battlefront (2015)      PS4           2015.0   \n",
       "...                                         ...      ...              ...   \n",
       "1685                           Strawberry Nauts      PSV           2016.0   \n",
       "1686                           Aiyoku no Eustia      PSV           2014.0   \n",
       "1687              Samurai Warriors: Sanada Maru      PS3           2016.0   \n",
       "1688                    Haitaka no Psychedelica      PSV           2016.0   \n",
       "1689                        Winning Post 8 2016      PSV           2016.0   \n",
       "\n",
       "             genre  na_sales  eu_sales  jp_sales  other_sales  critic_score  \\\n",
       "0          Shooter      6.03      5.86      0.36         2.38          73.0   \n",
       "1           Action      3.96      6.31      0.38         1.97          97.0   \n",
       "2     Role-Playing      4.35      3.49      3.10         0.74          74.0   \n",
       "3           Sports      1.12      6.12      0.06         1.28          82.0   \n",
       "4          Shooter      2.99      3.49      0.22         1.28          73.0   \n",
       "...            ...       ...       ...       ...          ...           ...   \n",
       "1685     Adventure      0.00      0.00      0.01         0.00          66.0   \n",
       "1686          Misc      0.00      0.00      0.01         0.00          69.0   \n",
       "1687        Action      0.00      0.00      0.01         0.00          68.0   \n",
       "1688     Adventure      0.00      0.00      0.01         0.00          66.0   \n",
       "1689    Simulation      0.00      0.00      0.01         0.00          70.0   \n",
       "\n",
       "      user_score rating  full_sales  \n",
       "0            7.4      M       14.63  \n",
       "1            8.3      M       12.62  \n",
       "2            7.8      T       11.68  \n",
       "3            4.3      E        8.58  \n",
       "4            7.4      M        7.98  \n",
       "...          ...    ...         ...  \n",
       "1685         7.6      E        0.01  \n",
       "1686         7.1      E        0.01  \n",
       "1687         7.4      T        0.01  \n",
       "1688         7.6      E        0.01  \n",
       "1689         7.5      E        0.01  \n",
       "\n",
       "[1690 rows x 12 columns]"
      ]
     },
     "execution_count": 26,
     "metadata": {},
     "output_type": "execute_result"
    }
   ],
   "source": [
    "new_data = data.query('year_of_release >= 2014').reset_index(drop=True)\n",
    "new_data"
   ]
  },
  {
   "cell_type": "markdown",
   "metadata": {},
   "source": [
    "**Новый даиафрейм имеет 1690 строк.**"
   ]
  },
  {
   "cell_type": "markdown",
   "metadata": {},
   "source": [
    "### Лидеры продаж"
   ]
  },
  {
   "cell_type": "markdown",
   "metadata": {},
   "source": [
    "**Выявим топ 5 платформ с наибольшим числом продаж.**"
   ]
  },
  {
   "cell_type": "code",
   "execution_count": 27,
   "metadata": {},
   "outputs": [
    {
     "data": {
      "image/png": "[encoded data removed]",
      "text/plain": [
       "<Figure size 648x432 with 1 Axes>"
      ]
     },
     "metadata": {
      "needs_background": "light"
     },
     "output_type": "display_data"
    }
   ],
   "source": [
    "new_data_f = new_data.groupby('platform')['full_sales'].sum()\n",
    "new_data_f.sort_values(ascending=False, inplace=True)\n",
    "new_data_f.plot(kind='barh', figsize=(9, 6))\n",
    "plt.title('Количество покупок каждой платформы')\n",
    "plt.ylabel('Платформа')\n",
    "plt.xlabel('Количество покупок (млн)');"
   ]
  },
  {
   "cell_type": "markdown",
   "metadata": {},
   "source": [
    "<div class=\"alert alert-block alert-warning\">\n",
    " \n",
    "### Комментарий ревьюера\n",
    "    \n",
    "#### Совет\n",
    "\n",
    "Тут лучше всего сделать график, которые показывает по годам разницу среди платформ. Аналогичный тому, который ты выводишь выше."
   ]
  },
  {
   "cell_type": "markdown",
   "metadata": {},
   "source": [
    "**Заслуженно первые 5 мест занимают: PS4, XOne, 3DS, PS3, X360.**"
   ]
  },
  {
   "cell_type": "markdown",
   "metadata": {},
   "source": [
    "### Ящик с усами для глобальных продаж"
   ]
  },
  {
   "cell_type": "markdown",
   "metadata": {},
   "source": [
    "**Построим ящик с усами для глобальных продаж по каждой платформе.**"
   ]
  },
  {
   "cell_type": "code",
   "execution_count": 28,
   "metadata": {},
   "outputs": [
    {
     "data": {
      "image/png": "[encoded data removed]",
      "text/plain": [
       "<Figure size 720x432 with 1 Axes>"
      ]
     },
     "metadata": {
      "needs_background": "light"
     },
     "output_type": "display_data"
    }
   ],
   "source": [
    "qq = ['PS4', 'XOne', '3DS', 'PS3', 'X360']\n",
    "\n",
    "new_data_f = new_data[new_data['platform'].isin(qq)]\n",
    "plt.figure(figsize=(10, 6))\n",
    "sns.boxplot(y='platform', x='full_sales', data=new_data_f)\n",
    "plt.title('Ящик с усами для глобальных продаж по топовым платформам')\n",
    "plt.ylabel('Платформы')\n",
    "plt.xlabel('Глобальные продажи (млн)');"
   ]
  },
  {
   "cell_type": "markdown",
   "metadata": {},
   "source": [
    "**Результаты разглядеть тяжело, но и без них можно сделать чётки вывод - большинство значении вышли за пределы ящика, а это значит, что большинство из них находятся далеко от среднего или медианы. У платформ `PS4` и `3DS` есть значения, которые уж очень далеки от ящика, по сравнению с другими. В целом, сами ящики расположены правильно, чем больше продаж, тем больше сам ящик.**"
   ]
  },
  {
   "cell_type": "markdown",
   "metadata": {},
   "source": [
    "### Корреляция оценок"
   ]
  },
  {
   "cell_type": "markdown",
   "metadata": {},
   "source": [
    "**Посмотрим как влияют на продажи внутри одной популярной платформы отзывы пользователей и критиков. Постром диаграмму рассеяния и посчитаем корреляцию между отзывами и продажами. Возьмём платформу `PS2`.**"
   ]
  },
  {
   "cell_type": "code",
   "execution_count": 29,
   "metadata": {},
   "outputs": [
    {
     "data": {
      "image/png": "[encoded data removed]",
      "text/plain": [
       "<Figure size 864x360 with 2 Axes>"
      ]
     },
     "metadata": {
      "needs_background": "light"
     },
     "output_type": "display_data"
    }
   ],
   "source": [
    "fig, axes = plt.subplots(1, 2, figsize=(12, 5)) \n",
    "\n",
    "new_data_c = new_data.query('platform == \"PS4\"')\n",
    "new_data_c.plot(x='full_sales', y='critic_score', kind='scatter', ax=axes[0])\n",
    "axes[0].set_title('Корреляция продаж с оценками критиков')\n",
    "axes[0].set_xlabel('Всего продаж')\n",
    "axes[0].set_ylabel('Отзывы');\n",
    "new_data_c.plot(x='full_sales', y='user_score', kind='scatter', ax=axes[1])\n",
    "axes[1].set_title('Корреляция продаж с оценками игроков')\n",
    "axes[1].set_xlabel('Всего продаж')\n",
    "axes[1].set_ylabel('Отзывы');"
   ]
  },
  {
   "cell_type": "markdown",
   "metadata": {},
   "source": [
    "**Корреляция в цифрах для платформы `PS2`.**"
   ]
  },
  {
   "cell_type": "code",
   "execution_count": 30,
   "metadata": {},
   "outputs": [
    {
     "data": {
      "text/html": [
       "<div>\n",
       "<style scoped>\n",
       "    .dataframe tbody tr th:only-of-type {\n",
       "        vertical-align: middle;\n",
       "    }\n",
       "\n",
       "    .dataframe tbody tr th {\n",
       "        vertical-align: top;\n",
       "    }\n",
       "\n",
       "    .dataframe thead th {\n",
       "        text-align: right;\n",
       "    }\n",
       "</style>\n",
       "<table border=\"1\" class=\"dataframe\">\n",
       "  <thead>\n",
       "    <tr style=\"text-align: right;\">\n",
       "      <th></th>\n",
       "      <th>critic_score</th>\n",
       "      <th>user_score</th>\n",
       "      <th>full_sales</th>\n",
       "    </tr>\n",
       "  </thead>\n",
       "  <tbody>\n",
       "    <tr>\n",
       "      <th>critic_score</th>\n",
       "      <td>1.000000</td>\n",
       "      <td>0.475761</td>\n",
       "      <td>0.346089</td>\n",
       "    </tr>\n",
       "    <tr>\n",
       "      <th>user_score</th>\n",
       "      <td>0.475761</td>\n",
       "      <td>1.000000</td>\n",
       "      <td>-0.067095</td>\n",
       "    </tr>\n",
       "    <tr>\n",
       "      <th>full_sales</th>\n",
       "      <td>0.346089</td>\n",
       "      <td>-0.067095</td>\n",
       "      <td>1.000000</td>\n",
       "    </tr>\n",
       "  </tbody>\n",
       "</table>\n",
       "</div>"
      ],
      "text/plain": [
       "              critic_score  user_score  full_sales\n",
       "critic_score      1.000000    0.475761    0.346089\n",
       "user_score        0.475761    1.000000   -0.067095\n",
       "full_sales        0.346089   -0.067095    1.000000"
      ]
     },
     "execution_count": 30,
     "metadata": {},
     "output_type": "execute_result"
    }
   ],
   "source": [
    "new_data_c[['critic_score', 'user_score', 'full_sales']].corr()"
   ]
  },
  {
   "cell_type": "markdown",
   "metadata": {},
   "source": [
    "**Дополнительно посмотрим корреляцию для платформы `XOne`.**"
   ]
  },
  {
   "cell_type": "code",
   "execution_count": 31,
   "metadata": {},
   "outputs": [
    {
     "data": {
      "image/png": "[encoded data removed]",
      "text/plain": [
       "<Figure size 864x360 with 2 Axes>"
      ]
     },
     "metadata": {
      "needs_background": "light"
     },
     "output_type": "display_data"
    }
   ],
   "source": [
    "fig, axes = plt.subplots(1, 2, figsize=(12, 5)) \n",
    "\n",
    "new_data_c = new_data.query('platform == \"XOne\"')\n",
    "new_data_c.plot(x='full_sales', y='critic_score', kind='scatter', ax=axes[0])\n",
    "axes[0].set_title('Корреляция продаж с оценками критиков')\n",
    "axes[0].set_xlabel('Всего продаж')\n",
    "axes[0].set_ylabel('Отзывы');\n",
    "new_data_c.plot(x='full_sales', y='user_score', kind='scatter', ax=axes[1])\n",
    "axes[1].set_title('Корреляция продаж с оценками игроков')\n",
    "axes[1].set_xlabel('Всего продаж')\n",
    "axes[1].set_ylabel('Отзывы');"
   ]
  },
  {
   "cell_type": "markdown",
   "metadata": {},
   "source": [
    "**Корреляция в цифрах для платформы `PS4`.**"
   ]
  },
  {
   "cell_type": "code",
   "execution_count": 32,
   "metadata": {},
   "outputs": [
    {
     "data": {
      "text/html": [
       "<div>\n",
       "<style scoped>\n",
       "    .dataframe tbody tr th:only-of-type {\n",
       "        vertical-align: middle;\n",
       "    }\n",
       "\n",
       "    .dataframe tbody tr th {\n",
       "        vertical-align: top;\n",
       "    }\n",
       "\n",
       "    .dataframe thead th {\n",
       "        text-align: right;\n",
       "    }\n",
       "</style>\n",
       "<table border=\"1\" class=\"dataframe\">\n",
       "  <thead>\n",
       "    <tr style=\"text-align: right;\">\n",
       "      <th></th>\n",
       "      <th>critic_score</th>\n",
       "      <th>user_score</th>\n",
       "      <th>full_sales</th>\n",
       "    </tr>\n",
       "  </thead>\n",
       "  <tbody>\n",
       "    <tr>\n",
       "      <th>critic_score</th>\n",
       "      <td>1.000000</td>\n",
       "      <td>0.307849</td>\n",
       "      <td>0.394111</td>\n",
       "    </tr>\n",
       "    <tr>\n",
       "      <th>user_score</th>\n",
       "      <td>0.307849</td>\n",
       "      <td>1.000000</td>\n",
       "      <td>-0.098530</td>\n",
       "    </tr>\n",
       "    <tr>\n",
       "      <th>full_sales</th>\n",
       "      <td>0.394111</td>\n",
       "      <td>-0.098530</td>\n",
       "      <td>1.000000</td>\n",
       "    </tr>\n",
       "  </tbody>\n",
       "</table>\n",
       "</div>"
      ],
      "text/plain": [
       "              critic_score  user_score  full_sales\n",
       "critic_score      1.000000    0.307849    0.394111\n",
       "user_score        0.307849    1.000000   -0.098530\n",
       "full_sales        0.394111   -0.098530    1.000000"
      ]
     },
     "execution_count": 32,
     "metadata": {},
     "output_type": "execute_result"
    }
   ],
   "source": [
    "new_data_c[['critic_score', 'user_score', 'full_sales']].corr()"
   ]
  },
  {
   "cell_type": "markdown",
   "metadata": {},
   "source": [
    "**Корреляция в цифрах для всех платформ.**"
   ]
  },
  {
   "cell_type": "code",
   "execution_count": 33,
   "metadata": {},
   "outputs": [
    {
     "data": {
      "text/html": [
       "<div>\n",
       "<style scoped>\n",
       "    .dataframe tbody tr th:only-of-type {\n",
       "        vertical-align: middle;\n",
       "    }\n",
       "\n",
       "    .dataframe tbody tr th {\n",
       "        vertical-align: top;\n",
       "    }\n",
       "\n",
       "    .dataframe thead th {\n",
       "        text-align: right;\n",
       "    }\n",
       "</style>\n",
       "<table border=\"1\" class=\"dataframe\">\n",
       "  <thead>\n",
       "    <tr style=\"text-align: right;\">\n",
       "      <th></th>\n",
       "      <th>critic_score</th>\n",
       "      <th>user_score</th>\n",
       "      <th>full_sales</th>\n",
       "    </tr>\n",
       "  </thead>\n",
       "  <tbody>\n",
       "    <tr>\n",
       "      <th>critic_score</th>\n",
       "      <td>1.000000</td>\n",
       "      <td>0.298827</td>\n",
       "      <td>0.282842</td>\n",
       "    </tr>\n",
       "    <tr>\n",
       "      <th>user_score</th>\n",
       "      <td>0.298827</td>\n",
       "      <td>1.000000</td>\n",
       "      <td>-0.063425</td>\n",
       "    </tr>\n",
       "    <tr>\n",
       "      <th>full_sales</th>\n",
       "      <td>0.282842</td>\n",
       "      <td>-0.063425</td>\n",
       "      <td>1.000000</td>\n",
       "    </tr>\n",
       "  </tbody>\n",
       "</table>\n",
       "</div>"
      ],
      "text/plain": [
       "              critic_score  user_score  full_sales\n",
       "critic_score      1.000000    0.298827    0.282842\n",
       "user_score        0.298827    1.000000   -0.063425\n",
       "full_sales        0.282842   -0.063425    1.000000"
      ]
     },
     "execution_count": 33,
     "metadata": {},
     "output_type": "execute_result"
    }
   ],
   "source": [
    "new_data[['critic_score', 'user_score', 'full_sales']].corr()"
   ]
  },
  {
   "cell_type": "markdown",
   "metadata": {},
   "source": [
    "<div class=\"alert alert-block alert-success\">\n",
    " \n",
    "### Комментарий ревьюера\n",
    "    \n",
    "#### Успех\n",
    "\n",
    "Использован отличный метод для показа зависимости на графике. "
   ]
  },
  {
   "cell_type": "markdown",
   "metadata": {},
   "source": [
    "**Отзывы на платформах `PS4` и `XOne` слабо влияют на общие продажи, корреляция очень слабая, но корреляция у оценки критиков выше, чем к пользователей, возможно, игроки больше прислушиваются к оценкам критиков.**\n",
    "\n",
    "**Глядя на корреляцию по всем платформам догадки подтвердились, игроки больше прислушиваются к оценкам критиков, хоть корреляцию очень слабая. А оценки игроков можно сказать вообще не связаны с продажами.**"
   ]
  },
  {
   "cell_type": "markdown",
   "metadata": {},
   "source": [
    "<div class=\"alert alert-block alert-danger\">\n",
    " \n",
    "### Комментарий ревьюера\n",
    "    \n",
    "#### Ошибка\n",
    "\n",
    "Нужно еще построить подробный график еще хотя бы для одной платформы. Так наши выводы будут убедительнее так как они будут на основе нескольких платформ. "
   ]
  },
  {
   "cell_type": "markdown",
   "metadata": {},
   "source": [
    "<div class=\"alert alert-block alert-success\">\n",
    " \n",
    "# Комментарий ревьюера ver.2 \n",
    "    \n",
    "#### Успех\n",
    "\n",
    "Исправлено и тут "
   ]
  },
  {
   "cell_type": "markdown",
   "metadata": {},
   "source": [
    "### Лидеры жанров"
   ]
  },
  {
   "cell_type": "markdown",
   "metadata": {},
   "source": [
    "**Посмотрим на общее распределение игр по жанрам.**"
   ]
  },
  {
   "cell_type": "code",
   "execution_count": 58,
   "metadata": {},
   "outputs": [
    {
     "data": {
      "text/html": [
       "<div>\n",
       "<style scoped>\n",
       "    .dataframe tbody tr th:only-of-type {\n",
       "        vertical-align: middle;\n",
       "    }\n",
       "\n",
       "    .dataframe tbody tr th {\n",
       "        vertical-align: top;\n",
       "    }\n",
       "\n",
       "    .dataframe thead th {\n",
       "        text-align: right;\n",
       "    }\n",
       "</style>\n",
       "<table border=\"1\" class=\"dataframe\">\n",
       "  <thead>\n",
       "    <tr style=\"text-align: right;\">\n",
       "      <th></th>\n",
       "      <th>sum</th>\n",
       "      <th>mean</th>\n",
       "      <th>median</th>\n",
       "    </tr>\n",
       "    <tr>\n",
       "      <th>genre</th>\n",
       "      <th></th>\n",
       "      <th></th>\n",
       "      <th></th>\n",
       "    </tr>\n",
       "  </thead>\n",
       "  <tbody>\n",
       "    <tr>\n",
       "      <th>Action</th>\n",
       "      <td>199.36</td>\n",
       "      <td>0.322068</td>\n",
       "      <td>0.090</td>\n",
       "    </tr>\n",
       "    <tr>\n",
       "      <th>Shooter</th>\n",
       "      <td>170.94</td>\n",
       "      <td>1.335469</td>\n",
       "      <td>0.515</td>\n",
       "    </tr>\n",
       "    <tr>\n",
       "      <th>Sports</th>\n",
       "      <td>109.48</td>\n",
       "      <td>0.680000</td>\n",
       "      <td>0.180</td>\n",
       "    </tr>\n",
       "    <tr>\n",
       "      <th>Role-Playing</th>\n",
       "      <td>101.70</td>\n",
       "      <td>0.458108</td>\n",
       "      <td>0.110</td>\n",
       "    </tr>\n",
       "    <tr>\n",
       "      <th>Misc</th>\n",
       "      <td>37.55</td>\n",
       "      <td>0.332301</td>\n",
       "      <td>0.090</td>\n",
       "    </tr>\n",
       "    <tr>\n",
       "      <th>Fighting</th>\n",
       "      <td>28.22</td>\n",
       "      <td>0.470333</td>\n",
       "      <td>0.125</td>\n",
       "    </tr>\n",
       "    <tr>\n",
       "      <th>Racing</th>\n",
       "      <td>27.52</td>\n",
       "      <td>0.398841</td>\n",
       "      <td>0.090</td>\n",
       "    </tr>\n",
       "    <tr>\n",
       "      <th>Platform</th>\n",
       "      <td>18.09</td>\n",
       "      <td>0.476053</td>\n",
       "      <td>0.140</td>\n",
       "    </tr>\n",
       "    <tr>\n",
       "      <th>Adventure</th>\n",
       "      <td>17.55</td>\n",
       "      <td>0.094865</td>\n",
       "      <td>0.030</td>\n",
       "    </tr>\n",
       "    <tr>\n",
       "      <th>Simulation</th>\n",
       "      <td>13.13</td>\n",
       "      <td>0.298409</td>\n",
       "      <td>0.100</td>\n",
       "    </tr>\n",
       "    <tr>\n",
       "      <th>Strategy</th>\n",
       "      <td>3.96</td>\n",
       "      <td>0.107027</td>\n",
       "      <td>0.060</td>\n",
       "    </tr>\n",
       "    <tr>\n",
       "      <th>Puzzle</th>\n",
       "      <td>2.21</td>\n",
       "      <td>0.157857</td>\n",
       "      <td>0.045</td>\n",
       "    </tr>\n",
       "  </tbody>\n",
       "</table>\n",
       "</div>"
      ],
      "text/plain": [
       "                 sum      mean  median\n",
       "genre                                 \n",
       "Action        199.36  0.322068   0.090\n",
       "Shooter       170.94  1.335469   0.515\n",
       "Sports        109.48  0.680000   0.180\n",
       "Role-Playing  101.70  0.458108   0.110\n",
       "Misc           37.55  0.332301   0.090\n",
       "Fighting       28.22  0.470333   0.125\n",
       "Racing         27.52  0.398841   0.090\n",
       "Platform       18.09  0.476053   0.140\n",
       "Adventure      17.55  0.094865   0.030\n",
       "Simulation     13.13  0.298409   0.100\n",
       "Strategy        3.96  0.107027   0.060\n",
       "Puzzle          2.21  0.157857   0.045"
      ]
     },
     "execution_count": 58,
     "metadata": {},
     "output_type": "execute_result"
    }
   ],
   "source": [
    "new_data_g = new_data.pivot_table(index='genre',\n",
    "                                  values='full_sales',\n",
    "                                  aggfunc=['sum','mean','median'])\n",
    "new_data_g.columns = new_data_g.columns.droplevel(1)\n",
    "new_data_g.sort_values(by='sum',ascending=False)\n"
   ]
  },
  {
   "cell_type": "markdown",
   "metadata": {},
   "source": [
    "**Может показаться, что самый популярный жанр `Action`, но глядя на средние и медианные продажи, можно понять, что 1 место занимает `Shooter`, после него же идёт `Action`, самые плохо-продаваемые жанры - `Adventure` и `Puzzle`. Жанры с активностями более популярный у пользователей, а вот игры, где больше нужно думать и ждать - слабо популярны.**"
   ]
  },
  {
   "cell_type": "markdown",
   "metadata": {},
   "source": [
    "**На данном шаге мы создали актуальный датафрейм(записи с 2014 по 2016 года), на основе которого узнали следующие вещи:**\n",
    "- Лидеры продаж по платформам - `PS4`, `XOne`, `3DS`, `PS3`, `X360`;\n",
    "- Ящик с усами показал, что большинство данных находятся за его пределами;\n",
    "- Оценки слабо влияют на продажи, но оценка критиков больше важна для игроков, нежели оценки других игроков;\n",
    "- Самые популярные жанры - `Shooter` и `Action`, наименее популярные - `Adventure` и `Puzzle`."
   ]
  },
  {
   "cell_type": "markdown",
   "metadata": {},
   "source": [
    "<div class=\"alert alert-block alert-danger\">\n",
    " \n",
    "### Комментарий ревьюера\n",
    "    \n",
    "#### Ошибка\n",
    "    \n",
    "Высокие продажи могут быть вызваны не успехом, а просто огромным количеством игр. Вполне могут быть жанры, где игр немного, но при этом продажи сопоставимы с продажами Экшена. Чтобы проверить это, стоит рассмотреть средние или медианные продажи.\n",
    "    \n",
    "    Всё исправил."
   ]
  },
  {
   "cell_type": "markdown",
   "metadata": {},
   "source": [
    "<div class=\"alert alert-block alert-success\">\n",
    " \n",
    "# Комментарий ревьюера ver.2 \n",
    "    \n",
    "#### Успех\n",
    "\n",
    "Вышло отлично"
   ]
  },
  {
   "cell_type": "markdown",
   "metadata": {},
   "source": [
    "## Портрет пользователя"
   ]
  },
  {
   "cell_type": "markdown",
   "metadata": {},
   "source": [
    "**Определим для пользователя каждого региона (NA, EU, JP):**\n",
    "- Самые популярные платформы (топ-5);\n",
    "- Самые популярные жанры (топ-5);\n",
    "- Как влияет рейтинг ESRB на продажи."
   ]
  },
  {
   "cell_type": "markdown",
   "metadata": {},
   "source": [
    "### Популярные платформы"
   ]
  },
  {
   "cell_type": "markdown",
   "metadata": {},
   "source": [
    "**Популярные платформы в `NA`.**"
   ]
  },
  {
   "cell_type": "code",
   "execution_count": 35,
   "metadata": {},
   "outputs": [
    {
     "data": {
      "image/png": "[encoded data removed]",
      "text/plain": [
       "<Figure size 432x432 with 1 Axes>"
      ]
     },
     "metadata": {},
     "output_type": "display_data"
    }
   ],
   "source": [
    "new_data_n = new_data[['platform', 'na_sales']]\n",
    "new_data_n = (new_data_n.groupby('platform')\n",
    "                        .sum()\n",
    "                        .sort_values(by='na_sales',ascending=False)\n",
    "                        .reset_index(drop=False))\n",
    "\n",
    "top_plat_n = new_data_n.loc[:4, 'platform']\n",
    "top_sal_n = new_data_n.loc[:4, 'na_sales']\n",
    "\n",
    "new_data_na = pd.DataFrame({'platform':top_plat_n, 'na_sales':top_sal_n})\n",
    "ntop_sal_n = round(sum(new_data_n.loc[5:, 'na_sales']), 2)\n",
    "new_data_na.loc[len(new_data_na)] = ['Другие', ntop_sal_n]\n",
    "#new_data_na\n",
    "new_data_na.plot(kind='pie',\n",
    "                 y='na_sales',\n",
    "                 labels=new_data_na['platform'],\n",
    "                 legend=False,\n",
    "                 autopct=('%1.1f%%'),\n",
    "                 figsize=(6,6))\n",
    "plt.ylabel('')\n",
    "plt.title('Популярные платформы в `NA`');"
   ]
  },
  {
   "cell_type": "markdown",
   "metadata": {},
   "source": [
    "**Топ 5 популярных платформ в `NA` в процентном соотношений:**\n",
    "- PS4 - 34.7%\n",
    "- XOne - 28.6%\n",
    "- X360 - 10.0%\n",
    "- 3DS - 8.0%\n",
    "- PS3 - 7.8%\n",
    "- Все остальные платформы - 11.0%\n",
    "\n",
    "**В Северное Америке игроки больше предпочитают `PS4`, затем `XOne`, скорее всего из-за того, что это самые популярные платформы.**\n",
    "\n",
    "**Теперь взглянем на популярные платформы в `EU`.**"
   ]
  },
  {
   "cell_type": "code",
   "execution_count": 36,
   "metadata": {},
   "outputs": [
    {
     "data": {
      "image/png": "[encoded data removed]",
      "text/plain": [
       "<Figure size 432x432 with 1 Axes>"
      ]
     },
     "metadata": {},
     "output_type": "display_data"
    }
   ],
   "source": [
    "new_data_e = new_data[['platform', 'eu_sales']]\n",
    "new_data_e = (new_data_e.groupby('platform')\n",
    "                        .sum()\n",
    "                        .sort_values(by='eu_sales',ascending=False)\n",
    "                        .reset_index(drop=False))\n",
    "\n",
    "top_plat_e = new_data_e.loc[:4, 'platform']\n",
    "top_sal_e = new_data_e.loc[:4, 'eu_sales']\n",
    "\n",
    "new_data_ea = pd.DataFrame({'platform':top_plat_e, 'eu_sales':top_sal_e})\n",
    "ntop_sal_e = round(sum(new_data_e.loc[5:, 'eu_sales']), 2)\n",
    "new_data_ea.loc[len(new_data_ea)] = ['Другие', ntop_sal_e]\n",
    "#new_data_ea\n",
    "new_data_ea.plot(kind='pie',\n",
    "                 y='eu_sales',\n",
    "                 labels=new_data_ea['platform'],\n",
    "                 legend=False,\n",
    "                 autopct=('%1.1f%%'),\n",
    "                 figsize=(6,6))\n",
    "plt.ylabel('')\n",
    "plt.title('Популярные платформы в `EU`');"
   ]
  },
  {
   "cell_type": "markdown",
   "metadata": {},
   "source": [
    "**Топ 5 популярных платформ в `EU` в процентном соотношений:**\n",
    "- PS4 - 48.0%\n",
    "- XOne - 17.1%\n",
    "- PS3 - 9.4%\n",
    "- PC - 6.6%\n",
    "- 3DS - 6.0%\n",
    "- Все остальные платформы - 12.9%\n",
    "\n",
    "**В Европе огромную популярность имеет `PS4`(затем `XOne`), предпочтения похожи с Северной Америкой, думаю, причины такой популярности этих платформ те же.**\n",
    "\n",
    "**Настало время взглянуть на популярные платформы в `JP`.**"
   ]
  },
  {
   "cell_type": "code",
   "execution_count": 37,
   "metadata": {},
   "outputs": [
    {
     "data": {
      "image/png": "[encoded data removed]",
      "text/plain": [
       "<Figure size 432x432 with 1 Axes>"
      ]
     },
     "metadata": {},
     "output_type": "display_data"
    }
   ],
   "source": [
    "new_data_j = new_data[['platform', 'jp_sales']]\n",
    "new_data_j = (new_data_j.groupby('platform')\n",
    "                        .sum()\n",
    "                        .sort_values(by='jp_sales',ascending=False)\n",
    "                        .reset_index(drop=False))\n",
    "\n",
    "top_plat_j = new_data_j.loc[:4, 'platform']\n",
    "top_sal_j = new_data_j.loc[:4, 'jp_sales']\n",
    "\n",
    "new_data_ja = pd.DataFrame({'platform':top_plat_j, 'jp_sales':top_sal_j})\n",
    "ntop_sal_j = round(sum(new_data_j.loc[5:, 'jp_sales']), 2)\n",
    "new_data_ja.loc[len(new_data_ja)] = ['Другие', ntop_sal_j]\n",
    "#new_data_ja\n",
    "new_data_ja.plot(kind='pie',\n",
    "                 y='jp_sales',\n",
    "                 labels=new_data_ja['platform'],\n",
    "                 legend=False,\n",
    "                 autopct=('%1.1f%%'),\n",
    "                 figsize=(6,6))\n",
    "plt.ylabel('')\n",
    "plt.title('Популярные платформы в `JP`');"
   ]
  },
  {
   "cell_type": "markdown",
   "metadata": {},
   "source": [
    "**Топ 5 популярных платформ в `EU` в процентном соотношений:**\n",
    "- 3DS - 47.5%\n",
    "- PS4 - 16.1%\n",
    "- PSC - 15.7%\n",
    "- PS3 - 12.0%\n",
    "- WiiU - 7.8%\n",
    "- Все остальные платформы - 0.8%\n",
    "\n",
    "**`3DS` имеет большую популярность в Японии, по сравнению с другими регионами, только после неё идёт `PS4`, который был так популярен в других регионах.**"
   ]
  },
  {
   "cell_type": "markdown",
   "metadata": {},
   "source": [
    "<div class=\"alert alert-block alert-success\">\n",
    " \n",
    "### Комментарий ревьюера\n",
    "    \n",
    "#### Успех\n",
    "\n",
    "Первичное представление о регионах получено."
   ]
  },
  {
   "cell_type": "markdown",
   "metadata": {},
   "source": [
    "**Предпочтения платформ во всех регионах пересикается, более того, топ 5 рынка занимает около 90%(в Японии все 99%!) рынка почти во всех регионах. Выделим самые популярные платформы в каждом регионе:**\n",
    "- NA - PS4\n",
    "- EU - PS4\n",
    "- JP - 3DS"
   ]
  },
  {
   "cell_type": "markdown",
   "metadata": {},
   "source": [
    "### Популярные жанры"
   ]
  },
  {
   "cell_type": "markdown",
   "metadata": {},
   "source": [
    "**Выявим самые популярные жанры в каждом регионе (топ 5). Выведем круговую диаграмму для каждой.**\n",
    "\n",
    "**Начнём как обычно с `NA`.**"
   ]
  },
  {
   "cell_type": "code",
   "execution_count": 38,
   "metadata": {
    "scrolled": false
   },
   "outputs": [
    {
     "data": {
      "image/png": "[encoded data removed]",
      "text/plain": [
       "<Figure size 432x432 with 1 Axes>"
      ]
     },
     "metadata": {},
     "output_type": "display_data"
    }
   ],
   "source": [
    "new_data_n = new_data[['genre', 'na_sales']]\n",
    "new_data_n = (new_data_n.groupby('genre')\n",
    "                        .sum()\n",
    "                        .sort_values(by='na_sales',ascending=False)\n",
    "                        .reset_index(drop=False))\n",
    "\n",
    "top_plat_n = new_data_n.loc[:4, 'genre']\n",
    "top_sal_n = new_data_n.loc[:4, 'na_sales']\n",
    "\n",
    "new_data_na = pd.DataFrame({'genre':top_plat_n, 'na_sales':top_sal_n})\n",
    "ntop_sal_n = round(sum(new_data_n.loc[5:, 'na_sales']), 2)\n",
    "new_data_na.loc[len(new_data_na)] = ['Другие', ntop_sal_n]\n",
    "#new_data_na\n",
    "new_data_na.plot(kind='pie',\n",
    "                 y='na_sales',\n",
    "                 labels=new_data_na['genre'],\n",
    "                 legend=False,\n",
    "                 autopct=('%1.1f%%'),\n",
    "                 figsize=(6,6))\n",
    "plt.ylabel('')\n",
    "plt.title('Популярные жанры в `NA`');"
   ]
  },
  {
   "cell_type": "markdown",
   "metadata": {},
   "source": [
    "**Топ 5 популярных жанров в `NA`:**\n",
    "- Shooter - 27.8%\n",
    "- Action - 25.5%\n",
    "- Sports - 16.2%\n",
    "- Role-Playing - 7.9%\n",
    "- Misc - 5.3%\n",
    "- Все другие жанры - 13.3%\n",
    "\n",
    "**В Северной Америке больше всего предпочитают шутеры, затем экшен и спорт.**\n",
    "\n",
    "**Взглянем на `EU`.**"
   ]
  },
  {
   "cell_type": "code",
   "execution_count": 59,
   "metadata": {},
   "outputs": [
    {
     "data": {
      "image/png": "[encoded data removed]",
      "text/plain": [
       "<Figure size 432x432 with 1 Axes>"
      ]
     },
     "metadata": {},
     "output_type": "display_data"
    }
   ],
   "source": [
    "new_data_e = new_data[['genre', 'eu_sales']]\n",
    "new_data_e = (new_data_e.groupby('genre')\n",
    "                        .sum()\n",
    "                        .sort_values(by='eu_sales',ascending=False)\n",
    "                        .reset_index(drop=False))\n",
    "\n",
    "top_plat_e = new_data_e.loc[:4, 'genre']\n",
    "top_sal_e = new_data_e.loc[:4, 'eu_sales']\n",
    "\n",
    "new_data_ea = pd.DataFrame({'genre':top_plat_e, 'eu_sales':top_sal_e})\n",
    "ntop_sal_e = round(sum(new_data_e.loc[5:, 'eu_sales']), 2)\n",
    "new_data_ea.loc[len(new_data_ea)] = ['Другие', ntop_sal_e]\n",
    "#new_data_ea\n",
    "new_data_ea.plot(kind='pie',\n",
    "                 y='eu_sales',\n",
    "                 labels=new_data_ea['genre'],\n",
    "                 legend=False,\n",
    "                 autopct=('%1.1f%%'),\n",
    "                 figsize=(6,6))\n",
    "plt.ylabel('')\n",
    "plt.title('Популярные жанры в `EU`');"
   ]
  },
  {
   "cell_type": "markdown",
   "metadata": {},
   "source": [
    "**Топ 5 популярных жанров в `NA`:**\n",
    "- Action - 27.6%\n",
    "- Shooter - 24.2%\n",
    "- Sports - 16.9%\n",
    "- Role-Playing - 10.4%\n",
    "- Racing - 5.2%\n",
    "- Все другие жанры - 15.7%\n",
    "\n",
    "**В Европе, так же как и в Северной Америке больше всего предпочитают экшен и шутеры, затем затем спорт, даже проценты почти совпадают.**\n",
    "\n",
    "**Теперь посмотрим на `JP`.**"
   ]
  },
  {
   "cell_type": "code",
   "execution_count": 40,
   "metadata": {},
   "outputs": [
    {
     "data": {
      "image/png": "[encoded data removed]",
      "text/plain": [
       "<Figure size 432x432 with 1 Axes>"
      ]
     },
     "metadata": {},
     "output_type": "display_data"
    }
   ],
   "source": [
    "new_data_j = new_data[['genre', 'jp_sales']]\n",
    "new_data_j = (new_data_j.groupby('genre')\n",
    "                        .sum()\n",
    "                        .sort_values(by='jp_sales',ascending=False)\n",
    "                        .reset_index(drop=False))\n",
    "\n",
    "top_plat_j = new_data_j.loc[:4, 'genre']\n",
    "top_sal_j = new_data_j.loc[:4, 'jp_sales']\n",
    "\n",
    "new_data_ja = pd.DataFrame({'genre':top_plat_j, 'jp_sales':top_sal_j})\n",
    "ntop_sal_j = round(sum(new_data_j.loc[5:, 'jp_sales']), 2)\n",
    "new_data_ja.loc[len(new_data_ja)] = ['Другие', ntop_sal_j]\n",
    "#new_data_ja\n",
    "new_data_ja.plot(kind='pie',\n",
    "                 y='jp_sales',\n",
    "                 labels=new_data_ja['genre'],\n",
    "                 legend=False,\n",
    "                 autopct=('%1.1f%%'),\n",
    "                 figsize=(6,6))\n",
    "plt.ylabel('')\n",
    "plt.title('Популярные платформы в `JP`');"
   ]
  },
  {
   "cell_type": "markdown",
   "metadata": {},
   "source": [
    "**Топ 5 жанров с `JP`:**\n",
    "- Role-Playing - 33.5%\n",
    "- Action - 31.8%\n",
    "- Fighting - 6.8%\n",
    "- Misc - 6.0%\n",
    "- Shooter - 5.2%\n",
    "- Все остальные жанры - 16.6%\n",
    "\n",
    "**В Японии ситуация отличается от других, тут больше всего играют в ролевые и экшен игры(оба более 30%!).**\n",
    "\n",
    "\n",
    "**Предполагаю, такая разница связана с менталитетом регионов, японцы больше предпочитают окунуться в виртуальную жизнь, нежели европейцы или северо-американцы(они больше любят активные игры). Топ жанров в каждом регионе:**\n",
    "- NA и EU - Action и Shooter\n",
    "- JP - Role-Playing и Action"
   ]
  },
  {
   "cell_type": "markdown",
   "metadata": {},
   "source": [
    "<div class=\"alert alert-block alert-success\">\n",
    " \n",
    "### Комментарий ревьюера\n",
    "    \n",
    "#### Успех\n",
    "\n",
    "А тут хорошо видно, что Япония наиболее уникальна среди регионов"
   ]
  },
  {
   "cell_type": "markdown",
   "metadata": {},
   "source": [
    "### Влияние ESRB"
   ]
  },
  {
   "cell_type": "markdown",
   "metadata": {},
   "source": [
    "**ESRB(Entertainment Software Rating Board) — это ассоциация, определяющая возрастной рейтинг компьютерных игр. ESRB оценивает игровой контент и присваивает ему подходящую возрастную категорию, например, «Для взрослых», «Для детей младшего возраста» или «Для подростков».**\n",
    "\n",
    "**Посмотрим, есть ли влияние ESRB на продажи в регионах.**"
   ]
  },
  {
   "cell_type": "markdown",
   "metadata": {},
   "source": [
    "**Посмотрим все значения, которые принимает столбец `rating`.**"
   ]
  },
  {
   "cell_type": "code",
   "execution_count": 41,
   "metadata": {},
   "outputs": [
    {
     "data": {
      "text/plain": [
       "array(['M', 'T', 'E', 'E10+'], dtype=object)"
      ]
     },
     "execution_count": 41,
     "metadata": {},
     "output_type": "execute_result"
    }
   ],
   "source": [
    "new_data['rating'].unique()"
   ]
  },
  {
   "cell_type": "markdown",
   "metadata": {},
   "source": [
    "- E -  Для всех\n",
    "- M - Для взрослых\n",
    "- T - Подросткам\n",
    "- E10+ - Для всех от 10 лет и старше\n",
    "- AO - Только для взрослых\n",
    "- EC - Для детей младшего возраста\n",
    "- RP - Рейтинг ожидается"
   ]
  },
  {
   "cell_type": "markdown",
   "metadata": {},
   "source": [
    "**Построим для каждого региона диаграмму.**\n",
    "\n",
    "**Начнём с региона `NA`.**"
   ]
  },
  {
   "cell_type": "code",
   "execution_count": 42,
   "metadata": {},
   "outputs": [
    {
     "data": {
      "image/png": "[encoded data removed]",
      "text/plain": [
       "<Figure size 432x432 with 1 Axes>"
      ]
     },
     "metadata": {},
     "output_type": "display_data"
    }
   ],
   "source": [
    "new_data_n = new_data[['rating', 'na_sales']]\n",
    "new_data_n = (new_data_n.groupby('rating')\n",
    "                        .sum()\n",
    "                        .sort_values(by='na_sales',ascending=False)\n",
    "                        .reset_index(drop=False))\n",
    "#new_data_n\n",
    "new_data_n.plot(kind='pie',\n",
    "                 y='na_sales',\n",
    "                 labels=new_data_n['rating'],\n",
    "                 legend=False,\n",
    "                 autopct=('%1.1f%%'),\n",
    "                 figsize=(6,6))\n",
    "plt.ylabel('')\n",
    "plt.title('Продажи в `NA` с определённым рейтингом');"
   ]
  },
  {
   "cell_type": "markdown",
   "metadata": {},
   "source": [
    "**Самые продаваемые игры имеют рейтин `M`, затем `T`, `E` и `E10+`, остальные категории можно даже не рассматривать, их критичесик мало. Можно сделать вывод, что большинство игр создано для всех, затем для взрослых и подростков.**\n",
    "\n",
    "**Далее посмотрим в регионе `EU`.**"
   ]
  },
  {
   "cell_type": "code",
   "execution_count": 43,
   "metadata": {},
   "outputs": [
    {
     "data": {
      "image/png": "[encoded data removed]",
      "text/plain": [
       "<Figure size 432x432 with 1 Axes>"
      ]
     },
     "metadata": {},
     "output_type": "display_data"
    }
   ],
   "source": [
    "new_data_e = new_data[['rating', 'eu_sales']]\n",
    "new_data_e = (new_data_e.groupby('rating')\n",
    "                        .sum()\n",
    "                        .sort_values(by='eu_sales',ascending=False)\n",
    "                        .reset_index(drop=False))\n",
    "#new_data_e\n",
    "new_data_e.plot(kind='pie',\n",
    "                 y='eu_sales',\n",
    "                 labels=new_data_e['rating'],\n",
    "                 legend=False,\n",
    "                 autopct=('%1.1f%%'),\n",
    "                 figsize=(6,6))\n",
    "plt.ylabel('')\n",
    "plt.title('Продажи в `EU` с определённым рейтингом');"
   ]
  },
  {
   "cell_type": "markdown",
   "metadata": {},
   "source": [
    "**История в Европе почти аналогична с Северной Америкой, единственное, `E` и `T` поменялись местами.**\n",
    "\n",
    "**Посмотрим на регион `JP`.**"
   ]
  },
  {
   "cell_type": "code",
   "execution_count": 44,
   "metadata": {},
   "outputs": [
    {
     "data": {
      "image/png": "[encoded data removed]",
      "text/plain": [
       "<Figure size 432x432 with 1 Axes>"
      ]
     },
     "metadata": {},
     "output_type": "display_data"
    }
   ],
   "source": [
    "new_data_j = new_data[['rating', 'jp_sales']]\n",
    "new_data_j = (new_data_j.groupby('rating')\n",
    "                        .sum()\n",
    "                        .sort_values(by='jp_sales',ascending=False)\n",
    "                        .reset_index(drop=False))\n",
    "#new_data_j\n",
    "new_data_j.plot(kind='pie',\n",
    "                 y='jp_sales',\n",
    "                 labels=new_data_j['rating'],\n",
    "                 legend=False,\n",
    "                 autopct=('%1.1f%%'),\n",
    "                 figsize=(6,6))\n",
    "plt.ylabel('')\n",
    "plt.title('Продажи в `JP` с определённым рейтингом');"
   ]
  },
  {
   "cell_type": "markdown",
   "metadata": {},
   "source": [
    "**Япония не перестаёт удивлять, игры для подростоков(`T`) лидируют, забирая 65% рынка себе и лишь 20% относится к `E`.**\n",
    "\n",
    "**Мы выяснили, что рейтинг ESRB влияет на продажи:**\n",
    "- В `NA` и `EU` предпочитают групп `E`, `T` и `M`\n",
    "- В `JP` чаще всего покупают игры групп `T`, затем `E`"
   ]
  },
  {
   "cell_type": "markdown",
   "metadata": {},
   "source": [
    "**Опишем портрет типичного игрока каждого региона.**\n",
    "- `NA`(северо-американец) - чаще всего играет на платформах `PS4` `XOne`, любимые жанры - шутер и экшен, которые чаще всего относятся к группе `M`(для взрослых), затем `T`(подросткам) и `E`(для всех)\n",
    "- `EU`(европеец) - зеркало северо-американца, единственное отличие - чаще всего играет на платформах `PS4`\n",
    "- `JP`(японец) - любит играть на платформе `3DS`, любимый жанр Role-Playing и экшен, в 65% случаях его игры относятся к группам `T`(для подростков)"
   ]
  },
  {
   "cell_type": "markdown",
   "metadata": {},
   "source": [
    "<div class=\"alert alert-block alert-success\">\n",
    " \n",
    "### Комментарий ревьюера\n",
    "    \n",
    "#### Успех\n",
    "\n",
    "Рассмотрев все регионы мы пришли к выводу, что у каждого региона есть своя специфика и это точно стоит учитывать и дальше "
   ]
  },
  {
   "cell_type": "markdown",
   "metadata": {},
   "source": [
    "## Гипотезы"
   ]
  },
  {
   "cell_type": "markdown",
   "metadata": {},
   "source": [
    "### XOne и PC"
   ]
  },
  {
   "cell_type": "markdown",
   "metadata": {},
   "source": [
    "**Узнаем, равны ли средние пользовательские рейтинги двух платформ - `XOne` и `PC`. H₀ - Средние пользовательские рейтинги двух платформ равны. H₁ - средние пользовательские рейтинги двух платформ не равны. Alpha будет равен 0.05.**"
   ]
  },
  {
   "cell_type": "code",
   "execution_count": 45,
   "metadata": {},
   "outputs": [
    {
     "name": "stdout",
     "output_type": "stream",
     "text": [
      "Р-значение: 0.05074473945849195\n",
      "Не отвергаем нулевую гипотезу!\n"
     ]
    }
   ],
   "source": [
    "new_data_x = new_data.query('platform == \"XOne\"')\n",
    "new_data_p = new_data.query('platform == \"PC\"')\n",
    "\n",
    "alpha = 0.05\n",
    "\n",
    "results = st.ttest_ind(new_data_x['user_score'], new_data_p['user_score'], equal_var=False)\n",
    "\n",
    "print('Р-значение:', results.pvalue)\n",
    "\n",
    "if alpha < results.pvalue:\n",
    "    print('Не отвергаем нулевую гипотезу!')\n",
    "else:\n",
    "    print('Отвергаем нулевую гипотезу!')\n",
    "#new_data['platform'].unique()"
   ]
  },
  {
   "cell_type": "markdown",
   "metadata": {},
   "source": [
    "**Проведя двухвыборочный Т-тест для двух независимых выборок(указав, что дисперсии разные), мы поняли, что пользовательские рейтинги платформ `XOne` и `PC` примерно равны.**"
   ]
  },
  {
   "cell_type": "markdown",
   "metadata": {},
   "source": [
    "<div class=\"alert alert-block alert-success\">\n",
    " \n",
    "### Комментарий ревьюера\n",
    "    \n",
    "#### Успех\n",
    "\n",
    "Гипотезы сформулированы и верно определен метод проверки. С выводами согласен. "
   ]
  },
  {
   "cell_type": "markdown",
   "metadata": {},
   "source": [
    "### Action и Sports"
   ]
  },
  {
   "cell_type": "markdown",
   "metadata": {},
   "source": [
    "**Узнаем, равны ли средние пользовательские рейтинги жанров `Action` и `Sports`. H₀ - Средние пользовательские рейтинги двух жанров равны. H₁ - средние пользовательские рейтинги двух жанров не равны. Alpha будет равен 0.05.**"
   ]
  },
  {
   "cell_type": "code",
   "execution_count": 46,
   "metadata": {},
   "outputs": [
    {
     "name": "stdout",
     "output_type": "stream",
     "text": [
      "Р-значение: 7.412639945317511e-17\n",
      "Отвергаем нулевую гипотезу!\n"
     ]
    }
   ],
   "source": [
    "new_data_ac = new_data.query('genre == \"Action\"')\n",
    "new_data_sp = new_data.query('genre == \"Sports\"')\n",
    "\n",
    "alpha = 0.05\n",
    "\n",
    "results = st.ttest_ind(new_data_ac['user_score'], new_data_sp['user_score'], equal_var=False)\n",
    "\n",
    "print('Р-значение:', results.pvalue)\n",
    "\n",
    "if alpha < results.pvalue:\n",
    "    print('Не отвергаем нулевую гипотезу!')\n",
    "else:\n",
    "    print('Отвергаем нулевую гипотезу!')"
   ]
  },
  {
   "cell_type": "markdown",
   "metadata": {},
   "source": [
    "**Проведя Т-тест для двух независимых выборок(указав, что дисперсии не равны), мы выяснили, что средние пользовательские рейтинги жанров `Action` и `Sports` не равны.**"
   ]
  },
  {
   "cell_type": "markdown",
   "metadata": {},
   "source": [
    "**Нулевую и альтернативную гипотезу сформулировали очень просто: H₀ - средние равны, H₁ - средние не равны. При проверки гипотез мы использовали Т-тест для двух незавсимых выборов, указав, что их дисперсии не равны, для более точного теста. Alpha определили самостоятельно - 0.05, так как посчитали, что это оптимальный вариант.**"
   ]
  },
  {
   "cell_type": "markdown",
   "metadata": {},
   "source": [
    "<div class=\"alert alert-block alert-success\">\n",
    " \n",
    "### Комментарий ревьюера\n",
    "    \n",
    "#### Успех\n",
    "\n",
    "Аналогично"
   ]
  },
  {
   "cell_type": "markdown",
   "metadata": {},
   "source": [
    "## Вывод"
   ]
  },
  {
   "cell_type": "markdown",
   "metadata": {},
   "source": [
    "**Давайте подведём итоги и ответим на интересующий вопрос - какая игра в 2017 году вероятнее всего станет популярной?**\n",
    "\n",
    "**На этапе подготовки данных мы исправили названия столбцов, заполнили пропуски и удалили дубликаты(дубликатов было очень мало), после чего создали новый столбец с общей прибылью во всех регионах.**\n",
    "\n",
    "**Во время исследовательского анализа мы узнали:**\n",
    "- Актуальный период - 2014 - 2016 года\n",
    "- Лидер продаж по платформам - `PS4`\n",
    "- Большинство глобальных продаж далеки от среднего\n",
    "- Корреляция между рейтингами и продажами слабая, но всё же оценки критиков немного виляют на продажи\n",
    "- Самые популярные жанры - `Action` и `Shooter`\n",
    "\n",
    "**Создали портрет игрока для каждого региона:**\n",
    "- NA(северо-американец) - чаще всего играет на платформах PS4 и XOne, любимые жанры - экшен и шутер, которые чаще всего относятся к группе M(для взрослых), затем T(подросткам) и E(для всех)\n",
    "- EU(европеец) - зеркало северо-американца, единственное отличие - чаще всего играет на платформах PS4\n",
    "- JP(японец) - любит играть на платформе 3DS, любимый жанр Role-Playing, в 65% случаях его игры относятся к группам T(для подростков)\n",
    "\n",
    "**Так же выяснили, что ESRB влияет на продажи:**\n",
    "- NA и EU предпочитают групп M, T и E\n",
    "- В JP чаще всего покупают игры групп T\n",
    "\n",
    "**Проверили гипотезы:**\n",
    "- Средние пользовательские рейтинги платформ `XOne` и `PC` примерно равны\n",
    "- Средние пользовательские рейтинги жанров `Action` и `Sports` не равны\n",
    "\n",
    "**Мои предположения на 2017 год: Если игра будет выпускаться для `NA` и `EU`, то стоит выпустить её на платформах PS4, XOne и PC, жанры желательно должны быть либо Shooter, либо Actions, и если ESRB выдаст оценку \"Для взрослых\", то с огромной вероятностью она будет в топе продаж. Если же игра будет направлена в регион `JP`, то её стоит сделать на платформах 3DS и снова на PC(так как эта платформа всё набирает и набирает обороты), жанр желательно должен быть похож на Role-Playing, а оценка ESRB - \"Для подростков\".**\n",
    "\n",
    "**Надеюсь, данный проект поможет создать правильную ставку на заведомо популярный продукт или же создать игру, которая соберёт большие продажи.**"
   ]
  },
  {
   "cell_type": "markdown",
   "metadata": {},
   "source": [
    "<div class=\"alert alert-block alert-success\">\n",
    " \n",
    "### Комментарий ревьюера\n",
    "    \n",
    "#### Успех\n",
    "\n",
    "Спасибо тебе за такой подробный итоговый вывод. С таким выводом мы сможем составить представление о рынке продаж видеоигр и суметь спрогнозировать продажи. "
   ]
  },
  {
   "cell_type": "markdown",
   "metadata": {},
   "source": [
    "<div class=\"alert alert-block alert-info\">\n",
    " \n",
    "### Итоговый Комментарий ревьюера\n",
    "    \n",
    "#### Успех\n",
    "    \n",
    "Благодарю тебя за выполнение работы. Мне понравился твой проект за структурность и последовательность. Во многих местах ты подбираешь оптимальный код и автоматизируешь свою работу, а это очень пригодится в будущем. Выделить бы хотел Предобработку данных. На мой взгляд она получилась особенно удачно. Очень насыщенный итоговый вывод вышел. Старайся такие выводы делать и в будущем. \n",
    "    \n",
    "    \n",
    "Однако, в проекте есть несколько замечаний, которые надо исправить:\n",
    "\n",
    "* Актуальный период пересмотреть.\n",
    "* Ящик с усами доработать. \n",
    "* Построить график зависимости хотя бы еще для одной из платформ.\n",
    "       \n",
    "Еще я оставил рекомендации. Очень надеюсь, что ты учтешь их в этом и последующих проектах.\n",
    "       \n",
    "Жду проект после доработки. Уверен, ты справишься.\n",
    "    \n",
    "    Всё исправил, где-то даже улучшил код, Выв\n",
    "</div>"
   ]
  },
  {
   "cell_type": "markdown",
   "metadata": {},
   "source": [
    "<div class=\"alert alert-block alert-success\">\n",
    " \n",
    "# Итоговый Комментарий ревьюера ver.2 \n",
    "    \n",
    "#### Успех\n",
    "\n",
    "Спасибо тебе за доработку проекта. Вот теперь я его готов принять. От себя я хочу пожелать успехов в дальнешей учебе. Ты точно справишься и дальше, я уверен в этом. "
   ]
  },
  {
   "cell_type": "code",
   "execution_count": null,
   "metadata": {},
   "outputs": [],
   "source": []
  }
 ],
 "metadata": {
  "ExecuteTimeLog": [
   {
    "duration": 430,
    "start_time": "2025-03-04T20:30:33.126Z"
   },
   {
    "duration": 3,
    "start_time": "2025-03-04T20:31:56.265Z"
   },
   {
    "duration": 3,
    "start_time": "2025-03-04T20:33:31.845Z"
   },
   {
    "duration": 56,
    "start_time": "2025-03-04T20:33:52.080Z"
   },
   {
    "duration": 29,
    "start_time": "2025-03-04T20:34:09.531Z"
   },
   {
    "duration": 63,
    "start_time": "2025-03-04T20:36:38.375Z"
   },
   {
    "duration": 7,
    "start_time": "2025-03-04T20:36:47.710Z"
   },
   {
    "duration": 11,
    "start_time": "2025-03-04T20:37:01.146Z"
   },
   {
    "duration": 4,
    "start_time": "2025-03-04T20:37:13.465Z"
   },
   {
    "duration": 4,
    "start_time": "2025-03-04T20:43:10.007Z"
   },
   {
    "duration": 16,
    "start_time": "2025-03-04T20:44:30.546Z"
   },
   {
    "duration": 368,
    "start_time": "2025-03-04T20:44:41.499Z"
   },
   {
    "duration": 46,
    "start_time": "2025-03-04T20:44:41.869Z"
   },
   {
    "duration": 40,
    "start_time": "2025-03-04T20:44:41.916Z"
   },
   {
    "duration": 15,
    "start_time": "2025-03-04T20:44:41.958Z"
   },
   {
    "duration": 5,
    "start_time": "2025-03-04T20:44:41.974Z"
   },
   {
    "duration": 1309,
    "start_time": "2025-03-04T20:50:04.645Z"
   },
   {
    "duration": 5,
    "start_time": "2025-03-04T20:50:48.564Z"
   },
   {
    "duration": 1203,
    "start_time": "2025-03-04T20:51:03.065Z"
   },
   {
    "duration": 1273,
    "start_time": "2025-03-04T20:51:21.943Z"
   },
   {
    "duration": 1178,
    "start_time": "2025-03-04T20:51:39.456Z"
   },
   {
    "duration": 1158,
    "start_time": "2025-03-04T20:51:54.200Z"
   },
   {
    "duration": 3,
    "start_time": "2025-03-04T20:54:23.624Z"
   },
   {
    "duration": 8,
    "start_time": "2025-03-04T20:54:34.163Z"
   },
   {
    "duration": 7,
    "start_time": "2025-03-04T20:54:41.384Z"
   },
   {
    "duration": 6,
    "start_time": "2025-03-04T20:54:46.792Z"
   },
   {
    "duration": 8,
    "start_time": "2025-03-04T20:55:37.955Z"
   },
   {
    "duration": 516,
    "start_time": "2025-03-04T20:55:45.855Z"
   },
   {
    "duration": 46,
    "start_time": "2025-03-04T20:55:46.373Z"
   },
   {
    "duration": 28,
    "start_time": "2025-03-04T20:55:46.420Z"
   },
   {
    "duration": 19,
    "start_time": "2025-03-04T20:55:46.450Z"
   },
   {
    "duration": 5,
    "start_time": "2025-03-04T20:55:46.471Z"
   },
   {
    "duration": 33,
    "start_time": "2025-03-04T20:55:46.477Z"
   },
   {
    "duration": 33,
    "start_time": "2025-03-04T20:55:46.512Z"
   },
   {
    "duration": 14,
    "start_time": "2025-03-04T20:56:14.093Z"
   },
   {
    "duration": 4,
    "start_time": "2025-03-04T20:56:48.735Z"
   },
   {
    "duration": 14,
    "start_time": "2025-03-04T20:56:49.622Z"
   },
   {
    "duration": 728,
    "start_time": "2025-03-04T20:57:20.375Z"
   },
   {
    "duration": 5,
    "start_time": "2025-03-04T20:57:49.424Z"
   },
   {
    "duration": 10,
    "start_time": "2025-03-04T20:58:32.263Z"
   },
   {
    "duration": 11,
    "start_time": "2025-03-04T20:58:35.143Z"
   },
   {
    "duration": 26,
    "start_time": "2025-03-04T21:00:02.446Z"
   },
   {
    "duration": 25,
    "start_time": "2025-03-04T21:01:33.875Z"
   },
   {
    "duration": 26,
    "start_time": "2025-03-04T21:01:41.428Z"
   },
   {
    "duration": 23,
    "start_time": "2025-03-04T21:02:28.406Z"
   },
   {
    "duration": 7,
    "start_time": "2025-03-04T21:02:40.223Z"
   },
   {
    "duration": 26,
    "start_time": "2025-03-04T21:04:00.623Z"
   },
   {
    "duration": 7,
    "start_time": "2025-03-04T21:06:58.703Z"
   },
   {
    "duration": 10,
    "start_time": "2025-03-04T21:09:39.874Z"
   },
   {
    "duration": 8,
    "start_time": "2025-03-04T21:10:26.507Z"
   },
   {
    "duration": 366,
    "start_time": "2025-03-04T21:11:00.809Z"
   },
   {
    "duration": 47,
    "start_time": "2025-03-04T21:11:01.177Z"
   },
   {
    "duration": 27,
    "start_time": "2025-03-04T21:11:01.225Z"
   },
   {
    "duration": 15,
    "start_time": "2025-03-04T21:11:01.258Z"
   },
   {
    "duration": 5,
    "start_time": "2025-03-04T21:11:01.276Z"
   },
   {
    "duration": 8,
    "start_time": "2025-03-04T21:11:01.283Z"
   },
   {
    "duration": 97,
    "start_time": "2025-03-04T21:11:01.292Z"
   },
   {
    "duration": 7,
    "start_time": "2025-03-04T21:11:45.923Z"
   },
   {
    "duration": 11,
    "start_time": "2025-03-04T21:12:02.192Z"
   },
   {
    "duration": 7,
    "start_time": "2025-03-04T21:12:06.674Z"
   },
   {
    "duration": 14,
    "start_time": "2025-03-04T21:15:26.274Z"
   },
   {
    "duration": 16,
    "start_time": "2025-03-04T21:15:54.842Z"
   },
   {
    "duration": 14,
    "start_time": "2025-03-04T21:16:37.932Z"
   },
   {
    "duration": 8,
    "start_time": "2025-03-04T21:17:40.350Z"
   },
   {
    "duration": 8,
    "start_time": "2025-03-04T21:17:53.831Z"
   },
   {
    "duration": 31,
    "start_time": "2025-03-04T21:18:10.241Z"
   },
   {
    "duration": 8,
    "start_time": "2025-03-04T21:18:34.443Z"
   },
   {
    "duration": 27,
    "start_time": "2025-03-04T21:18:43.594Z"
   },
   {
    "duration": 8,
    "start_time": "2025-03-04T21:18:55.521Z"
   },
   {
    "duration": 19,
    "start_time": "2025-03-04T21:19:05.195Z"
   },
   {
    "duration": 13,
    "start_time": "2025-03-04T21:21:42.222Z"
   },
   {
    "duration": 17,
    "start_time": "2025-03-04T21:21:49.446Z"
   },
   {
    "duration": 8,
    "start_time": "2025-03-04T21:22:05.286Z"
   },
   {
    "duration": 21,
    "start_time": "2025-03-04T21:22:16.202Z"
   },
   {
    "duration": 14,
    "start_time": "2025-03-04T21:22:21.643Z"
   },
   {
    "duration": 1255,
    "start_time": "2025-03-04T21:23:34.544Z"
   },
   {
    "duration": 6,
    "start_time": "2025-03-04T21:23:48.262Z"
   },
   {
    "duration": 20,
    "start_time": "2025-03-04T21:24:13.268Z"
   },
   {
    "duration": 8,
    "start_time": "2025-03-04T21:37:04.565Z"
   },
   {
    "duration": 107,
    "start_time": "2025-03-04T21:37:29.474Z"
   },
   {
    "duration": 111,
    "start_time": "2025-03-04T21:37:39.966Z"
   },
   {
    "duration": 103,
    "start_time": "2025-03-04T21:38:05.721Z"
   },
   {
    "duration": 44,
    "start_time": "2025-03-04T21:38:54.326Z"
   },
   {
    "duration": 44,
    "start_time": "2025-03-04T21:39:20.266Z"
   },
   {
    "duration": 11,
    "start_time": "2025-03-04T21:42:15.147Z"
   },
   {
    "duration": 13,
    "start_time": "2025-03-04T21:42:28.369Z"
   },
   {
    "duration": 54,
    "start_time": "2025-03-04T21:43:14.206Z"
   },
   {
    "duration": 14,
    "start_time": "2025-03-04T21:43:40.146Z"
   },
   {
    "duration": 135,
    "start_time": "2025-03-04T21:48:26.979Z"
   },
   {
    "duration": 13,
    "start_time": "2025-03-04T21:48:31.686Z"
   },
   {
    "duration": 423,
    "start_time": "2025-03-04T21:48:49.052Z"
   },
   {
    "duration": 46,
    "start_time": "2025-03-04T21:48:49.477Z"
   },
   {
    "duration": 27,
    "start_time": "2025-03-04T21:48:49.525Z"
   },
   {
    "duration": 17,
    "start_time": "2025-03-04T21:48:49.553Z"
   },
   {
    "duration": 5,
    "start_time": "2025-03-04T21:48:49.572Z"
   },
   {
    "duration": 16,
    "start_time": "2025-03-04T21:48:49.578Z"
   },
   {
    "duration": 12,
    "start_time": "2025-03-04T21:48:49.595Z"
   },
   {
    "duration": 13,
    "start_time": "2025-03-04T21:48:49.609Z"
   },
   {
    "duration": 42,
    "start_time": "2025-03-04T21:48:49.623Z"
   },
   {
    "duration": 14,
    "start_time": "2025-03-04T21:48:49.667Z"
   },
   {
    "duration": 136,
    "start_time": "2025-03-04T21:48:49.682Z"
   },
   {
    "duration": 58,
    "start_time": "2025-03-04T21:48:49.820Z"
   },
   {
    "duration": 47,
    "start_time": "2025-03-04T21:48:49.880Z"
   },
   {
    "duration": 34,
    "start_time": "2025-03-04T21:48:49.929Z"
   },
   {
    "duration": 332,
    "start_time": "2025-03-04T21:48:49.965Z"
   },
   {
    "duration": 15,
    "start_time": "2025-03-04T21:48:50.299Z"
   },
   {
    "duration": 121,
    "start_time": "2025-03-04T21:55:23.661Z"
   },
   {
    "duration": 114,
    "start_time": "2025-03-04T21:55:26.575Z"
   },
   {
    "duration": 112,
    "start_time": "2025-03-04T21:56:42.147Z"
   },
   {
    "duration": 428,
    "start_time": "2025-03-04T21:56:47.435Z"
   },
   {
    "duration": 46,
    "start_time": "2025-03-04T21:56:47.864Z"
   },
   {
    "duration": 40,
    "start_time": "2025-03-04T21:56:47.911Z"
   },
   {
    "duration": 15,
    "start_time": "2025-03-04T21:56:47.953Z"
   },
   {
    "duration": 5,
    "start_time": "2025-03-04T21:56:47.969Z"
   },
   {
    "duration": 40,
    "start_time": "2025-03-04T21:56:47.976Z"
   },
   {
    "duration": 46,
    "start_time": "2025-03-04T21:56:48.017Z"
   },
   {
    "duration": 111,
    "start_time": "2025-03-04T21:56:48.064Z"
   },
   {
    "duration": 13,
    "start_time": "2025-03-04T21:56:48.177Z"
   },
   {
    "duration": 12,
    "start_time": "2025-03-04T21:56:48.192Z"
   },
   {
    "duration": 129,
    "start_time": "2025-03-04T21:56:48.205Z"
   },
   {
    "duration": 51,
    "start_time": "2025-03-04T21:56:48.336Z"
   },
   {
    "duration": 43,
    "start_time": "2025-03-04T21:56:48.388Z"
   },
   {
    "duration": 26,
    "start_time": "2025-03-04T21:56:48.432Z"
   },
   {
    "duration": 144,
    "start_time": "2025-03-04T21:56:48.459Z"
   },
   {
    "duration": 13,
    "start_time": "2025-03-04T21:56:48.604Z"
   },
   {
    "duration": 374,
    "start_time": "2025-03-04T21:57:11.996Z"
   },
   {
    "duration": 45,
    "start_time": "2025-03-04T21:57:12.372Z"
   },
   {
    "duration": 26,
    "start_time": "2025-03-04T21:57:12.418Z"
   },
   {
    "duration": 18,
    "start_time": "2025-03-04T21:57:12.446Z"
   },
   {
    "duration": 5,
    "start_time": "2025-03-04T21:57:12.466Z"
   },
   {
    "duration": 6,
    "start_time": "2025-03-04T21:57:12.472Z"
   },
   {
    "duration": 12,
    "start_time": "2025-03-04T21:57:12.480Z"
   },
   {
    "duration": 13,
    "start_time": "2025-03-04T21:57:12.493Z"
   },
   {
    "duration": 12,
    "start_time": "2025-03-04T21:57:12.507Z"
   },
   {
    "duration": 48,
    "start_time": "2025-03-04T21:57:12.521Z"
   },
   {
    "duration": 128,
    "start_time": "2025-03-04T21:57:12.571Z"
   },
   {
    "duration": 44,
    "start_time": "2025-03-04T21:57:12.701Z"
   },
   {
    "duration": 46,
    "start_time": "2025-03-04T21:57:12.757Z"
   },
   {
    "duration": 17,
    "start_time": "2025-03-04T21:57:12.806Z"
   },
   {
    "duration": 179,
    "start_time": "2025-03-04T21:57:12.825Z"
   },
   {
    "duration": 12,
    "start_time": "2025-03-04T21:57:13.006Z"
   },
   {
    "duration": 102,
    "start_time": "2025-03-04T21:57:49.545Z"
   },
   {
    "duration": 421,
    "start_time": "2025-03-04T21:57:53.746Z"
   },
   {
    "duration": 45,
    "start_time": "2025-03-04T21:57:54.169Z"
   },
   {
    "duration": 26,
    "start_time": "2025-03-04T21:57:54.215Z"
   },
   {
    "duration": 18,
    "start_time": "2025-03-04T21:57:54.243Z"
   },
   {
    "duration": 4,
    "start_time": "2025-03-04T21:57:54.263Z"
   },
   {
    "duration": 7,
    "start_time": "2025-03-04T21:57:54.268Z"
   },
   {
    "duration": 11,
    "start_time": "2025-03-04T21:57:54.276Z"
   },
   {
    "duration": 13,
    "start_time": "2025-03-04T21:57:54.288Z"
   },
   {
    "duration": 13,
    "start_time": "2025-03-04T21:57:54.302Z"
   },
   {
    "duration": 51,
    "start_time": "2025-03-04T21:57:54.316Z"
   },
   {
    "duration": 111,
    "start_time": "2025-03-04T21:57:54.369Z"
   },
   {
    "duration": 41,
    "start_time": "2025-03-04T21:57:54.482Z"
   },
   {
    "duration": 49,
    "start_time": "2025-03-04T21:57:54.525Z"
   },
   {
    "duration": 13,
    "start_time": "2025-03-04T21:57:54.577Z"
   },
   {
    "duration": 151,
    "start_time": "2025-03-04T21:57:54.592Z"
   },
   {
    "duration": 17,
    "start_time": "2025-03-04T21:57:54.744Z"
   },
   {
    "duration": 65,
    "start_time": "2025-03-04T21:58:41.044Z"
   },
   {
    "duration": 24,
    "start_time": "2025-03-04T21:58:53.872Z"
   },
   {
    "duration": 12,
    "start_time": "2025-03-04T21:59:22.003Z"
   },
   {
    "duration": 138,
    "start_time": "2025-03-04T21:59:28.844Z"
   },
   {
    "duration": 22,
    "start_time": "2025-03-04T21:59:31.304Z"
   },
   {
    "duration": 11,
    "start_time": "2025-03-04T22:01:09.742Z"
   },
   {
    "duration": 1355,
    "start_time": "2025-03-04T22:02:29.301Z"
   },
   {
    "duration": 51,
    "start_time": "2025-03-04T22:02:43.841Z"
   },
   {
    "duration": 15,
    "start_time": "2025-03-04T22:03:10.975Z"
   },
   {
    "duration": 404,
    "start_time": "2025-03-04T22:05:18.464Z"
   },
   {
    "duration": 45,
    "start_time": "2025-03-04T22:05:18.870Z"
   },
   {
    "duration": 33,
    "start_time": "2025-03-04T22:05:18.916Z"
   },
   {
    "duration": 14,
    "start_time": "2025-03-04T22:05:18.951Z"
   },
   {
    "duration": 4,
    "start_time": "2025-03-04T22:05:18.967Z"
   },
   {
    "duration": 7,
    "start_time": "2025-03-04T22:05:18.973Z"
   },
   {
    "duration": 28,
    "start_time": "2025-03-04T22:05:18.981Z"
   },
   {
    "duration": 13,
    "start_time": "2025-03-04T22:05:19.010Z"
   },
   {
    "duration": 13,
    "start_time": "2025-03-04T22:05:19.024Z"
   },
   {
    "duration": 30,
    "start_time": "2025-03-04T22:05:19.039Z"
   },
   {
    "duration": 165,
    "start_time": "2025-03-04T22:05:19.071Z"
   },
   {
    "duration": 48,
    "start_time": "2025-03-04T22:05:19.237Z"
   },
   {
    "duration": 42,
    "start_time": "2025-03-04T22:05:19.287Z"
   },
   {
    "duration": 57,
    "start_time": "2025-03-04T22:05:19.332Z"
   },
   {
    "duration": 13,
    "start_time": "2025-03-04T22:05:19.390Z"
   },
   {
    "duration": 16,
    "start_time": "2025-03-04T22:41:22.233Z"
   },
   {
    "duration": 14,
    "start_time": "2025-03-04T22:41:29.268Z"
   },
   {
    "duration": 1245,
    "start_time": "2025-03-04T22:42:28.806Z"
   },
   {
    "duration": 10,
    "start_time": "2025-03-04T22:42:43.853Z"
   },
   {
    "duration": 24,
    "start_time": "2025-03-04T22:43:04.268Z"
   },
   {
    "duration": 21,
    "start_time": "2025-03-04T22:43:52.104Z"
   },
   {
    "duration": 30,
    "start_time": "2025-03-04T22:45:44.516Z"
   },
   {
    "duration": 29,
    "start_time": "2025-03-04T22:46:16.372Z"
   },
   {
    "duration": 19,
    "start_time": "2025-03-04T22:46:50.011Z"
   },
   {
    "duration": 22,
    "start_time": "2025-03-04T22:47:27.451Z"
   },
   {
    "duration": 26,
    "start_time": "2025-03-04T22:47:34.887Z"
   },
   {
    "duration": 25,
    "start_time": "2025-03-04T22:47:45.093Z"
   },
   {
    "duration": 19,
    "start_time": "2025-03-04T22:47:59.549Z"
   },
   {
    "duration": 25,
    "start_time": "2025-03-04T22:49:21.795Z"
   },
   {
    "duration": 19,
    "start_time": "2025-03-04T22:49:40.627Z"
   },
   {
    "duration": 24,
    "start_time": "2025-03-04T22:50:49.079Z"
   },
   {
    "duration": 19,
    "start_time": "2025-03-04T22:54:46.250Z"
   },
   {
    "duration": 13,
    "start_time": "2025-03-04T22:54:57.538Z"
   },
   {
    "duration": 10,
    "start_time": "2025-03-04T22:55:07.155Z"
   },
   {
    "duration": 407,
    "start_time": "2025-03-04T22:55:46.764Z"
   },
   {
    "duration": 47,
    "start_time": "2025-03-04T22:55:47.173Z"
   },
   {
    "duration": 26,
    "start_time": "2025-03-04T22:55:47.221Z"
   },
   {
    "duration": 60,
    "start_time": "2025-03-04T22:55:47.249Z"
   },
   {
    "duration": 5,
    "start_time": "2025-03-04T22:55:47.311Z"
   },
   {
    "duration": 11,
    "start_time": "2025-03-04T22:55:47.317Z"
   },
   {
    "duration": 12,
    "start_time": "2025-03-04T22:55:47.330Z"
   },
   {
    "duration": 13,
    "start_time": "2025-03-04T22:55:47.343Z"
   },
   {
    "duration": 13,
    "start_time": "2025-03-04T22:55:47.358Z"
   },
   {
    "duration": 14,
    "start_time": "2025-03-04T22:55:47.373Z"
   },
   {
    "duration": 123,
    "start_time": "2025-03-04T22:55:47.388Z"
   },
   {
    "duration": 47,
    "start_time": "2025-03-04T22:55:47.512Z"
   },
   {
    "duration": 42,
    "start_time": "2025-03-04T22:55:47.561Z"
   },
   {
    "duration": 62,
    "start_time": "2025-03-04T22:55:47.605Z"
   },
   {
    "duration": 13,
    "start_time": "2025-03-04T22:55:47.669Z"
   },
   {
    "duration": 14,
    "start_time": "2025-03-04T22:55:47.683Z"
   },
   {
    "duration": 19,
    "start_time": "2025-03-04T22:55:47.698Z"
   },
   {
    "duration": 40,
    "start_time": "2025-03-04T22:55:47.718Z"
   },
   {
    "duration": 11,
    "start_time": "2025-03-04T22:57:14.186Z"
   },
   {
    "duration": 17,
    "start_time": "2025-03-04T22:57:40.685Z"
   },
   {
    "duration": 22,
    "start_time": "2025-03-04T22:58:11.495Z"
   },
   {
    "duration": 21,
    "start_time": "2025-03-04T22:59:03.022Z"
   },
   {
    "duration": 21,
    "start_time": "2025-03-04T22:59:57.484Z"
   },
   {
    "duration": 22,
    "start_time": "2025-03-04T23:00:25.658Z"
   },
   {
    "duration": 4,
    "start_time": "2025-03-04T23:03:20.865Z"
   },
   {
    "duration": 71,
    "start_time": "2025-03-04T23:03:31.248Z"
   },
   {
    "duration": 12,
    "start_time": "2025-03-04T23:03:45.265Z"
   },
   {
    "duration": 12,
    "start_time": "2025-03-04T23:04:39.246Z"
   },
   {
    "duration": 381,
    "start_time": "2025-03-04T23:05:08.082Z"
   },
   {
    "duration": 44,
    "start_time": "2025-03-04T23:05:08.465Z"
   },
   {
    "duration": 26,
    "start_time": "2025-03-04T23:05:08.511Z"
   },
   {
    "duration": 21,
    "start_time": "2025-03-04T23:05:08.539Z"
   },
   {
    "duration": 5,
    "start_time": "2025-03-04T23:05:08.562Z"
   },
   {
    "duration": 7,
    "start_time": "2025-03-04T23:05:08.568Z"
   },
   {
    "duration": 11,
    "start_time": "2025-03-04T23:05:08.576Z"
   },
   {
    "duration": 13,
    "start_time": "2025-03-04T23:05:08.588Z"
   },
   {
    "duration": 13,
    "start_time": "2025-03-04T23:05:08.603Z"
   },
   {
    "duration": 46,
    "start_time": "2025-03-04T23:05:08.617Z"
   },
   {
    "duration": 115,
    "start_time": "2025-03-04T23:05:08.665Z"
   },
   {
    "duration": 43,
    "start_time": "2025-03-04T23:05:08.782Z"
   },
   {
    "duration": 55,
    "start_time": "2025-03-04T23:05:08.827Z"
   },
   {
    "duration": 47,
    "start_time": "2025-03-04T23:05:08.885Z"
   },
   {
    "duration": 23,
    "start_time": "2025-03-04T23:05:08.934Z"
   },
   {
    "duration": 36,
    "start_time": "2025-03-04T23:05:08.959Z"
   },
   {
    "duration": 57,
    "start_time": "2025-03-04T23:05:08.997Z"
   },
   {
    "duration": 15,
    "start_time": "2025-03-04T23:05:09.055Z"
   },
   {
    "duration": 3,
    "start_time": "2025-03-04T23:05:09.071Z"
   },
   {
    "duration": 64,
    "start_time": "2025-03-05T16:04:02.024Z"
   },
   {
    "duration": 422,
    "start_time": "2025-03-05T16:04:06.884Z"
   },
   {
    "duration": 51,
    "start_time": "2025-03-05T16:04:07.308Z"
   },
   {
    "duration": 29,
    "start_time": "2025-03-05T16:04:07.361Z"
   },
   {
    "duration": 23,
    "start_time": "2025-03-05T16:04:07.392Z"
   },
   {
    "duration": 25,
    "start_time": "2025-03-05T16:04:07.417Z"
   },
   {
    "duration": 10,
    "start_time": "2025-03-05T16:04:07.444Z"
   },
   {
    "duration": 32,
    "start_time": "2025-03-05T16:04:07.456Z"
   },
   {
    "duration": 38,
    "start_time": "2025-03-05T16:04:07.490Z"
   },
   {
    "duration": 18,
    "start_time": "2025-03-05T16:04:07.534Z"
   },
   {
    "duration": 29,
    "start_time": "2025-03-05T16:04:07.554Z"
   },
   {
    "duration": 165,
    "start_time": "2025-03-05T16:04:07.585Z"
   },
   {
    "duration": 61,
    "start_time": "2025-03-05T16:04:07.752Z"
   },
   {
    "duration": 70,
    "start_time": "2025-03-05T16:04:07.814Z"
   },
   {
    "duration": 67,
    "start_time": "2025-03-05T16:04:07.886Z"
   },
   {
    "duration": 15,
    "start_time": "2025-03-05T16:04:07.955Z"
   },
   {
    "duration": 30,
    "start_time": "2025-03-05T16:04:07.972Z"
   },
   {
    "duration": 36,
    "start_time": "2025-03-05T16:04:08.004Z"
   },
   {
    "duration": 41,
    "start_time": "2025-03-05T16:04:08.042Z"
   },
   {
    "duration": 9674,
    "start_time": "2025-03-05T16:04:08.084Z"
   },
   {
    "duration": 9460,
    "start_time": "2025-03-05T16:04:30.338Z"
   },
   {
    "duration": 13177,
    "start_time": "2025-03-05T16:05:06.999Z"
   },
   {
    "duration": 12771,
    "start_time": "2025-03-05T16:06:13.409Z"
   },
   {
    "duration": 7,
    "start_time": "2025-03-05T16:22:02.170Z"
   },
   {
    "duration": 586,
    "start_time": "2025-03-05T16:22:11.580Z"
   },
   {
    "duration": 303,
    "start_time": "2025-03-05T16:22:33.444Z"
   },
   {
    "duration": 280,
    "start_time": "2025-03-05T16:22:40.492Z"
   },
   {
    "duration": 212,
    "start_time": "2025-03-05T16:22:45.586Z"
   },
   {
    "duration": 285,
    "start_time": "2025-03-05T16:24:44.751Z"
   },
   {
    "duration": 84,
    "start_time": "2025-03-05T16:26:02.323Z"
   },
   {
    "duration": 8,
    "start_time": "2025-03-05T16:26:06.978Z"
   },
   {
    "duration": 8,
    "start_time": "2025-03-05T16:26:31.278Z"
   },
   {
    "duration": 23,
    "start_time": "2025-03-05T16:28:15.792Z"
   },
   {
    "duration": 2,
    "start_time": "2025-03-05T16:28:57.477Z"
   },
   {
    "duration": 24846,
    "start_time": "2025-03-05T16:29:09.788Z"
   },
   {
    "duration": 28,
    "start_time": "2025-03-05T16:29:35.752Z"
   },
   {
    "duration": 29,
    "start_time": "2025-03-05T16:29:52.120Z"
   },
   {
    "duration": 9,
    "start_time": "2025-03-05T16:30:30.181Z"
   },
   {
    "duration": 10,
    "start_time": "2025-03-05T16:30:34.385Z"
   },
   {
    "duration": 18,
    "start_time": "2025-03-05T16:30:40.240Z"
   },
   {
    "duration": 171,
    "start_time": "2025-03-05T16:30:48.614Z"
   },
   {
    "duration": 155,
    "start_time": "2025-03-05T16:31:07.448Z"
   },
   {
    "duration": 5,
    "start_time": "2025-03-05T16:33:55.349Z"
   },
   {
    "duration": 150,
    "start_time": "2025-03-05T16:35:43.757Z"
   },
   {
    "duration": 3,
    "start_time": "2025-03-05T16:36:06.654Z"
   },
   {
    "duration": 154,
    "start_time": "2025-03-05T16:36:09.380Z"
   },
   {
    "duration": 2,
    "start_time": "2025-03-05T16:36:27.586Z"
   },
   {
    "duration": 159,
    "start_time": "2025-03-05T16:36:31.123Z"
   },
   {
    "duration": 171,
    "start_time": "2025-03-05T16:36:35.040Z"
   },
   {
    "duration": 903,
    "start_time": "2025-03-05T16:39:01.221Z"
   },
   {
    "duration": 37,
    "start_time": "2025-03-05T16:41:12.585Z"
   },
   {
    "duration": 5,
    "start_time": "2025-03-05T16:41:26.649Z"
   },
   {
    "duration": 8,
    "start_time": "2025-03-05T16:41:31.181Z"
   },
   {
    "duration": 8,
    "start_time": "2025-03-05T16:41:52.597Z"
   },
   {
    "duration": 19,
    "start_time": "2025-03-05T16:42:17.405Z"
   },
   {
    "duration": 7,
    "start_time": "2025-03-05T16:42:43.217Z"
   },
   {
    "duration": 11,
    "start_time": "2025-03-05T16:43:02.056Z"
   },
   {
    "duration": 13,
    "start_time": "2025-03-05T16:43:06.741Z"
   },
   {
    "duration": 11,
    "start_time": "2025-03-05T16:43:26.930Z"
   },
   {
    "duration": 8,
    "start_time": "2025-03-05T16:43:29.515Z"
   },
   {
    "duration": 8,
    "start_time": "2025-03-05T16:43:35.420Z"
   },
   {
    "duration": 8,
    "start_time": "2025-03-05T16:43:39.905Z"
   },
   {
    "duration": 12,
    "start_time": "2025-03-05T16:44:14.319Z"
   },
   {
    "duration": 264,
    "start_time": "2025-03-05T16:45:19.622Z"
   },
   {
    "duration": 286,
    "start_time": "2025-03-05T16:49:31.385Z"
   },
   {
    "duration": 284,
    "start_time": "2025-03-05T16:50:21.266Z"
   },
   {
    "duration": 222,
    "start_time": "2025-03-05T16:53:37.980Z"
   },
   {
    "duration": 26,
    "start_time": "2025-03-05T17:02:09.220Z"
   },
   {
    "duration": 4,
    "start_time": "2025-03-05T17:02:57.430Z"
   },
   {
    "duration": 6,
    "start_time": "2025-03-05T17:03:01.394Z"
   },
   {
    "duration": 1182,
    "start_time": "2025-03-05T17:03:19.548Z"
   },
   {
    "duration": 53,
    "start_time": "2025-03-05T17:03:20.732Z"
   },
   {
    "duration": 23,
    "start_time": "2025-03-05T17:03:20.787Z"
   },
   {
    "duration": 14,
    "start_time": "2025-03-05T17:03:20.812Z"
   },
   {
    "duration": 12,
    "start_time": "2025-03-05T17:03:20.828Z"
   },
   {
    "duration": 24,
    "start_time": "2025-03-05T17:03:20.842Z"
   },
   {
    "duration": 54,
    "start_time": "2025-03-05T17:03:20.868Z"
   },
   {
    "duration": 39,
    "start_time": "2025-03-05T17:03:20.924Z"
   },
   {
    "duration": 14,
    "start_time": "2025-03-05T17:03:20.964Z"
   },
   {
    "duration": 16,
    "start_time": "2025-03-05T17:03:20.980Z"
   },
   {
    "duration": 106,
    "start_time": "2025-03-05T17:03:20.997Z"
   },
   {
    "duration": 45,
    "start_time": "2025-03-05T17:03:21.105Z"
   },
   {
    "duration": 42,
    "start_time": "2025-03-05T17:03:21.152Z"
   },
   {
    "duration": 61,
    "start_time": "2025-03-05T17:03:21.195Z"
   },
   {
    "duration": 13,
    "start_time": "2025-03-05T17:03:21.258Z"
   },
   {
    "duration": 71,
    "start_time": "2025-03-05T17:03:21.272Z"
   },
   {
    "duration": 133,
    "start_time": "2025-03-05T17:03:21.345Z"
   },
   {
    "duration": 18,
    "start_time": "2025-03-05T17:03:21.480Z"
   },
   {
    "duration": 12223,
    "start_time": "2025-03-05T17:03:21.500Z"
   },
   {
    "duration": 171,
    "start_time": "2025-03-05T17:03:33.729Z"
   },
   {
    "duration": 8,
    "start_time": "2025-03-05T17:03:33.901Z"
   },
   {
    "duration": 53,
    "start_time": "2025-03-05T17:03:33.910Z"
   },
   {
    "duration": 250,
    "start_time": "2025-03-05T17:03:33.965Z"
   },
   {
    "duration": 98,
    "start_time": "2025-03-05T17:03:48.397Z"
   },
   {
    "duration": 26,
    "start_time": "2025-03-05T17:04:46.617Z"
   },
   {
    "duration": 8,
    "start_time": "2025-03-05T17:05:24.384Z"
   },
   {
    "duration": 9,
    "start_time": "2025-03-05T17:06:22.690Z"
   },
   {
    "duration": 2,
    "start_time": "2025-03-05T17:06:38.362Z"
   },
   {
    "duration": 6,
    "start_time": "2025-03-05T17:07:01.745Z"
   },
   {
    "duration": 23,
    "start_time": "2025-03-05T17:07:06.092Z"
   },
   {
    "duration": 9,
    "start_time": "2025-03-05T17:08:04.064Z"
   },
   {
    "duration": 13,
    "start_time": "2025-03-05T17:08:08.627Z"
   },
   {
    "duration": 132,
    "start_time": "2025-03-05T17:08:29.722Z"
   },
   {
    "duration": 391,
    "start_time": "2025-03-05T17:09:46.110Z"
   },
   {
    "duration": 189,
    "start_time": "2025-03-05T17:10:07.056Z"
   },
   {
    "duration": 250,
    "start_time": "2025-03-05T17:10:27.580Z"
   },
   {
    "duration": 199,
    "start_time": "2025-03-05T17:10:35.295Z"
   },
   {
    "duration": 290,
    "start_time": "2025-03-05T17:11:01.897Z"
   },
   {
    "duration": 223,
    "start_time": "2025-03-05T17:12:12.322Z"
   },
   {
    "duration": 219,
    "start_time": "2025-03-05T17:14:17.280Z"
   },
   {
    "duration": 16,
    "start_time": "2025-03-05T17:17:07.662Z"
   },
   {
    "duration": 25,
    "start_time": "2025-03-05T17:18:17.623Z"
   },
   {
    "duration": 22,
    "start_time": "2025-03-05T17:18:50.635Z"
   },
   {
    "duration": 1060,
    "start_time": "2025-03-05T17:18:57.385Z"
   },
   {
    "duration": 43,
    "start_time": "2025-03-05T17:18:58.447Z"
   },
   {
    "duration": 23,
    "start_time": "2025-03-05T17:18:58.492Z"
   },
   {
    "duration": 20,
    "start_time": "2025-03-05T17:18:58.517Z"
   },
   {
    "duration": 8,
    "start_time": "2025-03-05T17:18:58.538Z"
   },
   {
    "duration": 7,
    "start_time": "2025-03-05T17:18:58.547Z"
   },
   {
    "duration": 12,
    "start_time": "2025-03-05T17:18:58.555Z"
   },
   {
    "duration": 12,
    "start_time": "2025-03-05T17:18:58.568Z"
   },
   {
    "duration": 13,
    "start_time": "2025-03-05T17:18:58.581Z"
   },
   {
    "duration": 44,
    "start_time": "2025-03-05T17:18:58.597Z"
   },
   {
    "duration": 113,
    "start_time": "2025-03-05T17:18:58.642Z"
   },
   {
    "duration": 43,
    "start_time": "2025-03-05T17:18:58.757Z"
   },
   {
    "duration": 63,
    "start_time": "2025-03-05T17:18:58.802Z"
   },
   {
    "duration": 50,
    "start_time": "2025-03-05T17:18:58.866Z"
   },
   {
    "duration": 22,
    "start_time": "2025-03-05T17:18:58.918Z"
   },
   {
    "duration": 14,
    "start_time": "2025-03-05T17:18:58.941Z"
   },
   {
    "duration": 17,
    "start_time": "2025-03-05T17:18:58.957Z"
   },
   {
    "duration": 13,
    "start_time": "2025-03-05T17:18:58.975Z"
   },
   {
    "duration": 56,
    "start_time": "2025-03-05T17:18:58.989Z"
   },
   {
    "duration": 11500,
    "start_time": "2025-03-05T17:18:59.046Z"
   },
   {
    "duration": 185,
    "start_time": "2025-03-05T17:19:10.548Z"
   },
   {
    "duration": 8,
    "start_time": "2025-03-05T17:19:10.734Z"
   },
   {
    "duration": 271,
    "start_time": "2025-03-05T17:19:10.744Z"
   },
   {
    "duration": 26,
    "start_time": "2025-03-05T17:19:11.016Z"
   },
   {
    "duration": 13,
    "start_time": "2025-03-05T17:19:11.043Z"
   },
   {
    "duration": 10355,
    "start_time": "2025-03-05T17:19:50.003Z"
   },
   {
    "duration": 10137,
    "start_time": "2025-03-05T17:20:24.837Z"
   },
   {
    "duration": 1133,
    "start_time": "2025-03-05T17:20:44.109Z"
   },
   {
    "duration": 43,
    "start_time": "2025-03-05T17:20:45.244Z"
   },
   {
    "duration": 24,
    "start_time": "2025-03-05T17:20:45.288Z"
   },
   {
    "duration": 63,
    "start_time": "2025-03-05T17:20:45.314Z"
   },
   {
    "duration": 5,
    "start_time": "2025-03-05T17:20:45.378Z"
   },
   {
    "duration": 120,
    "start_time": "2025-03-05T17:20:45.384Z"
   },
   {
    "duration": 49,
    "start_time": "2025-03-05T17:20:45.505Z"
   },
   {
    "duration": 15,
    "start_time": "2025-03-05T17:20:45.556Z"
   },
   {
    "duration": 13,
    "start_time": "2025-03-05T17:20:45.573Z"
   },
   {
    "duration": 12,
    "start_time": "2025-03-05T17:20:45.588Z"
   },
   {
    "duration": 109,
    "start_time": "2025-03-05T17:20:45.602Z"
   },
   {
    "duration": 50,
    "start_time": "2025-03-05T17:20:45.713Z"
   },
   {
    "duration": 41,
    "start_time": "2025-03-05T17:20:45.765Z"
   },
   {
    "duration": 63,
    "start_time": "2025-03-05T17:20:45.808Z"
   },
   {
    "duration": 12,
    "start_time": "2025-03-05T17:20:45.873Z"
   },
   {
    "duration": 126,
    "start_time": "2025-03-05T17:20:45.886Z"
   },
   {
    "duration": 18,
    "start_time": "2025-03-05T17:20:46.014Z"
   },
   {
    "duration": 22,
    "start_time": "2025-03-05T17:20:46.033Z"
   },
   {
    "duration": 11458,
    "start_time": "2025-03-05T17:20:46.056Z"
   },
   {
    "duration": 172,
    "start_time": "2025-03-05T17:20:57.515Z"
   },
   {
    "duration": 7,
    "start_time": "2025-03-05T17:20:57.689Z"
   },
   {
    "duration": 249,
    "start_time": "2025-03-05T17:20:57.697Z"
   },
   {
    "duration": 24,
    "start_time": "2025-03-05T17:20:57.948Z"
   },
   {
    "duration": 44,
    "start_time": "2025-03-05T17:20:57.974Z"
   },
   {
    "duration": 7,
    "start_time": "2025-03-05T17:23:48.398Z"
   },
   {
    "duration": 10,
    "start_time": "2025-03-05T17:23:54.957Z"
   },
   {
    "duration": 1154,
    "start_time": "2025-03-05T17:24:02.191Z"
   },
   {
    "duration": 44,
    "start_time": "2025-03-05T17:24:03.347Z"
   },
   {
    "duration": 76,
    "start_time": "2025-03-05T17:24:03.392Z"
   },
   {
    "duration": 61,
    "start_time": "2025-03-05T17:24:03.470Z"
   },
   {
    "duration": 5,
    "start_time": "2025-03-05T17:24:03.533Z"
   },
   {
    "duration": 18,
    "start_time": "2025-03-05T17:24:03.540Z"
   },
   {
    "duration": 13,
    "start_time": "2025-03-05T17:24:03.560Z"
   },
   {
    "duration": 34,
    "start_time": "2025-03-05T17:24:03.575Z"
   },
   {
    "duration": 15,
    "start_time": "2025-03-05T17:24:03.610Z"
   },
   {
    "duration": 14,
    "start_time": "2025-03-05T17:24:03.628Z"
   },
   {
    "duration": 118,
    "start_time": "2025-03-05T17:24:03.643Z"
   },
   {
    "duration": 46,
    "start_time": "2025-03-05T17:24:03.763Z"
   },
   {
    "duration": 52,
    "start_time": "2025-03-05T17:24:03.810Z"
   },
   {
    "duration": 50,
    "start_time": "2025-03-05T17:24:03.864Z"
   },
   {
    "duration": 85,
    "start_time": "2025-03-05T17:24:03.915Z"
   },
   {
    "duration": 23,
    "start_time": "2025-03-05T17:24:04.003Z"
   },
   {
    "duration": 28,
    "start_time": "2025-03-05T17:24:04.028Z"
   },
   {
    "duration": 18,
    "start_time": "2025-03-05T17:24:04.058Z"
   },
   {
    "duration": 11517,
    "start_time": "2025-03-05T17:24:04.078Z"
   },
   {
    "duration": 173,
    "start_time": "2025-03-05T17:24:15.597Z"
   },
   {
    "duration": 8,
    "start_time": "2025-03-05T17:24:15.772Z"
   },
   {
    "duration": 245,
    "start_time": "2025-03-05T17:24:15.781Z"
   },
   {
    "duration": 17,
    "start_time": "2025-03-05T17:24:16.028Z"
   },
   {
    "duration": 20,
    "start_time": "2025-03-05T17:24:16.046Z"
   },
   {
    "duration": 99,
    "start_time": "2025-03-05T17:28:16.478Z"
   },
   {
    "duration": 16,
    "start_time": "2025-03-05T17:28:24.518Z"
   },
   {
    "duration": 13,
    "start_time": "2025-03-05T17:28:38.289Z"
   },
   {
    "duration": 13,
    "start_time": "2025-03-05T17:28:47.139Z"
   },
   {
    "duration": 22,
    "start_time": "2025-03-05T17:28:59.419Z"
   },
   {
    "duration": 12,
    "start_time": "2025-03-05T17:29:54.311Z"
   },
   {
    "duration": 12,
    "start_time": "2025-03-05T17:29:58.286Z"
   },
   {
    "duration": 1187,
    "start_time": "2025-03-05T17:30:04.743Z"
   },
   {
    "duration": 45,
    "start_time": "2025-03-05T17:30:05.932Z"
   },
   {
    "duration": 62,
    "start_time": "2025-03-05T17:30:05.979Z"
   },
   {
    "duration": 15,
    "start_time": "2025-03-05T17:30:06.042Z"
   },
   {
    "duration": 4,
    "start_time": "2025-03-05T17:30:06.060Z"
   },
   {
    "duration": 8,
    "start_time": "2025-03-05T17:30:06.066Z"
   },
   {
    "duration": 25,
    "start_time": "2025-03-05T17:30:06.075Z"
   },
   {
    "duration": 11,
    "start_time": "2025-03-05T17:30:06.102Z"
   },
   {
    "duration": 14,
    "start_time": "2025-03-05T17:30:06.131Z"
   },
   {
    "duration": 50,
    "start_time": "2025-03-05T17:30:06.146Z"
   },
   {
    "duration": 104,
    "start_time": "2025-03-05T17:30:06.197Z"
   },
   {
    "duration": 47,
    "start_time": "2025-03-05T17:30:06.303Z"
   },
   {
    "duration": 42,
    "start_time": "2025-03-05T17:30:06.352Z"
   },
   {
    "duration": 61,
    "start_time": "2025-03-05T17:30:06.397Z"
   },
   {
    "duration": 13,
    "start_time": "2025-03-05T17:30:06.460Z"
   },
   {
    "duration": 31,
    "start_time": "2025-03-05T17:30:06.474Z"
   },
   {
    "duration": 23,
    "start_time": "2025-03-05T17:30:06.507Z"
   },
   {
    "duration": 14,
    "start_time": "2025-03-05T17:30:06.532Z"
   },
   {
    "duration": 11378,
    "start_time": "2025-03-05T17:30:06.548Z"
   },
   {
    "duration": 177,
    "start_time": "2025-03-05T17:30:17.930Z"
   },
   {
    "duration": 8,
    "start_time": "2025-03-05T17:30:18.108Z"
   },
   {
    "duration": 232,
    "start_time": "2025-03-05T17:30:18.130Z"
   },
   {
    "duration": 16,
    "start_time": "2025-03-05T17:30:18.364Z"
   },
   {
    "duration": 4,
    "start_time": "2025-03-05T17:30:18.381Z"
   },
   {
    "duration": 20,
    "start_time": "2025-03-05T17:30:18.386Z"
   },
   {
    "duration": 212,
    "start_time": "2025-03-05T17:30:33.471Z"
   },
   {
    "duration": 1126,
    "start_time": "2025-03-05T17:30:59.235Z"
   },
   {
    "duration": 45,
    "start_time": "2025-03-05T17:31:00.362Z"
   },
   {
    "duration": 23,
    "start_time": "2025-03-05T17:31:00.409Z"
   },
   {
    "duration": 48,
    "start_time": "2025-03-05T17:31:00.434Z"
   },
   {
    "duration": 12,
    "start_time": "2025-03-05T17:31:00.484Z"
   },
   {
    "duration": 18,
    "start_time": "2025-03-05T17:31:00.497Z"
   },
   {
    "duration": 15,
    "start_time": "2025-03-05T17:31:00.516Z"
   },
   {
    "duration": 29,
    "start_time": "2025-03-05T17:31:00.532Z"
   },
   {
    "duration": 45,
    "start_time": "2025-03-05T17:31:00.563Z"
   },
   {
    "duration": 17,
    "start_time": "2025-03-05T17:31:00.610Z"
   },
   {
    "duration": 108,
    "start_time": "2025-03-05T17:31:00.629Z"
   },
   {
    "duration": 43,
    "start_time": "2025-03-05T17:31:00.739Z"
   },
   {
    "duration": 55,
    "start_time": "2025-03-05T17:31:00.784Z"
   },
   {
    "duration": 49,
    "start_time": "2025-03-05T17:31:00.841Z"
   },
   {
    "duration": 13,
    "start_time": "2025-03-05T17:31:00.891Z"
   },
   {
    "duration": 31,
    "start_time": "2025-03-05T17:31:00.905Z"
   },
   {
    "duration": 19,
    "start_time": "2025-03-05T17:31:00.937Z"
   },
   {
    "duration": 14,
    "start_time": "2025-03-05T17:31:00.957Z"
   },
   {
    "duration": 12175,
    "start_time": "2025-03-05T17:31:00.972Z"
   },
   {
    "duration": 185,
    "start_time": "2025-03-05T17:31:13.149Z"
   },
   {
    "duration": 9,
    "start_time": "2025-03-05T17:31:13.336Z"
   },
   {
    "duration": 424,
    "start_time": "2025-03-05T17:31:13.346Z"
   },
   {
    "duration": 16,
    "start_time": "2025-03-05T17:31:13.772Z"
   },
   {
    "duration": 38,
    "start_time": "2025-03-05T17:31:13.790Z"
   },
   {
    "duration": 243,
    "start_time": "2025-03-05T17:31:13.830Z"
   },
   {
    "duration": 13,
    "start_time": "2025-03-05T17:31:14.075Z"
   },
   {
    "duration": 1223,
    "start_time": "2025-03-05T17:32:05.643Z"
   },
   {
    "duration": 45,
    "start_time": "2025-03-05T17:32:06.868Z"
   },
   {
    "duration": 23,
    "start_time": "2025-03-05T17:32:06.915Z"
   },
   {
    "duration": 39,
    "start_time": "2025-03-05T17:32:06.941Z"
   },
   {
    "duration": 5,
    "start_time": "2025-03-05T17:32:06.982Z"
   },
   {
    "duration": 16,
    "start_time": "2025-03-05T17:32:06.988Z"
   },
   {
    "duration": 22,
    "start_time": "2025-03-05T17:32:07.006Z"
   },
   {
    "duration": 41,
    "start_time": "2025-03-05T17:32:07.030Z"
   },
   {
    "duration": 15,
    "start_time": "2025-03-05T17:32:07.072Z"
   },
   {
    "duration": 14,
    "start_time": "2025-03-05T17:32:07.090Z"
   },
   {
    "duration": 106,
    "start_time": "2025-03-05T17:32:07.105Z"
   },
   {
    "duration": 51,
    "start_time": "2025-03-05T17:32:07.212Z"
   },
   {
    "duration": 44,
    "start_time": "2025-03-05T17:32:07.264Z"
   },
   {
    "duration": 63,
    "start_time": "2025-03-05T17:32:07.309Z"
   },
   {
    "duration": 54,
    "start_time": "2025-03-05T17:32:07.374Z"
   },
   {
    "duration": 126,
    "start_time": "2025-03-05T17:32:07.429Z"
   },
   {
    "duration": 28,
    "start_time": "2025-03-05T17:32:07.557Z"
   },
   {
    "duration": 15,
    "start_time": "2025-03-05T17:32:07.587Z"
   },
   {
    "duration": 11616,
    "start_time": "2025-03-05T17:32:07.603Z"
   },
   {
    "duration": 181,
    "start_time": "2025-03-05T17:32:19.220Z"
   },
   {
    "duration": 8,
    "start_time": "2025-03-05T17:32:19.402Z"
   },
   {
    "duration": 359,
    "start_time": "2025-03-05T17:32:19.411Z"
   },
   {
    "duration": 16,
    "start_time": "2025-03-05T17:32:19.772Z"
   },
   {
    "duration": 100,
    "start_time": "2025-03-05T17:32:19.789Z"
   },
   {
    "duration": 0,
    "start_time": "2025-03-05T17:32:19.890Z"
   },
   {
    "duration": 0,
    "start_time": "2025-03-05T17:32:19.891Z"
   },
   {
    "duration": 17,
    "start_time": "2025-03-05T17:32:54.216Z"
   },
   {
    "duration": 1239,
    "start_time": "2025-03-05T17:32:58.901Z"
   },
   {
    "duration": 46,
    "start_time": "2025-03-05T17:33:00.142Z"
   },
   {
    "duration": 25,
    "start_time": "2025-03-05T17:33:00.190Z"
   },
   {
    "duration": 23,
    "start_time": "2025-03-05T17:33:00.217Z"
   },
   {
    "duration": 23,
    "start_time": "2025-03-05T17:33:00.242Z"
   },
   {
    "duration": 35,
    "start_time": "2025-03-05T17:33:00.266Z"
   },
   {
    "duration": 49,
    "start_time": "2025-03-05T17:33:00.303Z"
   },
   {
    "duration": 17,
    "start_time": "2025-03-05T17:33:00.355Z"
   },
   {
    "duration": 15,
    "start_time": "2025-03-05T17:33:00.374Z"
   },
   {
    "duration": 14,
    "start_time": "2025-03-05T17:33:00.392Z"
   },
   {
    "duration": 124,
    "start_time": "2025-03-05T17:33:00.407Z"
   },
   {
    "duration": 44,
    "start_time": "2025-03-05T17:33:00.533Z"
   },
   {
    "duration": 55,
    "start_time": "2025-03-05T17:33:00.578Z"
   },
   {
    "duration": 49,
    "start_time": "2025-03-05T17:33:00.634Z"
   },
   {
    "duration": 12,
    "start_time": "2025-03-05T17:33:00.685Z"
   },
   {
    "duration": 39,
    "start_time": "2025-03-05T17:33:00.699Z"
   },
   {
    "duration": 19,
    "start_time": "2025-03-05T17:33:00.739Z"
   },
   {
    "duration": 23,
    "start_time": "2025-03-05T17:33:00.760Z"
   },
   {
    "duration": 11973,
    "start_time": "2025-03-05T17:33:00.785Z"
   },
   {
    "duration": 181,
    "start_time": "2025-03-05T17:33:12.760Z"
   },
   {
    "duration": 7,
    "start_time": "2025-03-05T17:33:12.943Z"
   },
   {
    "duration": 246,
    "start_time": "2025-03-05T17:33:12.952Z"
   },
   {
    "duration": 17,
    "start_time": "2025-03-05T17:33:13.200Z"
   },
   {
    "duration": 15,
    "start_time": "2025-03-05T17:33:13.218Z"
   },
   {
    "duration": 217,
    "start_time": "2025-03-05T17:33:13.235Z"
   },
   {
    "duration": 14,
    "start_time": "2025-03-05T17:33:13.453Z"
   },
   {
    "duration": 1228,
    "start_time": "2025-03-05T17:34:06.107Z"
   },
   {
    "duration": 45,
    "start_time": "2025-03-05T17:34:07.337Z"
   },
   {
    "duration": 179,
    "start_time": "2025-03-05T17:34:07.383Z"
   },
   {
    "duration": 23,
    "start_time": "2025-03-05T17:34:07.564Z"
   },
   {
    "duration": 7,
    "start_time": "2025-03-05T17:34:07.588Z"
   },
   {
    "duration": 24,
    "start_time": "2025-03-05T17:34:07.597Z"
   },
   {
    "duration": 14,
    "start_time": "2025-03-05T17:34:07.623Z"
   },
   {
    "duration": 31,
    "start_time": "2025-03-05T17:34:07.639Z"
   },
   {
    "duration": 14,
    "start_time": "2025-03-05T17:34:07.671Z"
   },
   {
    "duration": 14,
    "start_time": "2025-03-05T17:34:07.687Z"
   },
   {
    "duration": 111,
    "start_time": "2025-03-05T17:34:07.703Z"
   },
   {
    "duration": 51,
    "start_time": "2025-03-05T17:34:07.815Z"
   },
   {
    "duration": 46,
    "start_time": "2025-03-05T17:34:07.867Z"
   },
   {
    "duration": 61,
    "start_time": "2025-03-05T17:34:07.915Z"
   },
   {
    "duration": 67,
    "start_time": "2025-03-05T17:34:07.977Z"
   },
   {
    "duration": 15,
    "start_time": "2025-03-05T17:34:08.046Z"
   },
   {
    "duration": 22,
    "start_time": "2025-03-05T17:34:08.063Z"
   },
   {
    "duration": 16,
    "start_time": "2025-03-05T17:34:08.087Z"
   },
   {
    "duration": 11552,
    "start_time": "2025-03-05T17:34:08.104Z"
   },
   {
    "duration": 178,
    "start_time": "2025-03-05T17:34:19.657Z"
   },
   {
    "duration": 9,
    "start_time": "2025-03-05T17:34:19.836Z"
   },
   {
    "duration": 280,
    "start_time": "2025-03-05T17:34:19.846Z"
   },
   {
    "duration": 17,
    "start_time": "2025-03-05T17:34:20.129Z"
   },
   {
    "duration": 226,
    "start_time": "2025-03-05T17:34:20.148Z"
   },
   {
    "duration": 15,
    "start_time": "2025-03-05T17:34:20.376Z"
   },
   {
    "duration": 51,
    "start_time": "2025-03-05T19:25:37.001Z"
   },
   {
    "duration": 1311,
    "start_time": "2025-03-05T19:25:44.217Z"
   },
   {
    "duration": 48,
    "start_time": "2025-03-05T19:25:45.530Z"
   },
   {
    "duration": 25,
    "start_time": "2025-03-05T19:25:45.580Z"
   },
   {
    "duration": 14,
    "start_time": "2025-03-05T19:25:45.607Z"
   },
   {
    "duration": 7,
    "start_time": "2025-03-05T19:25:45.622Z"
   },
   {
    "duration": 10,
    "start_time": "2025-03-05T19:25:45.631Z"
   },
   {
    "duration": 18,
    "start_time": "2025-03-05T19:25:45.643Z"
   },
   {
    "duration": 14,
    "start_time": "2025-03-05T19:25:45.675Z"
   },
   {
    "duration": 17,
    "start_time": "2025-03-05T19:25:45.690Z"
   },
   {
    "duration": 14,
    "start_time": "2025-03-05T19:25:45.709Z"
   },
   {
    "duration": 129,
    "start_time": "2025-03-05T19:25:45.724Z"
   },
   {
    "duration": 53,
    "start_time": "2025-03-05T19:25:45.854Z"
   },
   {
    "duration": 43,
    "start_time": "2025-03-05T19:25:45.909Z"
   },
   {
    "duration": 66,
    "start_time": "2025-03-05T19:25:45.954Z"
   },
   {
    "duration": 13,
    "start_time": "2025-03-05T19:25:46.022Z"
   },
   {
    "duration": 15,
    "start_time": "2025-03-05T19:25:46.036Z"
   },
   {
    "duration": 41,
    "start_time": "2025-03-05T19:25:46.053Z"
   },
   {
    "duration": 16,
    "start_time": "2025-03-05T19:25:46.095Z"
   },
   {
    "duration": 12796,
    "start_time": "2025-03-05T19:25:46.113Z"
   },
   {
    "duration": 183,
    "start_time": "2025-03-05T19:25:58.910Z"
   },
   {
    "duration": 9,
    "start_time": "2025-03-05T19:25:59.095Z"
   },
   {
    "duration": 265,
    "start_time": "2025-03-05T19:25:59.106Z"
   },
   {
    "duration": 17,
    "start_time": "2025-03-05T19:25:59.373Z"
   },
   {
    "duration": 229,
    "start_time": "2025-03-05T19:25:59.391Z"
   },
   {
    "duration": 7,
    "start_time": "2025-03-05T19:25:59.621Z"
   },
   {
    "duration": 16,
    "start_time": "2025-03-05T19:26:18.143Z"
   },
   {
    "duration": 19,
    "start_time": "2025-03-05T19:27:58.415Z"
   },
   {
    "duration": 20,
    "start_time": "2025-03-05T19:28:18.264Z"
   },
   {
    "duration": 23,
    "start_time": "2025-03-05T19:33:26.360Z"
   },
   {
    "duration": 7,
    "start_time": "2025-03-05T19:34:31.604Z"
   },
   {
    "duration": 25,
    "start_time": "2025-03-05T19:34:37.670Z"
   },
   {
    "duration": 24,
    "start_time": "2025-03-05T19:35:10.165Z"
   },
   {
    "duration": 24,
    "start_time": "2025-03-05T19:39:30.380Z"
   },
   {
    "duration": 100,
    "start_time": "2025-03-05T19:39:50.198Z"
   },
   {
    "duration": 25,
    "start_time": "2025-03-05T19:40:40.328Z"
   },
   {
    "duration": 20,
    "start_time": "2025-03-05T19:41:00.844Z"
   },
   {
    "duration": 24,
    "start_time": "2025-03-05T19:42:02.847Z"
   },
   {
    "duration": 22,
    "start_time": "2025-03-05T19:42:20.543Z"
   },
   {
    "duration": 26,
    "start_time": "2025-03-05T19:42:32.516Z"
   },
   {
    "duration": 21,
    "start_time": "2025-03-05T19:43:03.593Z"
   },
   {
    "duration": 24,
    "start_time": "2025-03-05T19:44:05.058Z"
   },
   {
    "duration": 24,
    "start_time": "2025-03-05T19:44:12.312Z"
   },
   {
    "duration": 11,
    "start_time": "2025-03-05T19:44:38.414Z"
   },
   {
    "duration": 10,
    "start_time": "2025-03-05T19:45:09.276Z"
   },
   {
    "duration": 5,
    "start_time": "2025-03-05T19:45:12.655Z"
   },
   {
    "duration": 11,
    "start_time": "2025-03-05T19:45:25.342Z"
   },
   {
    "duration": 7,
    "start_time": "2025-03-05T19:45:36.723Z"
   },
   {
    "duration": 127,
    "start_time": "2025-03-05T19:46:16.547Z"
   },
   {
    "duration": 7,
    "start_time": "2025-03-05T19:47:11.738Z"
   },
   {
    "duration": 183,
    "start_time": "2025-03-05T19:51:01.466Z"
   },
   {
    "duration": 7,
    "start_time": "2025-03-05T19:51:36.165Z"
   },
   {
    "duration": 186,
    "start_time": "2025-03-05T19:51:39.995Z"
   },
   {
    "duration": 5,
    "start_time": "2025-03-05T19:51:50.128Z"
   },
   {
    "duration": 6,
    "start_time": "2025-03-05T19:51:59.041Z"
   },
   {
    "duration": 6,
    "start_time": "2025-03-05T19:52:02.715Z"
   },
   {
    "duration": 8,
    "start_time": "2025-03-05T19:52:11.021Z"
   },
   {
    "duration": 6,
    "start_time": "2025-03-05T19:52:14.037Z"
   },
   {
    "duration": 177,
    "start_time": "2025-03-05T19:52:16.649Z"
   },
   {
    "duration": 295,
    "start_time": "2025-03-05T19:53:04.675Z"
   },
   {
    "duration": 188,
    "start_time": "2025-03-05T19:53:14.296Z"
   },
   {
    "duration": 200,
    "start_time": "2025-03-05T19:54:16.035Z"
   },
   {
    "duration": 229,
    "start_time": "2025-03-05T19:54:42.793Z"
   },
   {
    "duration": 12,
    "start_time": "2025-03-05T20:53:59.246Z"
   },
   {
    "duration": 5,
    "start_time": "2025-03-05T20:54:18.294Z"
   },
   {
    "duration": 9,
    "start_time": "2025-03-05T20:55:08.254Z"
   },
   {
    "duration": 9,
    "start_time": "2025-03-05T20:55:21.922Z"
   },
   {
    "duration": 11,
    "start_time": "2025-03-05T20:55:35.654Z"
   },
   {
    "duration": 7,
    "start_time": "2025-03-05T20:55:41.786Z"
   },
   {
    "duration": 11,
    "start_time": "2025-03-05T20:56:00.886Z"
   },
   {
    "duration": 10,
    "start_time": "2025-03-05T20:56:16.185Z"
   },
   {
    "duration": 107,
    "start_time": "2025-03-05T20:56:27.255Z"
   },
   {
    "duration": 95,
    "start_time": "2025-03-05T20:56:51.695Z"
   },
   {
    "duration": 14,
    "start_time": "2025-03-05T20:57:40.346Z"
   },
   {
    "duration": 11,
    "start_time": "2025-03-05T20:57:58.634Z"
   },
   {
    "duration": 10,
    "start_time": "2025-03-05T20:58:04.191Z"
   },
   {
    "duration": 1095,
    "start_time": "2025-03-05T20:58:09.803Z"
   },
   {
    "duration": 46,
    "start_time": "2025-03-05T20:58:10.900Z"
   },
   {
    "duration": 29,
    "start_time": "2025-03-05T20:58:10.947Z"
   },
   {
    "duration": 15,
    "start_time": "2025-03-05T20:58:10.979Z"
   },
   {
    "duration": 6,
    "start_time": "2025-03-05T20:58:10.997Z"
   },
   {
    "duration": 13,
    "start_time": "2025-03-05T20:58:11.005Z"
   },
   {
    "duration": 15,
    "start_time": "2025-03-05T20:58:11.020Z"
   },
   {
    "duration": 14,
    "start_time": "2025-03-05T20:58:11.036Z"
   },
   {
    "duration": 16,
    "start_time": "2025-03-05T20:58:11.076Z"
   },
   {
    "duration": 15,
    "start_time": "2025-03-05T20:58:11.094Z"
   },
   {
    "duration": 132,
    "start_time": "2025-03-05T20:58:11.111Z"
   },
   {
    "duration": 60,
    "start_time": "2025-03-05T20:58:11.245Z"
   },
   {
    "duration": 68,
    "start_time": "2025-03-05T20:58:11.307Z"
   },
   {
    "duration": 49,
    "start_time": "2025-03-05T20:58:11.377Z"
   },
   {
    "duration": 13,
    "start_time": "2025-03-05T20:58:11.427Z"
   },
   {
    "duration": 14,
    "start_time": "2025-03-05T20:58:11.441Z"
   },
   {
    "duration": 18,
    "start_time": "2025-03-05T20:58:11.474Z"
   },
   {
    "duration": 12,
    "start_time": "2025-03-05T20:58:11.494Z"
   },
   {
    "duration": 11391,
    "start_time": "2025-03-05T20:58:11.508Z"
   },
   {
    "duration": 189,
    "start_time": "2025-03-05T20:58:22.901Z"
   },
   {
    "duration": 9,
    "start_time": "2025-03-05T20:58:23.091Z"
   },
   {
    "duration": 269,
    "start_time": "2025-03-05T20:58:23.102Z"
   },
   {
    "duration": 16,
    "start_time": "2025-03-05T20:58:23.373Z"
   },
   {
    "duration": 229,
    "start_time": "2025-03-05T20:58:23.391Z"
   },
   {
    "duration": 20,
    "start_time": "2025-03-05T20:58:23.622Z"
   },
   {
    "duration": 41,
    "start_time": "2025-03-05T20:58:23.643Z"
   },
   {
    "duration": 217,
    "start_time": "2025-03-05T20:58:23.686Z"
   },
   {
    "duration": 117,
    "start_time": "2025-03-05T20:58:23.905Z"
   },
   {
    "duration": 8,
    "start_time": "2025-03-05T20:58:32.165Z"
   },
   {
    "duration": 114,
    "start_time": "2025-03-05T20:58:42.653Z"
   },
   {
    "duration": 1101,
    "start_time": "2025-03-05T20:58:51.377Z"
   },
   {
    "duration": 43,
    "start_time": "2025-03-05T20:58:52.480Z"
   },
   {
    "duration": 24,
    "start_time": "2025-03-05T20:58:52.525Z"
   },
   {
    "duration": 26,
    "start_time": "2025-03-05T20:58:52.550Z"
   },
   {
    "duration": 9,
    "start_time": "2025-03-05T20:58:52.577Z"
   },
   {
    "duration": 16,
    "start_time": "2025-03-05T20:58:52.587Z"
   },
   {
    "duration": 12,
    "start_time": "2025-03-05T20:58:52.605Z"
   },
   {
    "duration": 14,
    "start_time": "2025-03-05T20:58:52.619Z"
   },
   {
    "duration": 16,
    "start_time": "2025-03-05T20:58:52.635Z"
   },
   {
    "duration": 31,
    "start_time": "2025-03-05T20:58:52.653Z"
   },
   {
    "duration": 108,
    "start_time": "2025-03-05T20:58:52.685Z"
   },
   {
    "duration": 41,
    "start_time": "2025-03-05T20:58:52.795Z"
   },
   {
    "duration": 50,
    "start_time": "2025-03-05T20:58:52.838Z"
   },
   {
    "duration": 48,
    "start_time": "2025-03-05T20:58:52.890Z"
   },
   {
    "duration": 13,
    "start_time": "2025-03-05T20:58:52.939Z"
   },
   {
    "duration": 32,
    "start_time": "2025-03-05T20:58:52.953Z"
   },
   {
    "duration": 17,
    "start_time": "2025-03-05T20:58:52.987Z"
   },
   {
    "duration": 14,
    "start_time": "2025-03-05T20:58:53.005Z"
   },
   {
    "duration": 11360,
    "start_time": "2025-03-05T20:58:53.021Z"
   },
   {
    "duration": 176,
    "start_time": "2025-03-05T20:59:04.383Z"
   },
   {
    "duration": 14,
    "start_time": "2025-03-05T20:59:04.561Z"
   },
   {
    "duration": 238,
    "start_time": "2025-03-05T20:59:04.577Z"
   },
   {
    "duration": 15,
    "start_time": "2025-03-05T20:59:04.817Z"
   },
   {
    "duration": 216,
    "start_time": "2025-03-05T20:59:04.834Z"
   },
   {
    "duration": 25,
    "start_time": "2025-03-05T20:59:05.052Z"
   },
   {
    "duration": 25,
    "start_time": "2025-03-05T20:59:05.078Z"
   },
   {
    "duration": 217,
    "start_time": "2025-03-05T20:59:05.105Z"
   },
   {
    "duration": 110,
    "start_time": "2025-03-05T20:59:05.325Z"
   },
   {
    "duration": 9,
    "start_time": "2025-03-05T20:59:22.113Z"
   },
   {
    "duration": 91,
    "start_time": "2025-03-05T20:59:29.825Z"
   },
   {
    "duration": 8,
    "start_time": "2025-03-05T21:01:55.694Z"
   },
   {
    "duration": 200,
    "start_time": "2025-03-05T21:02:25.966Z"
   },
   {
    "duration": 9,
    "start_time": "2025-03-05T21:02:37.874Z"
   },
   {
    "duration": 108,
    "start_time": "2025-03-05T21:03:40.124Z"
   },
   {
    "duration": 274,
    "start_time": "2025-03-05T21:05:14.332Z"
   },
   {
    "duration": 328,
    "start_time": "2025-03-05T21:06:04.113Z"
   },
   {
    "duration": 97,
    "start_time": "2025-03-05T21:06:27.544Z"
   },
   {
    "duration": 1168,
    "start_time": "2025-03-05T21:09:55.228Z"
   },
   {
    "duration": 46,
    "start_time": "2025-03-05T21:09:56.398Z"
   },
   {
    "duration": 24,
    "start_time": "2025-03-05T21:09:56.445Z"
   },
   {
    "duration": 14,
    "start_time": "2025-03-05T21:09:56.474Z"
   },
   {
    "duration": 4,
    "start_time": "2025-03-05T21:09:56.490Z"
   },
   {
    "duration": 19,
    "start_time": "2025-03-05T21:09:56.496Z"
   },
   {
    "duration": 18,
    "start_time": "2025-03-05T21:09:56.517Z"
   },
   {
    "duration": 14,
    "start_time": "2025-03-05T21:09:56.537Z"
   },
   {
    "duration": 31,
    "start_time": "2025-03-05T21:09:56.553Z"
   },
   {
    "duration": 14,
    "start_time": "2025-03-05T21:09:56.586Z"
   },
   {
    "duration": 128,
    "start_time": "2025-03-05T21:09:56.601Z"
   },
   {
    "duration": 47,
    "start_time": "2025-03-05T21:09:56.731Z"
   },
   {
    "duration": 42,
    "start_time": "2025-03-05T21:09:56.779Z"
   },
   {
    "duration": 66,
    "start_time": "2025-03-05T21:09:56.823Z"
   },
   {
    "duration": 12,
    "start_time": "2025-03-05T21:09:56.891Z"
   },
   {
    "duration": 16,
    "start_time": "2025-03-05T21:09:56.905Z"
   },
   {
    "duration": 53,
    "start_time": "2025-03-05T21:09:56.923Z"
   },
   {
    "duration": 24,
    "start_time": "2025-03-05T21:09:56.979Z"
   },
   {
    "duration": 13029,
    "start_time": "2025-03-05T21:09:57.005Z"
   },
   {
    "duration": 189,
    "start_time": "2025-03-05T21:10:10.035Z"
   },
   {
    "duration": 8,
    "start_time": "2025-03-05T21:10:10.226Z"
   },
   {
    "duration": 267,
    "start_time": "2025-03-05T21:10:10.236Z"
   },
   {
    "duration": 17,
    "start_time": "2025-03-05T21:10:10.505Z"
   },
   {
    "duration": 217,
    "start_time": "2025-03-05T21:10:10.523Z"
   },
   {
    "duration": 40,
    "start_time": "2025-03-05T21:10:10.741Z"
   },
   {
    "duration": 39,
    "start_time": "2025-03-05T21:10:10.783Z"
   },
   {
    "duration": 226,
    "start_time": "2025-03-05T21:10:10.824Z"
   },
   {
    "duration": 5,
    "start_time": "2025-03-05T21:10:11.053Z"
   },
   {
    "duration": 111,
    "start_time": "2025-03-05T21:11:28.024Z"
   },
   {
    "duration": 16,
    "start_time": "2025-03-05T21:11:42.242Z"
   },
   {
    "duration": 18,
    "start_time": "2025-03-05T21:11:51.852Z"
   },
   {
    "duration": 25,
    "start_time": "2025-03-05T21:12:15.173Z"
   },
   {
    "duration": 157,
    "start_time": "2025-03-05T21:12:38.164Z"
   },
   {
    "duration": 170,
    "start_time": "2025-03-05T21:14:26.980Z"
   },
   {
    "duration": 9,
    "start_time": "2025-03-05T21:36:10.414Z"
   },
   {
    "duration": 3,
    "start_time": "2025-03-05T21:36:19.134Z"
   },
   {
    "duration": 4,
    "start_time": "2025-03-05T21:36:24.266Z"
   },
   {
    "duration": 4,
    "start_time": "2025-03-05T21:37:33.539Z"
   },
   {
    "duration": 11,
    "start_time": "2025-03-05T21:38:16.334Z"
   },
   {
    "duration": 80,
    "start_time": "2025-03-05T21:38:22.954Z"
   },
   {
    "duration": 12,
    "start_time": "2025-03-05T21:38:45.798Z"
   },
   {
    "duration": 312,
    "start_time": "2025-03-05T21:42:31.264Z"
   },
   {
    "duration": 113,
    "start_time": "2025-03-05T21:42:53.532Z"
   },
   {
    "duration": 67,
    "start_time": "2025-03-05T21:43:11.474Z"
   },
   {
    "duration": 1108,
    "start_time": "2025-03-05T21:43:56.367Z"
   },
   {
    "duration": 42,
    "start_time": "2025-03-05T21:43:57.477Z"
   },
   {
    "duration": 23,
    "start_time": "2025-03-05T21:43:57.520Z"
   },
   {
    "duration": 14,
    "start_time": "2025-03-05T21:43:57.544Z"
   },
   {
    "duration": 16,
    "start_time": "2025-03-05T21:43:57.559Z"
   },
   {
    "duration": 9,
    "start_time": "2025-03-05T21:43:57.576Z"
   },
   {
    "duration": 17,
    "start_time": "2025-03-05T21:43:57.586Z"
   },
   {
    "duration": 14,
    "start_time": "2025-03-05T21:43:57.605Z"
   },
   {
    "duration": 14,
    "start_time": "2025-03-05T21:43:57.620Z"
   },
   {
    "duration": 13,
    "start_time": "2025-03-05T21:43:57.636Z"
   },
   {
    "duration": 129,
    "start_time": "2025-03-05T21:43:57.650Z"
   },
   {
    "duration": 42,
    "start_time": "2025-03-05T21:43:57.780Z"
   },
   {
    "duration": 54,
    "start_time": "2025-03-05T21:43:57.823Z"
   },
   {
    "duration": 54,
    "start_time": "2025-03-05T21:43:57.879Z"
   },
   {
    "duration": 14,
    "start_time": "2025-03-05T21:43:57.935Z"
   },
   {
    "duration": 32,
    "start_time": "2025-03-05T21:43:57.951Z"
   },
   {
    "duration": 22,
    "start_time": "2025-03-05T21:43:57.985Z"
   },
   {
    "duration": 15,
    "start_time": "2025-03-05T21:43:58.008Z"
   },
   {
    "duration": 12316,
    "start_time": "2025-03-05T21:43:58.024Z"
   },
   {
    "duration": 164,
    "start_time": "2025-03-05T21:44:10.342Z"
   },
   {
    "duration": 9,
    "start_time": "2025-03-05T21:44:10.507Z"
   },
   {
    "duration": 241,
    "start_time": "2025-03-05T21:44:10.518Z"
   },
   {
    "duration": 15,
    "start_time": "2025-03-05T21:44:10.761Z"
   },
   {
    "duration": 210,
    "start_time": "2025-03-05T21:44:10.778Z"
   },
   {
    "duration": 19,
    "start_time": "2025-03-05T21:44:10.989Z"
   },
   {
    "duration": 25,
    "start_time": "2025-03-05T21:44:11.010Z"
   },
   {
    "duration": 221,
    "start_time": "2025-03-05T21:44:11.036Z"
   },
   {
    "duration": 128,
    "start_time": "2025-03-05T21:44:11.261Z"
   },
   {
    "duration": 89,
    "start_time": "2025-03-05T21:45:59.375Z"
   },
   {
    "duration": 101,
    "start_time": "2025-03-05T21:46:07.454Z"
   },
   {
    "duration": 87,
    "start_time": "2025-03-05T21:46:40.754Z"
   },
   {
    "duration": 100,
    "start_time": "2025-03-05T21:46:59.318Z"
   },
   {
    "duration": 104,
    "start_time": "2025-03-05T21:47:39.885Z"
   },
   {
    "duration": 162,
    "start_time": "2025-03-05T21:47:46.654Z"
   },
   {
    "duration": 92,
    "start_time": "2025-03-05T21:51:35.715Z"
   },
   {
    "duration": 88,
    "start_time": "2025-03-05T21:54:15.210Z"
   },
   {
    "duration": 85,
    "start_time": "2025-03-05T21:54:21.486Z"
   },
   {
    "duration": 87,
    "start_time": "2025-03-05T21:54:28.669Z"
   },
   {
    "duration": 91,
    "start_time": "2025-03-05T21:54:33.726Z"
   },
   {
    "duration": 261,
    "start_time": "2025-03-05T21:55:14.048Z"
   },
   {
    "duration": 451,
    "start_time": "2025-03-05T21:55:49.954Z"
   },
   {
    "duration": 527,
    "start_time": "2025-03-05T21:56:56.635Z"
   },
   {
    "duration": 1043,
    "start_time": "2025-03-05T22:01:32.432Z"
   },
   {
    "duration": 44,
    "start_time": "2025-03-05T22:01:33.476Z"
   },
   {
    "duration": 23,
    "start_time": "2025-03-05T22:01:33.521Z"
   },
   {
    "duration": 19,
    "start_time": "2025-03-05T22:01:33.546Z"
   },
   {
    "duration": 19,
    "start_time": "2025-03-05T22:01:33.566Z"
   },
   {
    "duration": 32,
    "start_time": "2025-03-05T22:01:33.586Z"
   },
   {
    "duration": 15,
    "start_time": "2025-03-05T22:01:33.619Z"
   },
   {
    "duration": 13,
    "start_time": "2025-03-05T22:01:33.635Z"
   },
   {
    "duration": 24,
    "start_time": "2025-03-05T22:01:33.649Z"
   },
   {
    "duration": 21,
    "start_time": "2025-03-05T22:01:33.675Z"
   },
   {
    "duration": 109,
    "start_time": "2025-03-05T22:01:33.698Z"
   },
   {
    "duration": 40,
    "start_time": "2025-03-05T22:01:33.809Z"
   },
   {
    "duration": 49,
    "start_time": "2025-03-05T22:01:33.851Z"
   },
   {
    "duration": 48,
    "start_time": "2025-03-05T22:01:33.902Z"
   },
   {
    "duration": 24,
    "start_time": "2025-03-05T22:01:33.952Z"
   },
   {
    "duration": 15,
    "start_time": "2025-03-05T22:01:33.978Z"
   },
   {
    "duration": 21,
    "start_time": "2025-03-05T22:01:33.994Z"
   },
   {
    "duration": 14,
    "start_time": "2025-03-05T22:01:34.016Z"
   },
   {
    "duration": 11682,
    "start_time": "2025-03-05T22:01:34.031Z"
   },
   {
    "duration": 248,
    "start_time": "2025-03-05T22:01:45.715Z"
   },
   {
    "duration": 16,
    "start_time": "2025-03-05T22:01:45.965Z"
   },
   {
    "duration": 244,
    "start_time": "2025-03-05T22:01:45.983Z"
   },
   {
    "duration": 16,
    "start_time": "2025-03-05T22:01:46.229Z"
   },
   {
    "duration": 220,
    "start_time": "2025-03-05T22:01:46.247Z"
   },
   {
    "duration": 22,
    "start_time": "2025-03-05T22:01:46.469Z"
   },
   {
    "duration": 25,
    "start_time": "2025-03-05T22:01:46.493Z"
   },
   {
    "duration": 212,
    "start_time": "2025-03-05T22:01:46.520Z"
   },
   {
    "duration": 524,
    "start_time": "2025-03-05T22:01:46.735Z"
   },
   {
    "duration": 107,
    "start_time": "2025-03-05T22:01:47.261Z"
   },
   {
    "duration": 1232,
    "start_time": "2025-03-05T22:04:38.495Z"
   },
   {
    "duration": 13,
    "start_time": "2025-03-05T22:04:53.475Z"
   },
   {
    "duration": 17,
    "start_time": "2025-03-05T22:06:38.455Z"
   },
   {
    "duration": 121,
    "start_time": "2025-03-05T22:09:25.615Z"
   },
   {
    "duration": 10,
    "start_time": "2025-03-05T22:10:55.989Z"
   },
   {
    "duration": 274,
    "start_time": "2025-03-05T22:13:18.655Z"
   },
   {
    "duration": 281,
    "start_time": "2025-03-05T22:13:31.589Z"
   },
   {
    "duration": 269,
    "start_time": "2025-03-05T22:13:59.195Z"
   },
   {
    "duration": 9,
    "start_time": "2025-03-05T22:14:02.527Z"
   },
   {
    "duration": 1145,
    "start_time": "2025-03-05T22:14:08.346Z"
   },
   {
    "duration": 43,
    "start_time": "2025-03-05T22:14:09.493Z"
   },
   {
    "duration": 23,
    "start_time": "2025-03-05T22:14:09.538Z"
   },
   {
    "duration": 20,
    "start_time": "2025-03-05T22:14:09.562Z"
   },
   {
    "duration": 5,
    "start_time": "2025-03-05T22:14:09.584Z"
   },
   {
    "duration": 8,
    "start_time": "2025-03-05T22:14:09.590Z"
   },
   {
    "duration": 12,
    "start_time": "2025-03-05T22:14:09.599Z"
   },
   {
    "duration": 17,
    "start_time": "2025-03-05T22:14:09.612Z"
   },
   {
    "duration": 13,
    "start_time": "2025-03-05T22:14:09.630Z"
   },
   {
    "duration": 14,
    "start_time": "2025-03-05T22:14:09.674Z"
   },
   {
    "duration": 111,
    "start_time": "2025-03-05T22:14:09.689Z"
   },
   {
    "duration": 43,
    "start_time": "2025-03-05T22:14:09.802Z"
   },
   {
    "duration": 54,
    "start_time": "2025-03-05T22:14:09.847Z"
   },
   {
    "duration": 49,
    "start_time": "2025-03-05T22:14:09.902Z"
   },
   {
    "duration": 25,
    "start_time": "2025-03-05T22:14:09.952Z"
   },
   {
    "duration": 14,
    "start_time": "2025-03-05T22:14:09.979Z"
   },
   {
    "duration": 20,
    "start_time": "2025-03-05T22:14:09.995Z"
   },
   {
    "duration": 15,
    "start_time": "2025-03-05T22:14:10.016Z"
   },
   {
    "duration": 11724,
    "start_time": "2025-03-05T22:14:10.033Z"
   },
   {
    "duration": 174,
    "start_time": "2025-03-05T22:14:21.759Z"
   },
   {
    "duration": 8,
    "start_time": "2025-03-05T22:14:21.934Z"
   },
   {
    "duration": 255,
    "start_time": "2025-03-05T22:14:21.944Z"
   },
   {
    "duration": 17,
    "start_time": "2025-03-05T22:14:22.201Z"
   },
   {
    "duration": 227,
    "start_time": "2025-03-05T22:14:22.220Z"
   },
   {
    "duration": 28,
    "start_time": "2025-03-05T22:14:22.449Z"
   },
   {
    "duration": 25,
    "start_time": "2025-03-05T22:14:22.478Z"
   },
   {
    "duration": 215,
    "start_time": "2025-03-05T22:14:22.505Z"
   },
   {
    "duration": 562,
    "start_time": "2025-03-05T22:14:22.724Z"
   },
   {
    "duration": 286,
    "start_time": "2025-03-05T22:14:23.288Z"
   },
   {
    "duration": 10,
    "start_time": "2025-03-05T22:14:23.576Z"
   },
   {
    "duration": 11,
    "start_time": "2025-03-05T22:21:41.955Z"
   },
   {
    "duration": 102,
    "start_time": "2025-03-05T22:22:30.432Z"
   },
   {
    "duration": 271,
    "start_time": "2025-03-05T22:22:43.775Z"
   },
   {
    "duration": 9,
    "start_time": "2025-03-05T22:22:47.416Z"
   },
   {
    "duration": 1140,
    "start_time": "2025-03-05T22:23:02.956Z"
   },
   {
    "duration": 44,
    "start_time": "2025-03-05T22:23:04.098Z"
   },
   {
    "duration": 23,
    "start_time": "2025-03-05T22:23:04.143Z"
   },
   {
    "duration": 17,
    "start_time": "2025-03-05T22:23:04.168Z"
   },
   {
    "duration": 14,
    "start_time": "2025-03-05T22:23:04.186Z"
   },
   {
    "duration": 17,
    "start_time": "2025-03-05T22:23:04.202Z"
   },
   {
    "duration": 49,
    "start_time": "2025-03-05T22:23:04.220Z"
   },
   {
    "duration": 16,
    "start_time": "2025-03-05T22:23:04.270Z"
   },
   {
    "duration": 13,
    "start_time": "2025-03-05T22:23:04.288Z"
   },
   {
    "duration": 14,
    "start_time": "2025-03-05T22:23:04.303Z"
   },
   {
    "duration": 118,
    "start_time": "2025-03-05T22:23:04.319Z"
   },
   {
    "duration": 51,
    "start_time": "2025-03-05T22:23:04.439Z"
   },
   {
    "duration": 41,
    "start_time": "2025-03-05T22:23:04.492Z"
   },
   {
    "duration": 58,
    "start_time": "2025-03-05T22:23:04.536Z"
   },
   {
    "duration": 14,
    "start_time": "2025-03-05T22:23:04.595Z"
   },
   {
    "duration": 25,
    "start_time": "2025-03-05T22:23:04.611Z"
   },
   {
    "duration": 37,
    "start_time": "2025-03-05T22:23:04.639Z"
   },
   {
    "duration": 14,
    "start_time": "2025-03-05T22:23:04.678Z"
   },
   {
    "duration": 11447,
    "start_time": "2025-03-05T22:23:04.694Z"
   },
   {
    "duration": 196,
    "start_time": "2025-03-05T22:23:16.142Z"
   },
   {
    "duration": 9,
    "start_time": "2025-03-05T22:23:16.340Z"
   },
   {
    "duration": 272,
    "start_time": "2025-03-05T22:23:16.351Z"
   },
   {
    "duration": 17,
    "start_time": "2025-03-05T22:23:16.625Z"
   },
   {
    "duration": 243,
    "start_time": "2025-03-05T22:23:16.644Z"
   },
   {
    "duration": 20,
    "start_time": "2025-03-05T22:23:16.888Z"
   },
   {
    "duration": 26,
    "start_time": "2025-03-05T22:23:16.910Z"
   },
   {
    "duration": 240,
    "start_time": "2025-03-05T22:23:16.937Z"
   },
   {
    "duration": 601,
    "start_time": "2025-03-05T22:23:17.178Z"
   },
   {
    "duration": 294,
    "start_time": "2025-03-05T22:23:17.781Z"
   },
   {
    "duration": 107,
    "start_time": "2025-03-05T22:23:18.076Z"
   },
   {
    "duration": 7,
    "start_time": "2025-03-05T22:23:36.755Z"
   },
   {
    "duration": 13,
    "start_time": "2025-03-05T22:24:37.975Z"
   },
   {
    "duration": 11,
    "start_time": "2025-03-05T22:33:48.235Z"
   },
   {
    "duration": 9,
    "start_time": "2025-03-05T22:34:02.116Z"
   },
   {
    "duration": 8,
    "start_time": "2025-03-05T22:34:14.415Z"
   },
   {
    "duration": 44,
    "start_time": "2025-03-05T22:34:21.316Z"
   },
   {
    "duration": 7,
    "start_time": "2025-03-05T22:34:28.236Z"
   },
   {
    "duration": 7,
    "start_time": "2025-03-05T22:35:30.995Z"
   },
   {
    "duration": 7,
    "start_time": "2025-03-05T22:35:42.608Z"
   },
   {
    "duration": 7,
    "start_time": "2025-03-05T22:35:55.195Z"
   },
   {
    "duration": 23,
    "start_time": "2025-03-05T23:15:16.785Z"
   },
   {
    "duration": 24,
    "start_time": "2025-03-05T23:17:19.493Z"
   },
   {
    "duration": 4,
    "start_time": "2025-03-05T23:19:05.419Z"
   },
   {
    "duration": 12,
    "start_time": "2025-03-05T23:19:12.381Z"
   },
   {
    "duration": 11,
    "start_time": "2025-03-05T23:19:37.339Z"
   },
   {
    "duration": 10,
    "start_time": "2025-03-05T23:20:11.579Z"
   },
   {
    "duration": 11,
    "start_time": "2025-03-05T23:20:18.440Z"
   },
   {
    "duration": 15,
    "start_time": "2025-03-05T23:20:37.431Z"
   },
   {
    "duration": 14,
    "start_time": "2025-03-05T23:21:00.300Z"
   },
   {
    "duration": 14,
    "start_time": "2025-03-05T23:21:47.359Z"
   },
   {
    "duration": 9,
    "start_time": "2025-03-05T23:21:54.812Z"
   },
   {
    "duration": 9,
    "start_time": "2025-03-05T23:22:18.440Z"
   },
   {
    "duration": 7,
    "start_time": "2025-03-05T23:22:25.411Z"
   },
   {
    "duration": 10,
    "start_time": "2025-03-05T23:22:30.224Z"
   },
   {
    "duration": 11,
    "start_time": "2025-03-05T23:32:53.079Z"
   },
   {
    "duration": 6,
    "start_time": "2025-03-05T23:33:11.533Z"
   },
   {
    "duration": 11,
    "start_time": "2025-03-05T23:33:15.440Z"
   },
   {
    "duration": 7,
    "start_time": "2025-03-05T23:33:18.049Z"
   },
   {
    "duration": 12,
    "start_time": "2025-03-05T23:33:19.131Z"
   },
   {
    "duration": 13,
    "start_time": "2025-03-05T23:34:00.499Z"
   },
   {
    "duration": 7,
    "start_time": "2025-03-05T23:34:09.884Z"
   },
   {
    "duration": 10,
    "start_time": "2025-03-05T23:34:12.379Z"
   },
   {
    "duration": 6,
    "start_time": "2025-03-05T23:34:28.164Z"
   },
   {
    "duration": 10,
    "start_time": "2025-03-05T23:34:28.919Z"
   },
   {
    "duration": 1153,
    "start_time": "2025-03-05T23:34:37.670Z"
   },
   {
    "duration": 44,
    "start_time": "2025-03-05T23:34:38.825Z"
   },
   {
    "duration": 21,
    "start_time": "2025-03-05T23:34:38.871Z"
   },
   {
    "duration": 14,
    "start_time": "2025-03-05T23:34:38.893Z"
   },
   {
    "duration": 4,
    "start_time": "2025-03-05T23:34:38.909Z"
   },
   {
    "duration": 15,
    "start_time": "2025-03-05T23:34:38.915Z"
   },
   {
    "duration": 14,
    "start_time": "2025-03-05T23:34:38.931Z"
   },
   {
    "duration": 29,
    "start_time": "2025-03-05T23:34:38.946Z"
   },
   {
    "duration": 13,
    "start_time": "2025-03-05T23:34:38.977Z"
   },
   {
    "duration": 13,
    "start_time": "2025-03-05T23:34:38.991Z"
   },
   {
    "duration": 124,
    "start_time": "2025-03-05T23:34:39.005Z"
   },
   {
    "duration": 47,
    "start_time": "2025-03-05T23:34:39.130Z"
   },
   {
    "duration": 42,
    "start_time": "2025-03-05T23:34:39.178Z"
   },
   {
    "duration": 61,
    "start_time": "2025-03-05T23:34:39.223Z"
   },
   {
    "duration": 13,
    "start_time": "2025-03-05T23:34:39.285Z"
   },
   {
    "duration": 14,
    "start_time": "2025-03-05T23:34:39.299Z"
   },
   {
    "duration": 18,
    "start_time": "2025-03-05T23:34:39.315Z"
   },
   {
    "duration": 14,
    "start_time": "2025-03-05T23:34:39.334Z"
   },
   {
    "duration": 11211,
    "start_time": "2025-03-05T23:34:39.375Z"
   },
   {
    "duration": 169,
    "start_time": "2025-03-05T23:34:50.588Z"
   },
   {
    "duration": 16,
    "start_time": "2025-03-05T23:34:50.759Z"
   },
   {
    "duration": 231,
    "start_time": "2025-03-05T23:34:50.776Z"
   },
   {
    "duration": 15,
    "start_time": "2025-03-05T23:34:51.009Z"
   },
   {
    "duration": 209,
    "start_time": "2025-03-05T23:34:51.025Z"
   },
   {
    "duration": 19,
    "start_time": "2025-03-05T23:34:51.235Z"
   },
   {
    "duration": 46,
    "start_time": "2025-03-05T23:34:51.255Z"
   },
   {
    "duration": 210,
    "start_time": "2025-03-05T23:34:51.303Z"
   },
   {
    "duration": 542,
    "start_time": "2025-03-05T23:34:51.514Z"
   },
   {
    "duration": 275,
    "start_time": "2025-03-05T23:34:52.058Z"
   },
   {
    "duration": 9,
    "start_time": "2025-03-05T23:34:52.334Z"
   },
   {
    "duration": 17,
    "start_time": "2025-03-05T23:34:52.344Z"
   },
   {
    "duration": 17,
    "start_time": "2025-03-05T23:34:52.362Z"
   },
   {
    "duration": 6,
    "start_time": "2025-03-05T23:34:52.380Z"
   },
   {
    "duration": 18,
    "start_time": "2025-03-05T23:34:52.387Z"
   },
   {
    "duration": 5,
    "start_time": "2025-03-05T23:35:16.792Z"
   },
   {
    "duration": 10,
    "start_time": "2025-03-05T23:35:25.350Z"
   },
   {
    "duration": 6,
    "start_time": "2025-03-05T23:35:44.638Z"
   },
   {
    "duration": 10,
    "start_time": "2025-03-05T23:35:49.007Z"
   },
   {
    "duration": 1098,
    "start_time": "2025-03-05T23:37:18.189Z"
   },
   {
    "duration": 45,
    "start_time": "2025-03-05T23:37:19.289Z"
   },
   {
    "duration": 23,
    "start_time": "2025-03-05T23:37:19.336Z"
   },
   {
    "duration": 17,
    "start_time": "2025-03-05T23:37:19.361Z"
   },
   {
    "duration": 11,
    "start_time": "2025-03-05T23:37:19.380Z"
   },
   {
    "duration": 11,
    "start_time": "2025-03-05T23:37:19.392Z"
   },
   {
    "duration": 19,
    "start_time": "2025-03-05T23:37:19.404Z"
   },
   {
    "duration": 14,
    "start_time": "2025-03-05T23:37:19.424Z"
   },
   {
    "duration": 12,
    "start_time": "2025-03-05T23:37:19.439Z"
   },
   {
    "duration": 24,
    "start_time": "2025-03-05T23:37:19.453Z"
   },
   {
    "duration": 113,
    "start_time": "2025-03-05T23:37:19.479Z"
   },
   {
    "duration": 41,
    "start_time": "2025-03-05T23:37:19.593Z"
   },
   {
    "duration": 52,
    "start_time": "2025-03-05T23:37:19.636Z"
   },
   {
    "duration": 46,
    "start_time": "2025-03-05T23:37:19.691Z"
   },
   {
    "duration": 12,
    "start_time": "2025-03-05T23:37:19.739Z"
   },
   {
    "duration": 28,
    "start_time": "2025-03-05T23:37:19.752Z"
   },
   {
    "duration": 17,
    "start_time": "2025-03-05T23:37:19.781Z"
   },
   {
    "duration": 13,
    "start_time": "2025-03-05T23:37:19.800Z"
   },
   {
    "duration": 11536,
    "start_time": "2025-03-05T23:37:19.815Z"
   },
   {
    "duration": 173,
    "start_time": "2025-03-05T23:37:31.352Z"
   },
   {
    "duration": 8,
    "start_time": "2025-03-05T23:37:31.527Z"
   },
   {
    "duration": 253,
    "start_time": "2025-03-05T23:37:31.537Z"
   },
   {
    "duration": 17,
    "start_time": "2025-03-05T23:37:31.791Z"
   },
   {
    "duration": 224,
    "start_time": "2025-03-05T23:37:31.809Z"
   },
   {
    "duration": 18,
    "start_time": "2025-03-05T23:37:32.035Z"
   },
   {
    "duration": 42,
    "start_time": "2025-03-05T23:37:32.055Z"
   },
   {
    "duration": 214,
    "start_time": "2025-03-05T23:37:32.098Z"
   },
   {
    "duration": 562,
    "start_time": "2025-03-05T23:37:32.314Z"
   },
   {
    "duration": 264,
    "start_time": "2025-03-05T23:37:32.877Z"
   },
   {
    "duration": 9,
    "start_time": "2025-03-05T23:37:33.142Z"
   },
   {
    "duration": 23,
    "start_time": "2025-03-05T23:37:33.152Z"
   },
   {
    "duration": 15,
    "start_time": "2025-03-05T23:37:33.177Z"
   },
   {
    "duration": 6,
    "start_time": "2025-03-05T23:37:33.193Z"
   },
   {
    "duration": 24,
    "start_time": "2025-03-05T23:37:33.200Z"
   },
   {
    "duration": 7,
    "start_time": "2025-03-05T23:40:53.850Z"
   },
   {
    "duration": 10,
    "start_time": "2025-03-05T23:40:55.121Z"
   },
   {
    "duration": 11,
    "start_time": "2025-03-05T23:41:50.459Z"
   },
   {
    "duration": 9,
    "start_time": "2025-03-05T23:42:21.018Z"
   },
   {
    "duration": 12,
    "start_time": "2025-03-05T23:42:29.998Z"
   },
   {
    "duration": 10,
    "start_time": "2025-03-05T23:42:32.158Z"
   },
   {
    "duration": 7,
    "start_time": "2025-03-05T23:42:40.218Z"
   },
   {
    "duration": 8,
    "start_time": "2025-03-05T23:42:42.810Z"
   },
   {
    "duration": 104,
    "start_time": "2025-03-05T23:42:59.619Z"
   },
   {
    "duration": 8,
    "start_time": "2025-03-05T23:43:15.219Z"
   },
   {
    "duration": 7,
    "start_time": "2025-03-05T23:43:17.690Z"
   },
   {
    "duration": 13,
    "start_time": "2025-03-05T23:43:32.158Z"
   },
   {
    "duration": 10,
    "start_time": "2025-03-05T23:45:50.158Z"
   },
   {
    "duration": 1044,
    "start_time": "2025-03-05T23:46:32.164Z"
   },
   {
    "duration": 1130,
    "start_time": "2025-03-05T23:46:52.886Z"
   },
   {
    "duration": 11,
    "start_time": "2025-03-05T23:47:05.450Z"
   },
   {
    "duration": 10,
    "start_time": "2025-03-05T23:47:38.618Z"
   },
   {
    "duration": 11,
    "start_time": "2025-03-05T23:48:20.645Z"
   },
   {
    "duration": 11,
    "start_time": "2025-03-05T23:48:36.240Z"
   },
   {
    "duration": 9,
    "start_time": "2025-03-05T23:48:44.940Z"
   },
   {
    "duration": 7,
    "start_time": "2025-03-05T23:49:29.840Z"
   },
   {
    "duration": 16,
    "start_time": "2025-03-05T23:49:37.974Z"
   },
   {
    "duration": 68,
    "start_time": "2025-03-05T23:51:11.659Z"
   },
   {
    "duration": 9,
    "start_time": "2025-03-05T23:51:17.952Z"
   },
   {
    "duration": 10,
    "start_time": "2025-03-05T23:51:28.079Z"
   },
   {
    "duration": 11,
    "start_time": "2025-03-05T23:51:40.919Z"
   },
   {
    "duration": 11,
    "start_time": "2025-03-05T23:51:59.058Z"
   },
   {
    "duration": 10,
    "start_time": "2025-03-05T23:52:18.559Z"
   },
   {
    "duration": 16,
    "start_time": "2025-03-05T23:53:16.479Z"
   },
   {
    "duration": 10,
    "start_time": "2025-03-05T23:56:19.630Z"
   },
   {
    "duration": 13,
    "start_time": "2025-03-05T23:56:27.639Z"
   },
   {
    "duration": 14,
    "start_time": "2025-03-05T23:56:57.438Z"
   },
   {
    "duration": 18,
    "start_time": "2025-03-05T23:57:35.959Z"
   },
   {
    "duration": 18,
    "start_time": "2025-03-05T23:57:45.760Z"
   },
   {
    "duration": 15,
    "start_time": "2025-03-06T00:00:07.480Z"
   },
   {
    "duration": 16,
    "start_time": "2025-03-06T00:00:39.820Z"
   },
   {
    "duration": 20,
    "start_time": "2025-03-06T00:02:46.071Z"
   },
   {
    "duration": 203,
    "start_time": "2025-03-06T00:04:48.847Z"
   },
   {
    "duration": 150,
    "start_time": "2025-03-06T00:05:06.700Z"
   },
   {
    "duration": 160,
    "start_time": "2025-03-06T00:06:04.567Z"
   },
   {
    "duration": 99,
    "start_time": "2025-03-06T00:06:39.492Z"
   },
   {
    "duration": 109,
    "start_time": "2025-03-06T00:06:53.180Z"
   },
   {
    "duration": 100,
    "start_time": "2025-03-06T00:07:32.231Z"
   },
   {
    "duration": 117,
    "start_time": "2025-03-06T00:08:19.689Z"
   },
   {
    "duration": 118,
    "start_time": "2025-03-06T00:08:28.082Z"
   },
   {
    "duration": 145,
    "start_time": "2025-03-06T00:09:39.588Z"
   },
   {
    "duration": 134,
    "start_time": "2025-03-06T00:09:47.181Z"
   },
   {
    "duration": 224,
    "start_time": "2025-03-06T00:09:54.620Z"
   },
   {
    "duration": 9,
    "start_time": "2025-03-06T00:12:30.330Z"
   },
   {
    "duration": 9,
    "start_time": "2025-03-06T00:12:34.425Z"
   },
   {
    "duration": 132,
    "start_time": "2025-03-06T00:13:23.940Z"
   },
   {
    "duration": 9,
    "start_time": "2025-03-06T00:15:15.069Z"
   },
   {
    "duration": 14,
    "start_time": "2025-03-06T00:15:33.761Z"
   },
   {
    "duration": 14,
    "start_time": "2025-03-06T00:15:49.701Z"
   },
   {
    "duration": 126,
    "start_time": "2025-03-06T00:16:23.400Z"
   },
   {
    "duration": 122,
    "start_time": "2025-03-06T00:16:29.861Z"
   },
   {
    "duration": 8,
    "start_time": "2025-03-06T00:16:38.124Z"
   },
   {
    "duration": 130,
    "start_time": "2025-03-06T00:22:28.902Z"
   },
   {
    "duration": 18,
    "start_time": "2025-03-06T00:23:46.543Z"
   },
   {
    "duration": 127,
    "start_time": "2025-03-06T00:24:04.962Z"
   },
   {
    "duration": 126,
    "start_time": "2025-03-06T00:25:34.383Z"
   },
   {
    "duration": 1204,
    "start_time": "2025-03-06T00:26:14.842Z"
   },
   {
    "duration": 1570,
    "start_time": "2025-03-06T00:26:33.942Z"
   },
   {
    "duration": 1257,
    "start_time": "2025-03-06T00:26:57.381Z"
   },
   {
    "duration": 1197,
    "start_time": "2025-03-06T00:27:13.234Z"
   },
   {
    "duration": 1225,
    "start_time": "2025-03-06T00:27:53.794Z"
   },
   {
    "duration": 1181,
    "start_time": "2025-03-06T00:28:18.582Z"
   },
   {
    "duration": 133,
    "start_time": "2025-03-06T00:29:00.241Z"
   },
   {
    "duration": 126,
    "start_time": "2025-03-06T00:29:36.162Z"
   },
   {
    "duration": 126,
    "start_time": "2025-03-06T00:35:36.563Z"
   },
   {
    "duration": 140,
    "start_time": "2025-03-06T00:36:53.002Z"
   },
   {
    "duration": 125,
    "start_time": "2025-03-06T00:47:50.154Z"
   },
   {
    "duration": 117,
    "start_time": "2025-03-06T01:08:14.105Z"
   },
   {
    "duration": 217,
    "start_time": "2025-03-06T01:10:33.824Z"
   },
   {
    "duration": 5,
    "start_time": "2025-03-06T01:19:18.617Z"
   },
   {
    "duration": 24,
    "start_time": "2025-03-06T01:27:34.962Z"
   },
   {
    "duration": 10,
    "start_time": "2025-03-06T01:30:49.373Z"
   },
   {
    "duration": 15,
    "start_time": "2025-03-06T01:30:56.359Z"
   },
   {
    "duration": 152,
    "start_time": "2025-03-06T01:31:25.231Z"
   },
   {
    "duration": 190,
    "start_time": "2025-03-06T01:31:42.703Z"
   },
   {
    "duration": 16,
    "start_time": "2025-03-06T01:32:06.486Z"
   },
   {
    "duration": 140,
    "start_time": "2025-03-06T01:32:15.182Z"
   },
   {
    "duration": 131,
    "start_time": "2025-03-06T01:33:51.464Z"
   },
   {
    "duration": 1526,
    "start_time": "2025-03-06T01:34:03.943Z"
   },
   {
    "duration": 121,
    "start_time": "2025-03-06T01:34:17.788Z"
   },
   {
    "duration": 128,
    "start_time": "2025-03-06T01:35:16.863Z"
   },
   {
    "duration": 18,
    "start_time": "2025-03-06T01:39:10.303Z"
   },
   {
    "duration": 145,
    "start_time": "2025-03-06T01:39:32.983Z"
   },
   {
    "duration": 119,
    "start_time": "2025-03-06T01:41:11.370Z"
   },
   {
    "duration": 51,
    "start_time": "2025-03-06T11:38:49.477Z"
   },
   {
    "duration": 1423,
    "start_time": "2025-03-06T11:38:55.258Z"
   },
   {
    "duration": 47,
    "start_time": "2025-03-06T11:38:56.683Z"
   },
   {
    "duration": 134,
    "start_time": "2025-03-06T11:38:56.732Z"
   },
   {
    "duration": 16,
    "start_time": "2025-03-06T11:38:56.867Z"
   },
   {
    "duration": 5,
    "start_time": "2025-03-06T11:38:56.884Z"
   },
   {
    "duration": 7,
    "start_time": "2025-03-06T11:38:56.891Z"
   },
   {
    "duration": 12,
    "start_time": "2025-03-06T11:38:56.899Z"
   },
   {
    "duration": 12,
    "start_time": "2025-03-06T11:38:56.913Z"
   },
   {
    "duration": 13,
    "start_time": "2025-03-06T11:38:56.927Z"
   },
   {
    "duration": 14,
    "start_time": "2025-03-06T11:38:56.943Z"
   },
   {
    "duration": 135,
    "start_time": "2025-03-06T11:38:56.958Z"
   },
   {
    "duration": 53,
    "start_time": "2025-03-06T11:38:57.095Z"
   },
   {
    "duration": 44,
    "start_time": "2025-03-06T11:38:57.150Z"
   },
   {
    "duration": 59,
    "start_time": "2025-03-06T11:38:57.196Z"
   },
   {
    "duration": 14,
    "start_time": "2025-03-06T11:38:57.256Z"
   },
   {
    "duration": 15,
    "start_time": "2025-03-06T11:38:57.271Z"
   },
   {
    "duration": 44,
    "start_time": "2025-03-06T11:38:57.287Z"
   },
   {
    "duration": 15,
    "start_time": "2025-03-06T11:38:57.332Z"
   },
   {
    "duration": 12045,
    "start_time": "2025-03-06T11:38:57.348Z"
   },
   {
    "duration": 177,
    "start_time": "2025-03-06T11:39:09.395Z"
   },
   {
    "duration": 8,
    "start_time": "2025-03-06T11:39:09.573Z"
   },
   {
    "duration": 319,
    "start_time": "2025-03-06T11:39:09.583Z"
   },
   {
    "duration": 16,
    "start_time": "2025-03-06T11:39:09.904Z"
   },
   {
    "duration": 245,
    "start_time": "2025-03-06T11:39:09.921Z"
   },
   {
    "duration": 21,
    "start_time": "2025-03-06T11:39:10.168Z"
   },
   {
    "duration": 41,
    "start_time": "2025-03-06T11:39:10.191Z"
   },
   {
    "duration": 216,
    "start_time": "2025-03-06T11:39:10.233Z"
   },
   {
    "duration": 594,
    "start_time": "2025-03-06T11:39:10.453Z"
   },
   {
    "duration": 308,
    "start_time": "2025-03-06T11:39:11.049Z"
   },
   {
    "duration": 10,
    "start_time": "2025-03-06T11:39:11.359Z"
   },
   {
    "duration": 10,
    "start_time": "2025-03-06T11:39:11.371Z"
   },
   {
    "duration": 7,
    "start_time": "2025-03-06T11:39:11.383Z"
   },
   {
    "duration": 153,
    "start_time": "2025-03-06T11:39:11.392Z"
   },
   {
    "duration": 130,
    "start_time": "2025-03-06T11:39:11.547Z"
   },
   {
    "duration": 129,
    "start_time": "2025-03-06T11:39:11.679Z"
   },
   {
    "duration": 127,
    "start_time": "2025-03-06T11:39:11.813Z"
   },
   {
    "duration": 130,
    "start_time": "2025-03-06T11:39:11.942Z"
   },
   {
    "duration": 133,
    "start_time": "2025-03-06T11:39:12.074Z"
   },
   {
    "duration": 8,
    "start_time": "2025-03-06T11:39:12.209Z"
   },
   {
    "duration": 141,
    "start_time": "2025-03-06T11:39:12.219Z"
   },
   {
    "duration": 135,
    "start_time": "2025-03-06T11:39:12.362Z"
   },
   {
    "duration": 126,
    "start_time": "2025-03-06T11:39:12.499Z"
   },
   {
    "duration": 6,
    "start_time": "2025-03-06T11:39:12.627Z"
   },
   {
    "duration": 7,
    "start_time": "2025-03-06T11:39:44.324Z"
   },
   {
    "duration": 11,
    "start_time": "2025-03-06T11:40:06.010Z"
   },
   {
    "duration": 3,
    "start_time": "2025-03-06T11:43:50.697Z"
   },
   {
    "duration": 12,
    "start_time": "2025-03-06T11:45:04.510Z"
   },
   {
    "duration": 13,
    "start_time": "2025-03-06T11:45:33.865Z"
   },
   {
    "duration": 11,
    "start_time": "2025-03-06T11:49:30.926Z"
   },
   {
    "duration": 8,
    "start_time": "2025-03-06T11:56:49.017Z"
   },
   {
    "duration": 9,
    "start_time": "2025-03-06T11:57:02.737Z"
   },
   {
    "duration": 11,
    "start_time": "2025-03-06T11:57:43.217Z"
   },
   {
    "duration": 51,
    "start_time": "2025-03-06T18:01:18.275Z"
   },
   {
    "duration": 1399,
    "start_time": "2025-03-06T18:01:24.304Z"
   },
   {
    "duration": 59,
    "start_time": "2025-03-06T18:01:25.705Z"
   },
   {
    "duration": 25,
    "start_time": "2025-03-06T18:01:25.765Z"
   },
   {
    "duration": 17,
    "start_time": "2025-03-06T18:01:25.792Z"
   },
   {
    "duration": 5,
    "start_time": "2025-03-06T18:01:25.811Z"
   },
   {
    "duration": 8,
    "start_time": "2025-03-06T18:01:25.817Z"
   },
   {
    "duration": 20,
    "start_time": "2025-03-06T18:01:25.826Z"
   },
   {
    "duration": 20,
    "start_time": "2025-03-06T18:01:25.847Z"
   },
   {
    "duration": 14,
    "start_time": "2025-03-06T18:01:25.869Z"
   },
   {
    "duration": 30,
    "start_time": "2025-03-06T18:01:25.885Z"
   },
   {
    "duration": 117,
    "start_time": "2025-03-06T18:01:25.916Z"
   },
   {
    "duration": 47,
    "start_time": "2025-03-06T18:01:26.034Z"
   },
   {
    "duration": 64,
    "start_time": "2025-03-06T18:01:26.083Z"
   },
   {
    "duration": 49,
    "start_time": "2025-03-06T18:01:26.151Z"
   },
   {
    "duration": 18,
    "start_time": "2025-03-06T18:01:26.201Z"
   },
   {
    "duration": 14,
    "start_time": "2025-03-06T18:01:26.220Z"
   },
   {
    "duration": 17,
    "start_time": "2025-03-06T18:01:26.235Z"
   },
   {
    "duration": 36,
    "start_time": "2025-03-06T18:01:26.254Z"
   },
   {
    "duration": 12378,
    "start_time": "2025-03-06T18:01:26.292Z"
   },
   {
    "duration": 202,
    "start_time": "2025-03-06T18:01:38.671Z"
   },
   {
    "duration": 11,
    "start_time": "2025-03-06T18:01:38.876Z"
   },
   {
    "duration": 274,
    "start_time": "2025-03-06T18:01:38.888Z"
   },
   {
    "duration": 18,
    "start_time": "2025-03-06T18:01:39.164Z"
   },
   {
    "duration": 242,
    "start_time": "2025-03-06T18:01:39.183Z"
   },
   {
    "duration": 19,
    "start_time": "2025-03-06T18:01:39.427Z"
   },
   {
    "duration": 23,
    "start_time": "2025-03-06T18:01:39.447Z"
   },
   {
    "duration": 193,
    "start_time": "2025-03-06T18:01:39.472Z"
   },
   {
    "duration": 585,
    "start_time": "2025-03-06T18:01:39.667Z"
   },
   {
    "duration": 273,
    "start_time": "2025-03-06T18:01:40.254Z"
   },
   {
    "duration": 10,
    "start_time": "2025-03-06T18:01:40.530Z"
   },
   {
    "duration": 18,
    "start_time": "2025-03-06T18:01:40.542Z"
   },
   {
    "duration": 8,
    "start_time": "2025-03-06T18:01:40.563Z"
   },
   {
    "duration": 151,
    "start_time": "2025-03-06T18:01:40.573Z"
   },
   {
    "duration": 149,
    "start_time": "2025-03-06T18:01:40.726Z"
   },
   {
    "duration": 140,
    "start_time": "2025-03-06T18:01:40.877Z"
   },
   {
    "duration": 143,
    "start_time": "2025-03-06T18:01:41.019Z"
   },
   {
    "duration": 169,
    "start_time": "2025-03-06T18:01:41.163Z"
   },
   {
    "duration": 134,
    "start_time": "2025-03-06T18:01:41.334Z"
   },
   {
    "duration": 6,
    "start_time": "2025-03-06T18:01:41.470Z"
   },
   {
    "duration": 132,
    "start_time": "2025-03-06T18:01:41.477Z"
   },
   {
    "duration": 114,
    "start_time": "2025-03-06T18:01:41.615Z"
   },
   {
    "duration": 122,
    "start_time": "2025-03-06T18:01:41.731Z"
   },
   {
    "duration": 10,
    "start_time": "2025-03-06T18:01:41.855Z"
   },
   {
    "duration": 13,
    "start_time": "2025-03-06T18:01:41.867Z"
   },
   {
    "duration": 9,
    "start_time": "2025-03-06T18:06:59.217Z"
   },
   {
    "duration": 4,
    "start_time": "2025-03-06T18:08:42.208Z"
   },
   {
    "duration": 8,
    "start_time": "2025-03-06T18:08:48.494Z"
   },
   {
    "duration": 98,
    "start_time": "2025-03-06T18:09:20.278Z"
   },
   {
    "duration": 8,
    "start_time": "2025-03-06T18:09:37.021Z"
   },
   {
    "duration": 307,
    "start_time": "2025-03-06T18:13:58.714Z"
   },
   {
    "duration": 123,
    "start_time": "2025-03-06T18:15:26.102Z"
   },
   {
    "duration": 121,
    "start_time": "2025-03-06T18:15:36.232Z"
   },
   {
    "duration": 217,
    "start_time": "2025-03-06T18:15:43.272Z"
   },
   {
    "duration": 5,
    "start_time": "2025-03-06T18:16:43.840Z"
   },
   {
    "duration": 24,
    "start_time": "2025-03-06T18:19:23.186Z"
   },
   {
    "duration": 206,
    "start_time": "2025-03-06T18:19:33.315Z"
   },
   {
    "duration": 165,
    "start_time": "2025-03-06T18:21:24.289Z"
   },
   {
    "duration": 162,
    "start_time": "2025-03-06T18:21:53.228Z"
   },
   {
    "duration": 170,
    "start_time": "2025-03-06T18:22:03.269Z"
   },
   {
    "duration": 185,
    "start_time": "2025-03-06T18:23:17.491Z"
   },
   {
    "duration": 263,
    "start_time": "2025-03-06T18:23:22.857Z"
   },
   {
    "duration": 285,
    "start_time": "2025-03-06T18:26:50.538Z"
   },
   {
    "duration": 10,
    "start_time": "2025-03-06T18:26:57.806Z"
   },
   {
    "duration": 10,
    "start_time": "2025-03-06T18:27:03.755Z"
   },
   {
    "duration": 88,
    "start_time": "2025-03-06T18:30:17.408Z"
   },
   {
    "duration": 317,
    "start_time": "2025-03-06T18:30:32.225Z"
   },
   {
    "duration": 273,
    "start_time": "2025-03-06T18:32:54.991Z"
   },
   {
    "duration": 10,
    "start_time": "2025-03-06T18:33:22.981Z"
   },
   {
    "duration": 1171,
    "start_time": "2025-03-06T18:34:13.252Z"
   },
   {
    "duration": 46,
    "start_time": "2025-03-06T18:34:14.424Z"
   },
   {
    "duration": 23,
    "start_time": "2025-03-06T18:34:14.471Z"
   },
   {
    "duration": 21,
    "start_time": "2025-03-06T18:34:14.496Z"
   },
   {
    "duration": 5,
    "start_time": "2025-03-06T18:34:14.518Z"
   },
   {
    "duration": 8,
    "start_time": "2025-03-06T18:34:14.524Z"
   },
   {
    "duration": 23,
    "start_time": "2025-03-06T18:34:14.534Z"
   },
   {
    "duration": 28,
    "start_time": "2025-03-06T18:34:14.558Z"
   },
   {
    "duration": 14,
    "start_time": "2025-03-06T18:34:14.587Z"
   },
   {
    "duration": 13,
    "start_time": "2025-03-06T18:34:14.609Z"
   },
   {
    "duration": 120,
    "start_time": "2025-03-06T18:34:14.624Z"
   },
   {
    "duration": 68,
    "start_time": "2025-03-06T18:34:14.746Z"
   },
   {
    "duration": 44,
    "start_time": "2025-03-06T18:34:14.816Z"
   },
   {
    "duration": 61,
    "start_time": "2025-03-06T18:34:14.862Z"
   },
   {
    "duration": 14,
    "start_time": "2025-03-06T18:34:14.925Z"
   },
   {
    "duration": 18,
    "start_time": "2025-03-06T18:34:14.940Z"
   },
   {
    "duration": 18,
    "start_time": "2025-03-06T18:34:14.960Z"
   },
   {
    "duration": 40,
    "start_time": "2025-03-06T18:34:14.980Z"
   },
   {
    "duration": 12161,
    "start_time": "2025-03-06T18:34:15.021Z"
   },
   {
    "duration": 192,
    "start_time": "2025-03-06T18:34:27.184Z"
   },
   {
    "duration": 8,
    "start_time": "2025-03-06T18:34:27.378Z"
   },
   {
    "duration": 278,
    "start_time": "2025-03-06T18:34:27.388Z"
   },
   {
    "duration": 18,
    "start_time": "2025-03-06T18:34:27.668Z"
   },
   {
    "duration": 227,
    "start_time": "2025-03-06T18:34:27.687Z"
   },
   {
    "duration": 21,
    "start_time": "2025-03-06T18:34:27.916Z"
   },
   {
    "duration": 28,
    "start_time": "2025-03-06T18:34:27.939Z"
   },
   {
    "duration": 202,
    "start_time": "2025-03-06T18:34:27.969Z"
   },
   {
    "duration": 194,
    "start_time": "2025-03-06T18:34:28.175Z"
   },
   {
    "duration": 294,
    "start_time": "2025-03-06T18:34:28.371Z"
   },
   {
    "duration": 11,
    "start_time": "2025-03-06T18:34:28.666Z"
   },
   {
    "duration": 351,
    "start_time": "2025-03-06T18:34:28.679Z"
   },
   {
    "duration": 10,
    "start_time": "2025-03-06T18:34:29.031Z"
   },
   {
    "duration": 16,
    "start_time": "2025-03-06T18:34:29.043Z"
   },
   {
    "duration": 8,
    "start_time": "2025-03-06T18:34:29.060Z"
   },
   {
    "duration": 150,
    "start_time": "2025-03-06T18:34:29.069Z"
   },
   {
    "duration": 221,
    "start_time": "2025-03-06T18:34:29.221Z"
   },
   {
    "duration": 132,
    "start_time": "2025-03-06T18:34:29.445Z"
   },
   {
    "duration": 133,
    "start_time": "2025-03-06T18:34:29.579Z"
   },
   {
    "duration": 136,
    "start_time": "2025-03-06T18:34:29.713Z"
   },
   {
    "duration": 158,
    "start_time": "2025-03-06T18:34:29.851Z"
   },
   {
    "duration": 5,
    "start_time": "2025-03-06T18:34:30.011Z"
   },
   {
    "duration": 137,
    "start_time": "2025-03-06T18:34:30.017Z"
   },
   {
    "duration": 113,
    "start_time": "2025-03-06T18:34:30.156Z"
   },
   {
    "duration": 120,
    "start_time": "2025-03-06T18:34:30.270Z"
   },
   {
    "duration": 20,
    "start_time": "2025-03-06T18:34:30.392Z"
   },
   {
    "duration": 85,
    "start_time": "2025-03-06T18:34:30.414Z"
   },
   {
    "duration": 12,
    "start_time": "2025-03-06T18:36:15.397Z"
   },
   {
    "duration": 14,
    "start_time": "2025-03-06T18:36:28.423Z"
   },
   {
    "duration": 25,
    "start_time": "2025-03-06T18:38:22.746Z"
   },
   {
    "duration": 22,
    "start_time": "2025-03-06T18:38:44.740Z"
   },
   {
    "duration": 25,
    "start_time": "2025-03-06T18:39:08.447Z"
   },
   {
    "duration": 25,
    "start_time": "2025-03-06T18:39:21.074Z"
   },
   {
    "duration": 114,
    "start_time": "2025-03-06T18:39:51.156Z"
   },
   {
    "duration": 33,
    "start_time": "2025-03-06T18:40:04.129Z"
   },
   {
    "duration": 31,
    "start_time": "2025-03-06T18:41:42.960Z"
   },
   {
    "duration": 26,
    "start_time": "2025-03-06T18:41:55.866Z"
   },
   {
    "duration": 28,
    "start_time": "2025-03-06T18:42:02.495Z"
   },
   {
    "duration": 27,
    "start_time": "2025-03-06T18:42:10.138Z"
   },
   {
    "duration": 129,
    "start_time": "2025-03-06T18:59:02.609Z"
   },
   {
    "duration": 82,
    "start_time": "2025-03-07T06:14:15.757Z"
   }
  ],
  "kernelspec": {
   "display_name": "Python 3 (ipykernel)",
   "language": "python",
   "name": "python3"
  },
  "language_info": {
   "codemirror_mode": {
    "name": "ipython",
    "version": 3
   },
   "file_extension": ".py",
   "mimetype": "text/x-python",
   "name": "python",
   "nbconvert_exporter": "python",
   "pygments_lexer": "ipython3",
   "version": "3.9.5"
  },
  "toc": {
   "base_numbering": 1,
   "nav_menu": {},
   "number_sections": true,
   "sideBar": true,
   "skip_h1_title": true,
   "title_cell": "Table of Contents",
   "title_sidebar": "Contents",
   "toc_cell": false,
   "toc_position": {
    "height": "calc(100% - 180px)",
    "left": "10px",
    "top": "150px",
    "width": "254.034px"
   },
   "toc_section_display": true,
   "toc_window_display": true
  }
 },
 "nbformat": 4,
 "nbformat_minor": 2
}
