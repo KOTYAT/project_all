{
 "cells": [
  {
   "cell_type": "code",
   "execution_count": 1,
   "metadata": {
    "scrolled": true
   },
   "outputs": [
    {
     "name": "stdout",
     "output_type": "stream",
     "text": [
      "Requirement already satisfied: scipy in /opt/conda/lib/python3.9/site-packages (1.9.1)\n",
      "Collecting scipy\n",
      "  Downloading scipy-1.13.1-cp39-cp39-manylinux_2_17_x86_64.manylinux2014_x86_64.whl (38.6 MB)\n",
      "\u001b[K     |████████████████████████████████| 38.6 MB 167 kB/s eta 0:00:01\n",
      "\u001b[?25hCollecting numpy<2.3,>=1.22.4\n",
      "  Downloading numpy-2.0.2-cp39-cp39-manylinux_2_17_x86_64.manylinux2014_x86_64.whl (19.5 MB)\n",
      "\u001b[K     |████████████████████████████████| 19.5 MB 53.8 MB/s eta 0:00:01\n",
      "\u001b[?25hInstalling collected packages: numpy, scipy\n",
      "  Attempting uninstall: numpy\n",
      "    Found existing installation: numpy 1.21.1\n",
      "    Uninstalling numpy-1.21.1:\n",
      "      Successfully uninstalled numpy-1.21.1\n",
      "  Attempting uninstall: scipy\n",
      "    Found existing installation: scipy 1.9.1\n",
      "    Uninstalling scipy-1.9.1:\n",
      "      Successfully uninstalled scipy-1.9.1\n",
      "\u001b[31mERROR: pip's dependency resolver does not currently take into account all the packages that are installed. This behaviour is the source of the following dependency conflicts.\n",
      "numba 0.56.0 requires numpy<1.23,>=1.18, but you have numpy 2.0.2 which is incompatible.\u001b[0m\n",
      "Successfully installed numpy-2.0.2 scipy-1.13.1\n",
      "Requirement already satisfied: numba in /opt/conda/lib/python3.9/site-packages (0.56.0)\n",
      "Collecting numba\n",
      "  Downloading numba-0.60.0-cp39-cp39-manylinux2014_x86_64.manylinux_2_17_x86_64.whl (3.7 MB)\n",
      "\u001b[K     |████████████████████████████████| 3.7 MB 2.0 MB/s eta 0:00:01\n",
      "\u001b[?25hRequirement already satisfied: numpy<2.1,>=1.22 in /opt/conda/lib/python3.9/site-packages (from numba) (2.0.2)\n",
      "Collecting llvmlite<0.44,>=0.43.0dev0\n",
      "  Downloading llvmlite-0.43.0-cp39-cp39-manylinux_2_17_x86_64.manylinux2014_x86_64.whl (43.9 MB)\n",
      "\u001b[K     |████████████████████████████████| 43.9 MB 68 kB/s s eta 0:00:01\n",
      "\u001b[?25hInstalling collected packages: llvmlite, numba\n",
      "  Attempting uninstall: llvmlite\n",
      "    Found existing installation: llvmlite 0.39.0\n",
      "    Uninstalling llvmlite-0.39.0:\n",
      "      Successfully uninstalled llvmlite-0.39.0\n",
      "  Attempting uninstall: numba\n",
      "    Found existing installation: numba 0.56.0\n",
      "    Uninstalling numba-0.56.0:\n",
      "      Successfully uninstalled numba-0.56.0\n",
      "Successfully installed llvmlite-0.43.0 numba-0.60.0\n",
      "Requirement already satisfied: numpy in /opt/conda/lib/python3.9/site-packages (2.0.2)\n",
      "Requirement already satisfied: jinja2 in /opt/conda/lib/python3.9/site-packages (3.0.1)\n",
      "Collecting jinja2\n",
      "  Downloading jinja2-3.1.6-py3-none-any.whl (134 kB)\n",
      "\u001b[K     |████████████████████████████████| 134 kB 1.2 MB/s eta 0:00:01\n",
      "\u001b[?25hRequirement already satisfied: MarkupSafe>=2.0 in /opt/conda/lib/python3.9/site-packages (from jinja2) (2.1.1)\n",
      "Installing collected packages: jinja2\n",
      "  Attempting uninstall: jinja2\n",
      "    Found existing installation: Jinja2 3.0.1\n",
      "    Uninstalling Jinja2-3.0.1:\n",
      "      Successfully uninstalled Jinja2-3.0.1\n",
      "Successfully installed jinja2-3.1.6\n",
      "Requirement already satisfied: pandas in /opt/conda/lib/python3.9/site-packages (1.2.4)\n",
      "Collecting pandas\n",
      "  Downloading pandas-2.3.0-cp39-cp39-manylinux_2_17_x86_64.manylinux2014_x86_64.whl (12.4 MB)\n",
      "\u001b[K     |████████████████████████████████| 12.4 MB 2.0 MB/s eta 0:00:01\n",
      "\u001b[?25hRequirement already satisfied: pytz>=2020.1 in /opt/conda/lib/python3.9/site-packages (from pandas) (2021.1)\n",
      "Requirement already satisfied: numpy>=1.22.4 in /opt/conda/lib/python3.9/site-packages (from pandas) (2.0.2)\n",
      "Collecting python-dateutil>=2.8.2\n",
      "  Downloading python_dateutil-2.9.0.post0-py2.py3-none-any.whl (229 kB)\n",
      "\u001b[K     |████████████████████████████████| 229 kB 56.2 MB/s eta 0:00:01\n",
      "\u001b[?25hCollecting tzdata>=2022.7\n",
      "  Downloading tzdata-2025.2-py2.py3-none-any.whl (347 kB)\n",
      "\u001b[K     |████████████████████████████████| 347 kB 88.7 MB/s eta 0:00:01\n",
      "\u001b[?25hRequirement already satisfied: six>=1.5 in /opt/conda/lib/python3.9/site-packages (from python-dateutil>=2.8.2->pandas) (1.16.0)\n",
      "Installing collected packages: tzdata, python-dateutil, pandas\n",
      "  Attempting uninstall: python-dateutil\n",
      "    Found existing installation: python-dateutil 2.8.1\n",
      "    Uninstalling python-dateutil-2.8.1:\n",
      "      Successfully uninstalled python-dateutil-2.8.1\n",
      "  Attempting uninstall: pandas\n",
      "    Found existing installation: pandas 1.2.4\n",
      "    Uninstalling pandas-1.2.4:\n",
      "      Successfully uninstalled pandas-1.2.4\n",
      "Successfully installed pandas-2.3.0 python-dateutil-2.9.0.post0 tzdata-2025.2\n",
      "Requirement already satisfied: matplotlib in /opt/conda/lib/python3.9/site-packages (3.3.4)\n",
      "Collecting matplotlib\n",
      "  Downloading matplotlib-3.9.4-cp39-cp39-manylinux_2_17_x86_64.manylinux2014_x86_64.whl (8.3 MB)\n",
      "\u001b[K     |████████████████████████████████| 8.3 MB 125 kB/s eta 0:00:01\n",
      "\u001b[?25hRequirement already satisfied: packaging>=20.0 in /opt/conda/lib/python3.9/site-packages (from matplotlib) (21.3)\n",
      "Collecting contourpy>=1.0.1\n",
      "  Downloading contourpy-1.3.0-cp39-cp39-manylinux_2_17_x86_64.manylinux2014_x86_64.whl (321 kB)\n",
      "\u001b[K     |████████████████████████████████| 321 kB 67.2 MB/s eta 0:00:01\n",
      "\u001b[?25hRequirement already satisfied: python-dateutil>=2.7 in /opt/conda/lib/python3.9/site-packages (from matplotlib) (2.9.0.post0)\n",
      "Collecting fonttools>=4.22.0\n",
      "  Downloading fonttools-4.58.4-cp39-cp39-manylinux2014_x86_64.manylinux_2_17_x86_64.whl (4.7 MB)\n",
      "\u001b[K     |████████████████████████████████| 4.7 MB 53.4 MB/s eta 0:00:01\n",
      "\u001b[?25hRequirement already satisfied: cycler>=0.10 in /opt/conda/lib/python3.9/site-packages (from matplotlib) (0.11.0)\n",
      "Requirement already satisfied: pillow>=8 in /opt/conda/lib/python3.9/site-packages (from matplotlib) (8.4.0)\n",
      "Requirement already satisfied: kiwisolver>=1.3.1 in /opt/conda/lib/python3.9/site-packages (from matplotlib) (1.4.4)\n",
      "Requirement already satisfied: pyparsing>=2.3.1 in /opt/conda/lib/python3.9/site-packages (from matplotlib) (2.4.7)\n",
      "Collecting importlib-resources>=3.2.0\n",
      "  Downloading importlib_resources-6.5.2-py3-none-any.whl (37 kB)\n",
      "Requirement already satisfied: numpy>=1.23 in /opt/conda/lib/python3.9/site-packages (from matplotlib) (2.0.2)\n",
      "Requirement already satisfied: zipp>=3.1.0 in /opt/conda/lib/python3.9/site-packages (from importlib-resources>=3.2.0->matplotlib) (3.5.0)\n",
      "Requirement already satisfied: six>=1.5 in /opt/conda/lib/python3.9/site-packages (from python-dateutil>=2.7->matplotlib) (1.16.0)\n",
      "Installing collected packages: importlib-resources, fonttools, contourpy, matplotlib\n",
      "  Attempting uninstall: matplotlib\n",
      "    Found existing installation: matplotlib 3.3.4\n",
      "    Uninstalling matplotlib-3.3.4:\n",
      "      Successfully uninstalled matplotlib-3.3.4\n",
      "Successfully installed contourpy-1.3.0 fonttools-4.58.4 importlib-resources-6.5.2 matplotlib-3.9.4\n",
      "Requirement already satisfied: seaborn in /opt/conda/lib/python3.9/site-packages (0.11.1)\n",
      "Collecting seaborn\n",
      "  Downloading seaborn-0.13.2-py3-none-any.whl (294 kB)\n",
      "\u001b[K     |████████████████████████████████| 294 kB 1.5 MB/s eta 0:00:01\n",
      "\u001b[?25hRequirement already satisfied: pandas>=1.2 in /opt/conda/lib/python3.9/site-packages (from seaborn) (2.3.0)\n",
      "Requirement already satisfied: matplotlib!=3.6.1,>=3.4 in /opt/conda/lib/python3.9/site-packages (from seaborn) (3.9.4)\n",
      "Requirement already satisfied: numpy!=1.24.0,>=1.20 in /opt/conda/lib/python3.9/site-packages (from seaborn) (2.0.2)\n",
      "Requirement already satisfied: python-dateutil>=2.7 in /opt/conda/lib/python3.9/site-packages (from matplotlib!=3.6.1,>=3.4->seaborn) (2.9.0.post0)\n",
      "Requirement already satisfied: contourpy>=1.0.1 in /opt/conda/lib/python3.9/site-packages (from matplotlib!=3.6.1,>=3.4->seaborn) (1.3.0)\n",
      "Requirement already satisfied: cycler>=0.10 in /opt/conda/lib/python3.9/site-packages (from matplotlib!=3.6.1,>=3.4->seaborn) (0.11.0)\n",
      "Requirement already satisfied: kiwisolver>=1.3.1 in /opt/conda/lib/python3.9/site-packages (from matplotlib!=3.6.1,>=3.4->seaborn) (1.4.4)\n",
      "Requirement already satisfied: fonttools>=4.22.0 in /opt/conda/lib/python3.9/site-packages (from matplotlib!=3.6.1,>=3.4->seaborn) (4.58.4)\n",
      "Requirement already satisfied: packaging>=20.0 in /opt/conda/lib/python3.9/site-packages (from matplotlib!=3.6.1,>=3.4->seaborn) (21.3)\n",
      "Requirement already satisfied: importlib-resources>=3.2.0 in /opt/conda/lib/python3.9/site-packages (from matplotlib!=3.6.1,>=3.4->seaborn) (6.5.2)\n",
      "Requirement already satisfied: pillow>=8 in /opt/conda/lib/python3.9/site-packages (from matplotlib!=3.6.1,>=3.4->seaborn) (8.4.0)\n",
      "Requirement already satisfied: pyparsing>=2.3.1 in /opt/conda/lib/python3.9/site-packages (from matplotlib!=3.6.1,>=3.4->seaborn) (2.4.7)\n",
      "Requirement already satisfied: zipp>=3.1.0 in /opt/conda/lib/python3.9/site-packages (from importlib-resources>=3.2.0->matplotlib!=3.6.1,>=3.4->seaborn) (3.5.0)\n",
      "Requirement already satisfied: pytz>=2020.1 in /opt/conda/lib/python3.9/site-packages (from pandas>=1.2->seaborn) (2021.1)\n",
      "Requirement already satisfied: tzdata>=2022.7 in /opt/conda/lib/python3.9/site-packages (from pandas>=1.2->seaborn) (2025.2)\n",
      "Requirement already satisfied: six>=1.5 in /opt/conda/lib/python3.9/site-packages (from python-dateutil>=2.7->matplotlib!=3.6.1,>=3.4->seaborn) (1.16.0)\n",
      "Installing collected packages: seaborn\n",
      "  Attempting uninstall: seaborn\n",
      "    Found existing installation: seaborn 0.11.1\n",
      "    Uninstalling seaborn-0.11.1:\n",
      "      Successfully uninstalled seaborn-0.11.1\n",
      "Successfully installed seaborn-0.13.2\n",
      "Requirement already satisfied: scikit-learn in /opt/conda/lib/python3.9/site-packages (0.24.1)\n",
      "Collecting scikit-learn\n",
      "  Downloading scikit_learn-1.6.1-cp39-cp39-manylinux_2_17_x86_64.manylinux2014_x86_64.whl (13.5 MB)\n",
      "\u001b[K     |████████████████████████████████| 13.5 MB 2.0 MB/s eta 0:00:01\n",
      "\u001b[?25hRequirement already satisfied: threadpoolctl>=3.1.0 in /opt/conda/lib/python3.9/site-packages (from scikit-learn) (3.1.0)\n",
      "Collecting joblib>=1.2.0\n",
      "  Downloading joblib-1.5.1-py3-none-any.whl (307 kB)\n",
      "\u001b[K     |████████████████████████████████| 307 kB 62.5 MB/s eta 0:00:01\n",
      "\u001b[?25hRequirement already satisfied: numpy>=1.19.5 in /opt/conda/lib/python3.9/site-packages (from scikit-learn) (2.0.2)\n",
      "Requirement already satisfied: scipy>=1.6.0 in /opt/conda/lib/python3.9/site-packages (from scikit-learn) (1.13.1)\n",
      "Installing collected packages: joblib, scikit-learn\n",
      "  Attempting uninstall: joblib\n",
      "    Found existing installation: joblib 1.1.0\n",
      "    Uninstalling joblib-1.1.0:\n",
      "      Successfully uninstalled joblib-1.1.0\n",
      "  Attempting uninstall: scikit-learn\n",
      "    Found existing installation: scikit-learn 0.24.1\n",
      "    Uninstalling scikit-learn-0.24.1:\n",
      "      Successfully uninstalled scikit-learn-0.24.1\n",
      "Successfully installed joblib-1.5.1 scikit-learn-1.6.1\n"
     ]
    }
   ],
   "source": [
    "!pip install -U scipy \n",
    "!pip install -U numba \n",
    "!pip install -U numpy \n",
    "!pip install -U jinja2 \n",
    "!pip install -U pandas\n",
    "!pip install -U matplotlib \n",
    "!pip install -U seaborn \n",
    "!pip install -U scikit-learn \n",
    "!pip install imbalanced-learn -q \n",
    "!pip install shap -q \n",
    "!pip install phik -q"
   ]
  },
  {
   "cell_type": "code",
   "execution_count": 2,
   "metadata": {},
   "outputs": [
    {
     "name": "stderr",
     "output_type": "stream",
     "text": [
      "\n",
      "A module that was compiled using NumPy 1.x cannot be run in\n",
      "NumPy 2.0.2 as it may crash. To support both 1.x and 2.x\n",
      "versions of NumPy, modules must be compiled with NumPy 2.0.\n",
      "Some module may need to rebuild instead e.g. with 'pybind11>=2.12'.\n",
      "\n",
      "If you are a user of the module, the easiest solution will be to\n",
      "downgrade to 'numpy<2' or try to upgrade the affected module.\n",
      "We expect that some modules will need time to support NumPy 2.\n",
      "\n",
      "Traceback (most recent call last):  File \"/opt/conda/lib/python3.9/runpy.py\", line 197, in _run_module_as_main\n",
      "    return _run_code(code, main_globals, None,\n",
      "  File \"/opt/conda/lib/python3.9/runpy.py\", line 87, in _run_code\n",
      "    exec(code, run_globals)\n",
      "  File \"/opt/conda/lib/python3.9/site-packages/ipykernel_launcher.py\", line 16, in <module>\n",
      "    app.launch_new_instance()\n",
      "  File \"/opt/conda/lib/python3.9/site-packages/traitlets/config/application.py\", line 845, in launch_instance\n",
      "    app.start()\n",
      "  File \"/opt/conda/lib/python3.9/site-packages/ipykernel/kernelapp.py\", line 668, in start\n",
      "    self.io_loop.start()\n",
      "  File \"/opt/conda/lib/python3.9/site-packages/tornado/platform/asyncio.py\", line 199, in start\n",
      "    self.asyncio_loop.run_forever()\n",
      "  File \"/opt/conda/lib/python3.9/asyncio/base_events.py\", line 596, in run_forever\n",
      "    self._run_once()\n",
      "  File \"/opt/conda/lib/python3.9/asyncio/base_events.py\", line 1890, in _run_once\n",
      "    handle._run()\n",
      "  File \"/opt/conda/lib/python3.9/asyncio/events.py\", line 80, in _run\n",
      "    self._context.run(self._callback, *self._args)\n",
      "  File \"/opt/conda/lib/python3.9/site-packages/ipykernel/kernelbase.py\", line 456, in dispatch_queue\n",
      "    await self.process_one()\n",
      "  File \"/opt/conda/lib/python3.9/site-packages/ipykernel/kernelbase.py\", line 445, in process_one\n",
      "    await dispatch(*args)\n",
      "  File \"/opt/conda/lib/python3.9/site-packages/ipykernel/kernelbase.py\", line 352, in dispatch_shell\n",
      "    await result\n",
      "  File \"/opt/conda/lib/python3.9/site-packages/ipykernel/kernelbase.py\", line 647, in execute_request\n",
      "    reply_content = await reply_content\n",
      "  File \"/opt/conda/lib/python3.9/site-packages/ipykernel/ipkernel.py\", line 335, in do_execute\n",
      "    res = shell.run_cell(code, store_history=store_history, silent=silent)\n",
      "  File \"/opt/conda/lib/python3.9/site-packages/ipykernel/zmqshell.py\", line 532, in run_cell\n",
      "    return super(ZMQInteractiveShell, self).run_cell(*args, **kwargs)\n",
      "  File \"/opt/conda/lib/python3.9/site-packages/IPython/core/interactiveshell.py\", line 2898, in run_cell\n",
      "    result = self._run_cell(\n",
      "  File \"/opt/conda/lib/python3.9/site-packages/IPython/core/interactiveshell.py\", line 2944, in _run_cell\n",
      "    return runner(coro)\n",
      "  File \"/opt/conda/lib/python3.9/site-packages/IPython/core/async_helpers.py\", line 68, in _pseudo_sync_runner\n",
      "    coro.send(None)\n",
      "  File \"/opt/conda/lib/python3.9/site-packages/IPython/core/interactiveshell.py\", line 3169, in run_cell_async\n",
      "    has_raised = await self.run_ast_nodes(code_ast.body, cell_name,\n",
      "  File \"/opt/conda/lib/python3.9/site-packages/IPython/core/interactiveshell.py\", line 3361, in run_ast_nodes\n",
      "    if (await self.run_code(code, result,  async_=asy)):\n",
      "  File \"/opt/conda/lib/python3.9/site-packages/IPython/core/interactiveshell.py\", line 3441, in run_code\n",
      "    exec(code_obj, self.user_global_ns, self.user_ns)\n",
      "  File \"/tmp/ipykernel_48/4128255568.py\", line 20, in <module>\n",
      "    setup_environment()\n",
      "  File \"/tmp/ipykernel_48/4128255568.py\", line 10, in setup_environment\n",
      "    __import__(import_name)\n",
      "  File \"/opt/conda/lib/python3.9/site-packages/phik/__init__.py\", line 4, in <module>\n",
      "    from phik import decorators\n",
      "  File \"/opt/conda/lib/python3.9/site-packages/phik/decorators/__init__.py\", line 4, in <module>\n",
      "    from phik.decorators import pandas\n",
      "  File \"/opt/conda/lib/python3.9/site-packages/phik/decorators/pandas.py\", line 18, in <module>\n",
      "    from pandas import DataFrame, Series\n",
      "  File \"/opt/conda/lib/python3.9/site-packages/pandas/__init__.py\", line 26, in <module>\n",
      "    from pandas.compat import (\n",
      "  File \"/opt/conda/lib/python3.9/site-packages/pandas/compat/__init__.py\", line 27, in <module>\n",
      "    from pandas.compat.pyarrow import (\n",
      "  File \"/opt/conda/lib/python3.9/site-packages/pandas/compat/pyarrow.py\", line 8, in <module>\n",
      "    import pyarrow as pa\n",
      "  File \"/opt/conda/lib/python3.9/site-packages/pyarrow/__init__.py\", line 63, in <module>\n",
      "    import pyarrow.lib as _lib\n"
     ]
    },
    {
     "ename": "AttributeError",
     "evalue": "_ARRAY_API not found",
     "output_type": "error",
     "traceback": [
      "\u001b[0;31m---------------------------------------------------------------------------\u001b[0m",
      "\u001b[0;31mAttributeError\u001b[0m                            Traceback (most recent call last)",
      "\u001b[0;31mAttributeError\u001b[0m: _ARRAY_API not found"
     ]
    },
    {
     "name": "stderr",
     "output_type": "stream",
     "text": [
      "\n",
      "A module that was compiled using NumPy 1.x cannot be run in\n",
      "NumPy 2.0.2 as it may crash. To support both 1.x and 2.x\n",
      "versions of NumPy, modules must be compiled with NumPy 2.0.\n",
      "Some module may need to rebuild instead e.g. with 'pybind11>=2.12'.\n",
      "\n",
      "If you are a user of the module, the easiest solution will be to\n",
      "downgrade to 'numpy<2' or try to upgrade the affected module.\n",
      "We expect that some modules will need time to support NumPy 2.\n",
      "\n",
      "Traceback (most recent call last):  File \"/opt/conda/lib/python3.9/runpy.py\", line 197, in _run_module_as_main\n",
      "    return _run_code(code, main_globals, None,\n",
      "  File \"/opt/conda/lib/python3.9/runpy.py\", line 87, in _run_code\n",
      "    exec(code, run_globals)\n",
      "  File \"/opt/conda/lib/python3.9/site-packages/ipykernel_launcher.py\", line 16, in <module>\n",
      "    app.launch_new_instance()\n",
      "  File \"/opt/conda/lib/python3.9/site-packages/traitlets/config/application.py\", line 845, in launch_instance\n",
      "    app.start()\n",
      "  File \"/opt/conda/lib/python3.9/site-packages/ipykernel/kernelapp.py\", line 668, in start\n",
      "    self.io_loop.start()\n",
      "  File \"/opt/conda/lib/python3.9/site-packages/tornado/platform/asyncio.py\", line 199, in start\n",
      "    self.asyncio_loop.run_forever()\n",
      "  File \"/opt/conda/lib/python3.9/asyncio/base_events.py\", line 596, in run_forever\n",
      "    self._run_once()\n",
      "  File \"/opt/conda/lib/python3.9/asyncio/base_events.py\", line 1890, in _run_once\n",
      "    handle._run()\n",
      "  File \"/opt/conda/lib/python3.9/asyncio/events.py\", line 80, in _run\n",
      "    self._context.run(self._callback, *self._args)\n",
      "  File \"/opt/conda/lib/python3.9/site-packages/ipykernel/kernelbase.py\", line 456, in dispatch_queue\n",
      "    await self.process_one()\n",
      "  File \"/opt/conda/lib/python3.9/site-packages/ipykernel/kernelbase.py\", line 445, in process_one\n",
      "    await dispatch(*args)\n",
      "  File \"/opt/conda/lib/python3.9/site-packages/ipykernel/kernelbase.py\", line 352, in dispatch_shell\n",
      "    await result\n",
      "  File \"/opt/conda/lib/python3.9/site-packages/ipykernel/kernelbase.py\", line 647, in execute_request\n",
      "    reply_content = await reply_content\n",
      "  File \"/opt/conda/lib/python3.9/site-packages/ipykernel/ipkernel.py\", line 335, in do_execute\n",
      "    res = shell.run_cell(code, store_history=store_history, silent=silent)\n",
      "  File \"/opt/conda/lib/python3.9/site-packages/ipykernel/zmqshell.py\", line 532, in run_cell\n",
      "    return super(ZMQInteractiveShell, self).run_cell(*args, **kwargs)\n",
      "  File \"/opt/conda/lib/python3.9/site-packages/IPython/core/interactiveshell.py\", line 2898, in run_cell\n",
      "    result = self._run_cell(\n",
      "  File \"/opt/conda/lib/python3.9/site-packages/IPython/core/interactiveshell.py\", line 2944, in _run_cell\n",
      "    return runner(coro)\n",
      "  File \"/opt/conda/lib/python3.9/site-packages/IPython/core/async_helpers.py\", line 68, in _pseudo_sync_runner\n",
      "    coro.send(None)\n",
      "  File \"/opt/conda/lib/python3.9/site-packages/IPython/core/interactiveshell.py\", line 3169, in run_cell_async\n",
      "    has_raised = await self.run_ast_nodes(code_ast.body, cell_name,\n",
      "  File \"/opt/conda/lib/python3.9/site-packages/IPython/core/interactiveshell.py\", line 3361, in run_ast_nodes\n",
      "    if (await self.run_code(code, result,  async_=asy)):\n",
      "  File \"/opt/conda/lib/python3.9/site-packages/IPython/core/interactiveshell.py\", line 3441, in run_code\n",
      "    exec(code_obj, self.user_global_ns, self.user_ns)\n",
      "  File \"/tmp/ipykernel_48/4128255568.py\", line 20, in <module>\n",
      "    setup_environment()\n",
      "  File \"/tmp/ipykernel_48/4128255568.py\", line 10, in setup_environment\n",
      "    __import__(import_name)\n",
      "  File \"/opt/conda/lib/python3.9/site-packages/phik/__init__.py\", line 4, in <module>\n",
      "    from phik import decorators\n",
      "  File \"/opt/conda/lib/python3.9/site-packages/phik/decorators/__init__.py\", line 4, in <module>\n",
      "    from phik.decorators import pandas\n",
      "  File \"/opt/conda/lib/python3.9/site-packages/phik/decorators/pandas.py\", line 18, in <module>\n",
      "    from pandas import DataFrame, Series\n",
      "  File \"/opt/conda/lib/python3.9/site-packages/pandas/__init__.py\", line 49, in <module>\n",
      "    from pandas.core.api import (\n",
      "  File \"/opt/conda/lib/python3.9/site-packages/pandas/core/api.py\", line 9, in <module>\n",
      "    from pandas.core.dtypes.dtypes import (\n",
      "  File \"/opt/conda/lib/python3.9/site-packages/pandas/core/dtypes/dtypes.py\", line 24, in <module>\n",
      "    from pandas._libs import (\n",
      "  File \"/opt/conda/lib/python3.9/site-packages/pyarrow/__init__.py\", line 63, in <module>\n",
      "    import pyarrow.lib as _lib\n"
     ]
    },
    {
     "ename": "AttributeError",
     "evalue": "_ARRAY_API not found",
     "output_type": "error",
     "traceback": [
      "\u001b[0;31m---------------------------------------------------------------------------\u001b[0m",
      "\u001b[0;31mAttributeError\u001b[0m                            Traceback (most recent call last)",
      "\u001b[0;31mAttributeError\u001b[0m: _ARRAY_API not found"
     ]
    },
    {
     "name": "stdout",
     "output_type": "stream",
     "text": [
      "phik уже установлен\n",
      "shap уже установлен\n",
      "scikit-learn уже установлен\n",
      "\n",
      "Все зависимости готовы к работе!\n"
     ]
    }
   ],
   "source": [
    "def setup_environment():\n",
    "    required_packages = {\n",
    "        'phik': 'phik',\n",
    "        'shap': 'shap',\n",
    "        'sklearn': 'scikit-learn'\n",
    "    }\n",
    "    \n",
    "    for import_name, package_name in required_packages.items():\n",
    "        try:\n",
    "            __import__(import_name)\n",
    "            print(f\"{package_name} уже установлен\")\n",
    "        except ImportError:\n",
    "            print(f\"⏳ Устанавливаем {package_name}...\")\n",
    "            !pip install -q {package_name}\n",
    "            print(f\"{package_name} успешно установлен\")\n",
    "    \n",
    "    print(\"\\nВсе зависимости готовы к работе!\")\n",
    "\n",
    "# вызов функции при старте ноутбука\n",
    "setup_environment()"
   ]
  },
  {
   "cell_type": "code",
   "execution_count": 3,
   "metadata": {},
   "outputs": [],
   "source": [
    "import os\n",
    "from urllib.request import urlopen\n",
    "import pandas as pd\n",
    "import numpy as np\n",
    "import matplotlib.pyplot as plt\n",
    "import seaborn as sns\n",
    "from sklearn.pipeline import Pipeline\n",
    "from sklearn.model_selection import (GridSearchCV,\n",
    "                                     train_test_split)\n",
    "from sklearn.preprocessing import (RobustScaler, \n",
    "                                   MinMaxScaler, \n",
    "                                   StandardScaler,\n",
    "                                   PolynomialFeatures)\n",
    "from sklearn.impute import SimpleImputer\n",
    "from sklearn.linear_model import LinearRegression\n",
    "from sklearn.compose import ColumnTransformer\n",
    "from sklearn.feature_selection import SelectKBest, f_classif\n",
    "import phik\n",
    "from phik import phik_matrix\n",
    "import shap\n",
    "import scipy\n",
    "from urllib.request import urlopen\n",
    "from io import StringIO\n",
    "from sklearn.metrics import root_mean_squared_error\n",
    "from sklearn.base import TransformerMixin, BaseEstimator\n",
    "from numpy.random import RandomState"
   ]
  },
  {
   "cell_type": "code",
   "execution_count": 4,
   "metadata": {},
   "outputs": [
    {
     "name": "stdout",
     "output_type": "stream",
     "text": [
      "Package                           Version\r\n",
      "--------------------------------- -------------------\r\n",
      "absl-py                           1.2.0\r\n",
      "alembic                           1.6.5\r\n",
      "anyio                             3.2.1\r\n",
      "argon2-cffi                       20.1.0\r\n",
      "astunparse                        1.6.3\r\n",
      "async-generator                   1.10\r\n",
      "attrs                             21.2.0\r\n",
      "Babel                             2.9.1\r\n",
      "backcall                          0.2.0\r\n",
      "backports.functools-lru-cache     1.6.4\r\n",
      "beautifulsoup4                    4.9.3\r\n",
      "bleach                            3.3.0\r\n",
      "blinker                           1.4\r\n",
      "blis                              0.7.8\r\n",
      "branca                            0.5.0\r\n",
      "brotlipy                          0.7.0\r\n",
      "cachetools                        5.2.0\r\n",
      "catalogue                         2.0.8\r\n",
      "catboost                          1.0.3\r\n",
      "certifi                           2022.6.15\r\n",
      "certipy                           0.1.3\r\n",
      "cffi                              1.14.5\r\n",
      "chardet                           4.0.0\r\n",
      "click                             8.1.3\r\n",
      "cloudpickle                       3.1.1\r\n",
      "conda                             4.10.2\r\n",
      "conda-package-handling            1.7.3\r\n",
      "contourpy                         1.3.0\r\n",
      "convertdate                       2.4.0\r\n",
      "cryptography                      3.4.7\r\n",
      "cycler                            0.11.0\r\n",
      "cymem                             2.0.6\r\n",
      "DAWG-Python                       0.7.2\r\n",
      "debugpy                           1.3.0\r\n",
      "decorator                         5.0.9\r\n",
      "defusedxml                        0.7.1\r\n",
      "docopt                            0.6.2\r\n",
      "en-core-web-sm                    3.2.0\r\n",
      "entrypoints                       0.3\r\n",
      "et-xmlfile                        1.1.0\r\n",
      "filelock                          3.8.0\r\n",
      "findspark                         1.4.2\r\n",
      "flatbuffers                       2.0.7\r\n",
      "folium                            0.12.1.post1\r\n",
      "fonttools                         4.58.4\r\n",
      "fuzzywuzzy                        0.18.0\r\n",
      "gast                              0.4.0\r\n",
      "gensim                            4.1.2\r\n",
      "google-auth                       2.11.0\r\n",
      "google-auth-oauthlib              0.4.6\r\n",
      "google-pasta                      0.2.0\r\n",
      "graphviz                          0.20.1\r\n",
      "greenlet                          1.1.0\r\n",
      "grpcio                            1.47.0\r\n",
      "gspread                           5.0.0\r\n",
      "h5py                              3.7.0\r\n",
      "hijri-converter                   2.2.4\r\n",
      "holidays                          0.11.3.1\r\n",
      "huggingface-hub                   0.9.1\r\n",
      "idna                              2.10\r\n",
      "imbalanced-learn                  0.12.4\r\n",
      "importlib-metadata                4.6.1\r\n",
      "importlib-resources               6.5.2\r\n",
      "ipykernel                         6.0.1\r\n",
      "ipython                           7.25.0\r\n",
      "ipython-genutils                  0.2.0\r\n",
      "ipywidgets                        7.6.3\r\n",
      "jedi                              0.18.0\r\n",
      "jinja2                            3.1.6\r\n",
      "joblib                            1.5.1\r\n",
      "json5                             0.9.5\r\n",
      "jsonschema                        3.2.0\r\n",
      "jupyter                           1.0.0\r\n",
      "jupyter-client                    6.1.12\r\n",
      "jupyter-console                   6.4.2\r\n",
      "jupyter-contrib-core              0.4.0\r\n",
      "jupyter-contrib-nbextensions      0.5.1\r\n",
      "jupyter-core                      4.7.1\r\n",
      "jupyter-highlight-selected-word   0.2.0\r\n",
      "jupyter-latex-envs                1.4.6\r\n",
      "jupyter-nbextensions-configurator 0.5.0\r\n",
      "jupyter-server                    1.9.0\r\n",
      "jupyter-telemetry                 0.1.0\r\n",
      "jupyterhub                        1.4.2\r\n",
      "jupyterlab                        3.0.16\r\n",
      "jupyterlab-pygments               0.1.2\r\n",
      "jupyterlab-server                 2.6.0\r\n",
      "jupyterlab-widgets                3.0.2\r\n",
      "keras                             2.7.0\r\n",
      "Keras-Preprocessing               1.1.2\r\n",
      "kiwisolver                        1.4.4\r\n",
      "korean-lunar-calendar             0.2.1\r\n",
      "langcodes                         3.3.0\r\n",
      "libclang                          14.0.6\r\n",
      "lightgbm                          3.3.1\r\n",
      "llvmlite                          0.43.0\r\n",
      "lxml                              4.6.3\r\n",
      "Mako                              1.1.4\r\n",
      "mamba                             0.14.1\r\n",
      "Markdown                          3.4.1\r\n",
      "MarkupSafe                        2.1.1\r\n",
      "matplotlib                        3.9.4\r\n",
      "matplotlib-inline                 0.1.2\r\n",
      "mistune                           0.8.4\r\n",
      "murmurhash                        1.0.8\r\n",
      "nbclassic                         0.3.1\r\n",
      "nbclient                          0.5.3\r\n",
      "nbconvert                         6.1.0\r\n",
      "nbformat                          5.1.3\r\n",
      "nbgrader                          0.6.1\r\n",
      "nest-asyncio                      1.5.1\r\n",
      "nltk                              3.6.1\r\n",
      "notebook                          6.4.0\r\n",
      "numba                             0.60.0\r\n",
      "numpy                             2.0.2\r\n",
      "oauthlib                          3.1.1\r\n",
      "openpyxl                          3.0.9\r\n",
      "opt-einsum                        3.3.0\r\n",
      "packaging                         21.3\r\n",
      "pamela                            1.0.0\r\n",
      "pandas                            2.3.0\r\n",
      "pandocfilters                     1.4.2\r\n",
      "parso                             0.8.2\r\n",
      "pathy                             0.6.2\r\n",
      "patsy                             0.5.2\r\n",
      "pexpect                           4.8.0\r\n",
      "phik                              0.12.4\r\n",
      "pickleshare                       0.7.5\r\n",
      "Pillow                            8.4.0\r\n",
      "pip                               21.1.3\r\n",
      "plotly                            5.4.0\r\n",
      "preshed                           3.0.7\r\n",
      "prometheus-client                 0.11.0\r\n",
      "prompt-toolkit                    3.0.19\r\n",
      "protobuf                          3.19.4\r\n",
      "psycopg2-binary                   2.9.2\r\n",
      "ptyprocess                        0.7.0\r\n",
      "py4j                              0.10.9.3\r\n",
      "pyarrow                           5.0.0\r\n",
      "pyasn1                            0.4.8\r\n",
      "pyasn1-modules                    0.2.8\r\n",
      "pycosat                           0.6.3\r\n",
      "pycparser                         2.20\r\n",
      "pycurl                            7.43.0.6\r\n",
      "pydantic                          1.8.2\r\n",
      "Pygments                          2.9.0\r\n",
      "PyJWT                             2.1.0\r\n",
      "PyMeeus                           0.5.11\r\n",
      "pymorphy2                         0.9.1\r\n",
      "pymorphy2-dicts-ru                2.4.417127.4579844\r\n",
      "pymystem3                         0.2.0\r\n",
      "pyod                              0.9.5\r\n",
      "pyOpenSSL                         20.0.1\r\n",
      "pyparsing                         2.4.7\r\n",
      "pyrsistent                        0.17.3\r\n",
      "PySocks                           1.7.1\r\n",
      "pyspark                           3.0.2\r\n",
      "python-dateutil                   2.9.0.post0\r\n",
      "python-editor                     1.0.4\r\n",
      "python-json-logger                2.0.1\r\n",
      "pytz                              2021.1\r\n",
      "PyYAML                            6.0\r\n",
      "pyzmq                             22.1.0\r\n",
      "qtconsole                         5.3.2\r\n",
      "QtPy                              2.2.0\r\n",
      "regex                             2022.8.17\r\n",
      "requests                          2.25.1\r\n",
      "requests-oauthlib                 1.3.1\r\n",
      "requests-unixsocket               0.2.0\r\n",
      "rsa                               4.9\r\n",
      "ruamel-yaml-conda                 0.15.80\r\n",
      "ruamel.yaml                       0.17.10\r\n",
      "ruamel.yaml.clib                  0.2.2\r\n",
      "sacremoses                        0.0.53\r\n",
      "scikit-learn                      1.6.1\r\n",
      "scipy                             1.13.1\r\n",
      "seaborn                           0.13.2\r\n",
      "Send2Trash                        1.7.1\r\n",
      "setuptools                        49.6.0.post20210108\r\n",
      "shap                              0.48.0\r\n",
      "six                               1.16.0\r\n",
      "slicer                            0.0.8\r\n",
      "smart-open                        5.2.1\r\n",
      "sniffio                           1.2.0\r\n",
      "soupsieve                         2.3.2.post1\r\n",
      "spacy                             3.2.0\r\n",
      "spacy-legacy                      3.0.10\r\n",
      "spacy-loggers                     1.0.3\r\n",
      "SQLAlchemy                        1.4.20\r\n",
      "srsly                             2.4.4\r\n",
      "statsmodels                       0.13.2\r\n",
      "tenacity                          8.0.1\r\n",
      "tensorboard                       2.10.0\r\n",
      "tensorboard-data-server           0.6.1\r\n",
      "tensorboard-plugin-wit            1.8.1\r\n",
      "tensorflow-cpu                    2.7.0\r\n",
      "tensorflow-estimator              2.7.0\r\n",
      "tensorflow-io-gcs-filesystem      0.26.0\r\n",
      "termcolor                         1.1.0\r\n",
      "terminado                         0.10.1\r\n",
      "testpath                          0.5.0\r\n",
      "thinc                             8.0.17\r\n",
      "threadpoolctl                     3.1.0\r\n",
      "tokenizers                        0.10.3\r\n",
      "torch                             1.10.0\r\n",
      "tornado                           6.1\r\n",
      "tqdm                              4.61.2\r\n",
      "traitlets                         5.0.5\r\n",
      "transformers                      4.12.5\r\n",
      "typer                             0.4.2\r\n",
      "typing-extensions                 4.3.0\r\n",
      "tzdata                            2025.2\r\n",
      "urllib3                           1.26.6\r\n",
      "wasabi                            0.10.1\r\n",
      "wcwidth                           0.2.5\r\n",
      "webencodings                      0.5.1\r\n",
      "websocket-client                  0.57.0\r\n",
      "Werkzeug                          2.2.2\r\n",
      "wheel                             0.36.2\r\n",
      "widgetsnbextension                3.5.2\r\n",
      "wrapt                             1.14.1\r\n",
      "xgboost                           1.5.1\r\n",
      "xlrd                              2.0.1\r\n",
      "xmltodict                         0.12.0\r\n",
      "zipp                              3.5.0\r\n"
     ]
    }
   ],
   "source": [
    "!pip list"
   ]
  },
  {
   "cell_type": "markdown",
   "metadata": {},
   "source": [
    "# Описание проекта"
   ]
  },
  {
   "cell_type": "markdown",
   "metadata": {},
   "source": [
    "Допустим, мы работаем в добывающей компании «ГлавРосГосНефть». Нужно решить, где бурить новую скважину.\n",
    "\n",
    "Нам предоставлены пробы нефти в трёх регионах: в каждом 100 000 месторождений, где измерили качество нефти и объём её запасов. Построим модель машинного обучения, которая поможет определить регион, где добыча принесёт наибольшую прибыль. Проанализируем возможную прибыль и риски техникой *Bootstrap.*\n",
    "\n",
    "Шаги для выбора локации:\n",
    "\n",
    "- В избранном регионе ищут месторождения, для каждого определяют значения признаков;\n",
    "- Строят модель и оценивают объём запасов;\n",
    "- Выбирают месторождения с самым высокими оценками значений. Количество месторождений зависит от бюджета компании и стоимости разработки одной скважины;\n",
    "- Прибыль равна суммарной прибыли отобранных месторождений.\n",
    "\n",
    "**У нас есть 3 датасета со следующими признаками:**\n",
    "- id — уникальный идентификатор скважины;\n",
    "- f0, f1, f2 — три признака точек (неважно, что они означают, но сами признаки значимы);\n",
    "- product — объём запасов в скважине (тыс. баррелей).\n",
    "\n",
    "**Условия задачи:**\n",
    "- Для обучения модели подходит только линейная регрессия (остальные — недостаточно предсказуемые).\n",
    "- При разведке региона исследуют 500 точек, из которых с помощью машинного обучения выбирают 200 лучших для разработки.\n",
    "- Бюджет на разработку скважин в регионе — 10 млрд рублей.\n",
    "- При нынешних ценах один баррель сырья приносит 450 рублей дохода. Доход с каждой единицы продукта составляет 450 тыс. рублей, поскольку объём указан в тысячах баррелей.\n",
    "- После оценки рисков нужно оставить лишь те регионы, в которых вероятность убытков меньше 2.5%. Среди них выбирают регион с наибольшей средней прибылью."
   ]
  },
  {
   "cell_type": "markdown",
   "metadata": {},
   "source": [
    "# Загрузка и подготовка данных"
   ]
  },
  {
   "cell_type": "markdown",
   "metadata": {},
   "source": [
    "## Загрузка данных"
   ]
  },
  {
   "cell_type": "markdown",
   "metadata": {},
   "source": [
    "**Выведем по 3 строки каждого датасета.**"
   ]
  },
  {
   "cell_type": "code",
   "execution_count": 5,
   "metadata": {},
   "outputs": [],
   "source": [
    "file_paths = {\n",
    "    'df_1': [\n",
    "        'geo_data_0.csv',                          # локальный путь\n",
    "        '/datasets/geo_data_0.csv',                # серверный путь\n",
    "        'https://code.s3.yandex.net/datasets/geo_data_0.csv'  # URL\n",
    "    ],\n",
    "    'df_2': [\n",
    "        'geo_data_1.csv',                                        # локальный путь\n",
    "        '/datasets/geo_data_1.csv',                              # серверный путь\n",
    "        'https://code.s3.yandex.net/datasets/geo_data_1.csv'     # URL\n",
    "    ],\n",
    "    'df_3': [\n",
    "        'geo_data_2.csv',                    # локальный путь\n",
    "        '/datasets/geo_data_2.csv',          # серверный путь\n",
    "        'https://code.s3.yandex.net/datasets/geo_data_2.csv'  # URL\n",
    "    ]\n",
    "    \n",
    "}\n",
    "\n",
    "def find_and_read_csv(filename, **kwargs):\n",
    "    for path in file_paths[filename]:\n",
    "        try:\n",
    "            if path.startswith('http'):\n",
    "                with urlopen(path) as response:\n",
    "                    data = response.read().decode('utf-8')\n",
    "                # для URL-файлов сначала загружаем без индекса, затем проверяем наличие 'id'\n",
    "                temp_df = pd.read_csv(StringIO(data), **kwargs)\n",
    "                if 'id' in temp_df.columns:\n",
    "                    temp_df.set_index('id', inplace=True)\n",
    "                return temp_df\n",
    "            elif os.path.exists(path):\n",
    "                # для локальных файлов сначала пробуем с index_col, затем проверяем\n",
    "                try:\n",
    "                    return pd.read_csv(path, index_col='id', **kwargs)\n",
    "                except KeyError:\n",
    "                    temp_df = pd.read_csv(path, **kwargs)\n",
    "                    if 'id' in temp_df.columns:\n",
    "                        temp_df.set_index('id', inplace=True)\n",
    "                    return temp_df\n",
    "        except Exception as e:\n",
    "            print(f\"Ошибка при обработке {path}: {str(e)}\")\n",
    "            continue\n",
    "    \n",
    "    print(f\"Файл {filename} не найден ни по одному из путей: {file_paths[filename]}\")\n",
    "    return None\n",
    "\n",
    "df_1 = find_and_read_csv('df_1')\n",
    "df_2 = find_and_read_csv('df_2')\n",
    "df_3 = find_and_read_csv('df_3')"
   ]
  },
  {
   "cell_type": "code",
   "execution_count": 6,
   "metadata": {},
   "outputs": [
    {
     "data": {
      "text/html": [
       "<div>\n",
       "<style scoped>\n",
       "    .dataframe tbody tr th:only-of-type {\n",
       "        vertical-align: middle;\n",
       "    }\n",
       "\n",
       "    .dataframe tbody tr th {\n",
       "        vertical-align: top;\n",
       "    }\n",
       "\n",
       "    .dataframe thead th {\n",
       "        text-align: right;\n",
       "    }\n",
       "</style>\n",
       "<table border=\"1\" class=\"dataframe\">\n",
       "  <thead>\n",
       "    <tr style=\"text-align: right;\">\n",
       "      <th></th>\n",
       "      <th>f0</th>\n",
       "      <th>f1</th>\n",
       "      <th>f2</th>\n",
       "      <th>product</th>\n",
       "    </tr>\n",
       "    <tr>\n",
       "      <th>id</th>\n",
       "      <th></th>\n",
       "      <th></th>\n",
       "      <th></th>\n",
       "      <th></th>\n",
       "    </tr>\n",
       "  </thead>\n",
       "  <tbody>\n",
       "    <tr>\n",
       "      <th>txEyH</th>\n",
       "      <td>0.705745</td>\n",
       "      <td>-0.497823</td>\n",
       "      <td>1.221170</td>\n",
       "      <td>105.280062</td>\n",
       "    </tr>\n",
       "    <tr>\n",
       "      <th>2acmU</th>\n",
       "      <td>1.334711</td>\n",
       "      <td>-0.340164</td>\n",
       "      <td>4.365080</td>\n",
       "      <td>73.037750</td>\n",
       "    </tr>\n",
       "    <tr>\n",
       "      <th>409Wp</th>\n",
       "      <td>1.022732</td>\n",
       "      <td>0.151990</td>\n",
       "      <td>1.419926</td>\n",
       "      <td>85.265647</td>\n",
       "    </tr>\n",
       "  </tbody>\n",
       "</table>\n",
       "</div>"
      ],
      "text/plain": [
       "             f0        f1        f2     product\n",
       "id                                             \n",
       "txEyH  0.705745 -0.497823  1.221170  105.280062\n",
       "2acmU  1.334711 -0.340164  4.365080   73.037750\n",
       "409Wp  1.022732  0.151990  1.419926   85.265647"
      ]
     },
     "execution_count": 6,
     "metadata": {},
     "output_type": "execute_result"
    }
   ],
   "source": [
    "df_1.head(3)"
   ]
  },
  {
   "cell_type": "code",
   "execution_count": 7,
   "metadata": {},
   "outputs": [
    {
     "data": {
      "text/html": [
       "<div>\n",
       "<style scoped>\n",
       "    .dataframe tbody tr th:only-of-type {\n",
       "        vertical-align: middle;\n",
       "    }\n",
       "\n",
       "    .dataframe tbody tr th {\n",
       "        vertical-align: top;\n",
       "    }\n",
       "\n",
       "    .dataframe thead th {\n",
       "        text-align: right;\n",
       "    }\n",
       "</style>\n",
       "<table border=\"1\" class=\"dataframe\">\n",
       "  <thead>\n",
       "    <tr style=\"text-align: right;\">\n",
       "      <th></th>\n",
       "      <th>f0</th>\n",
       "      <th>f1</th>\n",
       "      <th>f2</th>\n",
       "      <th>product</th>\n",
       "    </tr>\n",
       "    <tr>\n",
       "      <th>id</th>\n",
       "      <th></th>\n",
       "      <th></th>\n",
       "      <th></th>\n",
       "      <th></th>\n",
       "    </tr>\n",
       "  </thead>\n",
       "  <tbody>\n",
       "    <tr>\n",
       "      <th>kBEdx</th>\n",
       "      <td>-15.001348</td>\n",
       "      <td>-8.276000</td>\n",
       "      <td>-0.005876</td>\n",
       "      <td>3.179103</td>\n",
       "    </tr>\n",
       "    <tr>\n",
       "      <th>62mP7</th>\n",
       "      <td>14.272088</td>\n",
       "      <td>-3.475083</td>\n",
       "      <td>0.999183</td>\n",
       "      <td>26.953261</td>\n",
       "    </tr>\n",
       "    <tr>\n",
       "      <th>vyE1P</th>\n",
       "      <td>6.263187</td>\n",
       "      <td>-5.948386</td>\n",
       "      <td>5.001160</td>\n",
       "      <td>134.766305</td>\n",
       "    </tr>\n",
       "  </tbody>\n",
       "</table>\n",
       "</div>"
      ],
      "text/plain": [
       "              f0        f1        f2     product\n",
       "id                                              \n",
       "kBEdx -15.001348 -8.276000 -0.005876    3.179103\n",
       "62mP7  14.272088 -3.475083  0.999183   26.953261\n",
       "vyE1P   6.263187 -5.948386  5.001160  134.766305"
      ]
     },
     "execution_count": 7,
     "metadata": {},
     "output_type": "execute_result"
    }
   ],
   "source": [
    "df_2.head(3)"
   ]
  },
  {
   "cell_type": "code",
   "execution_count": 8,
   "metadata": {},
   "outputs": [
    {
     "data": {
      "text/html": [
       "<div>\n",
       "<style scoped>\n",
       "    .dataframe tbody tr th:only-of-type {\n",
       "        vertical-align: middle;\n",
       "    }\n",
       "\n",
       "    .dataframe tbody tr th {\n",
       "        vertical-align: top;\n",
       "    }\n",
       "\n",
       "    .dataframe thead th {\n",
       "        text-align: right;\n",
       "    }\n",
       "</style>\n",
       "<table border=\"1\" class=\"dataframe\">\n",
       "  <thead>\n",
       "    <tr style=\"text-align: right;\">\n",
       "      <th></th>\n",
       "      <th>f0</th>\n",
       "      <th>f1</th>\n",
       "      <th>f2</th>\n",
       "      <th>product</th>\n",
       "    </tr>\n",
       "    <tr>\n",
       "      <th>id</th>\n",
       "      <th></th>\n",
       "      <th></th>\n",
       "      <th></th>\n",
       "      <th></th>\n",
       "    </tr>\n",
       "  </thead>\n",
       "  <tbody>\n",
       "    <tr>\n",
       "      <th>fwXo0</th>\n",
       "      <td>-1.146987</td>\n",
       "      <td>0.963328</td>\n",
       "      <td>-0.828965</td>\n",
       "      <td>27.758673</td>\n",
       "    </tr>\n",
       "    <tr>\n",
       "      <th>WJtFt</th>\n",
       "      <td>0.262778</td>\n",
       "      <td>0.269839</td>\n",
       "      <td>-2.530187</td>\n",
       "      <td>56.069697</td>\n",
       "    </tr>\n",
       "    <tr>\n",
       "      <th>ovLUW</th>\n",
       "      <td>0.194587</td>\n",
       "      <td>0.289035</td>\n",
       "      <td>-5.586433</td>\n",
       "      <td>62.871910</td>\n",
       "    </tr>\n",
       "  </tbody>\n",
       "</table>\n",
       "</div>"
      ],
      "text/plain": [
       "             f0        f1        f2    product\n",
       "id                                            \n",
       "fwXo0 -1.146987  0.963328 -0.828965  27.758673\n",
       "WJtFt  0.262778  0.269839 -2.530187  56.069697\n",
       "ovLUW  0.194587  0.289035 -5.586433  62.871910"
      ]
     },
     "execution_count": 8,
     "metadata": {},
     "output_type": "execute_result"
    }
   ],
   "source": [
    "df_3.head(3)"
   ]
  },
  {
   "cell_type": "markdown",
   "metadata": {},
   "source": [
    "**Готово, перейдём к следующему шагу.**"
   ]
  },
  {
   "cell_type": "markdown",
   "metadata": {},
   "source": [
    "## Предобработка данных"
   ]
  },
  {
   "cell_type": "markdown",
   "metadata": {},
   "source": [
    "**Подбробнее изучим данные и проверим на наличие ошибок.**"
   ]
  },
  {
   "cell_type": "code",
   "execution_count": 9,
   "metadata": {},
   "outputs": [
    {
     "name": "stdout",
     "output_type": "stream",
     "text": [
      "<class 'pandas.core.frame.DataFrame'>\n",
      "Index: 100000 entries, txEyH to 1CWhH\n",
      "Data columns (total 4 columns):\n",
      " #   Column   Non-Null Count   Dtype  \n",
      "---  ------   --------------   -----  \n",
      " 0   f0       100000 non-null  float64\n",
      " 1   f1       100000 non-null  float64\n",
      " 2   f2       100000 non-null  float64\n",
      " 3   product  100000 non-null  float64\n",
      "dtypes: float64(4)\n",
      "memory usage: 3.8+ MB\n"
     ]
    }
   ],
   "source": [
    "df_1.info()"
   ]
  },
  {
   "cell_type": "code",
   "execution_count": 10,
   "metadata": {},
   "outputs": [
    {
     "name": "stdout",
     "output_type": "stream",
     "text": [
      "<class 'pandas.core.frame.DataFrame'>\n",
      "Index: 100000 entries, kBEdx to relB0\n",
      "Data columns (total 4 columns):\n",
      " #   Column   Non-Null Count   Dtype  \n",
      "---  ------   --------------   -----  \n",
      " 0   f0       100000 non-null  float64\n",
      " 1   f1       100000 non-null  float64\n",
      " 2   f2       100000 non-null  float64\n",
      " 3   product  100000 non-null  float64\n",
      "dtypes: float64(4)\n",
      "memory usage: 3.8+ MB\n"
     ]
    }
   ],
   "source": [
    "df_2.info()"
   ]
  },
  {
   "cell_type": "code",
   "execution_count": 11,
   "metadata": {
    "scrolled": true
   },
   "outputs": [
    {
     "name": "stdout",
     "output_type": "stream",
     "text": [
      "<class 'pandas.core.frame.DataFrame'>\n",
      "Index: 100000 entries, fwXo0 to V9kWn\n",
      "Data columns (total 4 columns):\n",
      " #   Column   Non-Null Count   Dtype  \n",
      "---  ------   --------------   -----  \n",
      " 0   f0       100000 non-null  float64\n",
      " 1   f1       100000 non-null  float64\n",
      " 2   f2       100000 non-null  float64\n",
      " 3   product  100000 non-null  float64\n",
      "dtypes: float64(4)\n",
      "memory usage: 3.8+ MB\n"
     ]
    }
   ],
   "source": [
    "df_3.info()"
   ]
  },
  {
   "cell_type": "markdown",
   "metadata": {},
   "source": [
    "**Пропусков не найдено.**"
   ]
  },
  {
   "cell_type": "code",
   "execution_count": 12,
   "metadata": {},
   "outputs": [
    {
     "data": {
      "text/plain": [
       "'Дубликаты в 1 датафрейме: 0'"
      ]
     },
     "metadata": {},
     "output_type": "display_data"
    },
    {
     "data": {
      "text/plain": [
       "'Дубликаты в 2 датафрейме: 0'"
      ]
     },
     "metadata": {},
     "output_type": "display_data"
    },
    {
     "data": {
      "text/plain": [
       "'Дубликаты в 3 датафрейме: 0'"
      ]
     },
     "metadata": {},
     "output_type": "display_data"
    }
   ],
   "source": [
    "display(f'Дубликаты в 1 датафрейме: {df_1.duplicated().sum()}')\n",
    "display(f'Дубликаты в 2 датафрейме: {df_2.duplicated().sum()}')\n",
    "display(f'Дубликаты в 3 датафрейме: {df_3.duplicated().sum()}')"
   ]
  },
  {
   "cell_type": "markdown",
   "metadata": {},
   "source": [
    "**Дубликатов не найдено.**\n",
    "\n",
    "**Данные без явных ошибок, перейдём к исследовательскому анализу.**"
   ]
  },
  {
   "cell_type": "markdown",
   "metadata": {},
   "source": [
    "## Исследовательский анализ"
   ]
  },
  {
   "cell_type": "code",
   "execution_count": 13,
   "metadata": {},
   "outputs": [
    {
     "data": {
      "image/png": "[encoded data removed]",
      "text/plain": [
       "<Figure size 1296x720 with 4 Axes>"
      ]
     },
     "metadata": {
      "needs_background": "light"
     },
     "output_type": "display_data"
    }
   ],
   "source": [
    "fig, axes = plt.subplots(2, 3, figsize=(18, 10))\n",
    "fig.delaxes(axes[1, 0])\n",
    "fig.delaxes(axes[1, 2])\n",
    "\n",
    "def histgr(df, col, ax, bins):\n",
    "    sns.histplot(df[col], bins=bins, ax=ax, kde=True)\n",
    "    ax.set_title(f'Распределение {col}', fontsize=14)\n",
    "    ax.set_ylabel('Частота', fontsize=12)\n",
    "    ax.set_xlabel('Значение', fontsize=12)\n",
    "    ax.grid(alpha=0.3)\n",
    "\n",
    "histgr(df_1, 'f0', axes[0, 0], 30)\n",
    "histgr(df_1, 'f1', axes[0, 1], 30)\n",
    "histgr(df_1, 'f2', axes[0, 2], 30)\n",
    "histgr(df_1, 'product', axes[1, 1], 20)\n",
    "\n",
    "fig.suptitle('Анализ распределения признаков для df_1', fontsize=16);"
   ]
  },
  {
   "cell_type": "markdown",
   "metadata": {},
   "source": [
    "- Выбросы отсутствуют;\n",
    "- `f0`: значения лежат в промежутке от `-1.5` до `2.5`, имеется `4` пиковых значении;\n",
    "- `f1`: значения лежат в промежутке от `-0.9` до `1.9`, имеется `3` пиковых значении;\n",
    "- `f2`: значения лежат в промежутке от `-10` до `15`, пиковое значение `2.5`;\n",
    "- `product`: значения лежат в промежутке от `0` до `180`, распределение имеет `множество` пиковых значении."
   ]
  },
  {
   "cell_type": "code",
   "execution_count": 14,
   "metadata": {},
   "outputs": [
    {
     "data": {
      "image/png": "[encoded data removed]",
      "text/plain": [
       "<Figure size 1296x720 with 4 Axes>"
      ]
     },
     "metadata": {
      "needs_background": "light"
     },
     "output_type": "display_data"
    }
   ],
   "source": [
    "fig, axes = plt.subplots(2, 3, figsize=(18, 10))\n",
    "fig.delaxes(axes[1, 0])\n",
    "fig.delaxes(axes[1, 2])\n",
    "\n",
    "histgr(df_2, 'f0', axes[0, 0], 30)\n",
    "histgr(df_2, 'f1', axes[0, 1], 30)\n",
    "histgr(df_2, 'f2', axes[0, 2], 10)\n",
    "histgr(df_2, 'product', axes[1, 1], 10)\n",
    "\n",
    "fig.suptitle('Анализ распределения признаков для df_2', fontsize=16);"
   ]
  },
  {
   "cell_type": "markdown",
   "metadata": {},
   "source": [
    "- Выбросы отсутствуют;\n",
    "- `f0`: значения лежат в промежутке от `-25` до `25`, имеется `2` пиковых значении;\n",
    "- `f1`: значения лежат в промежутке от `-22` до `12`, пиковое значение `-4`;\n",
    "- `f2`: значения лежат в промежутке от `0` до `5`, распределение `не нормальное`;\n",
    "- `product`: значения лежат в промежутке от `0` до `140`, `2` пиковых значение `в начале` и `в конце` распределения."
   ]
  },
  {
   "cell_type": "code",
   "execution_count": 15,
   "metadata": {},
   "outputs": [
    {
     "data": {
      "image/png": "[encoded data removed]",
      "text/plain": [
       "<Figure size 1296x720 with 4 Axes>"
      ]
     },
     "metadata": {
      "needs_background": "light"
     },
     "output_type": "display_data"
    }
   ],
   "source": [
    "fig, axes = plt.subplots(2, 3, figsize=(18, 10))\n",
    "fig.delaxes(axes[1, 0])\n",
    "fig.delaxes(axes[1, 2])\n",
    "\n",
    "histgr(df_3, 'f0', axes[0, 0], 30)\n",
    "histgr(df_3, 'f1', axes[0, 1], 30)\n",
    "histgr(df_3, 'f2', axes[0, 2], 30)\n",
    "histgr(df_3, 'product', axes[1, 1], 20)\n",
    "\n",
    "fig.suptitle('Анализ распределения признаков для df_3', fontsize=16);"
   ]
  },
  {
   "cell_type": "markdown",
   "metadata": {},
   "source": [
    "- Выбросы отсутствуют;\n",
    "- `f0`: значения лежат в промежутке от `-6` до `6`, пиковое значение `0`;\n",
    "- `f1`: значения лежат в промежутке от `-6` до `6`, пиковое значение `0`;\n",
    "- `f2`: значения лежат в промежутке от `-10` до `15`, пиковое значение `2.5`;\n",
    "- `product`: значения лежат в промежутке от `0` до `190`, распределение имеет `множество` пиковых значении.\n",
    "\n",
    "**Посмотрим, есть ли повторяющиеся индексы, в случае их обнаружения - избавимся от них.**"
   ]
  },
  {
   "cell_type": "code",
   "execution_count": 16,
   "metadata": {},
   "outputs": [
    {
     "data": {
      "text/plain": [
       "'В df_1 найдено 10 дубликатов индексов.'"
      ]
     },
     "metadata": {},
     "output_type": "display_data"
    },
    {
     "data": {
      "text/plain": [
       "'В df_2 найдено 4 дубликатов индексов.'"
      ]
     },
     "metadata": {},
     "output_type": "display_data"
    },
    {
     "data": {
      "text/plain": [
       "'В df_3 найдено 4 дубликатов индексов.'"
      ]
     },
     "metadata": {},
     "output_type": "display_data"
    }
   ],
   "source": [
    "for i, df in enumerate([df_1, df_2, df_3], 1):\n",
    "    dup_count = df.index.duplicated().sum()\n",
    "    display(f\"В df_{i} найдено {dup_count} дубликатов индексов.\")\n",
    "    if i == 1:\n",
    "        df_1 = df[~df.index.duplicated(keep='first')]\n",
    "    elif i == 2:\n",
    "        df_2 = df[~df.index.duplicated(keep='first')]\n",
    "    elif i == 3:\n",
    "        df_3 = df[~df.index.duplicated(keep='first')]"
   ]
  },
  {
   "cell_type": "markdown",
   "metadata": {},
   "source": [
    "**В данных нет выбросов и пропусков, большинство данных имеют нормальное распределение, было найдено 18 повторяющихся индексов от них мы избавилсь.**\n",
    "\n",
    "**Теперь проверим данные на мультиколлинеарность.**"
   ]
  },
  {
   "cell_type": "code",
   "execution_count": 17,
   "metadata": {},
   "outputs": [
    {
     "data": {
      "image/png": "[encoded data removed]",
      "text/plain": [
       "<Figure size 1152x864 with 2 Axes>"
      ]
     },
     "metadata": {
      "needs_background": "light"
     },
     "output_type": "display_data"
    }
   ],
   "source": [
    "col = [\n",
    "    'f0',\n",
    "    'f1',\n",
    "    'f2',\n",
    "    'product'\n",
    "]\n",
    "\n",
    "def corr_df(df_name, df, col):\n",
    "    pm = phik_matrix(df, interval_cols=col)\n",
    "\n",
    "    plt.figure(figsize=(16, 12))\n",
    "    sns.heatmap(\n",
    "        pm, \n",
    "        annot=True, \n",
    "        cmap='coolwarm', \n",
    "        center=0, \n",
    "        fmt='.2f',\n",
    "        vmin=-1, \n",
    "        vmax=1,\n",
    "        linewidths=0.5\n",
    "    )\n",
    "    plt.xticks(\n",
    "        rotation=45, \n",
    "        ha='right',\n",
    "        rotation_mode='anchor',\n",
    "        fontsize=12\n",
    "    )\n",
    "    plt.title(f'Матрица корреляции для {df_name}', fontsize=16)\n",
    "\n",
    "    plt.xticks(fontsize=14, rotation=45)\n",
    "    plt.yticks(fontsize=14, rotation=0);\n",
    "    \n",
    "corr_df('df_1', df_1, col)"
   ]
  },
  {
   "cell_type": "markdown",
   "metadata": {},
   "source": [
    "**В `df_1` есть высокая корреляция между признаками `f0` и `f1`, но удалять их не стоит, для нас порог - `0.9`.**"
   ]
  },
  {
   "cell_type": "code",
   "execution_count": 18,
   "metadata": {},
   "outputs": [
    {
     "data": {
      "image/png": "[encoded data removed]",
      "text/plain": [
       "<Figure size 1152x864 with 2 Axes>"
      ]
     },
     "metadata": {
      "needs_background": "light"
     },
     "output_type": "display_data"
    }
   ],
   "source": [
    "corr_df('df_2', df_2, col)"
   ]
  },
  {
   "cell_type": "markdown",
   "metadata": {},
   "source": [
    "**Можно сказать, корреляция совсем отсутствует между входными признаками, но есть высокая корреляцию с целевым, но в этом нет ничего плохо.**"
   ]
  },
  {
   "cell_type": "code",
   "execution_count": 19,
   "metadata": {},
   "outputs": [
    {
     "data": {
      "image/png": "[encoded data removed]",
      "text/plain": [
       "<Figure size 1152x864 with 2 Axes>"
      ]
     },
     "metadata": {
      "needs_background": "light"
     },
     "output_type": "display_data"
    }
   ],
   "source": [
    "corr_df('df_3', df_3, col)"
   ]
  },
  {
   "cell_type": "markdown",
   "metadata": {},
   "source": [
    "**Корреляцию между входными признаками нулевая.**\n",
    "\n",
    "**Данные готовы для дальнейшей работы.**"
   ]
  },
  {
   "cell_type": "markdown",
   "metadata": {},
   "source": [
    "# Обучение и проверка модели"
   ]
  },
  {
   "cell_type": "markdown",
   "metadata": {},
   "source": [
    "**Обучение и проверку будем проводить для каждого региона отдельно. Разобьём данные на тренировочные и валидационную с соотношением `75:25`. Напомню, для обучения модели подходит лишь `линейная регрессия`.**"
   ]
  },
  {
   "cell_type": "markdown",
   "metadata": {},
   "source": [
    "## Регион 1"
   ]
  },
  {
   "cell_type": "code",
   "execution_count": 20,
   "metadata": {},
   "outputs": [],
   "source": [
    "RANDOM_STATE = 42\n",
    "\n",
    "X_train_1, X_valid_1, y_train_1, y_valid_1 = train_test_split(df_1.drop('product', axis=1),\n",
    "                                                             df_1['product'],\n",
    "                                                             random_state=RANDOM_STATE,\n",
    "                                                             test_size=0.25)\n",
    "\n",
    "pipe = Pipeline([\n",
    "    ('poly', PolynomialFeatures(degree=2)),\n",
    "    ('preprocessor', MinMaxScaler()),\n",
    "    ('models', LinearRegression())\n",
    "])\n",
    "\n",
    "param_grid = [\n",
    "    {    \n",
    "        'models': [LinearRegression()],\n",
    "        'preprocessor': [StandardScaler(), MinMaxScaler(), RobustScaler(), 'passthrough']\n",
    "    }\n",
    "]\n",
    "\n"
   ]
  },
  {
   "cell_type": "code",
   "execution_count": 21,
   "metadata": {},
   "outputs": [],
   "source": [
    "grid_search = GridSearchCV(\n",
    "    pipe,\n",
    "    param_grid,\n",
    "    scoring = 'neg_root_mean_squared_error',\n",
    "    cv = 5,\n",
    "    n_jobs = -1)"
   ]
  },
  {
   "cell_type": "code",
   "execution_count": 22,
   "metadata": {},
   "outputs": [
    {
     "data": {
      "text/plain": [
       "'Лучшие параметры:'"
      ]
     },
     "metadata": {},
     "output_type": "display_data"
    },
    {
     "data": {
      "text/plain": [
       "{'models': LinearRegression(), 'preprocessor': StandardScaler()}"
      ]
     },
     "metadata": {},
     "output_type": "display_data"
    },
    {
     "data": {
      "text/plain": [
       "'Лучшая RMSE (на валидации):'"
      ]
     },
     "metadata": {},
     "output_type": "display_data"
    },
    {
     "data": {
      "text/plain": [
       "np.float64(37.69737212477702)"
      ]
     },
     "metadata": {},
     "output_type": "display_data"
    }
   ],
   "source": [
    "grid_search.fit(X_train_1, y_train_1)\n",
    "\n",
    "display('Лучшие параметры:', grid_search.best_params_)\n",
    "display('Лучшая RMSE (на валидации):', -grid_search.best_score_)"
   ]
  },
  {
   "cell_type": "markdown",
   "metadata": {},
   "source": [
    "**Готово, модель обучена, `RMSE`(корень из среднеквадратичной ошибки) на валидационной выборке показала `37.69` - хороший результат, теперь проверим модель на валидационной выборке.**"
   ]
  },
  {
   "cell_type": "code",
   "execution_count": 23,
   "metadata": {},
   "outputs": [
    {
     "data": {
      "text/plain": [
       "'Метрика RMSE 37.686766184788304'"
      ]
     },
     "metadata": {},
     "output_type": "display_data"
    }
   ],
   "source": [
    "gs_1 = grid_search.predict(X_valid_1)\n",
    "\n",
    "display(f'Метрика RMSE {root_mean_squared_error(y_valid_1, gs_1)}')"
   ]
  },
  {
   "cell_type": "markdown",
   "metadata": {},
   "source": [
    "**Метрика показала `37.68`, можно сказать, что отличии почти нет.**\n",
    "\n",
    "**Теперь вычислим среднее истинного и предсказанных значении.**"
   ]
  },
  {
   "cell_type": "code",
   "execution_count": 24,
   "metadata": {},
   "outputs": [
    {
     "data": {
      "text/plain": [
       "'Истинное среднее: 92.38876593595461'"
      ]
     },
     "metadata": {},
     "output_type": "display_data"
    },
    {
     "data": {
      "text/plain": [
       "'Предсказанное среднее: 92.60947216204708'"
      ]
     },
     "metadata": {},
     "output_type": "display_data"
    }
   ],
   "source": [
    "display(f'Истинное среднее: {y_valid_1.mean()}')\n",
    "display(f'Предсказанное среднее: {gs_1.mean()}')"
   ]
  },
  {
   "cell_type": "markdown",
   "metadata": {},
   "source": [
    "**Средние значения почти не отличаются, но RMSE для такого среднее слишком высокое, около `40%`.**"
   ]
  },
  {
   "cell_type": "markdown",
   "metadata": {},
   "source": [
    "## Регион 2"
   ]
  },
  {
   "cell_type": "markdown",
   "metadata": {},
   "source": [
    "**Пункты будут почти те же, что и в 1 регионе.**"
   ]
  },
  {
   "cell_type": "code",
   "execution_count": 25,
   "metadata": {},
   "outputs": [
    {
     "data": {
      "text/plain": [
       "'Лучшие параметры:'"
      ]
     },
     "metadata": {},
     "output_type": "display_data"
    },
    {
     "data": {
      "text/plain": [
       "{'models': LinearRegression(), 'preprocessor': StandardScaler()}"
      ]
     },
     "metadata": {},
     "output_type": "display_data"
    },
    {
     "data": {
      "text/plain": [
       "'Лучшая RMSE (на валидации):'"
      ]
     },
     "metadata": {},
     "output_type": "display_data"
    },
    {
     "data": {
      "text/plain": [
       "np.float64(0.889607362143472)"
      ]
     },
     "metadata": {},
     "output_type": "display_data"
    },
    {
     "data": {
      "text/plain": [
       "'Метрика RMSE 0.8928627515102701'"
      ]
     },
     "metadata": {},
     "output_type": "display_data"
    },
    {
     "data": {
      "text/plain": [
       "'Истинное среднее: 68.58361591061642'"
      ]
     },
     "metadata": {},
     "output_type": "display_data"
    },
    {
     "data": {
      "text/plain": [
       "'Предсказанное среднее: 68.57695698999848'"
      ]
     },
     "metadata": {},
     "output_type": "display_data"
    }
   ],
   "source": [
    "X_train_2, X_valid_2, y_train_2, y_valid_2 = train_test_split(df_2.drop('product', axis=1),\n",
    "                                                             df_2['product'],\n",
    "                                                             random_state=RANDOM_STATE,\n",
    "                                                             test_size=0.25)\n",
    "\n",
    "grid_search.fit(X_train_2, y_train_2)\n",
    "\n",
    "display('Лучшие параметры:', grid_search.best_params_)\n",
    "display('Лучшая RMSE (на валидации):', -grid_search.best_score_)\n",
    "\n",
    "gs_2 = grid_search.predict(X_valid_2)\n",
    "display(f'Метрика RMSE {root_mean_squared_error(y_valid_2, gs_2)}')\n",
    "\n",
    "display(f'Истинное среднее: {y_valid_2.mean()}')\n",
    "display(f'Предсказанное среднее: {gs_2.mean()}')"
   ]
  },
  {
   "cell_type": "markdown",
   "metadata": {},
   "source": [
    "**Метрики и средние значения близки друг к другу:**\n",
    "- RMSE на валидации: 0.89;\n",
    "- RMSE: 0.89;\n",
    "- Истинное среднее: 68.58;\n",
    "- Предсказанное среднее: 68.57.\n",
    "\n",
    "**Второй регион по метрикам показал себя намного лучше, чем первый, взглянем на третий регион.**"
   ]
  },
  {
   "cell_type": "markdown",
   "metadata": {},
   "source": [
    "## Регион 3"
   ]
  },
  {
   "cell_type": "code",
   "execution_count": 26,
   "metadata": {},
   "outputs": [
    {
     "data": {
      "text/plain": [
       "'Лучшие параметры:'"
      ]
     },
     "metadata": {},
     "output_type": "display_data"
    },
    {
     "data": {
      "text/plain": [
       "{'models': LinearRegression(), 'preprocessor': MinMaxScaler()}"
      ]
     },
     "metadata": {},
     "output_type": "display_data"
    },
    {
     "data": {
      "text/plain": [
       "'Лучшая RMSE (на валидации):'"
      ]
     },
     "metadata": {},
     "output_type": "display_data"
    },
    {
     "data": {
      "text/plain": [
       "np.float64(38.7566434617804)"
      ]
     },
     "metadata": {},
     "output_type": "display_data"
    },
    {
     "data": {
      "text/plain": [
       "'Метрика RMSE 38.839497223075995'"
      ]
     },
     "metadata": {},
     "output_type": "display_data"
    },
    {
     "data": {
      "text/plain": [
       "'Истинное среднее: 95.25463671658842'"
      ]
     },
     "metadata": {},
     "output_type": "display_data"
    },
    {
     "data": {
      "text/plain": [
       "'Предсказанное среднее: 94.97085603650159'"
      ]
     },
     "metadata": {},
     "output_type": "display_data"
    }
   ],
   "source": [
    "X_train_3, X_valid_3, y_train_3, y_valid_3 = train_test_split(df_3.drop('product', axis=1),\n",
    "                                                             df_3['product'],\n",
    "                                                             random_state=RANDOM_STATE,\n",
    "                                                             test_size=0.25)\n",
    "\n",
    "grid_search.fit(X_train_3, y_train_3)\n",
    "\n",
    "display('Лучшие параметры:', grid_search.best_params_)\n",
    "display('Лучшая RMSE (на валидации):', -grid_search.best_score_)\n",
    "\n",
    "gs_3 = grid_search.predict(X_valid_3)\n",
    "display(f'Метрика RMSE {root_mean_squared_error(y_valid_3, gs_3)}')\n",
    "\n",
    "display(f'Истинное среднее: {y_valid_3.mean()}')\n",
    "display(f'Предсказанное среднее: {gs_3.mean()}')"
   ]
  },
  {
   "cell_type": "markdown",
   "metadata": {},
   "source": [
    "**Метрики и средние значения так же близки друг к другу:**\n",
    "- RMSE на валидации: 38.75;\n",
    "- RMSE: 38.84;\n",
    "- Истинное среднее: 95.25;\n",
    "- Предсказанное среднее: 94.97.\n",
    "\n",
    "**Модель так же показывает плохие результаты для третьего региона.**\n",
    "\n",
    "**Лучшая модель получилась для `2` региона `RMSE` `0.89` при среднем в `68.57`, у других же `RMSE` равна `40%` от истинного среднего. Большая вероятность, что такие хорошие показатели получились из-за высокой корреляции в df_2 между целевых и входным признаками.**"
   ]
  },
  {
   "cell_type": "markdown",
   "metadata": {},
   "source": [
    "# Подготовка к расчёту прибыли"
   ]
  },
  {
   "cell_type": "markdown",
   "metadata": {},
   "source": [
    "**Напишем функцию для расчёта прибыли по выбранным скважинам и предсказаниям модели. Напомню:**\n",
    "- Бюджет на разработку скважин в регионе — 10 млрд рублей;\n",
    "- Пробурить можно лишь 200 скважин;\n",
    "- Один баррель сырья приносит 450 рублей дохода;\n",
    "- Доход с каждой единицы продукта составляет 450 тыс. рублей, поскольку объём указан в тысячах баррелей.\n",
    "\n",
    "**Для каждого региона мы выберем 200 лучших скважин и расчитаем, сколько должно быть продутка для безубыточного бурения.**"
   ]
  },
  {
   "cell_type": "code",
   "execution_count": 27,
   "metadata": {},
   "outputs": [
    {
     "data": {
      "text/plain": [
       "111.11"
      ]
     },
     "execution_count": 27,
     "metadata": {},
     "output_type": "execute_result"
    }
   ],
   "source": [
    "BUDGET = 10000000000    #10 млрд\n",
    "BARREL = 450000\n",
    "\n",
    "not_luss = BUDGET/(BARREL*200)\n",
    "round(not_luss, 2)"
   ]
  },
  {
   "cell_type": "markdown",
   "metadata": {},
   "source": [
    "**Для безубыточного бурения одна скважина должна приносить 111.12 продутка.**"
   ]
  },
  {
   "cell_type": "code",
   "execution_count": 28,
   "metadata": {},
   "outputs": [
    {
     "data": {
      "text/plain": [
       "'Среднее df_1: 92.49968421774354'"
      ]
     },
     "metadata": {},
     "output_type": "display_data"
    },
    {
     "data": {
      "text/plain": [
       "'Прибыль при нынешнем среднем от 200 скважин: -1675028420.403081'"
      ]
     },
     "metadata": {},
     "output_type": "display_data"
    }
   ],
   "source": [
    "me = df_1['product'].mean()\n",
    "\n",
    "display(f\"Среднее df_1: {me}\")\n",
    "bud = me*BARREL*200-BUDGET\n",
    "display(f\"Прибыль при нынешнем среднем от 200 скважин: {bud}\")"
   ]
  },
  {
   "cell_type": "markdown",
   "metadata": {},
   "source": [
    "**От 1 региона будет убыток в 1.675млрд.**"
   ]
  },
  {
   "cell_type": "code",
   "execution_count": 29,
   "metadata": {},
   "outputs": [
    {
     "data": {
      "text/plain": [
       "'Среднее df_1: 68.82391591804064'"
      ]
     },
     "metadata": {},
     "output_type": "display_data"
    },
    {
     "data": {
      "text/plain": [
       "'Прибыль при нынешнем среднем от 200 скважин: -3805847567.376343'"
      ]
     },
     "metadata": {},
     "output_type": "display_data"
    }
   ],
   "source": [
    "me = df_2['product'].mean()\n",
    "\n",
    "display(f\"Среднее df_1: {me}\")\n",
    "bud = me*BARREL*200-BUDGET\n",
    "display(f\"Прибыль при нынешнем среднем от 200 скважин: {bud}\")"
   ]
  },
  {
   "cell_type": "markdown",
   "metadata": {},
   "source": [
    "**От 2 региона будет убыток в 3.805млрд.**"
   ]
  },
  {
   "cell_type": "code",
   "execution_count": 30,
   "metadata": {},
   "outputs": [
    {
     "data": {
      "text/plain": [
       "'Среднее df_1: 94.99834211933378'"
      ]
     },
     "metadata": {},
     "output_type": "display_data"
    },
    {
     "data": {
      "text/plain": [
       "'Прибыль при нынешнем среднем от 200 скважин: -1450149209.2599602'"
      ]
     },
     "metadata": {},
     "output_type": "display_data"
    }
   ],
   "source": [
    "me = df_3['product'].mean()\n",
    "\n",
    "display(f\"Среднее df_1: {me}\")\n",
    "bud = me*BARREL*200-BUDGET\n",
    "display(f\"Прибыль при нынешнем среднем от 200 скважин: {bud}\")"
   ]
  },
  {
   "cell_type": "markdown",
   "metadata": {},
   "source": [
    "**От 3 региона будет убыток в 1.450млрд.**"
   ]
  },
  {
   "cell_type": "markdown",
   "metadata": {},
   "source": [
    "**Если каждая скважина имела среднее количество продукта по региону, то от каждого региона можно было ожидать лишь убыток, поэтому стоит выбирать лишь лучшие точки для бурения, чтобы избежать убытков.**"
   ]
  },
  {
   "cell_type": "markdown",
   "metadata": {},
   "source": [
    "# Расчёт прибыли и рисков"
   ]
  },
  {
   "cell_type": "markdown",
   "metadata": {},
   "source": [
    "## Лучший вариант"
   ]
  },
  {
   "cell_type": "markdown",
   "metadata": {},
   "source": [
    "**Создадим функцию для расчёта прибыли по выбранным скважинам и предсказаниям модели. На вход она будет принимать датафрейм, в котором есть предсказанные и истенные значения, для выбора 200 лучших будем использовать предсказанные значения, а для подсчёта прибыли уже настоящие.**"
   ]
  },
  {
   "cell_type": "code",
   "execution_count": 31,
   "metadata": {},
   "outputs": [],
   "source": [
    "def res(valid, gs):  # функция для создания датафрейма\n",
    "    gs_series = pd.Series(gs.flatten(), index=valid.index, name='predicted')\n",
    "    result = pd.concat([valid, gs_series], axis=1)\n",
    "    return result"
   ]
  },
  {
   "cell_type": "code",
   "execution_count": 32,
   "metadata": {},
   "outputs": [],
   "source": [
    "def calculate_profit(result):\n",
    "    result = result.sort_values(by='predicted', ascending=False)\n",
    "    top_200 = result.head(200)\n",
    "    sum_prod = top_200['product'].sum()*450000\n",
    "    return sum_prod"
   ]
  },
  {
   "cell_type": "code",
   "execution_count": 33,
   "metadata": {},
   "outputs": [
    {
     "data": {
      "text/plain": [
       "'Прибыль на валидационной выборке df_1 13419153610.303364'"
      ]
     },
     "metadata": {},
     "output_type": "display_data"
    },
    {
     "data": {
      "text/plain": [
       "'Прибыль на валидационной выборке df_2 12415086696.68151'"
      ]
     },
     "metadata": {},
     "output_type": "display_data"
    },
    {
     "data": {
      "text/plain": [
       "'Прибыль на валидационной выборке df_3 12972205789.987478'"
      ]
     },
     "metadata": {},
     "output_type": "display_data"
    }
   ],
   "source": [
    "result_1 = res(y_valid_1, gs_1)\n",
    "result_2 = res(y_valid_2, gs_2)\n",
    "result_3 = res(y_valid_3, gs_3)\n",
    "\n",
    "display(f\"Прибыль на валидационной выборке df_1 {calculate_profit(result_1)}\")\n",
    "display(f\"Прибыль на валидационной выборке df_2 {calculate_profit(result_2)}\")\n",
    "display(f\"Прибыль на валидационной выборке df_3 {calculate_profit(result_3)}\")\n"
   ]
  },
  {
   "cell_type": "markdown",
   "metadata": {},
   "source": [
    "**Можем заметить, что прибыль будет превышать затраты в среднем на `3 млрд`, но это в `лучшем случае`, теперь попробуем посмотреть на реальность с помощью `Bootstrap`.**"
   ]
  },
  {
   "cell_type": "markdown",
   "metadata": {},
   "source": [
    "## Bootstrap"
   ]
  },
  {
   "cell_type": "markdown",
   "metadata": {},
   "source": [
    "**Немного изменим нашу функцию подсчёта: теперь она случайным образом будет выбирать `500` точек, из нее так же будут отобраны `200` лучшие точки по мнению модели, подсчёт прибыли будет идти так же по истинным значениям. Далее применим технику `Bootstrap` с `1000` выборок, чтобы найти распределение прибыли. Так же найдём среднюю прибыль, 95%-й доверительный интервал и риск убытков.**"
   ]
  },
  {
   "cell_type": "code",
   "execution_count": 40,
   "metadata": {},
   "outputs": [],
   "source": [
    "state = np.random.RandomState(12345)\n",
    "alpha = 0.05\n",
    "bootstrap_samples = 1000\n",
    "\n",
    "def random_sam(results):\n",
    "    sample = results.sample(n=500, replace=False, random_state=state)\n",
    "    sample = sample.sort_values(by='predicted', ascending=False).head(200)\n",
    "    return sample['product'].sum()*450000\n",
    "\n",
    "def boots(results):\n",
    "    profit = []\n",
    "    for i in range(bootstrap_samples):\n",
    "        prof = random_sam(results)\n",
    "        profit.append(prof)\n",
    "        \n",
    "    profit = pd.array(profit)\n",
    "    \n",
    "    return {\n",
    "        (f'Средняя выручка: {round(profit.mean(), 2)}'),\n",
    "        (f'2.5 процентиль прибыли: {round(np.percentile(profit, 2.5), 2) - BUDGET}'),\n",
    "        (f'97.5 процентиль прибыли: {round(np.percentile(profit, 97.5), 2) - BUDGET}'),\n",
    "        (f'Риск убытка: {round((profit<10000000000).mean(), 2)*100}%')}"
   ]
  },
  {
   "cell_type": "code",
   "execution_count": 41,
   "metadata": {},
   "outputs": [
    {
     "data": {
      "text/plain": [
       "{'2.5 процентиль прибыли: -133077234.97999954',\n",
       " '97.5 процентиль прибыли: 859798467.1000004',\n",
       " 'Риск убытка: 6.0%',\n",
       " 'Средняя выручка: 10401133566.56'}"
      ]
     },
     "execution_count": 41,
     "metadata": {},
     "output_type": "execute_result"
    }
   ],
   "source": [
    "analysis_result = boots(result_1)\n",
    "analysis_result"
   ]
  },
  {
   "cell_type": "markdown",
   "metadata": {},
   "source": [
    "**Для `1 региона` риск убытка равен `6%`, а средняя выручка - `10.4 млрд`. Хорошие показатели, более 40 млн прибыли. Взглянем на другие регионы.**"
   ]
  },
  {
   "cell_type": "code",
   "execution_count": 42,
   "metadata": {},
   "outputs": [
    {
     "data": {
      "text/plain": [
       "{'2.5 процентиль прибыли: 28219414.420000076',\n",
       " '97.5 процентиль прибыли: 857248335.5599995',\n",
       " 'Риск убытка: 2.0%',\n",
       " 'Средняя выручка: 10440179234.55'}"
      ]
     },
     "execution_count": 42,
     "metadata": {},
     "output_type": "execute_result"
    }
   ],
   "source": [
    "analysis_result = boots(result_2)\n",
    "analysis_result"
   ]
  },
  {
   "cell_type": "markdown",
   "metadata": {},
   "source": [
    "**Показатали `2 региона` ещё лучше, риск убытка - `2%`, а средняя выручка `10.44` млрд.**"
   ]
  },
  {
   "cell_type": "code",
   "execution_count": 43,
   "metadata": {},
   "outputs": [
    {
     "data": {
      "text/plain": [
       "{'2.5 процентиль прибыли: 67379853.88999939',\n",
       " '97.5 процентиль прибыли: 1090666272.040001',\n",
       " 'Риск убытка: 1.0%',\n",
       " 'Средняя выручка: 10580871309.03'}"
      ]
     },
     "execution_count": 43,
     "metadata": {},
     "output_type": "execute_result"
    }
   ],
   "source": [
    "analysis_result = boots(result_3)\n",
    "analysis_result"
   ]
  },
  {
   "cell_type": "markdown",
   "metadata": {},
   "source": [
    "**Самый лучший регион для бурения, риск убытка - `1%`, а выручка - `10.58 млрд`.**\n",
    "\n",
    "**Можно смело заявить, лучший регион для бурения - `3`, самая высокая прибыль - более `58 млн`, так же у нее одна из самых низких вероятностей убытков - всего `1%`.**"
   ]
  },
  {
   "cell_type": "markdown",
   "metadata": {},
   "source": [
    "# Вывод"
   ]
  },
  {
   "cell_type": "markdown",
   "metadata": {},
   "source": [
    "**После небольшой предобработки данных мы сразу перешли к исследовательскому анализу, никаких аномалии не было выявлено, кроме одной: во втором регионе один входной признак сильно влиял на целевой(более 90% коллениарности), что вероятно всего повлияло на обучение модели:**\n",
    "- `1 регион`: истинное среднее целевого признака - `92.39`, а `RMSE` `37.68`, довольно высокий разброс для такого среднего;\n",
    "- `2 регион`: истинное среднее целевого признака - `68.58`, `RMSE` `0.89` - хороший показатель;\n",
    "- `3 регион`: истинное среднее целевого признака - `95.25`, как и в 1 регионе `RMSE` высокий - `38.84`.\n",
    "\n",
    "**Но даже плохие показатели метрик показали, что каждый регион с высокой вероятностью принесут прибыль:**\n",
    "- `1 регион`: риск убытка - `0.06%`, средняя прибыль - `40 млн`;\n",
    "- `2 регион`: риск убытка - `0.02%`, средняя прибыль - `44 млн`;\n",
    "- `3 регион`: риск убытка - `0.01%`, средняя прибыль - `58 млн`.\n",
    "\n",
    "**`3 регион` - лучший для начала бурения, с низким процентом рисков у неё самая высокая средняя прибыль!**"
   ]
  },
  {
   "cell_type": "code",
   "execution_count": null,
   "metadata": {},
   "outputs": [],
   "source": []
  }
 ],
 "metadata": {
  "ExecuteTimeLog": [
   {
    "duration": 12,
    "start_time": "2025-03-28T16:34:30.916Z"
   },
   {
    "duration": 15,
    "start_time": "2025-06-20T17:28:23.997Z"
   },
   {
    "duration": 8,
    "start_time": "2025-06-20T17:33:47.751Z"
   },
   {
    "duration": 1856,
    "start_time": "2025-06-20T17:34:14.959Z"
   },
   {
    "duration": 75310,
    "start_time": "2025-06-20T17:34:23.294Z"
   },
   {
    "duration": 2182,
    "start_time": "2025-06-20T17:35:38.607Z"
   },
   {
    "duration": 45,
    "start_time": "2025-06-20T17:35:40.791Z"
   },
   {
    "duration": 1317,
    "start_time": "2025-06-20T17:35:40.838Z"
   },
   {
    "duration": 625,
    "start_time": "2025-06-20T17:35:42.158Z"
   },
   {
    "duration": 17,
    "start_time": "2025-06-20T17:38:09.251Z"
   },
   {
    "duration": 9,
    "start_time": "2025-06-20T17:38:09.552Z"
   },
   {
    "duration": 9,
    "start_time": "2025-06-20T17:38:10.111Z"
   },
   {
    "duration": 7,
    "start_time": "2025-06-20T17:38:48.502Z"
   },
   {
    "duration": 7,
    "start_time": "2025-06-20T17:38:55.170Z"
   },
   {
    "duration": 6,
    "start_time": "2025-06-20T17:39:03.198Z"
   },
   {
    "duration": 6,
    "start_time": "2025-06-20T17:39:07.342Z"
   },
   {
    "duration": 11,
    "start_time": "2025-06-20T17:47:33.280Z"
   },
   {
    "duration": 11,
    "start_time": "2025-06-20T17:47:42.811Z"
   },
   {
    "duration": 9,
    "start_time": "2025-06-20T17:47:49.921Z"
   },
   {
    "duration": 8,
    "start_time": "2025-06-20T17:47:56.682Z"
   },
   {
    "duration": 76992,
    "start_time": "2025-06-22T17:56:21.077Z"
   },
   {
    "duration": 2312,
    "start_time": "2025-06-22T17:57:38.072Z"
   },
   {
    "duration": 51,
    "start_time": "2025-06-22T17:57:40.386Z"
   },
   {
    "duration": 1300,
    "start_time": "2025-06-22T17:57:40.439Z"
   },
   {
    "duration": 620,
    "start_time": "2025-06-22T17:57:41.741Z"
   },
   {
    "duration": 22,
    "start_time": "2025-06-22T17:57:42.363Z"
   },
   {
    "duration": 8,
    "start_time": "2025-06-22T17:57:42.387Z"
   },
   {
    "duration": 10,
    "start_time": "2025-06-22T17:57:42.397Z"
   },
   {
    "duration": 12,
    "start_time": "2025-06-22T17:57:42.409Z"
   },
   {
    "duration": 9,
    "start_time": "2025-06-22T17:57:42.423Z"
   },
   {
    "duration": 43,
    "start_time": "2025-06-22T17:57:42.433Z"
   },
   {
    "duration": 11,
    "start_time": "2025-06-22T17:59:10.357Z"
   },
   {
    "duration": 80,
    "start_time": "2025-06-22T18:13:08.666Z"
   },
   {
    "duration": 30,
    "start_time": "2025-06-22T18:13:12.772Z"
   },
   {
    "duration": 32,
    "start_time": "2025-06-22T18:13:20.866Z"
   },
   {
    "duration": 90,
    "start_time": "2025-06-22T18:14:04.226Z"
   },
   {
    "duration": 104,
    "start_time": "2025-06-22T18:14:16.091Z"
   },
   {
    "duration": 88,
    "start_time": "2025-06-22T18:14:18.989Z"
   },
   {
    "duration": 38,
    "start_time": "2025-06-22T18:14:21.517Z"
   },
   {
    "duration": 31,
    "start_time": "2025-06-22T18:14:33.769Z"
   },
   {
    "duration": 99,
    "start_time": "2025-06-22T18:15:03.974Z"
   },
   {
    "duration": 76,
    "start_time": "2025-06-22T18:16:40.281Z"
   },
   {
    "duration": 73,
    "start_time": "2025-06-22T18:16:46.627Z"
   },
   {
    "duration": 220,
    "start_time": "2025-06-22T18:34:42.290Z"
   },
   {
    "duration": 4,
    "start_time": "2025-06-22T18:45:01.039Z"
   },
   {
    "duration": 164,
    "start_time": "2025-06-22T18:51:24.308Z"
   },
   {
    "duration": 635,
    "start_time": "2025-06-22T18:51:56.321Z"
   },
   {
    "duration": 614,
    "start_time": "2025-06-22T18:53:15.536Z"
   },
   {
    "duration": 572,
    "start_time": "2025-06-22T18:54:30.124Z"
   },
   {
    "duration": 1508,
    "start_time": "2025-06-22T18:54:34.233Z"
   },
   {
    "duration": 1441,
    "start_time": "2025-06-22T18:55:00.223Z"
   },
   {
    "duration": 554,
    "start_time": "2025-06-22T18:55:58.712Z"
   },
   {
    "duration": 4371,
    "start_time": "2025-06-22T18:56:10.841Z"
   },
   {
    "duration": 4329,
    "start_time": "2025-06-22T19:00:17.267Z"
   },
   {
    "duration": 4137,
    "start_time": "2025-06-22T19:00:26.588Z"
   },
   {
    "duration": 4784,
    "start_time": "2025-06-22T19:00:43.788Z"
   },
   {
    "duration": 4132,
    "start_time": "2025-06-22T19:00:57.284Z"
   },
   {
    "duration": 3914,
    "start_time": "2025-06-22T19:01:15.872Z"
   },
   {
    "duration": 4080,
    "start_time": "2025-06-22T19:01:51.740Z"
   },
   {
    "duration": 10,
    "start_time": "2025-06-22T19:02:11.794Z"
   },
   {
    "duration": 4244,
    "start_time": "2025-06-22T19:02:30.698Z"
   },
   {
    "duration": 4403,
    "start_time": "2025-06-22T19:02:57.204Z"
   },
   {
    "duration": 4162,
    "start_time": "2025-06-22T19:05:27.684Z"
   },
   {
    "duration": 4207,
    "start_time": "2025-06-22T19:05:40.598Z"
   },
   {
    "duration": 3900,
    "start_time": "2025-06-22T19:05:57.955Z"
   },
   {
    "duration": 4307,
    "start_time": "2025-06-22T19:06:11.652Z"
   },
   {
    "duration": 13,
    "start_time": "2025-06-22T19:21:47.886Z"
   },
   {
    "duration": 52,
    "start_time": "2025-06-22T22:17:11.951Z"
   },
   {
    "duration": 78298,
    "start_time": "2025-06-22T22:17:17.095Z"
   },
   {
    "duration": 2362,
    "start_time": "2025-06-22T22:18:35.395Z"
   },
   {
    "duration": 64,
    "start_time": "2025-06-22T22:18:37.758Z"
   },
   {
    "duration": 1291,
    "start_time": "2025-06-22T22:18:37.824Z"
   },
   {
    "duration": 592,
    "start_time": "2025-06-22T22:18:39.117Z"
   },
   {
    "duration": 17,
    "start_time": "2025-06-22T22:18:39.711Z"
   },
   {
    "duration": 8,
    "start_time": "2025-06-22T22:18:39.729Z"
   },
   {
    "duration": 9,
    "start_time": "2025-06-22T22:18:39.739Z"
   },
   {
    "duration": 37,
    "start_time": "2025-06-22T22:18:39.749Z"
   },
   {
    "duration": 8,
    "start_time": "2025-06-22T22:18:39.789Z"
   },
   {
    "duration": 8,
    "start_time": "2025-06-22T22:18:39.799Z"
   },
   {
    "duration": 97,
    "start_time": "2025-06-22T22:18:39.808Z"
   },
   {
    "duration": 3658,
    "start_time": "2025-06-22T22:18:39.906Z"
   },
   {
    "duration": 3789,
    "start_time": "2025-06-22T22:18:43.566Z"
   },
   {
    "duration": 3824,
    "start_time": "2025-06-22T22:18:47.357Z"
   },
   {
    "duration": 170,
    "start_time": "2025-06-22T22:18:51.183Z"
   },
   {
    "duration": 100,
    "start_time": "2025-06-22T22:27:15.233Z"
   },
   {
    "duration": 5,
    "start_time": "2025-06-22T22:27:18.535Z"
   },
   {
    "duration": 5,
    "start_time": "2025-06-22T22:27:25.333Z"
   },
   {
    "duration": 19,
    "start_time": "2025-06-22T22:27:31.482Z"
   },
   {
    "duration": 149,
    "start_time": "2025-06-22T22:27:37.628Z"
   },
   {
    "duration": 157,
    "start_time": "2025-06-22T22:28:41.931Z"
   },
   {
    "duration": 4,
    "start_time": "2025-06-22T22:28:48.105Z"
   },
   {
    "duration": 11,
    "start_time": "2025-06-22T22:28:52.597Z"
   },
   {
    "duration": 144,
    "start_time": "2025-06-22T22:29:18.255Z"
   },
   {
    "duration": 212,
    "start_time": "2025-06-22T22:29:37.465Z"
   },
   {
    "duration": 196,
    "start_time": "2025-06-22T22:29:47.786Z"
   },
   {
    "duration": 1445,
    "start_time": "2025-06-22T22:31:01.941Z"
   },
   {
    "duration": 11,
    "start_time": "2025-06-22T22:31:20.027Z"
   },
   {
    "duration": 23,
    "start_time": "2025-06-22T22:31:43.416Z"
   },
   {
    "duration": 30,
    "start_time": "2025-06-22T22:32:32.566Z"
   },
   {
    "duration": 26,
    "start_time": "2025-06-22T22:33:19.061Z"
   },
   {
    "duration": 30,
    "start_time": "2025-06-22T22:33:32.159Z"
   },
   {
    "duration": 28,
    "start_time": "2025-06-22T22:33:55.002Z"
   },
   {
    "duration": 23,
    "start_time": "2025-06-22T22:34:30.173Z"
   },
   {
    "duration": 38,
    "start_time": "2025-06-22T22:34:31.380Z"
   },
   {
    "duration": 21,
    "start_time": "2025-06-22T22:34:31.862Z"
   },
   {
    "duration": 76,
    "start_time": "2025-06-22T22:36:31.039Z"
   },
   {
    "duration": 57,
    "start_time": "2025-06-22T22:36:44.550Z"
   },
   {
    "duration": 34,
    "start_time": "2025-06-22T22:40:14.106Z"
   },
   {
    "duration": 76,
    "start_time": "2025-06-22T22:41:17.350Z"
   },
   {
    "duration": 42,
    "start_time": "2025-06-22T22:41:22.841Z"
   },
   {
    "duration": 36,
    "start_time": "2025-06-22T22:42:41.020Z"
   },
   {
    "duration": 58,
    "start_time": "2025-06-22T22:43:31.088Z"
   },
   {
    "duration": 47,
    "start_time": "2025-06-22T22:44:21.754Z"
   },
   {
    "duration": 34,
    "start_time": "2025-06-22T22:44:39.399Z"
   },
   {
    "duration": 79,
    "start_time": "2025-06-22T22:45:32.287Z"
   },
   {
    "duration": 50,
    "start_time": "2025-06-22T22:45:37.751Z"
   },
   {
    "duration": 77,
    "start_time": "2025-06-22T22:46:40.083Z"
   },
   {
    "duration": 46,
    "start_time": "2025-06-22T22:46:41.864Z"
   },
   {
    "duration": 73304,
    "start_time": "2025-06-28T17:58:52.319Z"
   },
   {
    "duration": 2378,
    "start_time": "2025-06-28T18:00:05.626Z"
   },
   {
    "duration": 141,
    "start_time": "2025-06-28T18:00:08.008Z"
   },
   {
    "duration": 1317,
    "start_time": "2025-06-28T18:00:08.152Z"
   },
   {
    "duration": 603,
    "start_time": "2025-06-28T18:00:09.472Z"
   },
   {
    "duration": 19,
    "start_time": "2025-06-28T18:00:10.077Z"
   },
   {
    "duration": 11,
    "start_time": "2025-06-28T18:00:10.098Z"
   },
   {
    "duration": 9,
    "start_time": "2025-06-28T18:00:10.111Z"
   },
   {
    "duration": 44,
    "start_time": "2025-06-28T18:00:10.122Z"
   },
   {
    "duration": 10,
    "start_time": "2025-06-28T18:00:10.168Z"
   },
   {
    "duration": 9,
    "start_time": "2025-06-28T18:00:10.180Z"
   },
   {
    "duration": 108,
    "start_time": "2025-06-28T18:00:10.190Z"
   },
   {
    "duration": 3667,
    "start_time": "2025-06-28T18:00:10.301Z"
   },
   {
    "duration": 3711,
    "start_time": "2025-06-28T18:00:13.971Z"
   },
   {
    "duration": 3920,
    "start_time": "2025-06-28T18:00:17.684Z"
   },
   {
    "duration": 93,
    "start_time": "2025-06-28T18:00:21.606Z"
   },
   {
    "duration": 71509,
    "start_time": "2025-06-28T21:33:38.552Z"
   },
   {
    "duration": 2243,
    "start_time": "2025-06-28T21:34:50.063Z"
   },
   {
    "duration": 42,
    "start_time": "2025-06-28T21:34:52.308Z"
   },
   {
    "duration": 1264,
    "start_time": "2025-06-28T21:34:52.353Z"
   },
   {
    "duration": 801,
    "start_time": "2025-06-28T21:34:53.619Z"
   },
   {
    "duration": 17,
    "start_time": "2025-06-28T21:34:54.422Z"
   },
   {
    "duration": 698,
    "start_time": "2025-06-28T21:34:54.440Z"
   },
   {
    "duration": 155,
    "start_time": "2025-06-28T21:34:55.140Z"
   },
   {
    "duration": 213,
    "start_time": "2025-06-28T21:34:55.297Z"
   },
   {
    "duration": 12,
    "start_time": "2025-06-28T21:34:55.513Z"
   },
   {
    "duration": 10,
    "start_time": "2025-06-28T21:34:55.527Z"
   },
   {
    "duration": 86,
    "start_time": "2025-06-28T21:34:55.540Z"
   },
   {
    "duration": 3989,
    "start_time": "2025-06-28T21:34:55.628Z"
   },
   {
    "duration": 3735,
    "start_time": "2025-06-28T21:34:59.618Z"
   },
   {
    "duration": 3780,
    "start_time": "2025-06-28T21:35:03.355Z"
   },
   {
    "duration": 77,
    "start_time": "2025-06-28T21:35:07.136Z"
   },
   {
    "duration": 8,
    "start_time": "2025-06-28T21:41:47.303Z"
   },
   {
    "duration": 13,
    "start_time": "2025-06-28T21:47:23.380Z"
   },
   {
    "duration": 5,
    "start_time": "2025-06-28T21:50:37.337Z"
   },
   {
    "duration": 568,
    "start_time": "2025-06-28T21:50:48.783Z"
   },
   {
    "duration": 624,
    "start_time": "2025-06-28T21:51:18.825Z"
   },
   {
    "duration": 577,
    "start_time": "2025-06-28T21:52:06.133Z"
   },
   {
    "duration": 180,
    "start_time": "2025-06-28T21:52:22.466Z"
   },
   {
    "duration": 542,
    "start_time": "2025-06-28T21:52:27.981Z"
   },
   {
    "duration": 553,
    "start_time": "2025-06-28T21:52:55.525Z"
   },
   {
    "duration": 563,
    "start_time": "2025-06-28T21:52:56.080Z"
   },
   {
    "duration": 94,
    "start_time": "2025-06-28T22:22:58.616Z"
   },
   {
    "duration": 167,
    "start_time": "2025-06-28T22:23:09.633Z"
   },
   {
    "duration": 5,
    "start_time": "2025-06-28T22:23:25.360Z"
   },
   {
    "duration": 21,
    "start_time": "2025-06-28T22:27:57.402Z"
   },
   {
    "duration": 7,
    "start_time": "2025-06-28T22:28:08.022Z"
   },
   {
    "duration": 39,
    "start_time": "2025-06-28T22:29:21.707Z"
   },
   {
    "duration": 4,
    "start_time": "2025-06-28T22:37:09.625Z"
   },
   {
    "duration": 106,
    "start_time": "2025-06-28T22:37:31.147Z"
   },
   {
    "duration": 88,
    "start_time": "2025-06-28T22:37:37.808Z"
   },
   {
    "duration": 11,
    "start_time": "2025-06-28T22:37:41.208Z"
   },
   {
    "duration": 23,
    "start_time": "2025-06-28T22:37:50.493Z"
   },
   {
    "duration": 2,
    "start_time": "2025-06-28T22:37:51.007Z"
   },
   {
    "duration": 3,
    "start_time": "2025-06-28T22:38:04.631Z"
   },
   {
    "duration": 15,
    "start_time": "2025-06-28T22:39:43.862Z"
   },
   {
    "duration": 3,
    "start_time": "2025-06-28T22:42:43.463Z"
   },
   {
    "duration": 12800,
    "start_time": "2025-06-28T22:42:46.035Z"
   },
   {
    "duration": 12751,
    "start_time": "2025-06-28T22:43:15.677Z"
   },
   {
    "duration": 12700,
    "start_time": "2025-06-28T22:44:21.097Z"
   },
   {
    "duration": 12,
    "start_time": "2025-06-28T22:46:09.806Z"
   },
   {
    "duration": 7,
    "start_time": "2025-06-28T22:46:32.324Z"
   },
   {
    "duration": 8,
    "start_time": "2025-06-28T22:46:39.239Z"
   },
   {
    "duration": 14,
    "start_time": "2025-06-28T22:48:09.622Z"
   },
   {
    "duration": 10,
    "start_time": "2025-06-28T22:48:16.520Z"
   },
   {
    "duration": 10,
    "start_time": "2025-06-28T22:52:42.801Z"
   },
   {
    "duration": 4,
    "start_time": "2025-06-28T22:52:48.240Z"
   },
   {
    "duration": 5,
    "start_time": "2025-06-28T22:53:13.995Z"
   },
   {
    "duration": 31,
    "start_time": "2025-06-28T22:57:22.947Z"
   },
   {
    "duration": 33,
    "start_time": "2025-06-28T22:57:27.545Z"
   },
   {
    "duration": 22,
    "start_time": "2025-06-28T22:57:32.747Z"
   },
   {
    "duration": 3,
    "start_time": "2025-06-28T22:57:34.820Z"
   },
   {
    "duration": 628,
    "start_time": "2025-06-28T22:57:36.833Z"
   },
   {
    "duration": 12,
    "start_time": "2025-06-28T22:57:57.661Z"
   },
   {
    "duration": 6,
    "start_time": "2025-06-28T22:58:00.245Z"
   },
   {
    "duration": 23,
    "start_time": "2025-06-28T22:58:53.721Z"
   },
   {
    "duration": 24,
    "start_time": "2025-06-28T23:00:05.082Z"
   },
   {
    "duration": 12,
    "start_time": "2025-06-28T23:00:05.664Z"
   },
   {
    "duration": 5,
    "start_time": "2025-06-28T23:00:23.661Z"
   },
   {
    "duration": 23,
    "start_time": "2025-06-28T23:00:29.589Z"
   },
   {
    "duration": 3,
    "start_time": "2025-06-28T23:00:30.011Z"
   },
   {
    "duration": 648,
    "start_time": "2025-06-28T23:00:31.801Z"
   },
   {
    "duration": 11,
    "start_time": "2025-06-28T23:00:37.223Z"
   },
   {
    "duration": 5,
    "start_time": "2025-06-28T23:00:38.919Z"
   },
   {
    "duration": 32,
    "start_time": "2025-06-28T23:04:52.865Z"
   },
   {
    "duration": 4,
    "start_time": "2025-06-28T23:05:17.611Z"
   },
   {
    "duration": 26,
    "start_time": "2025-06-28T23:05:25.430Z"
   },
   {
    "duration": 2,
    "start_time": "2025-06-28T23:05:26.705Z"
   },
   {
    "duration": 2675,
    "start_time": "2025-06-28T23:05:28.009Z"
   },
   {
    "duration": 15,
    "start_time": "2025-06-28T23:05:34.978Z"
   },
   {
    "duration": 5,
    "start_time": "2025-06-28T23:05:40.966Z"
   },
   {
    "duration": 23,
    "start_time": "2025-06-28T23:11:22.051Z"
   },
   {
    "duration": 3,
    "start_time": "2025-06-28T23:11:23.856Z"
   },
   {
    "duration": 2580,
    "start_time": "2025-06-28T23:11:29.409Z"
   },
   {
    "duration": 15,
    "start_time": "2025-06-28T23:11:37.455Z"
   },
   {
    "duration": 23,
    "start_time": "2025-06-28T23:12:22.456Z"
   },
   {
    "duration": 3,
    "start_time": "2025-06-28T23:12:22.721Z"
   },
   {
    "duration": 2714,
    "start_time": "2025-06-28T23:12:23.073Z"
   },
   {
    "duration": 16,
    "start_time": "2025-06-28T23:12:27.278Z"
   },
   {
    "duration": 5,
    "start_time": "2025-06-28T23:12:28.314Z"
   },
   {
    "duration": 2774,
    "start_time": "2025-06-28T23:13:03.007Z"
   },
   {
    "duration": 2769,
    "start_time": "2025-06-28T23:13:12.912Z"
   },
   {
    "duration": 2761,
    "start_time": "2025-06-28T23:13:29.921Z"
   },
   {
    "duration": 11,
    "start_time": "2025-06-28T23:15:40.212Z"
   },
   {
    "duration": 2687,
    "start_time": "2025-06-28T23:15:59.711Z"
   },
   {
    "duration": 2721,
    "start_time": "2025-06-28T23:16:15.451Z"
   },
   {
    "duration": 2774,
    "start_time": "2025-06-28T23:17:00.708Z"
   },
   {
    "duration": 26,
    "start_time": "2025-06-28T23:20:26.919Z"
   },
   {
    "duration": 2,
    "start_time": "2025-06-28T23:20:27.501Z"
   },
   {
    "duration": 2631,
    "start_time": "2025-06-28T23:20:28.566Z"
   },
   {
    "duration": 15,
    "start_time": "2025-06-28T23:20:32.758Z"
   },
   {
    "duration": 5,
    "start_time": "2025-06-28T23:20:34.837Z"
   },
   {
    "duration": 2720,
    "start_time": "2025-06-28T23:20:37.151Z"
   },
   {
    "duration": 2566,
    "start_time": "2025-06-28T23:20:43.142Z"
   },
   {
    "duration": 7,
    "start_time": "2025-06-28T23:20:58.604Z"
   },
   {
    "duration": 2730,
    "start_time": "2025-06-28T23:21:07.161Z"
   },
   {
    "duration": 2698,
    "start_time": "2025-06-28T23:21:33.499Z"
   },
   {
    "duration": 2752,
    "start_time": "2025-06-28T23:21:51.530Z"
   },
   {
    "duration": 9,
    "start_time": "2025-06-28T23:35:13.247Z"
   },
   {
    "duration": 5,
    "start_time": "2025-06-28T23:44:20.906Z"
   },
   {
    "duration": 87,
    "start_time": "2025-06-28T23:44:54.696Z"
   },
   {
    "duration": 5,
    "start_time": "2025-06-28T23:45:52.739Z"
   },
   {
    "duration": 6,
    "start_time": "2025-06-28T23:48:18.965Z"
   },
   {
    "duration": 6,
    "start_time": "2025-06-28T23:48:40.643Z"
   },
   {
    "duration": 17,
    "start_time": "2025-06-28T23:52:26.776Z"
   },
   {
    "duration": 5,
    "start_time": "2025-06-28T23:52:33.282Z"
   },
   {
    "duration": 4,
    "start_time": "2025-06-28T23:52:38.781Z"
   },
   {
    "duration": 11,
    "start_time": "2025-06-28T23:52:48.218Z"
   },
   {
    "duration": 5,
    "start_time": "2025-06-28T23:53:02.263Z"
   },
   {
    "duration": 4,
    "start_time": "2025-06-28T23:53:09.531Z"
   },
   {
    "duration": 6,
    "start_time": "2025-06-28T23:54:30.209Z"
   },
   {
    "duration": 8,
    "start_time": "2025-06-28T23:54:31.542Z"
   },
   {
    "duration": 6,
    "start_time": "2025-06-28T23:54:35.935Z"
   },
   {
    "duration": 6,
    "start_time": "2025-06-28T23:54:36.364Z"
   },
   {
    "duration": 83,
    "start_time": "2025-06-29T08:44:13.969Z"
   },
   {
    "duration": 80248,
    "start_time": "2025-06-30T13:39:05.260Z"
   },
   {
    "duration": 2455,
    "start_time": "2025-06-30T13:40:25.511Z"
   },
   {
    "duration": 85,
    "start_time": "2025-06-30T13:40:27.968Z"
   },
   {
    "duration": 1275,
    "start_time": "2025-06-30T13:40:28.055Z"
   },
   {
    "duration": 577,
    "start_time": "2025-06-30T13:40:29.332Z"
   },
   {
    "duration": 17,
    "start_time": "2025-06-30T13:40:29.910Z"
   },
   {
    "duration": 15,
    "start_time": "2025-06-30T13:40:29.937Z"
   },
   {
    "duration": 8,
    "start_time": "2025-06-30T13:40:29.954Z"
   },
   {
    "duration": 14,
    "start_time": "2025-06-30T13:40:29.964Z"
   },
   {
    "duration": 7,
    "start_time": "2025-06-30T13:40:29.981Z"
   },
   {
    "duration": 7,
    "start_time": "2025-06-30T13:40:29.989Z"
   },
   {
    "duration": 105,
    "start_time": "2025-06-30T13:40:29.997Z"
   },
   {
    "duration": 4222,
    "start_time": "2025-06-30T13:40:30.104Z"
   },
   {
    "duration": 4102,
    "start_time": "2025-06-30T13:40:34.328Z"
   },
   {
    "duration": 4791,
    "start_time": "2025-06-30T13:40:38.435Z"
   },
   {
    "duration": 76,
    "start_time": "2025-06-30T13:40:43.235Z"
   },
   {
    "duration": 617,
    "start_time": "2025-06-30T13:40:43.313Z"
   },
   {
    "duration": 643,
    "start_time": "2025-06-30T13:40:43.931Z"
   },
   {
    "duration": 636,
    "start_time": "2025-06-30T13:40:44.577Z"
   },
   {
    "duration": 174,
    "start_time": "2025-06-30T13:40:45.215Z"
   },
   {
    "duration": 0,
    "start_time": "2025-06-30T13:40:45.391Z"
   },
   {
    "duration": 0,
    "start_time": "2025-06-30T13:40:45.392Z"
   },
   {
    "duration": 0,
    "start_time": "2025-06-30T13:40:45.393Z"
   },
   {
    "duration": 0,
    "start_time": "2025-06-30T13:40:45.395Z"
   },
   {
    "duration": 0,
    "start_time": "2025-06-30T13:40:45.396Z"
   },
   {
    "duration": 0,
    "start_time": "2025-06-30T13:40:45.397Z"
   },
   {
    "duration": 0,
    "start_time": "2025-06-30T13:40:45.398Z"
   },
   {
    "duration": 0,
    "start_time": "2025-06-30T13:40:45.399Z"
   },
   {
    "duration": 0,
    "start_time": "2025-06-30T13:40:45.401Z"
   },
   {
    "duration": 0,
    "start_time": "2025-06-30T13:40:45.402Z"
   },
   {
    "duration": 35919,
    "start_time": "2025-06-30T14:32:48.463Z"
   },
   {
    "duration": 2069,
    "start_time": "2025-06-30T14:33:24.384Z"
   },
   {
    "duration": 43,
    "start_time": "2025-06-30T14:33:26.457Z"
   },
   {
    "duration": 1301,
    "start_time": "2025-06-30T14:33:26.502Z"
   },
   {
    "duration": 585,
    "start_time": "2025-06-30T14:33:27.806Z"
   },
   {
    "duration": 16,
    "start_time": "2025-06-30T14:33:28.393Z"
   },
   {
    "duration": 12,
    "start_time": "2025-06-30T14:33:28.411Z"
   },
   {
    "duration": 14,
    "start_time": "2025-06-30T14:33:28.438Z"
   },
   {
    "duration": 16,
    "start_time": "2025-06-30T14:33:28.456Z"
   },
   {
    "duration": 22,
    "start_time": "2025-06-30T14:33:28.474Z"
   },
   {
    "duration": 14,
    "start_time": "2025-06-30T14:33:28.498Z"
   },
   {
    "duration": 84,
    "start_time": "2025-06-30T14:33:28.514Z"
   },
   {
    "duration": 4252,
    "start_time": "2025-06-30T14:33:28.599Z"
   },
   {
    "duration": 4198,
    "start_time": "2025-06-30T14:33:32.853Z"
   },
   {
    "duration": 4606,
    "start_time": "2025-06-30T14:33:37.053Z"
   },
   {
    "duration": 85,
    "start_time": "2025-06-30T14:33:41.661Z"
   },
   {
    "duration": 607,
    "start_time": "2025-06-30T14:33:41.751Z"
   },
   {
    "duration": 600,
    "start_time": "2025-06-30T14:33:42.360Z"
   },
   {
    "duration": 599,
    "start_time": "2025-06-30T14:33:42.962Z"
   },
   {
    "duration": 23,
    "start_time": "2025-06-30T14:33:43.562Z"
   },
   {
    "duration": 3,
    "start_time": "2025-06-30T14:33:43.586Z"
   },
   {
    "duration": 2876,
    "start_time": "2025-06-30T14:33:43.590Z"
   },
   {
    "duration": 294,
    "start_time": "2025-06-30T14:33:46.467Z"
   },
   {
    "duration": 0,
    "start_time": "2025-06-30T14:33:46.763Z"
   },
   {
    "duration": 0,
    "start_time": "2025-06-30T14:33:46.764Z"
   },
   {
    "duration": 0,
    "start_time": "2025-06-30T14:33:46.765Z"
   },
   {
    "duration": 0,
    "start_time": "2025-06-30T14:33:46.766Z"
   },
   {
    "duration": 0,
    "start_time": "2025-06-30T14:33:46.767Z"
   },
   {
    "duration": 0,
    "start_time": "2025-06-30T14:33:46.768Z"
   },
   {
    "duration": 0,
    "start_time": "2025-06-30T14:33:46.769Z"
   },
   {
    "duration": 15,
    "start_time": "2025-06-30T14:34:02.311Z"
   },
   {
    "duration": 6,
    "start_time": "2025-06-30T14:34:03.904Z"
   },
   {
    "duration": 3188,
    "start_time": "2025-06-30T14:34:07.653Z"
   },
   {
    "duration": 3058,
    "start_time": "2025-06-30T14:34:15.414Z"
   },
   {
    "duration": 4,
    "start_time": "2025-06-30T14:35:21.476Z"
   },
   {
    "duration": 6,
    "start_time": "2025-06-30T14:35:22.681Z"
   },
   {
    "duration": 6,
    "start_time": "2025-06-30T14:35:24.454Z"
   },
   {
    "duration": 6,
    "start_time": "2025-06-30T14:35:25.219Z"
   },
   {
    "duration": 6,
    "start_time": "2025-06-30T14:52:53.553Z"
   },
   {
    "duration": 5,
    "start_time": "2025-06-30T14:52:57.967Z"
   },
   {
    "duration": 13,
    "start_time": "2025-06-30T14:53:06.466Z"
   },
   {
    "duration": 11,
    "start_time": "2025-06-30T14:54:07.013Z"
   },
   {
    "duration": 16,
    "start_time": "2025-06-30T14:54:22.751Z"
   },
   {
    "duration": 110,
    "start_time": "2025-06-30T14:55:02.140Z"
   },
   {
    "duration": 3,
    "start_time": "2025-06-30T14:55:05.205Z"
   },
   {
    "duration": 18,
    "start_time": "2025-06-30T14:55:08.737Z"
   },
   {
    "duration": 11,
    "start_time": "2025-06-30T14:55:13.052Z"
   },
   {
    "duration": 3148,
    "start_time": "2025-06-30T14:55:33.110Z"
   },
   {
    "duration": 8,
    "start_time": "2025-06-30T14:55:41.476Z"
   },
   {
    "duration": 16,
    "start_time": "2025-06-30T14:55:57.202Z"
   },
   {
    "duration": 12,
    "start_time": "2025-06-30T14:56:05.428Z"
   },
   {
    "duration": 13,
    "start_time": "2025-06-30T14:56:12.940Z"
   },
   {
    "duration": 179,
    "start_time": "2025-06-30T14:56:29.059Z"
   },
   {
    "duration": 53,
    "start_time": "2025-06-30T14:59:07.161Z"
   },
   {
    "duration": 14,
    "start_time": "2025-06-30T15:01:28.489Z"
   },
   {
    "duration": 6,
    "start_time": "2025-06-30T15:02:02.882Z"
   },
   {
    "duration": 12,
    "start_time": "2025-06-30T15:02:06.787Z"
   },
   {
    "duration": 4,
    "start_time": "2025-06-30T15:02:33.553Z"
   },
   {
    "duration": 14,
    "start_time": "2025-06-30T15:02:36.128Z"
   },
   {
    "duration": 10,
    "start_time": "2025-06-30T15:02:48.520Z"
   },
   {
    "duration": 6,
    "start_time": "2025-06-30T15:36:32.518Z"
   },
   {
    "duration": 14,
    "start_time": "2025-06-30T15:36:37.827Z"
   },
   {
    "duration": 5,
    "start_time": "2025-06-30T15:36:43.496Z"
   },
   {
    "duration": 8,
    "start_time": "2025-06-30T15:37:01.958Z"
   },
   {
    "duration": 22,
    "start_time": "2025-06-30T15:37:13.034Z"
   },
   {
    "duration": 4,
    "start_time": "2025-06-30T15:40:20.570Z"
   },
   {
    "duration": 4,
    "start_time": "2025-06-30T15:40:24.083Z"
   },
   {
    "duration": 6,
    "start_time": "2025-06-30T15:40:28.766Z"
   },
   {
    "duration": 275,
    "start_time": "2025-06-30T15:40:37.819Z"
   },
   {
    "duration": 44011,
    "start_time": "2025-06-30T15:41:01.440Z"
   },
   {
    "duration": 2076,
    "start_time": "2025-06-30T15:41:45.454Z"
   },
   {
    "duration": 46,
    "start_time": "2025-06-30T15:41:47.541Z"
   },
   {
    "duration": 1275,
    "start_time": "2025-06-30T15:41:47.589Z"
   },
   {
    "duration": 608,
    "start_time": "2025-06-30T15:41:48.866Z"
   },
   {
    "duration": 18,
    "start_time": "2025-06-30T15:41:49.476Z"
   },
   {
    "duration": 27,
    "start_time": "2025-06-30T15:41:49.496Z"
   },
   {
    "duration": 9,
    "start_time": "2025-06-30T15:41:49.525Z"
   },
   {
    "duration": 13,
    "start_time": "2025-06-30T15:41:49.546Z"
   },
   {
    "duration": 7,
    "start_time": "2025-06-30T15:41:49.562Z"
   },
   {
    "duration": 7,
    "start_time": "2025-06-30T15:41:49.571Z"
   },
   {
    "duration": 94,
    "start_time": "2025-06-30T15:41:49.580Z"
   },
   {
    "duration": 4011,
    "start_time": "2025-06-30T15:41:49.675Z"
   },
   {
    "duration": 4261,
    "start_time": "2025-06-30T15:41:53.687Z"
   },
   {
    "duration": 4347,
    "start_time": "2025-06-30T15:41:57.953Z"
   },
   {
    "duration": 91,
    "start_time": "2025-06-30T15:42:02.301Z"
   },
   {
    "duration": 637,
    "start_time": "2025-06-30T15:42:02.394Z"
   },
   {
    "duration": 622,
    "start_time": "2025-06-30T15:42:03.035Z"
   },
   {
    "duration": 636,
    "start_time": "2025-06-30T15:42:03.659Z"
   },
   {
    "duration": 22,
    "start_time": "2025-06-30T15:42:04.297Z"
   },
   {
    "duration": 37,
    "start_time": "2025-06-30T15:42:04.321Z"
   },
   {
    "duration": 3105,
    "start_time": "2025-06-30T15:42:04.360Z"
   },
   {
    "duration": 76,
    "start_time": "2025-06-30T15:42:07.467Z"
   },
   {
    "duration": 14,
    "start_time": "2025-06-30T15:42:07.545Z"
   },
   {
    "duration": 3178,
    "start_time": "2025-06-30T15:42:07.569Z"
   },
   {
    "duration": 3096,
    "start_time": "2025-06-30T15:42:10.749Z"
   },
   {
    "duration": 10,
    "start_time": "2025-06-30T15:42:13.846Z"
   },
   {
    "duration": 6,
    "start_time": "2025-06-30T15:42:13.861Z"
   },
   {
    "duration": 77,
    "start_time": "2025-06-30T15:42:13.869Z"
   },
   {
    "duration": 69,
    "start_time": "2025-06-30T15:42:13.948Z"
   },
   {
    "duration": 37,
    "start_time": "2025-06-30T15:42:14.019Z"
   },
   {
    "duration": 220,
    "start_time": "2025-06-30T15:42:14.059Z"
   },
   {
    "duration": 0,
    "start_time": "2025-06-30T15:42:14.280Z"
   },
   {
    "duration": 0,
    "start_time": "2025-06-30T15:42:14.282Z"
   },
   {
    "duration": 7,
    "start_time": "2025-06-30T15:43:01.801Z"
   },
   {
    "duration": 5,
    "start_time": "2025-06-30T15:43:11.317Z"
   },
   {
    "duration": 7,
    "start_time": "2025-06-30T15:43:14.143Z"
   },
   {
    "duration": 6,
    "start_time": "2025-06-30T15:43:15.016Z"
   },
   {
    "duration": 3,
    "start_time": "2025-06-30T15:44:48.565Z"
   },
   {
    "duration": 8,
    "start_time": "2025-06-30T15:44:55.112Z"
   },
   {
    "duration": 3,
    "start_time": "2025-06-30T15:45:25.591Z"
   },
   {
    "duration": 6,
    "start_time": "2025-06-30T15:45:41.687Z"
   },
   {
    "duration": 11,
    "start_time": "2025-06-30T15:45:47.356Z"
   },
   {
    "duration": 14,
    "start_time": "2025-06-30T15:45:55.452Z"
   },
   {
    "duration": 13,
    "start_time": "2025-06-30T15:48:37.126Z"
   },
   {
    "duration": 3052,
    "start_time": "2025-06-30T15:49:24.901Z"
   },
   {
    "duration": 10,
    "start_time": "2025-06-30T15:49:35.385Z"
   },
   {
    "duration": 8,
    "start_time": "2025-06-30T15:49:48.006Z"
   },
   {
    "duration": 16,
    "start_time": "2025-06-30T15:51:50.161Z"
   },
   {
    "duration": 13,
    "start_time": "2025-06-30T15:52:03.054Z"
   },
   {
    "duration": 70,
    "start_time": "2025-06-30T15:53:37.800Z"
   },
   {
    "duration": 92,
    "start_time": "2025-06-30T15:55:04.809Z"
   },
   {
    "duration": 4,
    "start_time": "2025-06-30T15:56:01.794Z"
   },
   {
    "duration": 3,
    "start_time": "2025-06-30T15:56:30.128Z"
   },
   {
    "duration": 1110,
    "start_time": "2025-06-30T15:56:50.913Z"
   },
   {
    "duration": 4,
    "start_time": "2025-06-30T16:00:33.640Z"
   },
   {
    "duration": 7,
    "start_time": "2025-06-30T16:00:35.185Z"
   },
   {
    "duration": 12,
    "start_time": "2025-06-30T16:00:41.130Z"
   },
   {
    "duration": 4,
    "start_time": "2025-06-30T16:03:03.989Z"
   },
   {
    "duration": 4,
    "start_time": "2025-06-30T16:03:27.645Z"
   },
   {
    "duration": 59,
    "start_time": "2025-06-30T16:42:47.401Z"
   },
   {
    "duration": 4,
    "start_time": "2025-06-30T16:43:19.984Z"
   },
   {
    "duration": 6,
    "start_time": "2025-06-30T16:43:20.551Z"
   },
   {
    "duration": 55,
    "start_time": "2025-06-30T16:43:21.114Z"
   },
   {
    "duration": 4,
    "start_time": "2025-06-30T16:45:21.399Z"
   },
   {
    "duration": 7,
    "start_time": "2025-06-30T16:45:21.754Z"
   },
   {
    "duration": 28,
    "start_time": "2025-06-30T16:45:22.255Z"
   },
   {
    "duration": 5,
    "start_time": "2025-06-30T16:45:35.382Z"
   },
   {
    "duration": 4,
    "start_time": "2025-06-30T16:45:35.985Z"
   },
   {
    "duration": 47,
    "start_time": "2025-06-30T16:45:36.400Z"
   },
   {
    "duration": 75,
    "start_time": "2025-06-30T16:45:45.395Z"
   },
   {
    "duration": 50,
    "start_time": "2025-06-30T16:47:26.875Z"
   },
   {
    "duration": 7,
    "start_time": "2025-06-30T17:01:29.077Z"
   },
   {
    "duration": 78,
    "start_time": "2025-06-30T17:17:05.511Z"
   },
   {
    "duration": 79,
    "start_time": "2025-06-30T17:17:13.669Z"
   },
   {
    "duration": 7,
    "start_time": "2025-06-30T17:27:09.446Z"
   },
   {
    "duration": 11,
    "start_time": "2025-06-30T17:27:17.807Z"
   },
   {
    "duration": 1159,
    "start_time": "2025-06-30T17:27:29.472Z"
   },
   {
    "duration": 5,
    "start_time": "2025-06-30T17:27:33.527Z"
   },
   {
    "duration": 5,
    "start_time": "2025-06-30T17:30:28.015Z"
   },
   {
    "duration": 1162,
    "start_time": "2025-06-30T17:30:29.886Z"
   },
   {
    "duration": 5,
    "start_time": "2025-06-30T17:30:31.706Z"
   },
   {
    "duration": 79,
    "start_time": "2025-06-30T17:31:39.633Z"
   },
   {
    "duration": 7,
    "start_time": "2025-06-30T17:31:59.861Z"
   },
   {
    "duration": 1146,
    "start_time": "2025-06-30T17:32:00.823Z"
   },
   {
    "duration": 4,
    "start_time": "2025-06-30T17:32:03.169Z"
   },
   {
    "duration": 1159,
    "start_time": "2025-06-30T17:32:52.769Z"
   },
   {
    "duration": 6,
    "start_time": "2025-06-30T17:33:31.464Z"
   },
   {
    "duration": 1146,
    "start_time": "2025-06-30T17:33:31.941Z"
   },
   {
    "duration": 1187,
    "start_time": "2025-06-30T17:35:55.572Z"
   },
   {
    "duration": 1193,
    "start_time": "2025-06-30T17:35:59.260Z"
   },
   {
    "duration": 6,
    "start_time": "2025-06-30T17:37:54.017Z"
   },
   {
    "duration": 1141,
    "start_time": "2025-06-30T17:37:54.654Z"
   },
   {
    "duration": 1132,
    "start_time": "2025-06-30T17:37:57.760Z"
   },
   {
    "duration": 1136,
    "start_time": "2025-06-30T17:38:00.328Z"
   },
   {
    "duration": 1181,
    "start_time": "2025-06-30T17:38:23.646Z"
   },
   {
    "duration": 1157,
    "start_time": "2025-06-30T17:38:24.829Z"
   },
   {
    "duration": 1147,
    "start_time": "2025-06-30T17:38:31.998Z"
   },
   {
    "duration": 1164,
    "start_time": "2025-06-30T17:38:35.850Z"
   },
   {
    "duration": 1175,
    "start_time": "2025-06-30T17:38:46.828Z"
   },
   {
    "duration": 1181,
    "start_time": "2025-06-30T17:38:56.028Z"
   },
   {
    "duration": 1154,
    "start_time": "2025-06-30T17:38:58.638Z"
   },
   {
    "duration": 1160,
    "start_time": "2025-06-30T17:39:00.769Z"
   },
   {
    "duration": 72149,
    "start_time": "2025-07-01T19:15:35.325Z"
   },
   {
    "duration": 2137,
    "start_time": "2025-07-01T19:16:47.476Z"
   },
   {
    "duration": 42,
    "start_time": "2025-07-01T19:16:49.614Z"
   },
   {
    "duration": 1182,
    "start_time": "2025-07-01T19:16:49.658Z"
   },
   {
    "duration": 571,
    "start_time": "2025-07-01T19:16:50.842Z"
   },
   {
    "duration": 20,
    "start_time": "2025-07-01T19:16:51.416Z"
   },
   {
    "duration": 10,
    "start_time": "2025-07-01T19:16:51.438Z"
   },
   {
    "duration": 10,
    "start_time": "2025-07-01T19:16:51.462Z"
   },
   {
    "duration": 21,
    "start_time": "2025-07-01T19:16:51.473Z"
   },
   {
    "duration": 9,
    "start_time": "2025-07-01T19:16:51.497Z"
   },
   {
    "duration": 15,
    "start_time": "2025-07-01T19:16:51.508Z"
   },
   {
    "duration": 76,
    "start_time": "2025-07-01T19:16:51.524Z"
   },
   {
    "duration": 4033,
    "start_time": "2025-07-01T19:16:51.601Z"
   },
   {
    "duration": 4054,
    "start_time": "2025-07-01T19:16:55.636Z"
   },
   {
    "duration": 4213,
    "start_time": "2025-07-01T19:16:59.691Z"
   },
   {
    "duration": 74,
    "start_time": "2025-07-01T19:17:03.905Z"
   },
   {
    "duration": 551,
    "start_time": "2025-07-01T19:17:03.981Z"
   },
   {
    "duration": 530,
    "start_time": "2025-07-01T19:17:04.533Z"
   },
   {
    "duration": 538,
    "start_time": "2025-07-01T19:17:05.065Z"
   },
   {
    "duration": 21,
    "start_time": "2025-07-01T19:17:05.604Z"
   },
   {
    "duration": 3,
    "start_time": "2025-07-01T19:17:05.626Z"
   },
   {
    "duration": 2533,
    "start_time": "2025-07-01T19:17:05.630Z"
   },
   {
    "duration": 13,
    "start_time": "2025-07-01T19:17:08.165Z"
   },
   {
    "duration": 85,
    "start_time": "2025-07-01T19:17:08.180Z"
   },
   {
    "duration": 2429,
    "start_time": "2025-07-01T19:17:08.266Z"
   },
   {
    "duration": 2576,
    "start_time": "2025-07-01T19:17:10.696Z"
   },
   {
    "duration": 4,
    "start_time": "2025-07-01T19:17:13.273Z"
   },
   {
    "duration": 12,
    "start_time": "2025-07-01T19:17:13.280Z"
   },
   {
    "duration": 71,
    "start_time": "2025-07-01T19:17:13.293Z"
   },
   {
    "duration": 7,
    "start_time": "2025-07-01T19:17:13.366Z"
   },
   {
    "duration": 3,
    "start_time": "2025-07-01T19:17:13.374Z"
   },
   {
    "duration": 6,
    "start_time": "2025-07-01T19:17:13.378Z"
   },
   {
    "duration": 31,
    "start_time": "2025-07-01T19:17:13.386Z"
   },
   {
    "duration": 4,
    "start_time": "2025-07-01T19:17:13.419Z"
   },
   {
    "duration": 1047,
    "start_time": "2025-07-01T19:17:13.425Z"
   },
   {
    "duration": 1026,
    "start_time": "2025-07-01T19:17:14.474Z"
   },
   {
    "duration": 1000,
    "start_time": "2025-07-01T19:17:15.502Z"
   },
   {
    "duration": 7,
    "start_time": "2025-07-01T19:18:08.276Z"
   },
   {
    "duration": 1065,
    "start_time": "2025-07-01T19:18:10.250Z"
   },
   {
    "duration": 5,
    "start_time": "2025-07-01T19:18:36.067Z"
   },
   {
    "duration": 1037,
    "start_time": "2025-07-01T19:18:36.426Z"
   },
   {
    "duration": 1047,
    "start_time": "2025-07-01T19:18:54.977Z"
   },
   {
    "duration": 1028,
    "start_time": "2025-07-01T19:19:06.275Z"
   }
  ],
  "kernelspec": {
   "display_name": "Python 3 (ipykernel)",
   "language": "python",
   "name": "python3"
  },
  "language_info": {
   "codemirror_mode": {
    "name": "ipython",
    "version": 3
   },
   "file_extension": ".py",
   "mimetype": "text/x-python",
   "name": "python",
   "nbconvert_exporter": "python",
   "pygments_lexer": "ipython3",
   "version": "3.9.5"
  },
  "toc": {
   "base_numbering": 1,
   "nav_menu": {},
   "number_sections": true,
   "sideBar": true,
   "skip_h1_title": false,
   "title_cell": "Table of Contents",
   "title_sidebar": "Contents",
   "toc_cell": false,
   "toc_position": {
    "height": "calc(100% - 180px)",
    "left": "10px",
    "top": "150px",
    "width": "263.807px"
   },
   "toc_section_display": true,
   "toc_window_display": true
  }
 },
 "nbformat": 4,
 "nbformat_minor": 2
}
