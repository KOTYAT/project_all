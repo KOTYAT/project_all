{
 "cells": [
  {
   "cell_type": "code",
   "execution_count": 1,
   "id": "21f7747a",
   "metadata": {
    "scrolled": true
   },
   "outputs": [
    {
     "name": "stdout",
     "output_type": "stream",
     "text": [
      "Requirement already satisfied: scipy in /opt/conda/lib/python3.9/site-packages (1.13.1)\n",
      "Requirement already satisfied: numpy<2.3,>=1.22.4 in /opt/conda/lib/python3.9/site-packages (from scipy) (2.0.2)\n",
      "Requirement already satisfied: numba in /opt/conda/lib/python3.9/site-packages (0.60.0)\n",
      "Requirement already satisfied: numpy<2.1,>=1.22 in /opt/conda/lib/python3.9/site-packages (from numba) (2.0.2)\n",
      "Requirement already satisfied: llvmlite<0.44,>=0.43.0dev0 in /opt/conda/lib/python3.9/site-packages (from numba) (0.43.0)\n",
      "Requirement already satisfied: numpy in /opt/conda/lib/python3.9/site-packages (2.0.2)\n",
      "Requirement already satisfied: jinja2 in /opt/conda/lib/python3.9/site-packages (3.1.6)\n",
      "Requirement already satisfied: MarkupSafe>=2.0 in /opt/conda/lib/python3.9/site-packages (from jinja2) (2.1.1)\n",
      "Requirement already satisfied: pandas in /opt/conda/lib/python3.9/site-packages (2.2.3)\n",
      "Requirement already satisfied: tzdata>=2022.7 in /opt/conda/lib/python3.9/site-packages (from pandas) (2025.2)\n",
      "Requirement already satisfied: pytz>=2020.1 in /opt/conda/lib/python3.9/site-packages (from pandas) (2021.1)\n",
      "Requirement already satisfied: python-dateutil>=2.8.2 in /opt/conda/lib/python3.9/site-packages (from pandas) (2.9.0.post0)\n",
      "Requirement already satisfied: numpy>=1.22.4 in /opt/conda/lib/python3.9/site-packages (from pandas) (2.0.2)\n",
      "Requirement already satisfied: six>=1.5 in /opt/conda/lib/python3.9/site-packages (from python-dateutil>=2.8.2->pandas) (1.16.0)\n",
      "Requirement already satisfied: matplotlib in /opt/conda/lib/python3.9/site-packages (3.9.4)\n",
      "Requirement already satisfied: kiwisolver>=1.3.1 in /opt/conda/lib/python3.9/site-packages (from matplotlib) (1.4.4)\n",
      "Requirement already satisfied: packaging>=20.0 in /opt/conda/lib/python3.9/site-packages (from matplotlib) (21.3)\n",
      "Requirement already satisfied: contourpy>=1.0.1 in /opt/conda/lib/python3.9/site-packages (from matplotlib) (1.3.0)\n",
      "Requirement already satisfied: cycler>=0.10 in /opt/conda/lib/python3.9/site-packages (from matplotlib) (0.11.0)\n",
      "Requirement already satisfied: fonttools>=4.22.0 in /opt/conda/lib/python3.9/site-packages (from matplotlib) (4.58.1)\n",
      "Requirement already satisfied: pillow>=8 in /opt/conda/lib/python3.9/site-packages (from matplotlib) (8.4.0)\n",
      "Requirement already satisfied: python-dateutil>=2.7 in /opt/conda/lib/python3.9/site-packages (from matplotlib) (2.9.0.post0)\n",
      "Requirement already satisfied: numpy>=1.23 in /opt/conda/lib/python3.9/site-packages (from matplotlib) (2.0.2)\n",
      "Requirement already satisfied: importlib-resources>=3.2.0 in /opt/conda/lib/python3.9/site-packages (from matplotlib) (6.5.2)\n",
      "Requirement already satisfied: pyparsing>=2.3.1 in /opt/conda/lib/python3.9/site-packages (from matplotlib) (2.4.7)\n",
      "Requirement already satisfied: zipp>=3.1.0 in /opt/conda/lib/python3.9/site-packages (from importlib-resources>=3.2.0->matplotlib) (3.5.0)\n",
      "Requirement already satisfied: six>=1.5 in /opt/conda/lib/python3.9/site-packages (from python-dateutil>=2.7->matplotlib) (1.16.0)\n",
      "Requirement already satisfied: seaborn in /opt/conda/lib/python3.9/site-packages (0.13.2)\n",
      "Requirement already satisfied: pandas>=1.2 in /opt/conda/lib/python3.9/site-packages (from seaborn) (2.2.3)\n",
      "Requirement already satisfied: numpy!=1.24.0,>=1.20 in /opt/conda/lib/python3.9/site-packages (from seaborn) (2.0.2)\n",
      "Requirement already satisfied: matplotlib!=3.6.1,>=3.4 in /opt/conda/lib/python3.9/site-packages (from seaborn) (3.9.4)\n",
      "Requirement already satisfied: python-dateutil>=2.7 in /opt/conda/lib/python3.9/site-packages (from matplotlib!=3.6.1,>=3.4->seaborn) (2.9.0.post0)\n",
      "Requirement already satisfied: pyparsing>=2.3.1 in /opt/conda/lib/python3.9/site-packages (from matplotlib!=3.6.1,>=3.4->seaborn) (2.4.7)\n",
      "Requirement already satisfied: contourpy>=1.0.1 in /opt/conda/lib/python3.9/site-packages (from matplotlib!=3.6.1,>=3.4->seaborn) (1.3.0)\n",
      "Requirement already satisfied: cycler>=0.10 in /opt/conda/lib/python3.9/site-packages (from matplotlib!=3.6.1,>=3.4->seaborn) (0.11.0)\n",
      "Requirement already satisfied: importlib-resources>=3.2.0 in /opt/conda/lib/python3.9/site-packages (from matplotlib!=3.6.1,>=3.4->seaborn) (6.5.2)\n",
      "Requirement already satisfied: pillow>=8 in /opt/conda/lib/python3.9/site-packages (from matplotlib!=3.6.1,>=3.4->seaborn) (8.4.0)\n",
      "Requirement already satisfied: fonttools>=4.22.0 in /opt/conda/lib/python3.9/site-packages (from matplotlib!=3.6.1,>=3.4->seaborn) (4.58.1)\n",
      "Requirement already satisfied: kiwisolver>=1.3.1 in /opt/conda/lib/python3.9/site-packages (from matplotlib!=3.6.1,>=3.4->seaborn) (1.4.4)\n",
      "Requirement already satisfied: packaging>=20.0 in /opt/conda/lib/python3.9/site-packages (from matplotlib!=3.6.1,>=3.4->seaborn) (21.3)\n",
      "Requirement already satisfied: zipp>=3.1.0 in /opt/conda/lib/python3.9/site-packages (from importlib-resources>=3.2.0->matplotlib!=3.6.1,>=3.4->seaborn) (3.5.0)\n",
      "Requirement already satisfied: tzdata>=2022.7 in /opt/conda/lib/python3.9/site-packages (from pandas>=1.2->seaborn) (2025.2)\n",
      "Requirement already satisfied: pytz>=2020.1 in /opt/conda/lib/python3.9/site-packages (from pandas>=1.2->seaborn) (2021.1)\n",
      "Requirement already satisfied: six>=1.5 in /opt/conda/lib/python3.9/site-packages (from python-dateutil>=2.7->matplotlib!=3.6.1,>=3.4->seaborn) (1.16.0)\n",
      "Requirement already satisfied: scikit-learn in /opt/conda/lib/python3.9/site-packages (1.6.1)\n",
      "Requirement already satisfied: scipy>=1.6.0 in /opt/conda/lib/python3.9/site-packages (from scikit-learn) (1.13.1)\n",
      "Requirement already satisfied: threadpoolctl>=3.1.0 in /opt/conda/lib/python3.9/site-packages (from scikit-learn) (3.1.0)\n",
      "Requirement already satisfied: numpy>=1.19.5 in /opt/conda/lib/python3.9/site-packages (from scikit-learn) (2.0.2)\n",
      "Requirement already satisfied: joblib>=1.2.0 in /opt/conda/lib/python3.9/site-packages (from scikit-learn) (1.5.1)\n"
     ]
    }
   ],
   "source": [
    "!pip install -U scipy \n",
    "!pip install -U numba \n",
    "!pip install -U numpy \n",
    "!pip install -U jinja2 \n",
    "!pip install -U pandas\n",
    "!pip install -U matplotlib \n",
    "!pip install -U seaborn \n",
    "!pip install -U scikit-learn \n",
    "!pip install imbalanced-learn -q \n",
    "!pip install shap -q \n",
    "!pip install phik -q"
   ]
  },
  {
   "cell_type": "code",
   "execution_count": 2,
   "id": "f0598e38-9bb7-428f-8b55-fba6ee07cdab",
   "metadata": {},
   "outputs": [
    {
     "name": "stderr",
     "output_type": "stream",
     "text": [
      "\n",
      "A module that was compiled using NumPy 1.x cannot be run in\n",
      "NumPy 2.0.2 as it may crash. To support both 1.x and 2.x\n",
      "versions of NumPy, modules must be compiled with NumPy 2.0.\n",
      "Some module may need to rebuild instead e.g. with 'pybind11>=2.12'.\n",
      "\n",
      "If you are a user of the module, the easiest solution will be to\n",
      "downgrade to 'numpy<2' or try to upgrade the affected module.\n",
      "We expect that some modules will need time to support NumPy 2.\n",
      "\n",
      "Traceback (most recent call last):  File \"/opt/conda/lib/python3.9/runpy.py\", line 197, in _run_module_as_main\n",
      "    return _run_code(code, main_globals, None,\n",
      "  File \"/opt/conda/lib/python3.9/runpy.py\", line 87, in _run_code\n",
      "    exec(code, run_globals)\n",
      "  File \"/opt/conda/lib/python3.9/site-packages/ipykernel_launcher.py\", line 16, in <module>\n",
      "    app.launch_new_instance()\n",
      "  File \"/opt/conda/lib/python3.9/site-packages/traitlets/config/application.py\", line 845, in launch_instance\n",
      "    app.start()\n",
      "  File \"/opt/conda/lib/python3.9/site-packages/ipykernel/kernelapp.py\", line 668, in start\n",
      "    self.io_loop.start()\n",
      "  File \"/opt/conda/lib/python3.9/site-packages/tornado/platform/asyncio.py\", line 199, in start\n",
      "    self.asyncio_loop.run_forever()\n",
      "  File \"/opt/conda/lib/python3.9/asyncio/base_events.py\", line 596, in run_forever\n",
      "    self._run_once()\n",
      "  File \"/opt/conda/lib/python3.9/asyncio/base_events.py\", line 1890, in _run_once\n",
      "    handle._run()\n",
      "  File \"/opt/conda/lib/python3.9/asyncio/events.py\", line 80, in _run\n",
      "    self._context.run(self._callback, *self._args)\n",
      "  File \"/opt/conda/lib/python3.9/site-packages/ipykernel/kernelbase.py\", line 456, in dispatch_queue\n",
      "    await self.process_one()\n",
      "  File \"/opt/conda/lib/python3.9/site-packages/ipykernel/kernelbase.py\", line 445, in process_one\n",
      "    await dispatch(*args)\n",
      "  File \"/opt/conda/lib/python3.9/site-packages/ipykernel/kernelbase.py\", line 352, in dispatch_shell\n",
      "    await result\n",
      "  File \"/opt/conda/lib/python3.9/site-packages/ipykernel/kernelbase.py\", line 647, in execute_request\n",
      "    reply_content = await reply_content\n",
      "  File \"/opt/conda/lib/python3.9/site-packages/ipykernel/ipkernel.py\", line 335, in do_execute\n",
      "    res = shell.run_cell(code, store_history=store_history, silent=silent)\n",
      "  File \"/opt/conda/lib/python3.9/site-packages/ipykernel/zmqshell.py\", line 532, in run_cell\n",
      "    return super(ZMQInteractiveShell, self).run_cell(*args, **kwargs)\n",
      "  File \"/opt/conda/lib/python3.9/site-packages/IPython/core/interactiveshell.py\", line 2898, in run_cell\n",
      "    result = self._run_cell(\n",
      "  File \"/opt/conda/lib/python3.9/site-packages/IPython/core/interactiveshell.py\", line 2944, in _run_cell\n",
      "    return runner(coro)\n",
      "  File \"/opt/conda/lib/python3.9/site-packages/IPython/core/async_helpers.py\", line 68, in _pseudo_sync_runner\n",
      "    coro.send(None)\n",
      "  File \"/opt/conda/lib/python3.9/site-packages/IPython/core/interactiveshell.py\", line 3169, in run_cell_async\n",
      "    has_raised = await self.run_ast_nodes(code_ast.body, cell_name,\n",
      "  File \"/opt/conda/lib/python3.9/site-packages/IPython/core/interactiveshell.py\", line 3361, in run_ast_nodes\n",
      "    if (await self.run_code(code, result,  async_=asy)):\n",
      "  File \"/opt/conda/lib/python3.9/site-packages/IPython/core/interactiveshell.py\", line 3441, in run_code\n",
      "    exec(code_obj, self.user_global_ns, self.user_ns)\n",
      "  File \"/tmp/ipykernel_708/329183549.py\", line 20, in <module>\n",
      "    setup_environment()\n",
      "  File \"/tmp/ipykernel_708/329183549.py\", line 10, in setup_environment\n",
      "    __import__(import_name)\n",
      "  File \"/opt/conda/lib/python3.9/site-packages/phik/__init__.py\", line 4, in <module>\n",
      "    from phik import decorators\n",
      "  File \"/opt/conda/lib/python3.9/site-packages/phik/decorators/__init__.py\", line 4, in <module>\n",
      "    from phik.decorators import pandas\n",
      "  File \"/opt/conda/lib/python3.9/site-packages/phik/decorators/pandas.py\", line 18, in <module>\n",
      "    from pandas import DataFrame, Series\n",
      "  File \"/opt/conda/lib/python3.9/site-packages/pandas/__init__.py\", line 26, in <module>\n",
      "    from pandas.compat import (\n",
      "  File \"/opt/conda/lib/python3.9/site-packages/pandas/compat/__init__.py\", line 27, in <module>\n",
      "    from pandas.compat.pyarrow import (\n",
      "  File \"/opt/conda/lib/python3.9/site-packages/pandas/compat/pyarrow.py\", line 8, in <module>\n",
      "    import pyarrow as pa\n",
      "  File \"/opt/conda/lib/python3.9/site-packages/pyarrow/__init__.py\", line 63, in <module>\n",
      "    import pyarrow.lib as _lib\n"
     ]
    },
    {
     "ename": "AttributeError",
     "evalue": "_ARRAY_API not found",
     "output_type": "error",
     "traceback": [
      "\u001b[0;31m---------------------------------------------------------------------------\u001b[0m",
      "\u001b[0;31mAttributeError\u001b[0m                            Traceback (most recent call last)",
      "\u001b[0;31mAttributeError\u001b[0m: _ARRAY_API not found"
     ]
    },
    {
     "name": "stderr",
     "output_type": "stream",
     "text": [
      "\n",
      "A module that was compiled using NumPy 1.x cannot be run in\n",
      "NumPy 2.0.2 as it may crash. To support both 1.x and 2.x\n",
      "versions of NumPy, modules must be compiled with NumPy 2.0.\n",
      "Some module may need to rebuild instead e.g. with 'pybind11>=2.12'.\n",
      "\n",
      "If you are a user of the module, the easiest solution will be to\n",
      "downgrade to 'numpy<2' or try to upgrade the affected module.\n",
      "We expect that some modules will need time to support NumPy 2.\n",
      "\n",
      "Traceback (most recent call last):  File \"/opt/conda/lib/python3.9/runpy.py\", line 197, in _run_module_as_main\n",
      "    return _run_code(code, main_globals, None,\n",
      "  File \"/opt/conda/lib/python3.9/runpy.py\", line 87, in _run_code\n",
      "    exec(code, run_globals)\n",
      "  File \"/opt/conda/lib/python3.9/site-packages/ipykernel_launcher.py\", line 16, in <module>\n",
      "    app.launch_new_instance()\n",
      "  File \"/opt/conda/lib/python3.9/site-packages/traitlets/config/application.py\", line 845, in launch_instance\n",
      "    app.start()\n",
      "  File \"/opt/conda/lib/python3.9/site-packages/ipykernel/kernelapp.py\", line 668, in start\n",
      "    self.io_loop.start()\n",
      "  File \"/opt/conda/lib/python3.9/site-packages/tornado/platform/asyncio.py\", line 199, in start\n",
      "    self.asyncio_loop.run_forever()\n",
      "  File \"/opt/conda/lib/python3.9/asyncio/base_events.py\", line 596, in run_forever\n",
      "    self._run_once()\n",
      "  File \"/opt/conda/lib/python3.9/asyncio/base_events.py\", line 1890, in _run_once\n",
      "    handle._run()\n",
      "  File \"/opt/conda/lib/python3.9/asyncio/events.py\", line 80, in _run\n",
      "    self._context.run(self._callback, *self._args)\n",
      "  File \"/opt/conda/lib/python3.9/site-packages/ipykernel/kernelbase.py\", line 456, in dispatch_queue\n",
      "    await self.process_one()\n",
      "  File \"/opt/conda/lib/python3.9/site-packages/ipykernel/kernelbase.py\", line 445, in process_one\n",
      "    await dispatch(*args)\n",
      "  File \"/opt/conda/lib/python3.9/site-packages/ipykernel/kernelbase.py\", line 352, in dispatch_shell\n",
      "    await result\n",
      "  File \"/opt/conda/lib/python3.9/site-packages/ipykernel/kernelbase.py\", line 647, in execute_request\n",
      "    reply_content = await reply_content\n",
      "  File \"/opt/conda/lib/python3.9/site-packages/ipykernel/ipkernel.py\", line 335, in do_execute\n",
      "    res = shell.run_cell(code, store_history=store_history, silent=silent)\n",
      "  File \"/opt/conda/lib/python3.9/site-packages/ipykernel/zmqshell.py\", line 532, in run_cell\n",
      "    return super(ZMQInteractiveShell, self).run_cell(*args, **kwargs)\n",
      "  File \"/opt/conda/lib/python3.9/site-packages/IPython/core/interactiveshell.py\", line 2898, in run_cell\n",
      "    result = self._run_cell(\n",
      "  File \"/opt/conda/lib/python3.9/site-packages/IPython/core/interactiveshell.py\", line 2944, in _run_cell\n",
      "    return runner(coro)\n",
      "  File \"/opt/conda/lib/python3.9/site-packages/IPython/core/async_helpers.py\", line 68, in _pseudo_sync_runner\n",
      "    coro.send(None)\n",
      "  File \"/opt/conda/lib/python3.9/site-packages/IPython/core/interactiveshell.py\", line 3169, in run_cell_async\n",
      "    has_raised = await self.run_ast_nodes(code_ast.body, cell_name,\n",
      "  File \"/opt/conda/lib/python3.9/site-packages/IPython/core/interactiveshell.py\", line 3361, in run_ast_nodes\n",
      "    if (await self.run_code(code, result,  async_=asy)):\n",
      "  File \"/opt/conda/lib/python3.9/site-packages/IPython/core/interactiveshell.py\", line 3441, in run_code\n",
      "    exec(code_obj, self.user_global_ns, self.user_ns)\n",
      "  File \"/tmp/ipykernel_708/329183549.py\", line 20, in <module>\n",
      "    setup_environment()\n",
      "  File \"/tmp/ipykernel_708/329183549.py\", line 10, in setup_environment\n",
      "    __import__(import_name)\n",
      "  File \"/opt/conda/lib/python3.9/site-packages/phik/__init__.py\", line 4, in <module>\n",
      "    from phik import decorators\n",
      "  File \"/opt/conda/lib/python3.9/site-packages/phik/decorators/__init__.py\", line 4, in <module>\n",
      "    from phik.decorators import pandas\n",
      "  File \"/opt/conda/lib/python3.9/site-packages/phik/decorators/pandas.py\", line 18, in <module>\n",
      "    from pandas import DataFrame, Series\n",
      "  File \"/opt/conda/lib/python3.9/site-packages/pandas/__init__.py\", line 49, in <module>\n",
      "    from pandas.core.api import (\n",
      "  File \"/opt/conda/lib/python3.9/site-packages/pandas/core/api.py\", line 9, in <module>\n",
      "    from pandas.core.dtypes.dtypes import (\n",
      "  File \"/opt/conda/lib/python3.9/site-packages/pandas/core/dtypes/dtypes.py\", line 24, in <module>\n",
      "    from pandas._libs import (\n",
      "  File \"/opt/conda/lib/python3.9/site-packages/pyarrow/__init__.py\", line 63, in <module>\n",
      "    import pyarrow.lib as _lib\n"
     ]
    },
    {
     "ename": "AttributeError",
     "evalue": "_ARRAY_API not found",
     "output_type": "error",
     "traceback": [
      "\u001b[0;31m---------------------------------------------------------------------------\u001b[0m",
      "\u001b[0;31mAttributeError\u001b[0m                            Traceback (most recent call last)",
      "\u001b[0;31mAttributeError\u001b[0m: _ARRAY_API not found"
     ]
    },
    {
     "name": "stdout",
     "output_type": "stream",
     "text": [
      "phik уже установлен\n",
      "shap уже установлен\n",
      "scikit-learn уже установлен\n",
      "\n",
      "Все зависимости готовы к работе!\n"
     ]
    }
   ],
   "source": [
    "def setup_environment():\n",
    "    required_packages = {\n",
    "        'phik': 'phik',\n",
    "        'shap': 'shap',\n",
    "        'sklearn': 'scikit-learn'\n",
    "    }\n",
    "    \n",
    "    for import_name, package_name in required_packages.items():\n",
    "        try:\n",
    "            __import__(import_name)\n",
    "            print(f\"{package_name} уже установлен\")\n",
    "        except ImportError:\n",
    "            print(f\"⏳ Устанавливаем {package_name}...\")\n",
    "            !pip install -q {package_name}\n",
    "            print(f\"{package_name} успешно установлен\")\n",
    "    \n",
    "    print(\"\\nВсе зависимости готовы к работе!\")\n",
    "\n",
    "# Вызов функции при старте ноутбука\n",
    "setup_environment()"
   ]
  },
  {
   "cell_type": "markdown",
   "id": "506e50a7",
   "metadata": {
    "scrolled": true
   },
   "source": [
    "!pip install -U scipy \n",
    "!pip install -U numba \n",
    "!pip install -U numpy \n",
    "!pip install -U jinja2 \n",
    "!pip install -U pandas\n",
    "!pip install -U matplotlib \n",
    "!pip install -U seaborn \n",
    "!pip install -U scikit-learn \n",
    "!pip install imbalanced-learn -q \n",
    "!pip install shap -q \n",
    "!pip install phik -q"
   ]
  },
  {
   "cell_type": "code",
   "execution_count": 3,
   "id": "9fbff48c-1eaa-4f8b-96df-823742758b8c",
   "metadata": {},
   "outputs": [],
   "source": [
    "import os\n",
    "import pandas as pd\n",
    "import numpy as np\n",
    "import matplotlib.pyplot as plt\n",
    "import seaborn as sns\n",
    "from sklearn.pipeline import Pipeline\n",
    "from sklearn.model_selection import (RandomizedSearchCV,\n",
    "                                     train_test_split)\n",
    "from sklearn.preprocessing import (OneHotEncoder,\n",
    "                                   OrdinalEncoder,\n",
    "                                   RobustScaler, \n",
    "                                   MinMaxScaler, \n",
    "                                   StandardScaler,\n",
    "                                   LabelEncoder,\n",
    "                                   FunctionTransformer)\n",
    "from sklearn.impute import SimpleImputer\n",
    "from sklearn.tree import DecisionTreeClassifier, DecisionTreeRegressor\n",
    "from sklearn.linear_model import LogisticRegression, LinearRegression\n",
    "from sklearn.svm import SVC, SVR\n",
    "from sklearn.neighbors import KNeighborsClassifier, KNeighborsRegressor\n",
    "from sklearn.compose import ColumnTransformer\n",
    "from sklearn.feature_selection import SelectKBest, f_classif\n",
    "import phik\n",
    "from phik import phik_matrix\n",
    "import shap\n",
    "import scipy\n",
    "from urllib.request import urlopen\n",
    "from io import StringIO\n",
    "from sklearn.metrics import make_scorer, roc_auc_score\n",
    "from sklearn.base import TransformerMixin, BaseEstimator\n"
   ]
  },
  {
   "cell_type": "code",
   "execution_count": 4,
   "id": "10040fa2",
   "metadata": {},
   "outputs": [
    {
     "name": "stdout",
     "output_type": "stream",
     "text": [
      "Package                           Version\r\n",
      "--------------------------------- -------------------\r\n",
      "absl-py                           1.2.0\r\n",
      "alembic                           1.6.5\r\n",
      "anyio                             3.2.1\r\n",
      "argon2-cffi                       20.1.0\r\n",
      "astunparse                        1.6.3\r\n",
      "async-generator                   1.10\r\n",
      "attrs                             21.2.0\r\n",
      "Babel                             2.9.1\r\n",
      "backcall                          0.2.0\r\n",
      "backports.functools-lru-cache     1.6.4\r\n",
      "beautifulsoup4                    4.9.3\r\n",
      "bleach                            3.3.0\r\n",
      "blinker                           1.4\r\n",
      "blis                              0.7.8\r\n",
      "branca                            0.5.0\r\n",
      "brotlipy                          0.7.0\r\n",
      "cachetools                        5.2.0\r\n",
      "catalogue                         2.0.8\r\n",
      "catboost                          1.0.3\r\n",
      "certifi                           2022.6.15\r\n",
      "certipy                           0.1.3\r\n",
      "cffi                              1.14.5\r\n",
      "chardet                           4.0.0\r\n",
      "click                             8.1.3\r\n",
      "cloudpickle                       3.1.1\r\n",
      "conda                             4.10.2\r\n",
      "conda-package-handling            1.7.3\r\n",
      "contourpy                         1.3.0\r\n",
      "convertdate                       2.4.0\r\n",
      "cryptography                      3.4.7\r\n",
      "cycler                            0.11.0\r\n",
      "cymem                             2.0.6\r\n",
      "DAWG-Python                       0.7.2\r\n",
      "debugpy                           1.3.0\r\n",
      "decorator                         5.0.9\r\n",
      "defusedxml                        0.7.1\r\n",
      "docopt                            0.6.2\r\n",
      "en-core-web-sm                    3.2.0\r\n",
      "entrypoints                       0.3\r\n",
      "et-xmlfile                        1.1.0\r\n",
      "filelock                          3.8.0\r\n",
      "findspark                         1.4.2\r\n",
      "flatbuffers                       2.0.7\r\n",
      "folium                            0.12.1.post1\r\n",
      "fonttools                         4.58.1\r\n",
      "fuzzywuzzy                        0.18.0\r\n",
      "gast                              0.4.0\r\n",
      "gensim                            4.1.2\r\n",
      "google-auth                       2.11.0\r\n",
      "google-auth-oauthlib              0.4.6\r\n",
      "google-pasta                      0.2.0\r\n",
      "graphviz                          0.20.1\r\n",
      "greenlet                          1.1.0\r\n",
      "grpcio                            1.47.0\r\n",
      "gspread                           5.0.0\r\n",
      "h5py                              3.7.0\r\n",
      "hijri-converter                   2.2.4\r\n",
      "holidays                          0.11.3.1\r\n",
      "huggingface-hub                   0.9.1\r\n",
      "idna                              2.10\r\n",
      "imbalanced-learn                  0.12.4\r\n",
      "importlib-metadata                4.6.1\r\n",
      "importlib-resources               6.5.2\r\n",
      "ipykernel                         6.0.1\r\n",
      "ipython                           7.25.0\r\n",
      "ipython-genutils                  0.2.0\r\n",
      "ipywidgets                        7.6.3\r\n",
      "jedi                              0.18.0\r\n",
      "jinja2                            3.1.6\r\n",
      "joblib                            1.5.1\r\n",
      "json5                             0.9.5\r\n",
      "jsonschema                        3.2.0\r\n",
      "jupyter                           1.0.0\r\n",
      "jupyter-client                    6.1.12\r\n",
      "jupyter-console                   6.4.2\r\n",
      "jupyter-contrib-core              0.4.0\r\n",
      "jupyter-contrib-nbextensions      0.5.1\r\n",
      "jupyter-core                      4.7.1\r\n",
      "jupyter-highlight-selected-word   0.2.0\r\n",
      "jupyter-latex-envs                1.4.6\r\n",
      "jupyter-nbextensions-configurator 0.5.0\r\n",
      "jupyter-server                    1.9.0\r\n",
      "jupyter-telemetry                 0.1.0\r\n",
      "jupyterhub                        1.4.2\r\n",
      "jupyterlab                        3.0.16\r\n",
      "jupyterlab-pygments               0.1.2\r\n",
      "jupyterlab-server                 2.6.0\r\n",
      "jupyterlab-widgets                3.0.2\r\n",
      "keras                             2.7.0\r\n",
      "Keras-Preprocessing               1.1.2\r\n",
      "kiwisolver                        1.4.4\r\n",
      "korean-lunar-calendar             0.2.1\r\n",
      "langcodes                         3.3.0\r\n",
      "libclang                          14.0.6\r\n",
      "lightgbm                          3.3.1\r\n",
      "llvmlite                          0.43.0\r\n",
      "lxml                              4.6.3\r\n",
      "Mako                              1.1.4\r\n",
      "mamba                             0.14.1\r\n",
      "Markdown                          3.4.1\r\n",
      "MarkupSafe                        2.1.1\r\n",
      "matplotlib                        3.9.4\r\n",
      "matplotlib-inline                 0.1.2\r\n",
      "mistune                           0.8.4\r\n",
      "murmurhash                        1.0.8\r\n",
      "nbclassic                         0.3.1\r\n",
      "nbclient                          0.5.3\r\n",
      "nbconvert                         6.1.0\r\n",
      "nbformat                          5.1.3\r\n",
      "nbgrader                          0.6.1\r\n",
      "nest-asyncio                      1.5.1\r\n",
      "nltk                              3.6.1\r\n",
      "notebook                          6.4.0\r\n",
      "numba                             0.60.0\r\n",
      "numpy                             2.0.2\r\n",
      "oauthlib                          3.1.1\r\n",
      "openpyxl                          3.0.9\r\n",
      "opt-einsum                        3.3.0\r\n",
      "packaging                         21.3\r\n",
      "pamela                            1.0.0\r\n",
      "pandas                            2.2.3\r\n",
      "pandocfilters                     1.4.2\r\n",
      "parso                             0.8.2\r\n",
      "pathy                             0.6.2\r\n",
      "patsy                             0.5.2\r\n",
      "pexpect                           4.8.0\r\n",
      "phik                              0.12.4\r\n",
      "pickleshare                       0.7.5\r\n",
      "Pillow                            8.4.0\r\n",
      "pip                               21.1.3\r\n",
      "plotly                            5.4.0\r\n",
      "preshed                           3.0.7\r\n",
      "prometheus-client                 0.11.0\r\n",
      "prompt-toolkit                    3.0.19\r\n",
      "protobuf                          3.19.4\r\n",
      "psycopg2-binary                   2.9.2\r\n",
      "ptyprocess                        0.7.0\r\n",
      "py4j                              0.10.9.3\r\n",
      "pyarrow                           5.0.0\r\n",
      "pyasn1                            0.4.8\r\n",
      "pyasn1-modules                    0.2.8\r\n",
      "pycosat                           0.6.3\r\n",
      "pycparser                         2.20\r\n",
      "pycurl                            7.43.0.6\r\n",
      "pydantic                          1.8.2\r\n",
      "Pygments                          2.9.0\r\n",
      "PyJWT                             2.1.0\r\n",
      "PyMeeus                           0.5.11\r\n",
      "pymorphy2                         0.9.1\r\n",
      "pymorphy2-dicts-ru                2.4.417127.4579844\r\n",
      "pymystem3                         0.2.0\r\n",
      "pyod                              0.9.5\r\n",
      "pyOpenSSL                         20.0.1\r\n",
      "pyparsing                         2.4.7\r\n",
      "pyrsistent                        0.17.3\r\n",
      "PySocks                           1.7.1\r\n",
      "pyspark                           3.0.2\r\n",
      "python-dateutil                   2.9.0.post0\r\n",
      "python-editor                     1.0.4\r\n",
      "python-json-logger                2.0.1\r\n",
      "pytz                              2021.1\r\n",
      "PyYAML                            6.0\r\n",
      "pyzmq                             22.1.0\r\n",
      "qtconsole                         5.3.2\r\n",
      "QtPy                              2.2.0\r\n",
      "regex                             2022.8.17\r\n",
      "requests                          2.25.1\r\n",
      "requests-oauthlib                 1.3.1\r\n",
      "requests-unixsocket               0.2.0\r\n",
      "rsa                               4.9\r\n",
      "ruamel-yaml-conda                 0.15.80\r\n",
      "ruamel.yaml                       0.17.10\r\n",
      "ruamel.yaml.clib                  0.2.2\r\n",
      "sacremoses                        0.0.53\r\n",
      "scikit-learn                      1.6.1\r\n",
      "scipy                             1.13.1\r\n",
      "seaborn                           0.13.2\r\n",
      "Send2Trash                        1.7.1\r\n",
      "setuptools                        49.6.0.post20210108\r\n",
      "shap                              0.47.2\r\n",
      "six                               1.16.0\r\n",
      "slicer                            0.0.8\r\n",
      "smart-open                        5.2.1\r\n",
      "sniffio                           1.2.0\r\n",
      "soupsieve                         2.3.2.post1\r\n",
      "spacy                             3.2.0\r\n",
      "spacy-legacy                      3.0.10\r\n",
      "spacy-loggers                     1.0.3\r\n",
      "SQLAlchemy                        1.4.20\r\n",
      "srsly                             2.4.4\r\n",
      "statsmodels                       0.13.2\r\n",
      "tenacity                          8.0.1\r\n",
      "tensorboard                       2.10.0\r\n",
      "tensorboard-data-server           0.6.1\r\n",
      "tensorboard-plugin-wit            1.8.1\r\n",
      "tensorflow-cpu                    2.7.0\r\n",
      "tensorflow-estimator              2.7.0\r\n",
      "tensorflow-io-gcs-filesystem      0.26.0\r\n",
      "termcolor                         1.1.0\r\n",
      "terminado                         0.10.1\r\n",
      "testpath                          0.5.0\r\n",
      "thinc                             8.0.17\r\n",
      "threadpoolctl                     3.1.0\r\n",
      "tokenizers                        0.10.3\r\n",
      "torch                             1.10.0\r\n",
      "tornado                           6.1\r\n",
      "tqdm                              4.61.2\r\n",
      "traitlets                         5.0.5\r\n",
      "transformers                      4.12.5\r\n",
      "typer                             0.4.2\r\n",
      "typing-extensions                 4.3.0\r\n",
      "tzdata                            2025.2\r\n",
      "urllib3                           1.26.6\r\n",
      "wasabi                            0.10.1\r\n",
      "wcwidth                           0.2.5\r\n",
      "webencodings                      0.5.1\r\n",
      "websocket-client                  0.57.0\r\n",
      "Werkzeug                          2.2.2\r\n",
      "wheel                             0.36.2\r\n",
      "widgetsnbextension                3.5.2\r\n",
      "wrapt                             1.14.1\r\n",
      "xgboost                           1.5.1\r\n",
      "xlrd                              2.0.1\r\n",
      "xmltodict                         0.12.0\r\n",
      "zipp                              3.5.0\r\n"
     ]
    }
   ],
   "source": [
    "!pip list"
   ]
  },
  {
   "cell_type": "markdown",
   "id": "7a8d4e43-4ff8-4420-a6dc-580330e4990c",
   "metadata": {},
   "source": [
    "# Описание проекта"
   ]
  },
  {
   "cell_type": "markdown",
   "id": "739787d3-05c6-432c-916d-c8f936610aad",
   "metadata": {},
   "source": [
    "**HR-аналитики компании «Работа с заботой» помогают бизнесу оптимизировать управление персоналом: бизнес предоставляет данные, а аналитики предлагают, как избежать финансовых потерь и оттока сотрудников. В этом HR-аналитикам пригодится машинное обучение, с помощью которого получится быстрее и точнее отвечать на вопросы бизнеса.\n",
    "Компания предоставила данные с характеристиками сотрудников компании. Среди них — уровень удовлетворённости сотрудника работой в компании. Эту информацию получили из форм обратной связи: сотрудники заполняют тест-опросник, и по его результатам рассчитывается доля их удовлетворённости от 0 до 1, где 0 — совершенно неудовлетворён, 1 — полностью удовлетворён. \n",
    "Собирать данные такими опросниками не так легко: компания большая, и всех сотрудников надо сначала оповестить об опросе, а затем проследить, что все его прошли.**\n",
    "\n",
    "**У нас будет несколько задач.**\n",
    "- `Первая` — построить модель, которая сможет предсказать уровень удовлетворённости сотрудника на основе данных заказчика. \n",
    "Почему бизнесу это важно: удовлетворённость работой напрямую влияет на отток сотрудников. А предсказание оттока — одна из важнейших задач HR-аналитиков. Внезапные увольнения несут в себе риски для компании, особенно если уходит важный сотрудник.\n",
    "- `Вторая` — построить модель, которая сможет на основе данных заказчика предсказать то, что сотрудник уволится из компании.\n",
    "\n",
    "**Предоставленные данные.**\n",
    "- `train_job_satisfaction_rate.csv` - входные признаки тренировачной выборка для 1 задачи;\n",
    "- `test_target_job_satisfaction_rate.csv` - целевой признак тренировочной выборки для 1 задачи;\n",
    "- `train_quit.csv` - входные признаки тренировачной выборка для 2 задачи;\n",
    "- `test_target_quit.csv` - целевой признак тренировочной выборки для 2 задачи;\n",
    "- `test_features.csv` - тестовые входные признаки для обеих задач.\n",
    "\n",
    "**Входные признаки у обеих задач совпадают, разнится лишь целевой:**\n",
    "\n",
    "- `id` - уникальный идентификатор сотрудника;\n",
    "- `dept` - отдел, в котором работает сотрудник;\n",
    "- `level` - уровень занимаемой должности;\n",
    "- `workload` - уровень загруженности сотрудника;\n",
    "- `employment_years` - длительность работы в компании (в годах);\n",
    "- `last_year_promo` - показывает, было ли повышение за последний год;\n",
    "- `last_year_violations` - показывает, нарушал ли сотрудник трудовой договор за последний год;\n",
    "- `supervisor_evaluatio` - оценка качества работы сотрудника, которую дал руководитель;\n",
    "- `salary` - ежемесячная зарплата сотрудника;\n",
    "- `job_satisfaction_rate` - уровень удовлетворённости сотрудника работой в компании, целевой признак 1 задачи;\n",
    "- `quit` - увольнение сотрудника из компании, целевой признак 2 задачи."
   ]
  },
  {
   "cell_type": "markdown",
   "id": "b19eecc5-7187-4793-ac98-808b35681ec7",
   "metadata": {},
   "source": [
    "# Загрузка данных"
   ]
  },
  {
   "cell_type": "markdown",
   "id": "6008aa22-afed-4286-baf8-92c66ffed634",
   "metadata": {},
   "source": [
    "**Взглянем на первые 5 строк каждого датафрейма.**"
   ]
  },
  {
   "cell_type": "code",
   "execution_count": 5,
   "id": "edd6bc74-6fd5-40d0-828f-006ab15b47c2",
   "metadata": {},
   "outputs": [],
   "source": [
    "file_paths = {\n",
    "    'train_job_satisfaction_rate': [\n",
    "        'train_job_satisfaction_rate.csv',                          # локальный путь\n",
    "        '/datasets/train_job_satisfaction_rate.csv',                # серверный путь\n",
    "        'https://code.s3.yandex.net/datasets/train_job_satisfaction_rate.csv'  # URL\n",
    "    ],\n",
    "    'test_features': [\n",
    "        'test_features.csv',                                        # локальный путь\n",
    "        '/datasets/test_features.csv',                              # серверный путь\n",
    "        'https://code.s3.yandex.net/datasets/test_features.csv'     # URL\n",
    "    ],\n",
    "    'test_target_job_satisfaction_rate': [\n",
    "        'test_target_job_satisfaction_rate.csv',                    # локальный путь\n",
    "        '/datasets/test_target_job_satisfaction_rate.csv',          # серверный путь\n",
    "        'https://code.s3.yandex.net/datasets/test_target_job_satisfaction_rate.csv'  # URL\n",
    "    ],\n",
    "    'train_quit': [\n",
    "        'train_quit.csv',                                           # локальный путь\n",
    "        '/datasets/train_quit.csv',                                 # серверный путь\n",
    "        'https://code.s3.yandex.net/datasets/train_quit.csv'        # URL\n",
    "    ],\n",
    "    'test_target_quit': [\n",
    "        'test_target_quit.csv',                                     # локальный путь\n",
    "        '/datasets/test_target_quit.csv',                           # серверный путь\n",
    "        'https://code.s3.yandex.net/datasets/test_target_quit.csv'  # URL\n",
    "    ]\n",
    "}\n",
    "\n",
    "def find_and_read_csv(filename, **kwargs):\n",
    "    for path in file_paths[filename]:\n",
    "        try:\n",
    "            if path.startswith('http'):\n",
    "                with urlopen(path) as response:\n",
    "                    data = response.read().decode('utf-8')\n",
    "                # Для URL-файлов сначала загружаем без индекса, затем проверяем наличие 'id'\n",
    "                temp_df = pd.read_csv(StringIO(data), **kwargs)\n",
    "                if 'id' in temp_df.columns:\n",
    "                    temp_df.set_index('id', inplace=True)\n",
    "                return temp_df\n",
    "            elif os.path.exists(path):\n",
    "                # Для локальных файлов сначала пробуем с index_col, затем проверяем\n",
    "                try:\n",
    "                    return pd.read_csv(path, index_col='id', **kwargs)\n",
    "                except KeyError:\n",
    "                    temp_df = pd.read_csv(path, **kwargs)\n",
    "                    if 'id' in temp_df.columns:\n",
    "                        temp_df.set_index('id', inplace=True)\n",
    "                    return temp_df\n",
    "        except Exception as e:\n",
    "            print(f\"Ошибка при обработке {path}: {str(e)}\")\n",
    "            continue\n",
    "    \n",
    "    print(f\"Файл {filename} не найден ни по одному из путей: {file_paths[filename]}\")\n",
    "    return None\n",
    "\n",
    "# Чтение файлов\n",
    "df_train_1 = find_and_read_csv('train_job_satisfaction_rate')\n",
    "df_test_1 = find_and_read_csv('test_target_job_satisfaction_rate')\n",
    "df_train_2 = find_and_read_csv('train_quit')\n",
    "df_test_2 = find_and_read_csv('test_target_quit')\n",
    "df_test_all = find_and_read_csv('test_features')"
   ]
  },
  {
   "cell_type": "code",
   "execution_count": 6,
   "id": "42eeca74-8b45-471b-9211-8d0862bff3ec",
   "metadata": {},
   "outputs": [
    {
     "data": {
      "text/html": [
       "<div>\n",
       "<style scoped>\n",
       "    .dataframe tbody tr th:only-of-type {\n",
       "        vertical-align: middle;\n",
       "    }\n",
       "\n",
       "    .dataframe tbody tr th {\n",
       "        vertical-align: top;\n",
       "    }\n",
       "\n",
       "    .dataframe thead th {\n",
       "        text-align: right;\n",
       "    }\n",
       "</style>\n",
       "<table border=\"1\" class=\"dataframe\">\n",
       "  <thead>\n",
       "    <tr style=\"text-align: right;\">\n",
       "      <th></th>\n",
       "      <th>dept</th>\n",
       "      <th>level</th>\n",
       "      <th>workload</th>\n",
       "      <th>employment_years</th>\n",
       "      <th>last_year_promo</th>\n",
       "      <th>last_year_violations</th>\n",
       "      <th>supervisor_evaluation</th>\n",
       "      <th>salary</th>\n",
       "      <th>job_satisfaction_rate</th>\n",
       "    </tr>\n",
       "    <tr>\n",
       "      <th>id</th>\n",
       "      <th></th>\n",
       "      <th></th>\n",
       "      <th></th>\n",
       "      <th></th>\n",
       "      <th></th>\n",
       "      <th></th>\n",
       "      <th></th>\n",
       "      <th></th>\n",
       "      <th></th>\n",
       "    </tr>\n",
       "  </thead>\n",
       "  <tbody>\n",
       "    <tr>\n",
       "      <th>155278</th>\n",
       "      <td>sales</td>\n",
       "      <td>junior</td>\n",
       "      <td>medium</td>\n",
       "      <td>2</td>\n",
       "      <td>no</td>\n",
       "      <td>no</td>\n",
       "      <td>1</td>\n",
       "      <td>24000</td>\n",
       "      <td>0.58</td>\n",
       "    </tr>\n",
       "    <tr>\n",
       "      <th>653870</th>\n",
       "      <td>hr</td>\n",
       "      <td>junior</td>\n",
       "      <td>high</td>\n",
       "      <td>2</td>\n",
       "      <td>no</td>\n",
       "      <td>no</td>\n",
       "      <td>5</td>\n",
       "      <td>38400</td>\n",
       "      <td>0.76</td>\n",
       "    </tr>\n",
       "    <tr>\n",
       "      <th>184592</th>\n",
       "      <td>sales</td>\n",
       "      <td>junior</td>\n",
       "      <td>low</td>\n",
       "      <td>1</td>\n",
       "      <td>no</td>\n",
       "      <td>no</td>\n",
       "      <td>2</td>\n",
       "      <td>12000</td>\n",
       "      <td>0.11</td>\n",
       "    </tr>\n",
       "    <tr>\n",
       "      <th>171431</th>\n",
       "      <td>technology</td>\n",
       "      <td>junior</td>\n",
       "      <td>low</td>\n",
       "      <td>4</td>\n",
       "      <td>no</td>\n",
       "      <td>no</td>\n",
       "      <td>2</td>\n",
       "      <td>18000</td>\n",
       "      <td>0.37</td>\n",
       "    </tr>\n",
       "    <tr>\n",
       "      <th>693419</th>\n",
       "      <td>hr</td>\n",
       "      <td>junior</td>\n",
       "      <td>medium</td>\n",
       "      <td>1</td>\n",
       "      <td>no</td>\n",
       "      <td>no</td>\n",
       "      <td>3</td>\n",
       "      <td>22800</td>\n",
       "      <td>0.20</td>\n",
       "    </tr>\n",
       "  </tbody>\n",
       "</table>\n",
       "</div>"
      ],
      "text/plain": [
       "              dept   level workload  employment_years last_year_promo  \\\n",
       "id                                                                      \n",
       "155278       sales  junior   medium                 2              no   \n",
       "653870          hr  junior     high                 2              no   \n",
       "184592       sales  junior      low                 1              no   \n",
       "171431  technology  junior      low                 4              no   \n",
       "693419          hr  junior   medium                 1              no   \n",
       "\n",
       "       last_year_violations  supervisor_evaluation  salary  \\\n",
       "id                                                           \n",
       "155278                   no                      1   24000   \n",
       "653870                   no                      5   38400   \n",
       "184592                   no                      2   12000   \n",
       "171431                   no                      2   18000   \n",
       "693419                   no                      3   22800   \n",
       "\n",
       "        job_satisfaction_rate  \n",
       "id                             \n",
       "155278                   0.58  \n",
       "653870                   0.76  \n",
       "184592                   0.11  \n",
       "171431                   0.37  \n",
       "693419                   0.20  "
      ]
     },
     "execution_count": 6,
     "metadata": {},
     "output_type": "execute_result"
    }
   ],
   "source": [
    "df_train_1.head()    #тренировочные данные для 1 задачи"
   ]
  },
  {
   "cell_type": "code",
   "execution_count": 7,
   "id": "49d7abd6-53b1-493e-b79e-63b1a148540c",
   "metadata": {},
   "outputs": [
    {
     "data": {
      "text/html": [
       "<div>\n",
       "<style scoped>\n",
       "    .dataframe tbody tr th:only-of-type {\n",
       "        vertical-align: middle;\n",
       "    }\n",
       "\n",
       "    .dataframe tbody tr th {\n",
       "        vertical-align: top;\n",
       "    }\n",
       "\n",
       "    .dataframe thead th {\n",
       "        text-align: right;\n",
       "    }\n",
       "</style>\n",
       "<table border=\"1\" class=\"dataframe\">\n",
       "  <thead>\n",
       "    <tr style=\"text-align: right;\">\n",
       "      <th></th>\n",
       "      <th>job_satisfaction_rate</th>\n",
       "    </tr>\n",
       "    <tr>\n",
       "      <th>id</th>\n",
       "      <th></th>\n",
       "    </tr>\n",
       "  </thead>\n",
       "  <tbody>\n",
       "    <tr>\n",
       "      <th>130604</th>\n",
       "      <td>0.74</td>\n",
       "    </tr>\n",
       "    <tr>\n",
       "      <th>825977</th>\n",
       "      <td>0.75</td>\n",
       "    </tr>\n",
       "    <tr>\n",
       "      <th>418490</th>\n",
       "      <td>0.60</td>\n",
       "    </tr>\n",
       "    <tr>\n",
       "      <th>555320</th>\n",
       "      <td>0.72</td>\n",
       "    </tr>\n",
       "    <tr>\n",
       "      <th>826430</th>\n",
       "      <td>0.08</td>\n",
       "    </tr>\n",
       "  </tbody>\n",
       "</table>\n",
       "</div>"
      ],
      "text/plain": [
       "        job_satisfaction_rate\n",
       "id                           \n",
       "130604                   0.74\n",
       "825977                   0.75\n",
       "418490                   0.60\n",
       "555320                   0.72\n",
       "826430                   0.08"
      ]
     },
     "execution_count": 7,
     "metadata": {},
     "output_type": "execute_result"
    }
   ],
   "source": [
    "df_test_1.head()    #целевой признак для 1 задачи"
   ]
  },
  {
   "cell_type": "code",
   "execution_count": 8,
   "id": "308aa60d-d93c-42d4-a45f-71c48ff94e9d",
   "metadata": {},
   "outputs": [
    {
     "data": {
      "text/html": [
       "<div>\n",
       "<style scoped>\n",
       "    .dataframe tbody tr th:only-of-type {\n",
       "        vertical-align: middle;\n",
       "    }\n",
       "\n",
       "    .dataframe tbody tr th {\n",
       "        vertical-align: top;\n",
       "    }\n",
       "\n",
       "    .dataframe thead th {\n",
       "        text-align: right;\n",
       "    }\n",
       "</style>\n",
       "<table border=\"1\" class=\"dataframe\">\n",
       "  <thead>\n",
       "    <tr style=\"text-align: right;\">\n",
       "      <th></th>\n",
       "      <th>dept</th>\n",
       "      <th>level</th>\n",
       "      <th>workload</th>\n",
       "      <th>employment_years</th>\n",
       "      <th>last_year_promo</th>\n",
       "      <th>last_year_violations</th>\n",
       "      <th>supervisor_evaluation</th>\n",
       "      <th>salary</th>\n",
       "      <th>quit</th>\n",
       "    </tr>\n",
       "    <tr>\n",
       "      <th>id</th>\n",
       "      <th></th>\n",
       "      <th></th>\n",
       "      <th></th>\n",
       "      <th></th>\n",
       "      <th></th>\n",
       "      <th></th>\n",
       "      <th></th>\n",
       "      <th></th>\n",
       "      <th></th>\n",
       "    </tr>\n",
       "  </thead>\n",
       "  <tbody>\n",
       "    <tr>\n",
       "      <th>723290</th>\n",
       "      <td>sales</td>\n",
       "      <td>middle</td>\n",
       "      <td>high</td>\n",
       "      <td>2</td>\n",
       "      <td>no</td>\n",
       "      <td>no</td>\n",
       "      <td>4</td>\n",
       "      <td>54000</td>\n",
       "      <td>no</td>\n",
       "    </tr>\n",
       "    <tr>\n",
       "      <th>814010</th>\n",
       "      <td>sales</td>\n",
       "      <td>junior</td>\n",
       "      <td>medium</td>\n",
       "      <td>2</td>\n",
       "      <td>no</td>\n",
       "      <td>no</td>\n",
       "      <td>4</td>\n",
       "      <td>27600</td>\n",
       "      <td>no</td>\n",
       "    </tr>\n",
       "    <tr>\n",
       "      <th>155091</th>\n",
       "      <td>purchasing</td>\n",
       "      <td>middle</td>\n",
       "      <td>medium</td>\n",
       "      <td>5</td>\n",
       "      <td>no</td>\n",
       "      <td>no</td>\n",
       "      <td>1</td>\n",
       "      <td>37200</td>\n",
       "      <td>no</td>\n",
       "    </tr>\n",
       "    <tr>\n",
       "      <th>257132</th>\n",
       "      <td>sales</td>\n",
       "      <td>junior</td>\n",
       "      <td>medium</td>\n",
       "      <td>2</td>\n",
       "      <td>no</td>\n",
       "      <td>yes</td>\n",
       "      <td>3</td>\n",
       "      <td>24000</td>\n",
       "      <td>yes</td>\n",
       "    </tr>\n",
       "    <tr>\n",
       "      <th>910140</th>\n",
       "      <td>marketing</td>\n",
       "      <td>junior</td>\n",
       "      <td>medium</td>\n",
       "      <td>2</td>\n",
       "      <td>no</td>\n",
       "      <td>no</td>\n",
       "      <td>5</td>\n",
       "      <td>25200</td>\n",
       "      <td>no</td>\n",
       "    </tr>\n",
       "  </tbody>\n",
       "</table>\n",
       "</div>"
      ],
      "text/plain": [
       "              dept   level workload  employment_years last_year_promo  \\\n",
       "id                                                                      \n",
       "723290       sales  middle     high                 2              no   \n",
       "814010       sales  junior   medium                 2              no   \n",
       "155091  purchasing  middle   medium                 5              no   \n",
       "257132       sales  junior   medium                 2              no   \n",
       "910140   marketing  junior   medium                 2              no   \n",
       "\n",
       "       last_year_violations  supervisor_evaluation  salary quit  \n",
       "id                                                               \n",
       "723290                   no                      4   54000   no  \n",
       "814010                   no                      4   27600   no  \n",
       "155091                   no                      1   37200   no  \n",
       "257132                  yes                      3   24000  yes  \n",
       "910140                   no                      5   25200   no  "
      ]
     },
     "execution_count": 8,
     "metadata": {},
     "output_type": "execute_result"
    }
   ],
   "source": [
    "df_train_2.head()    #тренировочные данные для 2 задачи"
   ]
  },
  {
   "cell_type": "code",
   "execution_count": 9,
   "id": "c4e572a3-4ba9-41f0-ac5c-45380925c25d",
   "metadata": {},
   "outputs": [
    {
     "data": {
      "text/html": [
       "<div>\n",
       "<style scoped>\n",
       "    .dataframe tbody tr th:only-of-type {\n",
       "        vertical-align: middle;\n",
       "    }\n",
       "\n",
       "    .dataframe tbody tr th {\n",
       "        vertical-align: top;\n",
       "    }\n",
       "\n",
       "    .dataframe thead th {\n",
       "        text-align: right;\n",
       "    }\n",
       "</style>\n",
       "<table border=\"1\" class=\"dataframe\">\n",
       "  <thead>\n",
       "    <tr style=\"text-align: right;\">\n",
       "      <th></th>\n",
       "      <th>quit</th>\n",
       "    </tr>\n",
       "    <tr>\n",
       "      <th>id</th>\n",
       "      <th></th>\n",
       "    </tr>\n",
       "  </thead>\n",
       "  <tbody>\n",
       "    <tr>\n",
       "      <th>999029</th>\n",
       "      <td>yes</td>\n",
       "    </tr>\n",
       "    <tr>\n",
       "      <th>372846</th>\n",
       "      <td>no</td>\n",
       "    </tr>\n",
       "    <tr>\n",
       "      <th>726767</th>\n",
       "      <td>no</td>\n",
       "    </tr>\n",
       "    <tr>\n",
       "      <th>490105</th>\n",
       "      <td>no</td>\n",
       "    </tr>\n",
       "    <tr>\n",
       "      <th>416898</th>\n",
       "      <td>yes</td>\n",
       "    </tr>\n",
       "  </tbody>\n",
       "</table>\n",
       "</div>"
      ],
      "text/plain": [
       "       quit\n",
       "id         \n",
       "999029  yes\n",
       "372846   no\n",
       "726767   no\n",
       "490105   no\n",
       "416898  yes"
      ]
     },
     "execution_count": 9,
     "metadata": {},
     "output_type": "execute_result"
    }
   ],
   "source": [
    "df_test_2.head()    #целевой признак для 2 задачи"
   ]
  },
  {
   "cell_type": "code",
   "execution_count": 10,
   "id": "5b74e7b6-465b-489f-bad2-12ff9ffd8a15",
   "metadata": {},
   "outputs": [
    {
     "data": {
      "text/html": [
       "<div>\n",
       "<style scoped>\n",
       "    .dataframe tbody tr th:only-of-type {\n",
       "        vertical-align: middle;\n",
       "    }\n",
       "\n",
       "    .dataframe tbody tr th {\n",
       "        vertical-align: top;\n",
       "    }\n",
       "\n",
       "    .dataframe thead th {\n",
       "        text-align: right;\n",
       "    }\n",
       "</style>\n",
       "<table border=\"1\" class=\"dataframe\">\n",
       "  <thead>\n",
       "    <tr style=\"text-align: right;\">\n",
       "      <th></th>\n",
       "      <th>dept</th>\n",
       "      <th>level</th>\n",
       "      <th>workload</th>\n",
       "      <th>employment_years</th>\n",
       "      <th>last_year_promo</th>\n",
       "      <th>last_year_violations</th>\n",
       "      <th>supervisor_evaluation</th>\n",
       "      <th>salary</th>\n",
       "    </tr>\n",
       "    <tr>\n",
       "      <th>id</th>\n",
       "      <th></th>\n",
       "      <th></th>\n",
       "      <th></th>\n",
       "      <th></th>\n",
       "      <th></th>\n",
       "      <th></th>\n",
       "      <th></th>\n",
       "      <th></th>\n",
       "    </tr>\n",
       "  </thead>\n",
       "  <tbody>\n",
       "    <tr>\n",
       "      <th>485046</th>\n",
       "      <td>marketing</td>\n",
       "      <td>junior</td>\n",
       "      <td>medium</td>\n",
       "      <td>2</td>\n",
       "      <td>no</td>\n",
       "      <td>no</td>\n",
       "      <td>5</td>\n",
       "      <td>28800</td>\n",
       "    </tr>\n",
       "    <tr>\n",
       "      <th>686555</th>\n",
       "      <td>hr</td>\n",
       "      <td>junior</td>\n",
       "      <td>medium</td>\n",
       "      <td>1</td>\n",
       "      <td>no</td>\n",
       "      <td>no</td>\n",
       "      <td>4</td>\n",
       "      <td>30000</td>\n",
       "    </tr>\n",
       "    <tr>\n",
       "      <th>467458</th>\n",
       "      <td>sales</td>\n",
       "      <td>middle</td>\n",
       "      <td>low</td>\n",
       "      <td>5</td>\n",
       "      <td>no</td>\n",
       "      <td>no</td>\n",
       "      <td>4</td>\n",
       "      <td>19200</td>\n",
       "    </tr>\n",
       "    <tr>\n",
       "      <th>418655</th>\n",
       "      <td>sales</td>\n",
       "      <td>middle</td>\n",
       "      <td>low</td>\n",
       "      <td>6</td>\n",
       "      <td>no</td>\n",
       "      <td>no</td>\n",
       "      <td>4</td>\n",
       "      <td>19200</td>\n",
       "    </tr>\n",
       "    <tr>\n",
       "      <th>789145</th>\n",
       "      <td>hr</td>\n",
       "      <td>middle</td>\n",
       "      <td>medium</td>\n",
       "      <td>5</td>\n",
       "      <td>no</td>\n",
       "      <td>no</td>\n",
       "      <td>5</td>\n",
       "      <td>40800</td>\n",
       "    </tr>\n",
       "  </tbody>\n",
       "</table>\n",
       "</div>"
      ],
      "text/plain": [
       "             dept   level workload  employment_years last_year_promo  \\\n",
       "id                                                                     \n",
       "485046  marketing  junior   medium                 2              no   \n",
       "686555         hr  junior   medium                 1              no   \n",
       "467458      sales  middle      low                 5              no   \n",
       "418655      sales  middle      low                 6              no   \n",
       "789145         hr  middle   medium                 5              no   \n",
       "\n",
       "       last_year_violations  supervisor_evaluation  salary  \n",
       "id                                                          \n",
       "485046                   no                      5   28800  \n",
       "686555                   no                      4   30000  \n",
       "467458                   no                      4   19200  \n",
       "418655                   no                      4   19200  \n",
       "789145                   no                      5   40800  "
      ]
     },
     "execution_count": 10,
     "metadata": {},
     "output_type": "execute_result"
    }
   ],
   "source": [
    "df_test_all.head()    #общие тренировочные данные"
   ]
  },
  {
   "cell_type": "markdown",
   "id": "fd7249a9-4711-4b67-8a91-9a31d4df8f3f",
   "metadata": {},
   "source": [
    "**Готово, теперь перейдём к предобработке.**"
   ]
  },
  {
   "cell_type": "markdown",
   "id": "f05ecd35-b9d4-4c22-adf8-930b9d9926aa",
   "metadata": {},
   "source": [
    "# Предобработка данных"
   ]
  },
  {
   "cell_type": "markdown",
   "id": "c69bcb84-d0d7-40db-81a8-307140fee5e6",
   "metadata": {},
   "source": [
    "**Так как признаки для двух задач одинаковые, предобработку сделаем вместе по одному принципу.**\n",
    "\n",
    "**Но перед этим заменим значения `sinior` на `senior` во всех датафреймах.**"
   ]
  },
  {
   "cell_type": "code",
   "execution_count": 11,
   "id": "e482b377-f33c-490a-b7ba-a2550951d679",
   "metadata": {},
   "outputs": [],
   "source": [
    "df_train_1['level'] = df_train_1['level'].replace({'sinior': 'senior'})\n",
    "df_train_2['level'] = df_train_2['level'].replace({'sinior': 'senior'})\n",
    "df_test_all['level'] = df_test_all['level'].replace({'sinior': 'senior'})"
   ]
  },
  {
   "cell_type": "markdown",
   "id": "d7d52e5d-547d-4bd2-8613-03b4501c96ae",
   "metadata": {},
   "source": [
    "## Тренировочные данные"
   ]
  },
  {
   "cell_type": "markdown",
   "id": "09a8055a-6679-429f-b878-13c1a61fa212",
   "metadata": {},
   "source": [
    "### Пропуски"
   ]
  },
  {
   "cell_type": "code",
   "execution_count": 12,
   "id": "ca0d329f-5ed4-46f1-84ce-5a16c9a58028",
   "metadata": {},
   "outputs": [
    {
     "name": "stdout",
     "output_type": "stream",
     "text": [
      "<class 'pandas.core.frame.DataFrame'>\n",
      "Index: 4000 entries, 155278 to 338347\n",
      "Data columns (total 9 columns):\n",
      " #   Column                 Non-Null Count  Dtype  \n",
      "---  ------                 --------------  -----  \n",
      " 0   dept                   3994 non-null   object \n",
      " 1   level                  3996 non-null   object \n",
      " 2   workload               4000 non-null   object \n",
      " 3   employment_years       4000 non-null   int64  \n",
      " 4   last_year_promo        4000 non-null   object \n",
      " 5   last_year_violations   4000 non-null   object \n",
      " 6   supervisor_evaluation  4000 non-null   int64  \n",
      " 7   salary                 4000 non-null   int64  \n",
      " 8   job_satisfaction_rate  4000 non-null   float64\n",
      "dtypes: float64(1), int64(3), object(5)\n",
      "memory usage: 312.5+ KB\n",
      "<class 'pandas.core.frame.DataFrame'>\n",
      "Index: 4000 entries, 723290 to 853842\n",
      "Data columns (total 9 columns):\n",
      " #   Column                 Non-Null Count  Dtype \n",
      "---  ------                 --------------  ----- \n",
      " 0   dept                   4000 non-null   object\n",
      " 1   level                  4000 non-null   object\n",
      " 2   workload               4000 non-null   object\n",
      " 3   employment_years       4000 non-null   int64 \n",
      " 4   last_year_promo        4000 non-null   object\n",
      " 5   last_year_violations   4000 non-null   object\n",
      " 6   supervisor_evaluation  4000 non-null   int64 \n",
      " 7   salary                 4000 non-null   int64 \n",
      " 8   quit                   4000 non-null   object\n",
      "dtypes: int64(3), object(6)\n",
      "memory usage: 312.5+ KB\n"
     ]
    }
   ],
   "source": [
    "df_train_1.info()\n",
    "df_train_2.info()"
   ]
  },
  {
   "cell_type": "markdown",
   "id": "98919496-050c-44b9-aa63-c0aaee61fca9",
   "metadata": {},
   "source": [
    "**Есть пропуски в тренировочных данных для 1 задачи(заполним их в пайплайне):**\n",
    "- пропуски в `dept` заполним модой;\n",
    "- пропуски в `level` заполним модой."
   ]
  },
  {
   "cell_type": "markdown",
   "id": "adff264d-1fe2-4886-bef9-39e5927805f0",
   "metadata": {},
   "source": [
    "### Дубликаты"
   ]
  },
  {
   "cell_type": "markdown",
   "id": "eb679860-ec3f-4a89-b330-c28688ba223a",
   "metadata": {},
   "source": [
    "**Избавимся от всех дубликатов, так как модель будет обучаться на одних и тех же данных.**"
   ]
  },
  {
   "cell_type": "code",
   "execution_count": 13,
   "id": "d7726606-2e9a-4a6e-9fb7-b5b7aa5f5476",
   "metadata": {},
   "outputs": [
    {
     "name": "stdout",
     "output_type": "stream",
     "text": [
      "Количество дубликатов в df_train_1: 245\n",
      "Количество дубликатов в df_train_2: 1413\n"
     ]
    }
   ],
   "source": [
    "print(f'Количество дубликатов в df_train_1: {df_train_1.duplicated().sum()}')\n",
    "print(f'Количество дубликатов в df_train_2: {df_train_2.duplicated().sum()}')\n",
    "\n",
    "df_train_1.drop_duplicates(inplace=True)\n",
    "df_train_2.drop_duplicates(inplace=True);"
   ]
  },
  {
   "cell_type": "markdown",
   "id": "a4410e37-193b-4fc5-9803-62e26f566123",
   "metadata": {},
   "source": [
    "## Тестовые данные"
   ]
  },
  {
   "cell_type": "markdown",
   "id": "4404735d-ce8d-48bb-96a5-9e5806251afd",
   "metadata": {},
   "source": [
    "### Пропуски"
   ]
  },
  {
   "cell_type": "code",
   "execution_count": 14,
   "id": "d2015465-8dd8-4737-8f2e-87736eeccef9",
   "metadata": {},
   "outputs": [
    {
     "name": "stdout",
     "output_type": "stream",
     "text": [
      "<class 'pandas.core.frame.DataFrame'>\n",
      "Index: 2000 entries, 130604 to 648995\n",
      "Data columns (total 1 columns):\n",
      " #   Column                 Non-Null Count  Dtype  \n",
      "---  ------                 --------------  -----  \n",
      " 0   job_satisfaction_rate  2000 non-null   float64\n",
      "dtypes: float64(1)\n",
      "memory usage: 31.2 KB\n",
      "<class 'pandas.core.frame.DataFrame'>\n",
      "Index: 2000 entries, 999029 to 460332\n",
      "Data columns (total 1 columns):\n",
      " #   Column  Non-Null Count  Dtype \n",
      "---  ------  --------------  ----- \n",
      " 0   quit    2000 non-null   object\n",
      "dtypes: object(1)\n",
      "memory usage: 31.2+ KB\n",
      "<class 'pandas.core.frame.DataFrame'>\n",
      "Index: 2000 entries, 485046 to 771859\n",
      "Data columns (total 8 columns):\n",
      " #   Column                 Non-Null Count  Dtype \n",
      "---  ------                 --------------  ----- \n",
      " 0   dept                   1998 non-null   object\n",
      " 1   level                  1999 non-null   object\n",
      " 2   workload               2000 non-null   object\n",
      " 3   employment_years       2000 non-null   int64 \n",
      " 4   last_year_promo        2000 non-null   object\n",
      " 5   last_year_violations   2000 non-null   object\n",
      " 6   supervisor_evaluation  2000 non-null   int64 \n",
      " 7   salary                 2000 non-null   int64 \n",
      "dtypes: int64(3), object(5)\n",
      "memory usage: 140.6+ KB\n"
     ]
    }
   ],
   "source": [
    "df_test_1.info()\n",
    "df_test_2.info()\n",
    "df_test_all.info()"
   ]
  },
  {
   "cell_type": "markdown",
   "id": "bcdd2415-06a3-4c15-8161-d5d7a94703ca",
   "metadata": {},
   "source": [
    "**Так же есть пропуски в тех же стобцах, что и в тренировочных данных, ещё мы заметили пустое значение в столбце `dept`, заполним всё пайпайне.**"
   ]
  },
  {
   "cell_type": "markdown",
   "id": "9634f631-2696-4119-bf5c-56b3cd3a44fd",
   "metadata": {},
   "source": [
    "# Задача 1 - удовлетворенность сотрудника"
   ]
  },
  {
   "cell_type": "markdown",
   "id": "0be225f3-4836-43ab-b3d3-ab0954d3295b",
   "metadata": {},
   "source": [
    "## Исследовательский анализ"
   ]
  },
  {
   "cell_type": "markdown",
   "id": "f05e9642",
   "metadata": {},
   "source": [
    "### Тренировочные данные"
   ]
  },
  {
   "cell_type": "markdown",
   "id": "4a7259c9-1cd4-42be-a960-d2b7ab672151",
   "metadata": {},
   "source": [
    "**Взглянем на распределения каждого признака в тренировочном датафрейме.**"
   ]
  },
  {
   "cell_type": "markdown",
   "id": "605ee24d-be9c-4cd7-a6f1-f3a8e7d71355",
   "metadata": {},
   "source": [
    "#### Количественные признаки"
   ]
  },
  {
   "cell_type": "code",
   "execution_count": 15,
   "id": "2df8a262-3f2b-4e8f-a209-7a5dbcc73207",
   "metadata": {},
   "outputs": [
    {
     "data": {
      "image/png": "[encoded data removed]",
      "text/plain": [
       "<Figure size 1296x720 with 2 Axes>"
      ]
     },
     "metadata": {
      "needs_background": "light"
     },
     "output_type": "display_data"
    }
   ],
   "source": [
    "fig, axes = plt.subplots(1, 2, figsize=(18, 10))\n",
    "plt.subplots_adjust(hspace=0.4, wspace=0.3)\n",
    "\n",
    "def plot_continuous(data, column, ax, bins):   #функция для непрерывных признаков\n",
    "    sns.histplot(data[column], bins=bins, kde=True, ax=ax)\n",
    "    ax.set_title(f'Распределение \"{column}\"', fontsize=14)\n",
    "    ax.set_xlabel('Значение', fontsize=12)\n",
    "    ax.set_ylabel('Частота', fontsize=12)\n",
    "    ax.grid(alpha=0.3)\n",
    "\n",
    "plot_continuous(df_train_1, 'salary', axes[0], 15)\n",
    "\n",
    "df_train_1[['salary']].plot.box(ax=axes[1], vert=True)\n",
    "axes[1].set_title(f'Ящик с усами \"salary\"', fontsize=14)\n",
    "axes[1].set_ylabel('Значение', fontsize=12)\n",
    "axes[1].grid(alpha=0.3)\n",
    "\n",
    "plt.show()"
   ]
  },
  {
   "cell_type": "markdown",
   "id": "8ab1f0a0-63da-4836-93c0-2f1a9d3d1957",
   "metadata": {},
   "source": [
    "**Медианное значение ЗП - `31000`, после 80000 уже идут большие значения, но от них избавляться не стоит.**"
   ]
  },
  {
   "cell_type": "code",
   "execution_count": 16,
   "id": "7c678b89-0c4e-4de3-9537-2489d355857a",
   "metadata": {},
   "outputs": [
    {
     "data": {
      "image/png": "[encoded data removed]",
      "text/plain": [
       "<Figure size 864x432 with 1 Axes>"
      ]
     },
     "metadata": {
      "needs_background": "light"
     },
     "output_type": "display_data"
    }
   ],
   "source": [
    "fig, axes = plt.subplots(1, 2, figsize=(12, 6))\n",
    "fig.delaxes(axes[1])\n",
    "\n",
    "plot_continuous(df_train_1, 'job_satisfaction_rate', axes[0], 15)"
   ]
  },
  {
   "cell_type": "markdown",
   "id": "6fceedff-04dc-4634-be41-666fe5b805b7",
   "metadata": {},
   "source": [
    "**Видно две вершины, но большее количество сотрудников довольны.**"
   ]
  },
  {
   "cell_type": "code",
   "execution_count": 17,
   "id": "ff2368dc-e7b5-496d-ac50-5f0a947944e2",
   "metadata": {},
   "outputs": [
    {
     "data": {
      "image/png": "[encoded data removed]",
      "text/plain": [
       "<Figure size 1296x648 with 2 Axes>"
      ]
     },
     "metadata": {
      "needs_background": "light"
     },
     "output_type": "display_data"
    }
   ],
   "source": [
    "fig, axes = plt.subplots(1, 2, figsize=(18, 9))\n",
    "\n",
    "def plot_discrete(data, column, ax, top_n=None):  #функция для дискретных признаков\n",
    "    sns.countplot(x=data[column], ax=ax) \n",
    "    ax.set_title(f'Распределение \"{column}\"', fontsize=12)\n",
    "    ax.set_ylabel('Количество', fontsize=12)\n",
    "#   ax.tick_params(axis='x', rotation=45)\n",
    "    ax.grid(axis='y', alpha=0.3)\n",
    "\n",
    "plot_discrete(df_train_1, 'employment_years', axes[0])\n",
    "axes[0].set_xlabel('Длительность работы в компании', fontsize=12)\n",
    "plot_discrete(df_train_1, 'supervisor_evaluation', axes[1])\n",
    "axes[1].set_xlabel('Оценка руководителя', fontsize=12);"
   ]
  },
  {
   "cell_type": "markdown",
   "id": "324b289a-6fb5-4e6f-a832-752b3d4299a5",
   "metadata": {},
   "source": [
    "- Большинство сотрудников не долго находятся в компании: `1-3 года`;\n",
    "- Самая частая оценка руководителя: `3-4`."
   ]
  },
  {
   "cell_type": "markdown",
   "id": "a25bb030-d613-4d0c-98f4-8a386a8e61b2",
   "metadata": {},
   "source": [
    "#### Категоиральные признаки"
   ]
  },
  {
   "cell_type": "code",
   "execution_count": 18,
   "id": "425e37f2-8f87-4e8e-8a0d-c3936b0d9966",
   "metadata": {},
   "outputs": [
    {
     "data": {
      "image/png": "[encoded data removed]",
      "text/plain": [
       "<Figure size 1080x720 with 5 Axes>"
      ]
     },
     "metadata": {},
     "output_type": "display_data"
    }
   ],
   "source": [
    "fig, axes = plt.subplots(2, 3, figsize=(15, 10))\n",
    "fig.delaxes(axes[1, 1])\n",
    "\n",
    "def pie_plot(df, column, ax):\n",
    "    df_gr = df.groupby(column)[column].count()\n",
    "    df_gr.plot(kind='pie',\n",
    "               ylabel=(''),\n",
    "               autopct=lambda x: '{:.0f}'.format(x * sum(df_gr.values)/100),\n",
    "               ax=ax)\n",
    "\n",
    "pie_plot(df_train_1, 'dept', axes[0, 0])\n",
    "axes[0, 0].set_title('Отделы')\n",
    "pie_plot(df_train_1, 'level', axes[0, 1])\n",
    "axes[0, 1].set_title('Уровень должности')\n",
    "pie_plot(df_train_1, 'workload', axes[0, 2])\n",
    "axes[0, 2].set_title('Загруженность сотрудника')\n",
    "pie_plot(df_train_1, 'last_year_promo', axes[1, 0])\n",
    "axes[1, 0].set_title('Повышение за последний год')\n",
    "pie_plot(df_train_1, 'last_year_violations', axes[1, 2])\n",
    "axes[1, 2].set_title('Нарушение трудового договора за последний год');"
   ]
  },
  {
   "cell_type": "markdown",
   "id": "41df6c9c-6a0c-4d16-ab5f-b83259b4bd67",
   "metadata": {},
   "source": [
    "- Самый большой отдел: `sales`:\n",
    "- В основном в компании `middle` и `junior`:\n",
    "- Большинство сотрудников загружены на уровне `medium`:\n",
    "- Из 3716 сотрудников за последний год повышение получили лишь `118` человек;\n",
    "- `550` человек за последний год нарушили трудовой договор."
   ]
  },
  {
   "cell_type": "markdown",
   "id": "8f901a14-1036-4a0f-8653-a0d492a7bd1d",
   "metadata": {},
   "source": [
    "**Портрет среднестатистического сотрудника: ЗП - `31000`, доволен работой, находится в штате `1-3 года`, имеет оценку руководителя `3-4`, работает в отделе `sales` на должности `middle` или `junior`, загружен на уровне `medium`, за последний год `не получал повышения` и `не нарушал трудовой договор`.**"
   ]
  },
  {
   "cell_type": "markdown",
   "id": "b4958e0d-3c96-4994-9fa0-a19baaf9f3fd",
   "metadata": {},
   "source": [
    "#### Корреляционный анализ"
   ]
  },
  {
   "cell_type": "code",
   "execution_count": 19,
   "id": "5350ae20-3716-4d1a-ac8a-f144227a8eb6",
   "metadata": {},
   "outputs": [
    {
     "data": {
      "image/png": "[encoded data removed]",
      "text/plain": [
       "<Figure size 432x288 with 2 Axes>"
      ]
     },
     "metadata": {
      "needs_background": "light"
     },
     "output_type": "display_data"
    }
   ],
   "source": [
    "col_num_continuous = ['salary', 'job_satisfaction_rate']\n",
    "\n",
    "pm = df_train_1.phik_matrix(interval_cols=col_num_continuous)\n",
    "sns.heatmap(\n",
    "    pm, \n",
    "    annot=True, \n",
    "    fmt=\".2f\", \n",
    "    cmap='coolwarm', \n",
    "    center=0,\n",
    "    vmin=0, \n",
    "    vmax=1,\n",
    "    linewidths=0.5,\n",
    "    cbar_kws={'label': 'Phik-корреляция'}\n",
    ")\n",
    "\n",
    "plt.title('Матрица корреляций', pad=20)\n",
    "plt.xticks(rotation=45, ha='right')\n",
    "plt.tight_layout()\n",
    "plt.show()"
   ]
  },
  {
   "cell_type": "markdown",
   "id": "1785861f-ae1b-4522-a94a-904c074c7858",
   "metadata": {},
   "source": [
    "**Очень высокой корреляции(> 80%) между признаками не наблюдается, но есть близкие к данному значению, от них избавляться в любом случае не будем.**"
   ]
  },
  {
   "cell_type": "markdown",
   "id": "0c16a047",
   "metadata": {},
   "source": [
    "### Тестовые данные"
   ]
  },
  {
   "cell_type": "markdown",
   "id": "e5cc3549",
   "metadata": {},
   "source": [
    "**Теперь проведём исследовательский анализ тестовым данных, взглянем, насколько они отличаются от тренировочных.**"
   ]
  },
  {
   "cell_type": "code",
   "execution_count": 20,
   "id": "5e599ed9",
   "metadata": {},
   "outputs": [
    {
     "data": {
      "text/html": [
       "<div>\n",
       "<style scoped>\n",
       "    .dataframe tbody tr th:only-of-type {\n",
       "        vertical-align: middle;\n",
       "    }\n",
       "\n",
       "    .dataframe tbody tr th {\n",
       "        vertical-align: top;\n",
       "    }\n",
       "\n",
       "    .dataframe thead th {\n",
       "        text-align: right;\n",
       "    }\n",
       "</style>\n",
       "<table border=\"1\" class=\"dataframe\">\n",
       "  <thead>\n",
       "    <tr style=\"text-align: right;\">\n",
       "      <th></th>\n",
       "      <th>dept</th>\n",
       "      <th>level</th>\n",
       "      <th>workload</th>\n",
       "      <th>employment_years</th>\n",
       "      <th>last_year_promo</th>\n",
       "      <th>last_year_violations</th>\n",
       "      <th>supervisor_evaluation</th>\n",
       "      <th>salary</th>\n",
       "      <th>job_satisfaction_rate</th>\n",
       "      <th>quit</th>\n",
       "    </tr>\n",
       "    <tr>\n",
       "      <th>id</th>\n",
       "      <th></th>\n",
       "      <th></th>\n",
       "      <th></th>\n",
       "      <th></th>\n",
       "      <th></th>\n",
       "      <th></th>\n",
       "      <th></th>\n",
       "      <th></th>\n",
       "      <th></th>\n",
       "      <th></th>\n",
       "    </tr>\n",
       "  </thead>\n",
       "  <tbody>\n",
       "    <tr>\n",
       "      <th>485046</th>\n",
       "      <td>marketing</td>\n",
       "      <td>junior</td>\n",
       "      <td>medium</td>\n",
       "      <td>2</td>\n",
       "      <td>no</td>\n",
       "      <td>no</td>\n",
       "      <td>5</td>\n",
       "      <td>28800</td>\n",
       "      <td>0.79</td>\n",
       "      <td>no</td>\n",
       "    </tr>\n",
       "    <tr>\n",
       "      <th>686555</th>\n",
       "      <td>hr</td>\n",
       "      <td>junior</td>\n",
       "      <td>medium</td>\n",
       "      <td>1</td>\n",
       "      <td>no</td>\n",
       "      <td>no</td>\n",
       "      <td>4</td>\n",
       "      <td>30000</td>\n",
       "      <td>0.72</td>\n",
       "      <td>no</td>\n",
       "    </tr>\n",
       "    <tr>\n",
       "      <th>467458</th>\n",
       "      <td>sales</td>\n",
       "      <td>middle</td>\n",
       "      <td>low</td>\n",
       "      <td>5</td>\n",
       "      <td>no</td>\n",
       "      <td>no</td>\n",
       "      <td>4</td>\n",
       "      <td>19200</td>\n",
       "      <td>0.64</td>\n",
       "      <td>no</td>\n",
       "    </tr>\n",
       "  </tbody>\n",
       "</table>\n",
       "</div>"
      ],
      "text/plain": [
       "             dept   level workload  employment_years last_year_promo  \\\n",
       "id                                                                     \n",
       "485046  marketing  junior   medium                 2              no   \n",
       "686555         hr  junior   medium                 1              no   \n",
       "467458      sales  middle      low                 5              no   \n",
       "\n",
       "       last_year_violations  supervisor_evaluation  salary  \\\n",
       "id                                                           \n",
       "485046                   no                      5   28800   \n",
       "686555                   no                      4   30000   \n",
       "467458                   no                      4   19200   \n",
       "\n",
       "        job_satisfaction_rate quit  \n",
       "id                                  \n",
       "485046                   0.79   no  \n",
       "686555                   0.72   no  \n",
       "467458                   0.64   no  "
      ]
     },
     "execution_count": 20,
     "metadata": {},
     "output_type": "execute_result"
    }
   ],
   "source": [
    "df_all = df_test_all.join(df_test_1)\n",
    "df_all = df_all.join(df_test_2)\n",
    "df_all.head(3)"
   ]
  },
  {
   "cell_type": "markdown",
   "id": "d68c799d",
   "metadata": {},
   "source": [
    "#### Количественные признаки"
   ]
  },
  {
   "cell_type": "code",
   "execution_count": 21,
   "id": "e2d3815b",
   "metadata": {},
   "outputs": [
    {
     "data": {
      "image/png": "[encoded data removed]",
      "text/plain": [
       "<Figure size 1296x720 with 2 Axes>"
      ]
     },
     "metadata": {
      "needs_background": "light"
     },
     "output_type": "display_data"
    }
   ],
   "source": [
    "fig, axes = plt.subplots(1, 2, figsize=(18, 10))\n",
    "plt.subplots_adjust(hspace=0.4, wspace=0.3)\n",
    "\n",
    "plot_continuous(df_all, 'salary', axes[0], 15)\n",
    "#plot_continuous(df_train_1, 'job_satisfaction_rate', axes[1], 15)\n",
    "\n",
    "df_all[['salary']].plot.box(ax=axes[1], vert=True)\n",
    "axes[1].set_title(f'Ящик с усами \"salary\"', fontsize=14)\n",
    "axes[1].set_ylabel('Значение', fontsize=12)\n",
    "axes[1].grid(alpha=0.3)\n",
    "\n",
    "plt.show()"
   ]
  },
  {
   "cell_type": "markdown",
   "id": "036b1843",
   "metadata": {},
   "source": [
    "**Медианное значение ЗП - `30000`. На `1000` меньше, чем в тренировочных данных.**"
   ]
  },
  {
   "cell_type": "code",
   "execution_count": 22,
   "id": "29521607",
   "metadata": {},
   "outputs": [
    {
     "data": {
      "image/png": "[encoded data removed]",
      "text/plain": [
       "<Figure size 864x432 with 1 Axes>"
      ]
     },
     "metadata": {
      "needs_background": "light"
     },
     "output_type": "display_data"
    }
   ],
   "source": [
    "fig, axes = plt.subplots(1, 2, figsize=(12, 6))\n",
    "fig.delaxes(axes[1])\n",
    "\n",
    "plot_continuous(df_all, 'job_satisfaction_rate', axes[0], 15)"
   ]
  },
  {
   "cell_type": "markdown",
   "id": "7bc54c94",
   "metadata": {},
   "source": [
    "**Так же видно две вершины, но в тестовые данные в большем количестве находятся на второй половине.**"
   ]
  },
  {
   "cell_type": "code",
   "execution_count": 23,
   "id": "1c149bd7",
   "metadata": {},
   "outputs": [
    {
     "data": {
      "image/png": "[encoded data removed]",
      "text/plain": [
       "<Figure size 1296x648 with 2 Axes>"
      ]
     },
     "metadata": {
      "needs_background": "light"
     },
     "output_type": "display_data"
    }
   ],
   "source": [
    "fig, axes = plt.subplots(1, 2, figsize=(18, 9))\n",
    "\n",
    "plot_discrete(df_all, 'employment_years', axes[0])\n",
    "axes[0].set_xlabel('Длительность работы в компании', fontsize=12)\n",
    "plot_discrete(df_all, 'supervisor_evaluation', axes[1])\n",
    "axes[1].set_xlabel('Оценка руководителя', fontsize=12);"
   ]
  },
  {
   "cell_type": "markdown",
   "id": "958be52b",
   "metadata": {},
   "source": [
    "**Так же всё похоже, но в в тестовых данных больше оценок `4`.**"
   ]
  },
  {
   "cell_type": "markdown",
   "id": "d788a87b",
   "metadata": {},
   "source": [
    "#### Категориальные признаки"
   ]
  },
  {
   "cell_type": "code",
   "execution_count": 24,
   "id": "c055ac20",
   "metadata": {},
   "outputs": [
    {
     "data": {
      "image/png": "[encoded data removed]",
      "text/plain": [
       "<Figure size 1080x720 with 5 Axes>"
      ]
     },
     "metadata": {},
     "output_type": "display_data"
    }
   ],
   "source": [
    "fig, axes = plt.subplots(2, 3, figsize=(15, 10))\n",
    "fig.delaxes(axes[1, 1])\n",
    "\n",
    "pie_plot(df_all, 'dept', axes[0, 0])\n",
    "axes[0, 0].set_title('Отделы')\n",
    "pie_plot(df_all, 'level', axes[0, 1])\n",
    "axes[0, 1].set_title('Уровень должности')\n",
    "pie_plot(df_all, 'workload', axes[0, 2])\n",
    "axes[0, 2].set_title('Загруженность сотрудника')\n",
    "pie_plot(df_all, 'last_year_promo', axes[1, 0])\n",
    "axes[1, 0].set_title('Повышение за последний год')\n",
    "pie_plot(df_all, 'last_year_violations', axes[1, 2])\n",
    "axes[1, 2].set_title('Нарушение трудового договора за последний год');"
   ]
  },
  {
   "cell_type": "markdown",
   "id": "62a6172c",
   "metadata": {},
   "source": [
    "**В отделах видна новая категория без названия, вероятно, это просто пропущенное значение, но обрабатывать мы его не будет, так как это тестовые данные.**\n",
    "\n",
    "**Все данные почти идентичны. Корреляционный анализ в тестовых данных проводить смысла нет.**"
   ]
  },
  {
   "cell_type": "markdown",
   "id": "29435d24-f46f-453b-9011-163c1c508f87",
   "metadata": {},
   "source": [
    "## Подготовка данных и пайплайн"
   ]
  },
  {
   "attachments": {
    "image-2.png": {
     "image/png": "[encoded data removed]"
    }
   },
   "cell_type": "markdown",
   "id": "3d647d83",
   "metadata": {},
   "source": [
    "**Для начала создадим новую метрику под названием `SMAPE`(симметричное среднее абсолютное процентное отклонение):**\n",
    "![image-2.png](attachment:image-2.png)\n",
    "**Напишем функцию, которая принимает на вход массивы `NumPy` или объекты `Series` в pandas и возвращает значение метрики `SMAPE`. Используем эту метрику при подборе гиперпараметров и оценке качества моделей.**"
   ]
  },
  {
   "cell_type": "code",
   "execution_count": 25,
   "id": "c2c92602",
   "metadata": {},
   "outputs": [],
   "source": [
    "def smape(y_true, y_pred):\n",
    "    y_true, y_pred = np.array(y_true), np.array(y_pred)\n",
    "    numerator = np.abs(y_pred - y_true)\n",
    "    denominator = (np.abs(y_true) + np.abs(y_pred)) / 2\n",
    "    mask = denominator == 0\n",
    "    denominator[mask] = 1\n",
    "    smape_value = 100 * numerator / denominator\n",
    "    smape_value[mask] = 0\n",
    "    return np.mean(smape_value)\n",
    "\n",
    "smape_scorer = make_scorer(smape, greater_is_better=False)"
   ]
  },
  {
   "cell_type": "markdown",
   "id": "e94682d7",
   "metadata": {},
   "source": [
    "**Готово, диапазон значении `0%-200%`, чем меньше метрика, тем лучше модель.**"
   ]
  },
  {
   "cell_type": "markdown",
   "id": "ce860d77-8d09-4dc6-a04c-8bf444e57fcb",
   "metadata": {},
   "source": [
    "**Готово, теперь разделим данные на выборки и создадим пайплайн, который будет проверять 4 модели: `KNeighborsRegressor`, `DecisionTreeRegressor`, `LogisticRegression` и `SVR` с различными гипепараметрами, так же будем использовать два кодировщика:`OneHotEncoder` и `OrdinalEncoder` для категориальных признаков и три скейлера для масштабирования количественных:`RobustScaler`, `MinMaxScaler` и `StandardScaler`.**"
   ]
  },
  {
   "cell_type": "code",
   "execution_count": 26,
   "id": "c5f15f96-f426-4291-b325-02d27eed9d91",
   "metadata": {},
   "outputs": [],
   "source": [
    "X_train_1 = df_train_1.drop('job_satisfaction_rate', axis=1)\n",
    "y_train_1 = df_train_1['job_satisfaction_rate']\n",
    "df = df_test_all.join(df_test_1, how='inner')\n",
    "X_test_1 = df.drop('job_satisfaction_rate', axis=1)\n",
    "y_test_1 = df['job_satisfaction_rate']"
   ]
  },
  {
   "cell_type": "code",
   "execution_count": 27,
   "id": "a2799f0e-daf9-446c-8727-3bd3c4295916",
   "metadata": {},
   "outputs": [],
   "source": [
    "num_col = ['salary']\n",
    "\n",
    "ohe_col = ['dept']\n",
    "\n",
    "ord_col = ['level',\n",
    "           'workload',\n",
    "           'last_year_promo',\n",
    "           'last_year_violations',\n",
    "           'employment_years',\n",
    "           'supervisor_evaluation']"
   ]
  },
  {
   "cell_type": "code",
   "execution_count": 28,
   "id": "31868e2e-2df9-4358-8808-bfb003809d1e",
   "metadata": {},
   "outputs": [],
   "source": [
    "pipe_ohe = Pipeline([                         #пайплайн для кодирования\n",
    "    ('replace_space', FunctionTransformer(lambda X: X.replace(' ', np.nan), validate=False)),\n",
    "    ('simpleImputer_ohe_2', SimpleImputer(missing_values=np.nan, strategy='most_frequent')),\n",
    "    ('ohe', OneHotEncoder(drop='first', handle_unknown='ignore', sparse_output=False))\n",
    "])"
   ]
  },
  {
   "cell_type": "code",
   "execution_count": 29,
   "id": "17942aa5-4f72-4624-adee-5060e2e2022f",
   "metadata": {},
   "outputs": [],
   "source": [
    "pipe_ord = Pipeline([                         #пайплайн для кодирования\n",
    "    ('simpleImputer_before_ord', SimpleImputer(missing_values=np.nan, strategy='most_frequent')),\n",
    "    ('ord', OrdinalEncoder(categories=[\n",
    "                                    ['junior', 'middle', 'senior'],\n",
    "                                    ['low', 'medium', 'high'],\n",
    "                                    ['no', 'yes'],\n",
    "                                    ['no', 'yes'],\n",
    "                                    list(range(1, 11)),\n",
    "                                    [1, 2, 3, 4, 5]],\n",
    "                         handle_unknown='use_encoded_value',\n",
    "                         unknown_value = np.nan)),\n",
    "    ('simpleImputer_after_ord', SimpleImputer(missing_values=np.nan, strategy='most_frequent'))\n",
    "])"
   ]
  },
  {
   "cell_type": "code",
   "execution_count": 30,
   "id": "29c0839e-fbd2-4c4e-a9ff-20638bc4ba98",
   "metadata": {},
   "outputs": [],
   "source": [
    "RANDOM_STATE=42\n",
    "data_preprocessor = ColumnTransformer([       #пайплайн для масштабирования и кодирования\n",
    "    ('ohe', pipe_ohe, ohe_col),\n",
    "    ('ord', pipe_ord, ord_col),\n",
    "    ('num', MinMaxScaler(), num_col)],\n",
    "    remainder = 'passthrough')\n",
    "\n",
    "pipe_final = Pipeline([                       #итоговый пайплайн\n",
    "    ('preprocessor', data_preprocessor),\n",
    "    ('models', DecisionTreeRegressor)\n",
    "])\n",
    "\n",
    "param_grid_1 = [\n",
    "    {\n",
    "        'models': [KNeighborsRegressor()],\n",
    "        'models__n_neighbors': range(2, 40),\n",
    "        'models__weights': ['uniform', 'distance'],\n",
    "        'preprocessor__num': [StandardScaler(), MinMaxScaler(), 'passthrough']\n",
    "    },\n",
    "    {\n",
    "        'models': [DecisionTreeRegressor(random_state=RANDOM_STATE)],\n",
    "        'models__max_depth': range(3, 20),\n",
    "        'models__min_samples_split': [2, 5, 10],\n",
    "        'preprocessor__num': [StandardScaler(), MinMaxScaler(), 'passthrough']\n",
    "    },\n",
    "    {\n",
    "        'models': [LinearRegression()],\n",
    "        'preprocessor__num': [StandardScaler(), MinMaxScaler(), 'passthrough']\n",
    "    },\n",
    "    {\n",
    "        'models': [SVR()],\n",
    "        'models__kernel': ['linear', 'rbf', 'poly'],\n",
    "        'models__gamma': ['scale', 'auto', 0.01, 0.1],\n",
    "        'models__degree': [2, 3, 4],\n",
    "        'preprocessor__num': [StandardScaler(), MinMaxScaler(), 'passthrough']\n",
    "    }\n",
    "]"
   ]
  },
  {
   "cell_type": "code",
   "execution_count": 31,
   "id": "c1eab1aa-80de-435d-817a-346785bc30fd",
   "metadata": {},
   "outputs": [],
   "source": [
    "randomized_search = RandomizedSearchCV(\n",
    "    pipe_final,\n",
    "    param_grid_1,\n",
    "    scoring=smape_scorer,\n",
    "    cv=5,\n",
    "    n_jobs=-1,\n",
    "    random_state=RANDOM_STATE\n",
    ")"
   ]
  },
  {
   "cell_type": "markdown",
   "id": "0f9fdc08-82e6-422d-a28b-35461f6cf99e",
   "metadata": {},
   "source": [
    "**Готово, теперь найдём лучшую модель.**"
   ]
  },
  {
   "cell_type": "code",
   "execution_count": 32,
   "id": "f10beed1-67f7-4f7f-ab27-600ca59f3825",
   "metadata": {
    "scrolled": true
   },
   "outputs": [
    {
     "name": "stdout",
     "output_type": "stream",
     "text": [
      "Лучшая модель: Pipeline(steps=[('preprocessor',\n",
      "                 ColumnTransformer(remainder='passthrough',\n",
      "                                   transformers=[('ohe',\n",
      "                                                  Pipeline(steps=[('replace_space',\n",
      "                                                                   FunctionTransformer(func=<function <lambda> at 0x7f800c9028b0>)),\n",
      "                                                                  ('simpleImputer_ohe_2',\n",
      "                                                                   SimpleImputer(strategy='most_frequent')),\n",
      "                                                                  ('ohe',\n",
      "                                                                   OneHotEncoder(drop='first',\n",
      "                                                                                 handle_unknown='ignore',\n",
      "                                                                                 sparse_output=False))]),\n",
      "                                                  ['dept']),\n",
      "                                                 ('or...\n",
      "                                                                                               10],\n",
      "                                                                                              [1,\n",
      "                                                                                               2,\n",
      "                                                                                               3,\n",
      "                                                                                               4,\n",
      "                                                                                               5]],\n",
      "                                                                                  handle_unknown='use_encoded_value',\n",
      "                                                                                  unknown_value=nan)),\n",
      "                                                                  ('simpleImputer_after_ord',\n",
      "                                                                   SimpleImputer(strategy='most_frequent'))]),\n",
      "                                                  ['level', 'workload',\n",
      "                                                   'last_year_promo',\n",
      "                                                   'last_year_violations',\n",
      "                                                   'employment_years',\n",
      "                                                   'supervisor_evaluation']),\n",
      "                                                 ('num', StandardScaler(),\n",
      "                                                  ['salary'])])),\n",
      "                ('models',\n",
      "                 DecisionTreeRegressor(max_depth=15, random_state=42))])\n",
      "Лучшие параметры: {'preprocessor__num': StandardScaler(), 'models__min_samples_split': 2, 'models__max_depth': 15, 'models': DecisionTreeRegressor(random_state=42)}\n",
      "Лучшая SMAPE (на валидации): 16.043463276212396\n"
     ]
    }
   ],
   "source": [
    "randomized_search.fit(X_train_1, y_train_1)\n",
    "\n",
    "print('Лучшая модель:', randomized_search.best_estimator_)\n",
    "print('Лучшие параметры:', randomized_search.best_params_)\n",
    "print('Лучшая SMAPE (на валидации):', -randomized_search.best_score_)  # Обратите внимание на минус!"
   ]
  },
  {
   "cell_type": "code",
   "execution_count": 33,
   "id": "864b26ef-e11f-45f4-9c11-7ea1c2a70447",
   "metadata": {},
   "outputs": [
    {
     "data": {
      "text/plain": [
       "'Метрика SMAPE 14.360842219581851'"
      ]
     },
     "metadata": {},
     "output_type": "display_data"
    },
    {
     "data": {
      "text/plain": [
       "\"Лучшие параметры: {'preprocessor__num': StandardScaler(), 'models__min_samples_split': 2, 'models__max_depth': 15, 'models': DecisionTreeRegressor(random_state=42)}\""
      ]
     },
     "metadata": {},
     "output_type": "display_data"
    }
   ],
   "source": [
    "y_test_pred_1 = randomized_search.predict(X_test_1)\n",
    "display(f'Метрика SMAPE {smape(y_test_1, y_test_pred_1)}')\n",
    "display(f'Лучшие параметры: {randomized_search.best_params_}')"
   ]
  },
  {
   "cell_type": "markdown",
   "id": "dffadf29",
   "metadata": {},
   "source": [
    "**Теперь выведем топ 10 лучших моделей.**"
   ]
  },
  {
   "cell_type": "code",
   "execution_count": 34,
   "id": "5cdc22a1",
   "metadata": {},
   "outputs": [
    {
     "data": {
      "text/plain": [
       "'Топ 10 лучших моделей:'"
      ]
     },
     "metadata": {},
     "output_type": "display_data"
    },
    {
     "data": {
      "text/html": [
       "<div>\n",
       "<style scoped>\n",
       "    .dataframe tbody tr th:only-of-type {\n",
       "        vertical-align: middle;\n",
       "    }\n",
       "\n",
       "    .dataframe tbody tr th {\n",
       "        vertical-align: top;\n",
       "    }\n",
       "\n",
       "    .dataframe thead th {\n",
       "        text-align: right;\n",
       "    }\n",
       "</style>\n",
       "<table border=\"1\" class=\"dataframe\">\n",
       "  <thead>\n",
       "    <tr style=\"text-align: right;\">\n",
       "      <th></th>\n",
       "      <th>rank_test_score</th>\n",
       "      <th>mean_test_score</th>\n",
       "      <th>param_models</th>\n",
       "    </tr>\n",
       "  </thead>\n",
       "  <tbody>\n",
       "    <tr>\n",
       "      <th>9</th>\n",
       "      <td>1</td>\n",
       "      <td>-16.043463</td>\n",
       "      <td>DecisionTreeRegressor(random_state=42)</td>\n",
       "    </tr>\n",
       "    <tr>\n",
       "      <th>3</th>\n",
       "      <td>2</td>\n",
       "      <td>-16.641018</td>\n",
       "      <td>DecisionTreeRegressor(random_state=42)</td>\n",
       "    </tr>\n",
       "    <tr>\n",
       "      <th>4</th>\n",
       "      <td>3</td>\n",
       "      <td>-17.135130</td>\n",
       "      <td>KNeighborsRegressor()</td>\n",
       "    </tr>\n",
       "    <tr>\n",
       "      <th>7</th>\n",
       "      <td>4</td>\n",
       "      <td>-17.524189</td>\n",
       "      <td>KNeighborsRegressor()</td>\n",
       "    </tr>\n",
       "    <tr>\n",
       "      <th>2</th>\n",
       "      <td>5</td>\n",
       "      <td>-18.453040</td>\n",
       "      <td>DecisionTreeRegressor(random_state=42)</td>\n",
       "    </tr>\n",
       "    <tr>\n",
       "      <th>6</th>\n",
       "      <td>6</td>\n",
       "      <td>-19.053702</td>\n",
       "      <td>KNeighborsRegressor()</td>\n",
       "    </tr>\n",
       "    <tr>\n",
       "      <th>1</th>\n",
       "      <td>7</td>\n",
       "      <td>-19.516116</td>\n",
       "      <td>KNeighborsRegressor()</td>\n",
       "    </tr>\n",
       "    <tr>\n",
       "      <th>0</th>\n",
       "      <td>8</td>\n",
       "      <td>-20.385289</td>\n",
       "      <td>KNeighborsRegressor()</td>\n",
       "    </tr>\n",
       "    <tr>\n",
       "      <th>5</th>\n",
       "      <td>9</td>\n",
       "      <td>-31.448270</td>\n",
       "      <td>KNeighborsRegressor()</td>\n",
       "    </tr>\n",
       "    <tr>\n",
       "      <th>8</th>\n",
       "      <td>10</td>\n",
       "      <td>-39.889769</td>\n",
       "      <td>SVR()</td>\n",
       "    </tr>\n",
       "  </tbody>\n",
       "</table>\n",
       "</div>"
      ],
      "text/plain": [
       "   rank_test_score  mean_test_score                            param_models\n",
       "9                1       -16.043463  DecisionTreeRegressor(random_state=42)\n",
       "3                2       -16.641018  DecisionTreeRegressor(random_state=42)\n",
       "4                3       -17.135130                   KNeighborsRegressor()\n",
       "7                4       -17.524189                   KNeighborsRegressor()\n",
       "2                5       -18.453040  DecisionTreeRegressor(random_state=42)\n",
       "6                6       -19.053702                   KNeighborsRegressor()\n",
       "1                7       -19.516116                   KNeighborsRegressor()\n",
       "0                8       -20.385289                   KNeighborsRegressor()\n",
       "5                9       -31.448270                   KNeighborsRegressor()\n",
       "8               10       -39.889769                                   SVR()"
      ]
     },
     "execution_count": 34,
     "metadata": {},
     "output_type": "execute_result"
    }
   ],
   "source": [
    "results = pd.DataFrame(randomized_search.cv_results_)\n",
    "results.sort_values(by='rank_test_score', inplace=True)\n",
    "display('Топ 10 лучших моделей:')\n",
    "results[['rank_test_score', 'mean_test_score', 'param_models']]\n",
    "#pd.set_option('display.max_colwidth', None)"
   ]
  },
  {
   "cell_type": "markdown",
   "id": "c907beaf-1299-4955-8f2f-eaf0dbb72bac",
   "metadata": {},
   "source": [
    "**Метрика отличная - `14.38`:**\n",
    "\n",
    "**Лучшая модель - `DecisionTreeRegressor`, в топ 10 выборку она попала `3 раза`, но лидер `kNN` - `6 раз`, но всё лучшая дерево решении. Гиперпараметры лучшей модели:**\n",
    "- models__min_samples_split: `2`;\n",
    "- models__max_depth: `15`;"
   ]
  },
  {
   "cell_type": "markdown",
   "id": "64de4fe3-4cc9-40bd-8d57-32480c8d129c",
   "metadata": {},
   "source": [
    "# Задача 2 - вероятность увольнения"
   ]
  },
  {
   "cell_type": "markdown",
   "id": "03bf404f-35c4-4b14-997a-1e7dc51e961f",
   "metadata": {},
   "source": [
    "## Исследовательский анализ"
   ]
  },
  {
   "cell_type": "markdown",
   "id": "fbe30e51-df6e-41f1-a9ad-7a4057d5feae",
   "metadata": {},
   "source": [
    "**Взглянем на распределения каждого признака в тренировочном датафрейме.**"
   ]
  },
  {
   "cell_type": "markdown",
   "id": "e56038be-5ccf-4c1a-99de-169b729aacad",
   "metadata": {},
   "source": [
    "### Количественные признаки"
   ]
  },
  {
   "cell_type": "code",
   "execution_count": 35,
   "id": "0f1af619-a3a2-46ee-b4b5-45ea784c5963",
   "metadata": {},
   "outputs": [
    {
     "data": {
      "image/png": "[encoded data removed]",
      "text/plain": [
       "<Figure size 1296x720 with 2 Axes>"
      ]
     },
     "metadata": {
      "needs_background": "light"
     },
     "output_type": "display_data"
    }
   ],
   "source": [
    "fig, axes = plt.subplots(1, 2, figsize=(18, 10))\n",
    "plt.subplots_adjust(hspace=0.4, wspace=0.3)\n",
    "\n",
    "plot_continuous(df_train_2, 'salary', axes[0], 15)\n",
    "\n",
    "df_train_2[['salary']].plot.box(ax=axes[1], vert=True)\n",
    "axes[1].set_title(f'Ящик с усами \"salary\"', fontsize=14)\n",
    "axes[1].set_ylabel('Значение', fontsize=12)\n",
    "axes[1].grid(alpha=0.3)\n",
    "\n",
    "plt.show()"
   ]
  },
  {
   "cell_type": "markdown",
   "id": "cf97ff5c-e788-4c7c-98dc-78e94737fd17",
   "metadata": {},
   "source": [
    "**Медианное значение ЗП - `33000`(в тестовых `30000`).**"
   ]
  },
  {
   "cell_type": "code",
   "execution_count": 36,
   "id": "76f27ed2-8303-4c86-a214-857fa6243383",
   "metadata": {},
   "outputs": [
    {
     "data": {
      "image/png": "[encoded data removed]",
      "text/plain": [
       "<Figure size 1296x648 with 2 Axes>"
      ]
     },
     "metadata": {
      "needs_background": "light"
     },
     "output_type": "display_data"
    }
   ],
   "source": [
    "fig, axes = plt.subplots(1, 2, figsize=(18, 9))\n",
    "\n",
    "plot_discrete(df_train_2, 'employment_years', axes[0])\n",
    "axes[0].set_xlabel('Длительность работы в компании', fontsize=12)\n",
    "plot_discrete(df_train_2, 'supervisor_evaluation', axes[1])\n",
    "axes[1].set_xlabel('Оценка руководителя', fontsize=12);"
   ]
  },
  {
   "cell_type": "markdown",
   "id": "04308ee6-7258-4d5d-be8a-f0f22104f2fd",
   "metadata": {},
   "source": [
    "- Большинство сотрудников не долго находятся в компании: `1-4 года`;\n",
    "- Самая частая оценка руководителя: `3-4`."
   ]
  },
  {
   "cell_type": "markdown",
   "id": "6581e322-3693-4d32-aa36-756ac0ff5d6b",
   "metadata": {},
   "source": [
    "### Категоиральные признаки"
   ]
  },
  {
   "cell_type": "code",
   "execution_count": 37,
   "id": "0d750d23-ad38-4bf3-989e-d8cff347040b",
   "metadata": {},
   "outputs": [
    {
     "data": {
      "image/png": "[encoded data removed]",
      "text/plain": [
       "<Figure size 1080x720 with 6 Axes>"
      ]
     },
     "metadata": {},
     "output_type": "display_data"
    }
   ],
   "source": [
    "fig, axes = plt.subplots(2, 3, figsize=(15, 10))\n",
    "\n",
    "def pie_plot(df, column, ax):\n",
    "    df_gr = df.groupby(column)[column].count()\n",
    "    df_gr.plot(kind='pie',\n",
    "               ylabel=(''),\n",
    "               autopct=lambda x: '{:.0f}'.format(x * sum(df_gr.values)/100),\n",
    "               ax=ax)\n",
    "\n",
    "pie_plot(df_train_2, 'dept', axes[0, 0])\n",
    "axes[0, 0].set_title('Отделы')\n",
    "pie_plot(df_train_2, 'level', axes[0, 1])\n",
    "axes[0, 1].set_title('Уровень должности')\n",
    "pie_plot(df_train_2, 'workload', axes[0, 2])\n",
    "axes[0, 2].set_title('Загруженность сотрудника')\n",
    "pie_plot(df_train_2, 'last_year_promo', axes[1, 0])\n",
    "axes[1, 0].set_title('Повышение за последний год')\n",
    "pie_plot(df_train_2, 'quit', axes[1, 1])\n",
    "axes[1, 1].set_title('Уволился')\n",
    "pie_plot(df_train_2, 'last_year_violations', axes[1, 2])\n",
    "axes[1, 2].set_title('Нарушение трудового договора за последний год');"
   ]
  },
  {
   "cell_type": "markdown",
   "id": "4f27c3d1-020a-4cdb-b699-3741113693f2",
   "metadata": {},
   "source": [
    "- Самый большой отдел: `sales`:\n",
    "- В основном в компании `middle`:\n",
    "- Большинство сотрудников загружены на уровне `medium`:\n",
    "- Из 2556 сотрудников за последний год повышение получили лишь `106` человек;\n",
    "- `655` сотрудников уволились;\n",
    "- `476` человек за последний год нарушили трудовой договор."
   ]
  },
  {
   "cell_type": "markdown",
   "id": "f5b6d8e1-72c6-43ee-bb64-4dac16d6d6f1",
   "metadata": {},
   "source": [
    "**Портрет среднестатистического сотрудника: ЗП - `33000`, довольны работой, находится в штате `1-4 года`, имеет оценку руководителя `3-4`, работает в отделе `sales` на должности `middle`, загружен на уровне `medium`, за последний год `не получал повышения` и `не нарушал трудовой договор`. Данные почти идентичны по отношению к тестовой выборке.**"
   ]
  },
  {
   "cell_type": "markdown",
   "id": "5737ba4d-b0cd-4cda-bd1d-2fa669cb91a2",
   "metadata": {},
   "source": [
    "### Портерт уволившегося сотрудника"
   ]
  },
  {
   "cell_type": "markdown",
   "id": "ac958957-bc2b-4476-aa38-cd54ed907b2a",
   "metadata": {},
   "source": [
    "**Посмотрим, в каком отделе работал уволившийся сотрудник, на сколько сильно был загружен, какую должность занимал и какую зарплату получал по сравнению с тем, кто остался.**"
   ]
  },
  {
   "cell_type": "code",
   "execution_count": 38,
   "id": "9c1f332c",
   "metadata": {},
   "outputs": [
    {
     "data": {
      "image/png": "[encoded data removed]",
      "text/plain": [
       "<Figure size 1296x360 with 3 Axes>"
      ]
     },
     "metadata": {
      "needs_background": "light"
     },
     "output_type": "display_data"
    }
   ],
   "source": [
    "def plot_quit_rates(df, column, ax):\n",
    "    total_counts = df_train_2.groupby(column).size()\n",
    "    \n",
    "    quit_counts = df_train_2[df_train_2['quit'] == 'yes'].groupby(column).size()\n",
    "    \n",
    "    quit_rates = (quit_counts / total_counts * 100)\n",
    "    \n",
    "    plot_df = quit_rates.reset_index()\n",
    "    plot_df.columns = [column, 'quit_rate']\n",
    "    \n",
    "    plot_df = plot_df.sort_values('quit_rate', ascending=False)\n",
    "    \n",
    "    plot_df.plot(kind='bar', x=column, y='quit_rate', ax=ax, legend=False)\n",
    "    ax.set_ylabel('Доля уволившихся (%)')\n",
    "    ax.set_title(f'Доля уволившихся по {column}')\n",
    "    ax.tick_params(axis='x', rotation=45)\n",
    "\n",
    "fig, axes = plt.subplots(1, 3, figsize=(18, 5))\n",
    "plot_quit_rates(df_train_2, 'dept', axes[0])\n",
    "plot_quit_rates(df_train_2, 'level', axes[1])\n",
    "plot_quit_rates(df_train_2, 'workload', axes[2])\n",
    "plt.suptitle('Анализ доли уволившихся сотрудников', y=1.05, fontsize=14)\n",
    "plt.tight_layout()\n",
    "plt.show()"
   ]
  },
  {
   "cell_type": "code",
   "execution_count": 39,
   "id": "e94bf935-bb98-4173-a910-0a73f5eb1657",
   "metadata": {},
   "outputs": [
    {
     "data": {
      "image/png": "[encoded data removed]",
      "text/plain": [
       "<Figure size 432x288 with 1 Axes>"
      ]
     },
     "metadata": {
      "needs_background": "light"
     },
     "output_type": "display_data"
    }
   ],
   "source": [
    "sns.scatterplot(\n",
    "    data=df_train_2,\n",
    "    x='salary',\n",
    "    y='quit',\n",
    "    hue='level',\n",
    "    palette='coolwarm',\n",
    "    s=80,\n",
    "    alpha=0.3\n",
    ")\n",
    "\n",
    "plt.title('Корреляция зарплаты и увольнения\\nпо уровням позиции', fontsize=16)\n",
    "plt.xlabel('ЗП', labelpad=14)\n",
    "plt.ylabel('Уволился', labelpad=14)\n",
    "\n",
    "plt.legend(title='Уровень', frameon=True);"
   ]
  },
  {
   "cell_type": "markdown",
   "id": "d18b1046-8353-4292-8234-ac49b8128ddb",
   "metadata": {},
   "source": [
    "**Наибольший отток сотрудников идёт на уровне `junior` - самая начальная позиция, соответсвенно у них самая низкая зарплата, не будем обращать внимания на `moddle` и `senior` позиции, такие увольнения редкость. Даже имея низкую или среднюю загруженность, сотрудник всё равно увольняется. По отделам аномалии не обнаружены - увольнения примерно одинаковы везде в процентном соотношении.**"
   ]
  },
  {
   "cell_type": "markdown",
   "id": "99a46426-5451-4f4d-8f50-93438618a395",
   "metadata": {},
   "source": [
    "### Уровень удовлетворенности и увольнении"
   ]
  },
  {
   "cell_type": "markdown",
   "id": "5c78d9d9-28c9-4719-b0d5-18248cb25853",
   "metadata": {},
   "source": [
    "**Аналитики утверждают, что уровень удовлетворённости сотрудника работой в компании влияет на то, уволится ли сотрудник. Проверим это утверждение: визуализируем и сравним распределения признака `job_satisfaction_rate` для ушедших и оставшихся сотрудников.**"
   ]
  },
  {
   "cell_type": "code",
   "execution_count": 40,
   "id": "460b8aad-e1dd-428e-b6d3-3a8c44f09750",
   "metadata": {},
   "outputs": [
    {
     "data": {
      "image/png": "[encoded data removed]",
      "text/plain": [
       "<Figure size 432x288 with 1 Axes>"
      ]
     },
     "metadata": {
      "needs_background": "light"
     },
     "output_type": "display_data"
    }
   ],
   "source": [
    "sns.histplot(data=df_all, x='job_satisfaction_rate', hue='quit',\n",
    "             kde=True, element='step', common_norm=False,\n",
    "             palette=['#1f77b4', '#ff7f0e'])\n",
    "plt.title('Распределение удовлетворённости и увольнений')\n",
    "plt.ylabel('Количество')\n",
    "plt.xlabel('Удовлетворённость')\n",
    "plt.tight_layout()\n",
    "plt.show()"
   ]
  },
  {
   "cell_type": "markdown",
   "id": "6cb53bb0-c884-479c-9219-e012798a5ce2",
   "metadata": {},
   "source": [
    "**Видна чёткая связь увольнений и неудовлетворённости сотрудников. В частности, сотрудники, которые довольны работой, остаются, в отличие от недовольных - большинство из них не довольны работой.**"
   ]
  },
  {
   "cell_type": "markdown",
   "id": "9d4cec73",
   "metadata": {},
   "source": [
    "## Подготовка данных и пайплайн"
   ]
  },
  {
   "cell_type": "markdown",
   "id": "be140748",
   "metadata": {},
   "source": [
    "**Так как целевой признак `1 задачи` связан с целевым признаком `2 задачи`, добавим `job_satisfaction_rate`, предсказанный лучшей моделью первой задачи, к входным признакам второй задачи.**"
   ]
  },
  {
   "cell_type": "code",
   "execution_count": 41,
   "id": "a35928d9",
   "metadata": {},
   "outputs": [],
   "source": [
    "X_train_2 = df_train_2.drop('quit', axis=1)\n",
    "y_train_2 = df_train_2['quit']\n",
    "X_test_2 = df_all.drop(['quit', 'job_satisfaction_rate'], axis=1)\n",
    "y_test_2 = df_all['quit']"
   ]
  },
  {
   "cell_type": "code",
   "execution_count": 42,
   "id": "d27dd149",
   "metadata": {},
   "outputs": [
    {
     "data": {
      "text/html": [
       "<div>\n",
       "<style scoped>\n",
       "    .dataframe tbody tr th:only-of-type {\n",
       "        vertical-align: middle;\n",
       "    }\n",
       "\n",
       "    .dataframe tbody tr th {\n",
       "        vertical-align: top;\n",
       "    }\n",
       "\n",
       "    .dataframe thead th {\n",
       "        text-align: right;\n",
       "    }\n",
       "</style>\n",
       "<table border=\"1\" class=\"dataframe\">\n",
       "  <thead>\n",
       "    <tr style=\"text-align: right;\">\n",
       "      <th></th>\n",
       "      <th>dept</th>\n",
       "      <th>level</th>\n",
       "      <th>workload</th>\n",
       "      <th>employment_years</th>\n",
       "      <th>last_year_promo</th>\n",
       "      <th>last_year_violations</th>\n",
       "      <th>supervisor_evaluation</th>\n",
       "      <th>salary</th>\n",
       "      <th>job_satisfaction_rate</th>\n",
       "    </tr>\n",
       "    <tr>\n",
       "      <th>id</th>\n",
       "      <th></th>\n",
       "      <th></th>\n",
       "      <th></th>\n",
       "      <th></th>\n",
       "      <th></th>\n",
       "      <th></th>\n",
       "      <th></th>\n",
       "      <th></th>\n",
       "      <th></th>\n",
       "    </tr>\n",
       "  </thead>\n",
       "  <tbody>\n",
       "    <tr>\n",
       "      <th>723290</th>\n",
       "      <td>sales</td>\n",
       "      <td>middle</td>\n",
       "      <td>high</td>\n",
       "      <td>2</td>\n",
       "      <td>no</td>\n",
       "      <td>no</td>\n",
       "      <td>4</td>\n",
       "      <td>54000</td>\n",
       "      <td>0.656538</td>\n",
       "    </tr>\n",
       "    <tr>\n",
       "      <th>814010</th>\n",
       "      <td>sales</td>\n",
       "      <td>junior</td>\n",
       "      <td>medium</td>\n",
       "      <td>2</td>\n",
       "      <td>no</td>\n",
       "      <td>no</td>\n",
       "      <td>4</td>\n",
       "      <td>27600</td>\n",
       "      <td>0.851538</td>\n",
       "    </tr>\n",
       "    <tr>\n",
       "      <th>155091</th>\n",
       "      <td>purchasing</td>\n",
       "      <td>middle</td>\n",
       "      <td>medium</td>\n",
       "      <td>5</td>\n",
       "      <td>no</td>\n",
       "      <td>no</td>\n",
       "      <td>1</td>\n",
       "      <td>37200</td>\n",
       "      <td>0.380000</td>\n",
       "    </tr>\n",
       "    <tr>\n",
       "      <th>257132</th>\n",
       "      <td>sales</td>\n",
       "      <td>junior</td>\n",
       "      <td>medium</td>\n",
       "      <td>2</td>\n",
       "      <td>no</td>\n",
       "      <td>yes</td>\n",
       "      <td>3</td>\n",
       "      <td>24000</td>\n",
       "      <td>0.380000</td>\n",
       "    </tr>\n",
       "    <tr>\n",
       "      <th>910140</th>\n",
       "      <td>marketing</td>\n",
       "      <td>junior</td>\n",
       "      <td>medium</td>\n",
       "      <td>2</td>\n",
       "      <td>no</td>\n",
       "      <td>no</td>\n",
       "      <td>5</td>\n",
       "      <td>25200</td>\n",
       "      <td>0.690000</td>\n",
       "    </tr>\n",
       "  </tbody>\n",
       "</table>\n",
       "</div>"
      ],
      "text/plain": [
       "              dept   level workload  employment_years last_year_promo  \\\n",
       "id                                                                      \n",
       "723290       sales  middle     high                 2              no   \n",
       "814010       sales  junior   medium                 2              no   \n",
       "155091  purchasing  middle   medium                 5              no   \n",
       "257132       sales  junior   medium                 2              no   \n",
       "910140   marketing  junior   medium                 2              no   \n",
       "\n",
       "       last_year_violations  supervisor_evaluation  salary  \\\n",
       "id                                                           \n",
       "723290                   no                      4   54000   \n",
       "814010                   no                      4   27600   \n",
       "155091                   no                      1   37200   \n",
       "257132                  yes                      3   24000   \n",
       "910140                   no                      5   25200   \n",
       "\n",
       "        job_satisfaction_rate  \n",
       "id                             \n",
       "723290               0.656538  \n",
       "814010               0.851538  \n",
       "155091               0.380000  \n",
       "257132               0.380000  \n",
       "910140               0.690000  "
      ]
     },
     "execution_count": 42,
     "metadata": {},
     "output_type": "execute_result"
    }
   ],
   "source": [
    "y_pred_1_2 = randomized_search.predict(X_train_2)\n",
    "X_train_2['job_satisfaction_rate'] = y_pred_1_2\n",
    "X_test_2['job_satisfaction_rate'] = y_test_pred_1\n",
    "\n",
    "X_train_2.head()"
   ]
  },
  {
   "cell_type": "markdown",
   "id": "72022f70",
   "metadata": {},
   "source": [
    "**Теперь подготовим пайплайн для задачи классификации, сильных различии с прошлым пайплайном не будет, поменялись только модели и метрика: `KNeighborsClassifier`, `DecisionTreeClassifier`, `LogisticRegression` и `SVC`, метрика - `ROC-AUC`.**"
   ]
  },
  {
   "cell_type": "code",
   "execution_count": 43,
   "id": "2358195f-28b7-4966-a1b0-e817f71ceba6",
   "metadata": {},
   "outputs": [],
   "source": [
    "RANDOM_STATE=42\n",
    "\n",
    "num_col = ['salary', 'job_satisfaction_rate']\n",
    "\n",
    "le = LabelEncoder()\n",
    "y_train_2 = le.fit_transform(y_train_2)\n",
    "y_test_2 = le.transform(y_test_2)\n",
    "\n",
    "data_preprocessor = ColumnTransformer([       #пайплайн для масштабирования и кодирования\n",
    "    ('ohe', pipe_ohe, ohe_col),\n",
    "    ('ord', pipe_ord, ord_col),\n",
    "    ('num', MinMaxScaler(), num_col)],\n",
    "    remainder = 'passthrough')\n",
    "\n",
    "pipe_final = Pipeline([                       #итоговый пайплайн\n",
    "    ('preprocessor', data_preprocessor),\n",
    "    ('models', None)\n",
    "])\n",
    "\n",
    "param_grid_2 = [\n",
    "    {\n",
    "    'models': [KNeighborsClassifier()],\n",
    "    'models__n_neighbors': range(2, 40),\n",
    "    'models__weights': ['uniform', 'distance'],\n",
    "#    'models__metric': ['euclidean', 'manhattan', 'cosine'],\n",
    "    'preprocessor__num': [StandardScaler(), MinMaxScaler(), 'passthrough']\n",
    "    },\n",
    "\n",
    "    {\n",
    "    'models': [DecisionTreeClassifier(random_state=RANDOM_STATE)],\n",
    "    'models__max_depth': range(3, 20),\n",
    "    'models__min_samples_split': [2, 5, 10],\n",
    "    'models__class_weight': ['balanced', None],\n",
    "    'preprocessor__num': [StandardScaler(), MinMaxScaler(), 'passthrough']\n",
    "    },\n",
    "\n",
    "    {\n",
    "    'models': [LogisticRegression(random_state=RANDOM_STATE)],\n",
    "    'models__penalty': ['l1', 'l2'],\n",
    "    'models__solver': ['liblinear', 'saga'],\n",
    "    'preprocessor__num': [StandardScaler(), MinMaxScaler(), 'passthrough']\n",
    "    },\n",
    "\n",
    "    {\n",
    "    'models': [SVC(random_state=RANDOM_STATE, probability=True)],\n",
    "    'models__kernel': ['linear', 'rbf', 'poly'],\n",
    "    'models__gamma': ['scale', 'auto', 0.01, 0.1],\n",
    "    'models__degree': [2, 3, 4],\n",
    "    'preprocessor__num': [StandardScaler(), MinMaxScaler(), 'passthrough']\n",
    "    }\n",
    "]"
   ]
  },
  {
   "cell_type": "markdown",
   "id": "964ad85c",
   "metadata": {},
   "source": [
    "**В данной задаче метрика будет `ROC_AUC`.**"
   ]
  },
  {
   "cell_type": "code",
   "execution_count": 44,
   "id": "c2393781",
   "metadata": {},
   "outputs": [],
   "source": [
    "randomized_search = RandomizedSearchCV(\n",
    "    pipe_final,\n",
    "    param_grid_2,\n",
    "    scoring='roc_auc',\n",
    "    cv=5,\n",
    "    n_jobs=-1,\n",
    "    random_state=RANDOM_STATE\n",
    ")"
   ]
  },
  {
   "cell_type": "markdown",
   "id": "23422bc7",
   "metadata": {},
   "source": [
    "**Обучим модель.**"
   ]
  },
  {
   "cell_type": "code",
   "execution_count": 45,
   "id": "450dfe69",
   "metadata": {
    "scrolled": true
   },
   "outputs": [
    {
     "data": {
      "text/plain": [
       "'Лучшая модель:'"
      ]
     },
     "metadata": {},
     "output_type": "display_data"
    },
    {
     "data": {
      "text/html": [
       "<style>#sk-container-id-1 {\n",
       "  /* Definition of color scheme common for light and dark mode */\n",
       "  --sklearn-color-text: #000;\n",
       "  --sklearn-color-text-muted: #666;\n",
       "  --sklearn-color-line: gray;\n",
       "  /* Definition of color scheme for unfitted estimators */\n",
       "  --sklearn-color-unfitted-level-0: #fff5e6;\n",
       "  --sklearn-color-unfitted-level-1: #f6e4d2;\n",
       "  --sklearn-color-unfitted-level-2: #ffe0b3;\n",
       "  --sklearn-color-unfitted-level-3: chocolate;\n",
       "  /* Definition of color scheme for fitted estimators */\n",
       "  --sklearn-color-fitted-level-0: #f0f8ff;\n",
       "  --sklearn-color-fitted-level-1: #d4ebff;\n",
       "  --sklearn-color-fitted-level-2: #b3dbfd;\n",
       "  --sklearn-color-fitted-level-3: cornflowerblue;\n",
       "\n",
       "  /* Specific color for light theme */\n",
       "  --sklearn-color-text-on-default-background: var(--sg-text-color, var(--theme-code-foreground, var(--jp-content-font-color1, black)));\n",
       "  --sklearn-color-background: var(--sg-background-color, var(--theme-background, var(--jp-layout-color0, white)));\n",
       "  --sklearn-color-border-box: var(--sg-text-color, var(--theme-code-foreground, var(--jp-content-font-color1, black)));\n",
       "  --sklearn-color-icon: #696969;\n",
       "\n",
       "  @media (prefers-color-scheme: dark) {\n",
       "    /* Redefinition of color scheme for dark theme */\n",
       "    --sklearn-color-text-on-default-background: var(--sg-text-color, var(--theme-code-foreground, var(--jp-content-font-color1, white)));\n",
       "    --sklearn-color-background: var(--sg-background-color, var(--theme-background, var(--jp-layout-color0, #111)));\n",
       "    --sklearn-color-border-box: var(--sg-text-color, var(--theme-code-foreground, var(--jp-content-font-color1, white)));\n",
       "    --sklearn-color-icon: #878787;\n",
       "  }\n",
       "}\n",
       "\n",
       "#sk-container-id-1 {\n",
       "  color: var(--sklearn-color-text);\n",
       "}\n",
       "\n",
       "#sk-container-id-1 pre {\n",
       "  padding: 0;\n",
       "}\n",
       "\n",
       "#sk-container-id-1 input.sk-hidden--visually {\n",
       "  border: 0;\n",
       "  clip: rect(1px 1px 1px 1px);\n",
       "  clip: rect(1px, 1px, 1px, 1px);\n",
       "  height: 1px;\n",
       "  margin: -1px;\n",
       "  overflow: hidden;\n",
       "  padding: 0;\n",
       "  position: absolute;\n",
       "  width: 1px;\n",
       "}\n",
       "\n",
       "#sk-container-id-1 div.sk-dashed-wrapped {\n",
       "  border: 1px dashed var(--sklearn-color-line);\n",
       "  margin: 0 0.4em 0.5em 0.4em;\n",
       "  box-sizing: border-box;\n",
       "  padding-bottom: 0.4em;\n",
       "  background-color: var(--sklearn-color-background);\n",
       "}\n",
       "\n",
       "#sk-container-id-1 div.sk-container {\n",
       "  /* jupyter's `normalize.less` sets `[hidden] { display: none; }`\n",
       "     but bootstrap.min.css set `[hidden] { display: none !important; }`\n",
       "     so we also need the `!important` here to be able to override the\n",
       "     default hidden behavior on the sphinx rendered scikit-learn.org.\n",
       "     See: https://github.com/scikit-learn/scikit-learn/issues/21755 */\n",
       "  display: inline-block !important;\n",
       "  position: relative;\n",
       "}\n",
       "\n",
       "#sk-container-id-1 div.sk-text-repr-fallback {\n",
       "  display: none;\n",
       "}\n",
       "\n",
       "div.sk-parallel-item,\n",
       "div.sk-serial,\n",
       "div.sk-item {\n",
       "  /* draw centered vertical line to link estimators */\n",
       "  background-image: linear-gradient(var(--sklearn-color-text-on-default-background), var(--sklearn-color-text-on-default-background));\n",
       "  background-size: 2px 100%;\n",
       "  background-repeat: no-repeat;\n",
       "  background-position: center center;\n",
       "}\n",
       "\n",
       "/* Parallel-specific style estimator block */\n",
       "\n",
       "#sk-container-id-1 div.sk-parallel-item::after {\n",
       "  content: \"\";\n",
       "  width: 100%;\n",
       "  border-bottom: 2px solid var(--sklearn-color-text-on-default-background);\n",
       "  flex-grow: 1;\n",
       "}\n",
       "\n",
       "#sk-container-id-1 div.sk-parallel {\n",
       "  display: flex;\n",
       "  align-items: stretch;\n",
       "  justify-content: center;\n",
       "  background-color: var(--sklearn-color-background);\n",
       "  position: relative;\n",
       "}\n",
       "\n",
       "#sk-container-id-1 div.sk-parallel-item {\n",
       "  display: flex;\n",
       "  flex-direction: column;\n",
       "}\n",
       "\n",
       "#sk-container-id-1 div.sk-parallel-item:first-child::after {\n",
       "  align-self: flex-end;\n",
       "  width: 50%;\n",
       "}\n",
       "\n",
       "#sk-container-id-1 div.sk-parallel-item:last-child::after {\n",
       "  align-self: flex-start;\n",
       "  width: 50%;\n",
       "}\n",
       "\n",
       "#sk-container-id-1 div.sk-parallel-item:only-child::after {\n",
       "  width: 0;\n",
       "}\n",
       "\n",
       "/* Serial-specific style estimator block */\n",
       "\n",
       "#sk-container-id-1 div.sk-serial {\n",
       "  display: flex;\n",
       "  flex-direction: column;\n",
       "  align-items: center;\n",
       "  background-color: var(--sklearn-color-background);\n",
       "  padding-right: 1em;\n",
       "  padding-left: 1em;\n",
       "}\n",
       "\n",
       "\n",
       "/* Toggleable style: style used for estimator/Pipeline/ColumnTransformer box that is\n",
       "clickable and can be expanded/collapsed.\n",
       "- Pipeline and ColumnTransformer use this feature and define the default style\n",
       "- Estimators will overwrite some part of the style using the `sk-estimator` class\n",
       "*/\n",
       "\n",
       "/* Pipeline and ColumnTransformer style (default) */\n",
       "\n",
       "#sk-container-id-1 div.sk-toggleable {\n",
       "  /* Default theme specific background. It is overwritten whether we have a\n",
       "  specific estimator or a Pipeline/ColumnTransformer */\n",
       "  background-color: var(--sklearn-color-background);\n",
       "}\n",
       "\n",
       "/* Toggleable label */\n",
       "#sk-container-id-1 label.sk-toggleable__label {\n",
       "  cursor: pointer;\n",
       "  display: flex;\n",
       "  width: 100%;\n",
       "  margin-bottom: 0;\n",
       "  padding: 0.5em;\n",
       "  box-sizing: border-box;\n",
       "  text-align: center;\n",
       "  align-items: start;\n",
       "  justify-content: space-between;\n",
       "  gap: 0.5em;\n",
       "}\n",
       "\n",
       "#sk-container-id-1 label.sk-toggleable__label .caption {\n",
       "  font-size: 0.6rem;\n",
       "  font-weight: lighter;\n",
       "  color: var(--sklearn-color-text-muted);\n",
       "}\n",
       "\n",
       "#sk-container-id-1 label.sk-toggleable__label-arrow:before {\n",
       "  /* Arrow on the left of the label */\n",
       "  content: \"▸\";\n",
       "  float: left;\n",
       "  margin-right: 0.25em;\n",
       "  color: var(--sklearn-color-icon);\n",
       "}\n",
       "\n",
       "#sk-container-id-1 label.sk-toggleable__label-arrow:hover:before {\n",
       "  color: var(--sklearn-color-text);\n",
       "}\n",
       "\n",
       "/* Toggleable content - dropdown */\n",
       "\n",
       "#sk-container-id-1 div.sk-toggleable__content {\n",
       "  max-height: 0;\n",
       "  max-width: 0;\n",
       "  overflow: hidden;\n",
       "  text-align: left;\n",
       "  /* unfitted */\n",
       "  background-color: var(--sklearn-color-unfitted-level-0);\n",
       "}\n",
       "\n",
       "#sk-container-id-1 div.sk-toggleable__content.fitted {\n",
       "  /* fitted */\n",
       "  background-color: var(--sklearn-color-fitted-level-0);\n",
       "}\n",
       "\n",
       "#sk-container-id-1 div.sk-toggleable__content pre {\n",
       "  margin: 0.2em;\n",
       "  border-radius: 0.25em;\n",
       "  color: var(--sklearn-color-text);\n",
       "  /* unfitted */\n",
       "  background-color: var(--sklearn-color-unfitted-level-0);\n",
       "}\n",
       "\n",
       "#sk-container-id-1 div.sk-toggleable__content.fitted pre {\n",
       "  /* unfitted */\n",
       "  background-color: var(--sklearn-color-fitted-level-0);\n",
       "}\n",
       "\n",
       "#sk-container-id-1 input.sk-toggleable__control:checked~div.sk-toggleable__content {\n",
       "  /* Expand drop-down */\n",
       "  max-height: 200px;\n",
       "  max-width: 100%;\n",
       "  overflow: auto;\n",
       "}\n",
       "\n",
       "#sk-container-id-1 input.sk-toggleable__control:checked~label.sk-toggleable__label-arrow:before {\n",
       "  content: \"▾\";\n",
       "}\n",
       "\n",
       "/* Pipeline/ColumnTransformer-specific style */\n",
       "\n",
       "#sk-container-id-1 div.sk-label input.sk-toggleable__control:checked~label.sk-toggleable__label {\n",
       "  color: var(--sklearn-color-text);\n",
       "  background-color: var(--sklearn-color-unfitted-level-2);\n",
       "}\n",
       "\n",
       "#sk-container-id-1 div.sk-label.fitted input.sk-toggleable__control:checked~label.sk-toggleable__label {\n",
       "  background-color: var(--sklearn-color-fitted-level-2);\n",
       "}\n",
       "\n",
       "/* Estimator-specific style */\n",
       "\n",
       "/* Colorize estimator box */\n",
       "#sk-container-id-1 div.sk-estimator input.sk-toggleable__control:checked~label.sk-toggleable__label {\n",
       "  /* unfitted */\n",
       "  background-color: var(--sklearn-color-unfitted-level-2);\n",
       "}\n",
       "\n",
       "#sk-container-id-1 div.sk-estimator.fitted input.sk-toggleable__control:checked~label.sk-toggleable__label {\n",
       "  /* fitted */\n",
       "  background-color: var(--sklearn-color-fitted-level-2);\n",
       "}\n",
       "\n",
       "#sk-container-id-1 div.sk-label label.sk-toggleable__label,\n",
       "#sk-container-id-1 div.sk-label label {\n",
       "  /* The background is the default theme color */\n",
       "  color: var(--sklearn-color-text-on-default-background);\n",
       "}\n",
       "\n",
       "/* On hover, darken the color of the background */\n",
       "#sk-container-id-1 div.sk-label:hover label.sk-toggleable__label {\n",
       "  color: var(--sklearn-color-text);\n",
       "  background-color: var(--sklearn-color-unfitted-level-2);\n",
       "}\n",
       "\n",
       "/* Label box, darken color on hover, fitted */\n",
       "#sk-container-id-1 div.sk-label.fitted:hover label.sk-toggleable__label.fitted {\n",
       "  color: var(--sklearn-color-text);\n",
       "  background-color: var(--sklearn-color-fitted-level-2);\n",
       "}\n",
       "\n",
       "/* Estimator label */\n",
       "\n",
       "#sk-container-id-1 div.sk-label label {\n",
       "  font-family: monospace;\n",
       "  font-weight: bold;\n",
       "  display: inline-block;\n",
       "  line-height: 1.2em;\n",
       "}\n",
       "\n",
       "#sk-container-id-1 div.sk-label-container {\n",
       "  text-align: center;\n",
       "}\n",
       "\n",
       "/* Estimator-specific */\n",
       "#sk-container-id-1 div.sk-estimator {\n",
       "  font-family: monospace;\n",
       "  border: 1px dotted var(--sklearn-color-border-box);\n",
       "  border-radius: 0.25em;\n",
       "  box-sizing: border-box;\n",
       "  margin-bottom: 0.5em;\n",
       "  /* unfitted */\n",
       "  background-color: var(--sklearn-color-unfitted-level-0);\n",
       "}\n",
       "\n",
       "#sk-container-id-1 div.sk-estimator.fitted {\n",
       "  /* fitted */\n",
       "  background-color: var(--sklearn-color-fitted-level-0);\n",
       "}\n",
       "\n",
       "/* on hover */\n",
       "#sk-container-id-1 div.sk-estimator:hover {\n",
       "  /* unfitted */\n",
       "  background-color: var(--sklearn-color-unfitted-level-2);\n",
       "}\n",
       "\n",
       "#sk-container-id-1 div.sk-estimator.fitted:hover {\n",
       "  /* fitted */\n",
       "  background-color: var(--sklearn-color-fitted-level-2);\n",
       "}\n",
       "\n",
       "/* Specification for estimator info (e.g. \"i\" and \"?\") */\n",
       "\n",
       "/* Common style for \"i\" and \"?\" */\n",
       "\n",
       ".sk-estimator-doc-link,\n",
       "a:link.sk-estimator-doc-link,\n",
       "a:visited.sk-estimator-doc-link {\n",
       "  float: right;\n",
       "  font-size: smaller;\n",
       "  line-height: 1em;\n",
       "  font-family: monospace;\n",
       "  background-color: var(--sklearn-color-background);\n",
       "  border-radius: 1em;\n",
       "  height: 1em;\n",
       "  width: 1em;\n",
       "  text-decoration: none !important;\n",
       "  margin-left: 0.5em;\n",
       "  text-align: center;\n",
       "  /* unfitted */\n",
       "  border: var(--sklearn-color-unfitted-level-1) 1pt solid;\n",
       "  color: var(--sklearn-color-unfitted-level-1);\n",
       "}\n",
       "\n",
       ".sk-estimator-doc-link.fitted,\n",
       "a:link.sk-estimator-doc-link.fitted,\n",
       "a:visited.sk-estimator-doc-link.fitted {\n",
       "  /* fitted */\n",
       "  border: var(--sklearn-color-fitted-level-1) 1pt solid;\n",
       "  color: var(--sklearn-color-fitted-level-1);\n",
       "}\n",
       "\n",
       "/* On hover */\n",
       "div.sk-estimator:hover .sk-estimator-doc-link:hover,\n",
       ".sk-estimator-doc-link:hover,\n",
       "div.sk-label-container:hover .sk-estimator-doc-link:hover,\n",
       ".sk-estimator-doc-link:hover {\n",
       "  /* unfitted */\n",
       "  background-color: var(--sklearn-color-unfitted-level-3);\n",
       "  color: var(--sklearn-color-background);\n",
       "  text-decoration: none;\n",
       "}\n",
       "\n",
       "div.sk-estimator.fitted:hover .sk-estimator-doc-link.fitted:hover,\n",
       ".sk-estimator-doc-link.fitted:hover,\n",
       "div.sk-label-container:hover .sk-estimator-doc-link.fitted:hover,\n",
       ".sk-estimator-doc-link.fitted:hover {\n",
       "  /* fitted */\n",
       "  background-color: var(--sklearn-color-fitted-level-3);\n",
       "  color: var(--sklearn-color-background);\n",
       "  text-decoration: none;\n",
       "}\n",
       "\n",
       "/* Span, style for the box shown on hovering the info icon */\n",
       ".sk-estimator-doc-link span {\n",
       "  display: none;\n",
       "  z-index: 9999;\n",
       "  position: relative;\n",
       "  font-weight: normal;\n",
       "  right: .2ex;\n",
       "  padding: .5ex;\n",
       "  margin: .5ex;\n",
       "  width: min-content;\n",
       "  min-width: 20ex;\n",
       "  max-width: 50ex;\n",
       "  color: var(--sklearn-color-text);\n",
       "  box-shadow: 2pt 2pt 4pt #999;\n",
       "  /* unfitted */\n",
       "  background: var(--sklearn-color-unfitted-level-0);\n",
       "  border: .5pt solid var(--sklearn-color-unfitted-level-3);\n",
       "}\n",
       "\n",
       ".sk-estimator-doc-link.fitted span {\n",
       "  /* fitted */\n",
       "  background: var(--sklearn-color-fitted-level-0);\n",
       "  border: var(--sklearn-color-fitted-level-3);\n",
       "}\n",
       "\n",
       ".sk-estimator-doc-link:hover span {\n",
       "  display: block;\n",
       "}\n",
       "\n",
       "/* \"?\"-specific style due to the `<a>` HTML tag */\n",
       "\n",
       "#sk-container-id-1 a.estimator_doc_link {\n",
       "  float: right;\n",
       "  font-size: 1rem;\n",
       "  line-height: 1em;\n",
       "  font-family: monospace;\n",
       "  background-color: var(--sklearn-color-background);\n",
       "  border-radius: 1rem;\n",
       "  height: 1rem;\n",
       "  width: 1rem;\n",
       "  text-decoration: none;\n",
       "  /* unfitted */\n",
       "  color: var(--sklearn-color-unfitted-level-1);\n",
       "  border: var(--sklearn-color-unfitted-level-1) 1pt solid;\n",
       "}\n",
       "\n",
       "#sk-container-id-1 a.estimator_doc_link.fitted {\n",
       "  /* fitted */\n",
       "  border: var(--sklearn-color-fitted-level-1) 1pt solid;\n",
       "  color: var(--sklearn-color-fitted-level-1);\n",
       "}\n",
       "\n",
       "/* On hover */\n",
       "#sk-container-id-1 a.estimator_doc_link:hover {\n",
       "  /* unfitted */\n",
       "  background-color: var(--sklearn-color-unfitted-level-3);\n",
       "  color: var(--sklearn-color-background);\n",
       "  text-decoration: none;\n",
       "}\n",
       "\n",
       "#sk-container-id-1 a.estimator_doc_link.fitted:hover {\n",
       "  /* fitted */\n",
       "  background-color: var(--sklearn-color-fitted-level-3);\n",
       "}\n",
       "</style><div id=\"sk-container-id-1\" class=\"sk-top-container\"><div class=\"sk-text-repr-fallback\"><pre>Pipeline(steps=[(&#x27;preprocessor&#x27;,\n",
       "                 ColumnTransformer(remainder=&#x27;passthrough&#x27;,\n",
       "                                   transformers=[(&#x27;ohe&#x27;,\n",
       "                                                  Pipeline(steps=[(&#x27;replace_space&#x27;,\n",
       "                                                                   FunctionTransformer(func=&lt;function &lt;lambda&gt; at 0x7f800c9028b0&gt;)),\n",
       "                                                                  (&#x27;simpleImputer_ohe_2&#x27;,\n",
       "                                                                   SimpleImputer(strategy=&#x27;most_frequent&#x27;)),\n",
       "                                                                  (&#x27;ohe&#x27;,\n",
       "                                                                   OneHotEncoder(drop=&#x27;first&#x27;,\n",
       "                                                                                 handle_unknown=&#x27;ignore&#x27;,\n",
       "                                                                                 sparse_output=False))]),\n",
       "                                                  [&#x27;dept&#x27;]),\n",
       "                                                 (&#x27;or...\n",
       "                                                                                               3,\n",
       "                                                                                               4,\n",
       "                                                                                               5]],\n",
       "                                                                                  handle_unknown=&#x27;use_encoded_value&#x27;,\n",
       "                                                                                  unknown_value=nan)),\n",
       "                                                                  (&#x27;simpleImputer_after_ord&#x27;,\n",
       "                                                                   SimpleImputer(strategy=&#x27;most_frequent&#x27;))]),\n",
       "                                                  [&#x27;level&#x27;, &#x27;workload&#x27;,\n",
       "                                                   &#x27;last_year_promo&#x27;,\n",
       "                                                   &#x27;last_year_violations&#x27;,\n",
       "                                                   &#x27;employment_years&#x27;,\n",
       "                                                   &#x27;supervisor_evaluation&#x27;]),\n",
       "                                                 (&#x27;num&#x27;, StandardScaler(),\n",
       "                                                  [&#x27;salary&#x27;,\n",
       "                                                   &#x27;job_satisfaction_rate&#x27;])])),\n",
       "                (&#x27;models&#x27;, KNeighborsClassifier(n_neighbors=15))])</pre><b>In a Jupyter environment, please rerun this cell to show the HTML representation or trust the notebook. <br />On GitHub, the HTML representation is unable to render, please try loading this page with nbviewer.org.</b></div><div class=\"sk-container\" hidden><div class=\"sk-item sk-dashed-wrapped\"><div class=\"sk-label-container\"><div class=\"sk-label fitted sk-toggleable\"><input class=\"sk-toggleable__control sk-hidden--visually\" id=\"sk-estimator-id-1\" type=\"checkbox\" ><label for=\"sk-estimator-id-1\" class=\"sk-toggleable__label fitted sk-toggleable__label-arrow\"><div><div>Pipeline</div></div><div><a class=\"sk-estimator-doc-link fitted\" rel=\"noreferrer\" target=\"_blank\" href=\"https://scikit-learn.org/1.6/modules/generated/sklearn.pipeline.Pipeline.html\">?<span>Documentation for Pipeline</span></a><span class=\"sk-estimator-doc-link fitted\">i<span>Fitted</span></span></div></label><div class=\"sk-toggleable__content fitted\"><pre>Pipeline(steps=[(&#x27;preprocessor&#x27;,\n",
       "                 ColumnTransformer(remainder=&#x27;passthrough&#x27;,\n",
       "                                   transformers=[(&#x27;ohe&#x27;,\n",
       "                                                  Pipeline(steps=[(&#x27;replace_space&#x27;,\n",
       "                                                                   FunctionTransformer(func=&lt;function &lt;lambda&gt; at 0x7f800c9028b0&gt;)),\n",
       "                                                                  (&#x27;simpleImputer_ohe_2&#x27;,\n",
       "                                                                   SimpleImputer(strategy=&#x27;most_frequent&#x27;)),\n",
       "                                                                  (&#x27;ohe&#x27;,\n",
       "                                                                   OneHotEncoder(drop=&#x27;first&#x27;,\n",
       "                                                                                 handle_unknown=&#x27;ignore&#x27;,\n",
       "                                                                                 sparse_output=False))]),\n",
       "                                                  [&#x27;dept&#x27;]),\n",
       "                                                 (&#x27;or...\n",
       "                                                                                               3,\n",
       "                                                                                               4,\n",
       "                                                                                               5]],\n",
       "                                                                                  handle_unknown=&#x27;use_encoded_value&#x27;,\n",
       "                                                                                  unknown_value=nan)),\n",
       "                                                                  (&#x27;simpleImputer_after_ord&#x27;,\n",
       "                                                                   SimpleImputer(strategy=&#x27;most_frequent&#x27;))]),\n",
       "                                                  [&#x27;level&#x27;, &#x27;workload&#x27;,\n",
       "                                                   &#x27;last_year_promo&#x27;,\n",
       "                                                   &#x27;last_year_violations&#x27;,\n",
       "                                                   &#x27;employment_years&#x27;,\n",
       "                                                   &#x27;supervisor_evaluation&#x27;]),\n",
       "                                                 (&#x27;num&#x27;, StandardScaler(),\n",
       "                                                  [&#x27;salary&#x27;,\n",
       "                                                   &#x27;job_satisfaction_rate&#x27;])])),\n",
       "                (&#x27;models&#x27;, KNeighborsClassifier(n_neighbors=15))])</pre></div> </div></div><div class=\"sk-serial\"><div class=\"sk-item sk-dashed-wrapped\"><div class=\"sk-label-container\"><div class=\"sk-label fitted sk-toggleable\"><input class=\"sk-toggleable__control sk-hidden--visually\" id=\"sk-estimator-id-2\" type=\"checkbox\" ><label for=\"sk-estimator-id-2\" class=\"sk-toggleable__label fitted sk-toggleable__label-arrow\"><div><div>preprocessor: ColumnTransformer</div></div><div><a class=\"sk-estimator-doc-link fitted\" rel=\"noreferrer\" target=\"_blank\" href=\"https://scikit-learn.org/1.6/modules/generated/sklearn.compose.ColumnTransformer.html\">?<span>Documentation for preprocessor: ColumnTransformer</span></a></div></label><div class=\"sk-toggleable__content fitted\"><pre>ColumnTransformer(remainder=&#x27;passthrough&#x27;,\n",
       "                  transformers=[(&#x27;ohe&#x27;,\n",
       "                                 Pipeline(steps=[(&#x27;replace_space&#x27;,\n",
       "                                                  FunctionTransformer(func=&lt;function &lt;lambda&gt; at 0x7f800c9028b0&gt;)),\n",
       "                                                 (&#x27;simpleImputer_ohe_2&#x27;,\n",
       "                                                  SimpleImputer(strategy=&#x27;most_frequent&#x27;)),\n",
       "                                                 (&#x27;ohe&#x27;,\n",
       "                                                  OneHotEncoder(drop=&#x27;first&#x27;,\n",
       "                                                                handle_unknown=&#x27;ignore&#x27;,\n",
       "                                                                sparse_output=False))]),\n",
       "                                 [&#x27;dept&#x27;]),\n",
       "                                (&#x27;ord&#x27;,\n",
       "                                 Pipeline(steps=[(&#x27;simpleImput...\n",
       "                                                                             [&#x27;no&#x27;,\n",
       "                                                                              &#x27;yes&#x27;],\n",
       "                                                                             [&#x27;no&#x27;,\n",
       "                                                                              &#x27;yes&#x27;],\n",
       "                                                                             [1,\n",
       "                                                                              2,\n",
       "                                                                              3,\n",
       "                                                                              4,\n",
       "                                                                              5,\n",
       "                                                                              6,\n",
       "                                                                              7,\n",
       "                                                                              8,\n",
       "                                                                              9,\n",
       "                                                                              10],\n",
       "                                                                             [1,\n",
       "                                                                              2,\n",
       "                                                                              3,\n",
       "                                                                              4,\n",
       "                                                                              5]],\n",
       "                                                                 handle_unknown=&#x27;use_encoded_value&#x27;,\n",
       "                                                                 unknown_value=nan)),\n",
       "                                                 (&#x27;simpleImputer_after_ord&#x27;,\n",
       "                                                  SimpleImputer(strategy=&#x27;most_frequent&#x27;))]),\n",
       "                                 [&#x27;level&#x27;, &#x27;workload&#x27;, &#x27;last_year_promo&#x27;,\n",
       "                                  &#x27;last_year_violations&#x27;, &#x27;employment_years&#x27;,\n",
       "                                  &#x27;supervisor_evaluation&#x27;]),\n",
       "                                (&#x27;num&#x27;, StandardScaler(),\n",
       "                                 [&#x27;salary&#x27;, &#x27;job_satisfaction_rate&#x27;])])</pre></div> </div></div><div class=\"sk-parallel\"><div class=\"sk-parallel-item\"><div class=\"sk-item\"><div class=\"sk-label-container\"><div class=\"sk-label fitted sk-toggleable\"><input class=\"sk-toggleable__control sk-hidden--visually\" id=\"sk-estimator-id-3\" type=\"checkbox\" ><label for=\"sk-estimator-id-3\" class=\"sk-toggleable__label fitted sk-toggleable__label-arrow\"><div><div>ohe</div></div></label><div class=\"sk-toggleable__content fitted\"><pre>[&#x27;dept&#x27;]</pre></div> </div></div><div class=\"sk-serial\"><div class=\"sk-item\"><div class=\"sk-serial\"><div class=\"sk-item\"><div class=\"sk-estimator fitted sk-toggleable\"><input class=\"sk-toggleable__control sk-hidden--visually\" id=\"sk-estimator-id-4\" type=\"checkbox\" ><label for=\"sk-estimator-id-4\" class=\"sk-toggleable__label fitted sk-toggleable__label-arrow\"><div><div>&lt;lambda&gt;</div><div class=\"caption\">FunctionTransformer</div></div><div><a class=\"sk-estimator-doc-link fitted\" rel=\"noreferrer\" target=\"_blank\" href=\"https://scikit-learn.org/1.6/modules/generated/sklearn.preprocessing.FunctionTransformer.html\">?<span>Documentation for FunctionTransformer</span></a></div></label><div class=\"sk-toggleable__content fitted\"><pre>FunctionTransformer(func=&lt;function &lt;lambda&gt; at 0x7f800c9028b0&gt;)</pre></div> </div></div><div class=\"sk-item\"><div class=\"sk-estimator fitted sk-toggleable\"><input class=\"sk-toggleable__control sk-hidden--visually\" id=\"sk-estimator-id-5\" type=\"checkbox\" ><label for=\"sk-estimator-id-5\" class=\"sk-toggleable__label fitted sk-toggleable__label-arrow\"><div><div>SimpleImputer</div></div><div><a class=\"sk-estimator-doc-link fitted\" rel=\"noreferrer\" target=\"_blank\" href=\"https://scikit-learn.org/1.6/modules/generated/sklearn.impute.SimpleImputer.html\">?<span>Documentation for SimpleImputer</span></a></div></label><div class=\"sk-toggleable__content fitted\"><pre>SimpleImputer(strategy=&#x27;most_frequent&#x27;)</pre></div> </div></div><div class=\"sk-item\"><div class=\"sk-estimator fitted sk-toggleable\"><input class=\"sk-toggleable__control sk-hidden--visually\" id=\"sk-estimator-id-6\" type=\"checkbox\" ><label for=\"sk-estimator-id-6\" class=\"sk-toggleable__label fitted sk-toggleable__label-arrow\"><div><div>OneHotEncoder</div></div><div><a class=\"sk-estimator-doc-link fitted\" rel=\"noreferrer\" target=\"_blank\" href=\"https://scikit-learn.org/1.6/modules/generated/sklearn.preprocessing.OneHotEncoder.html\">?<span>Documentation for OneHotEncoder</span></a></div></label><div class=\"sk-toggleable__content fitted\"><pre>OneHotEncoder(drop=&#x27;first&#x27;, handle_unknown=&#x27;ignore&#x27;, sparse_output=False)</pre></div> </div></div></div></div></div></div></div><div class=\"sk-parallel-item\"><div class=\"sk-item\"><div class=\"sk-label-container\"><div class=\"sk-label fitted sk-toggleable\"><input class=\"sk-toggleable__control sk-hidden--visually\" id=\"sk-estimator-id-7\" type=\"checkbox\" ><label for=\"sk-estimator-id-7\" class=\"sk-toggleable__label fitted sk-toggleable__label-arrow\"><div><div>ord</div></div></label><div class=\"sk-toggleable__content fitted\"><pre>[&#x27;level&#x27;, &#x27;workload&#x27;, &#x27;last_year_promo&#x27;, &#x27;last_year_violations&#x27;, &#x27;employment_years&#x27;, &#x27;supervisor_evaluation&#x27;]</pre></div> </div></div><div class=\"sk-serial\"><div class=\"sk-item\"><div class=\"sk-serial\"><div class=\"sk-item\"><div class=\"sk-estimator fitted sk-toggleable\"><input class=\"sk-toggleable__control sk-hidden--visually\" id=\"sk-estimator-id-8\" type=\"checkbox\" ><label for=\"sk-estimator-id-8\" class=\"sk-toggleable__label fitted sk-toggleable__label-arrow\"><div><div>SimpleImputer</div></div><div><a class=\"sk-estimator-doc-link fitted\" rel=\"noreferrer\" target=\"_blank\" href=\"https://scikit-learn.org/1.6/modules/generated/sklearn.impute.SimpleImputer.html\">?<span>Documentation for SimpleImputer</span></a></div></label><div class=\"sk-toggleable__content fitted\"><pre>SimpleImputer(strategy=&#x27;most_frequent&#x27;)</pre></div> </div></div><div class=\"sk-item\"><div class=\"sk-estimator fitted sk-toggleable\"><input class=\"sk-toggleable__control sk-hidden--visually\" id=\"sk-estimator-id-9\" type=\"checkbox\" ><label for=\"sk-estimator-id-9\" class=\"sk-toggleable__label fitted sk-toggleable__label-arrow\"><div><div>OrdinalEncoder</div></div><div><a class=\"sk-estimator-doc-link fitted\" rel=\"noreferrer\" target=\"_blank\" href=\"https://scikit-learn.org/1.6/modules/generated/sklearn.preprocessing.OrdinalEncoder.html\">?<span>Documentation for OrdinalEncoder</span></a></div></label><div class=\"sk-toggleable__content fitted\"><pre>OrdinalEncoder(categories=[[&#x27;junior&#x27;, &#x27;middle&#x27;, &#x27;senior&#x27;],\n",
       "                           [&#x27;low&#x27;, &#x27;medium&#x27;, &#x27;high&#x27;], [&#x27;no&#x27;, &#x27;yes&#x27;],\n",
       "                           [&#x27;no&#x27;, &#x27;yes&#x27;], [1, 2, 3, 4, 5, 6, 7, 8, 9, 10],\n",
       "                           [1, 2, 3, 4, 5]],\n",
       "               handle_unknown=&#x27;use_encoded_value&#x27;, unknown_value=nan)</pre></div> </div></div><div class=\"sk-item\"><div class=\"sk-estimator fitted sk-toggleable\"><input class=\"sk-toggleable__control sk-hidden--visually\" id=\"sk-estimator-id-10\" type=\"checkbox\" ><label for=\"sk-estimator-id-10\" class=\"sk-toggleable__label fitted sk-toggleable__label-arrow\"><div><div>SimpleImputer</div></div><div><a class=\"sk-estimator-doc-link fitted\" rel=\"noreferrer\" target=\"_blank\" href=\"https://scikit-learn.org/1.6/modules/generated/sklearn.impute.SimpleImputer.html\">?<span>Documentation for SimpleImputer</span></a></div></label><div class=\"sk-toggleable__content fitted\"><pre>SimpleImputer(strategy=&#x27;most_frequent&#x27;)</pre></div> </div></div></div></div></div></div></div><div class=\"sk-parallel-item\"><div class=\"sk-item\"><div class=\"sk-label-container\"><div class=\"sk-label fitted sk-toggleable\"><input class=\"sk-toggleable__control sk-hidden--visually\" id=\"sk-estimator-id-11\" type=\"checkbox\" ><label for=\"sk-estimator-id-11\" class=\"sk-toggleable__label fitted sk-toggleable__label-arrow\"><div><div>num</div></div></label><div class=\"sk-toggleable__content fitted\"><pre>[&#x27;salary&#x27;, &#x27;job_satisfaction_rate&#x27;]</pre></div> </div></div><div class=\"sk-serial\"><div class=\"sk-item\"><div class=\"sk-estimator fitted sk-toggleable\"><input class=\"sk-toggleable__control sk-hidden--visually\" id=\"sk-estimator-id-12\" type=\"checkbox\" ><label for=\"sk-estimator-id-12\" class=\"sk-toggleable__label fitted sk-toggleable__label-arrow\"><div><div>StandardScaler</div></div><div><a class=\"sk-estimator-doc-link fitted\" rel=\"noreferrer\" target=\"_blank\" href=\"https://scikit-learn.org/1.6/modules/generated/sklearn.preprocessing.StandardScaler.html\">?<span>Documentation for StandardScaler</span></a></div></label><div class=\"sk-toggleable__content fitted\"><pre>StandardScaler()</pre></div> </div></div></div></div></div><div class=\"sk-parallel-item\"><div class=\"sk-item\"><div class=\"sk-label-container\"><div class=\"sk-label fitted sk-toggleable\"><input class=\"sk-toggleable__control sk-hidden--visually\" id=\"sk-estimator-id-13\" type=\"checkbox\" ><label for=\"sk-estimator-id-13\" class=\"sk-toggleable__label fitted sk-toggleable__label-arrow\"><div><div>remainder</div></div></label><div class=\"sk-toggleable__content fitted\"><pre>[]</pre></div> </div></div><div class=\"sk-serial\"><div class=\"sk-item\"><div class=\"sk-estimator fitted sk-toggleable\"><input class=\"sk-toggleable__control sk-hidden--visually\" id=\"sk-estimator-id-14\" type=\"checkbox\" ><label for=\"sk-estimator-id-14\" class=\"sk-toggleable__label fitted sk-toggleable__label-arrow\"><div><div>passthrough</div></div></label><div class=\"sk-toggleable__content fitted\"><pre>passthrough</pre></div> </div></div></div></div></div></div></div><div class=\"sk-item\"><div class=\"sk-estimator fitted sk-toggleable\"><input class=\"sk-toggleable__control sk-hidden--visually\" id=\"sk-estimator-id-15\" type=\"checkbox\" ><label for=\"sk-estimator-id-15\" class=\"sk-toggleable__label fitted sk-toggleable__label-arrow\"><div><div>KNeighborsClassifier</div></div><div><a class=\"sk-estimator-doc-link fitted\" rel=\"noreferrer\" target=\"_blank\" href=\"https://scikit-learn.org/1.6/modules/generated/sklearn.neighbors.KNeighborsClassifier.html\">?<span>Documentation for KNeighborsClassifier</span></a></div></label><div class=\"sk-toggleable__content fitted\"><pre>KNeighborsClassifier(n_neighbors=15)</pre></div> </div></div></div></div></div></div>"
      ],
      "text/plain": [
       "Pipeline(steps=[('preprocessor',\n",
       "                 ColumnTransformer(remainder='passthrough',\n",
       "                                   transformers=[('ohe',\n",
       "                                                  Pipeline(steps=[('replace_space',\n",
       "                                                                   FunctionTransformer(func=<function <lambda> at 0x7f800c9028b0>)),\n",
       "                                                                  ('simpleImputer_ohe_2',\n",
       "                                                                   SimpleImputer(strategy='most_frequent')),\n",
       "                                                                  ('ohe',\n",
       "                                                                   OneHotEncoder(drop='first',\n",
       "                                                                                 handle_unknown='ignore',\n",
       "                                                                                 sparse_output=False))]),\n",
       "                                                  ['dept']),\n",
       "                                                 ('or...\n",
       "                                                                                               3,\n",
       "                                                                                               4,\n",
       "                                                                                               5]],\n",
       "                                                                                  handle_unknown='use_encoded_value',\n",
       "                                                                                  unknown_value=nan)),\n",
       "                                                                  ('simpleImputer_after_ord',\n",
       "                                                                   SimpleImputer(strategy='most_frequent'))]),\n",
       "                                                  ['level', 'workload',\n",
       "                                                   'last_year_promo',\n",
       "                                                   'last_year_violations',\n",
       "                                                   'employment_years',\n",
       "                                                   'supervisor_evaluation']),\n",
       "                                                 ('num', StandardScaler(),\n",
       "                                                  ['salary',\n",
       "                                                   'job_satisfaction_rate'])])),\n",
       "                ('models', KNeighborsClassifier(n_neighbors=15))])"
      ]
     },
     "metadata": {},
     "output_type": "display_data"
    },
    {
     "data": {
      "text/plain": [
       "'Среднее значение метрики при кросс-валидации:'"
      ]
     },
     "metadata": {},
     "output_type": "display_data"
    },
    {
     "data": {
      "text/plain": [
       "np.float64(0.9041321800214488)"
      ]
     },
     "metadata": {},
     "output_type": "display_data"
    }
   ],
   "source": [
    "randomized_search.fit(X_train_2, y_train_2)\n",
    "display(f'Лучшая модель:', randomized_search.best_estimator_)\n",
    "display('Среднее значение метрики при кросс-валидации:', randomized_search.best_score_)"
   ]
  },
  {
   "cell_type": "code",
   "execution_count": 46,
   "id": "4a652fbb",
   "metadata": {
    "scrolled": false
   },
   "outputs": [
    {
     "data": {
      "text/plain": [
       "'Метрика ROC-AUC на тестовой выборке: 0.916923487228116'"
      ]
     },
     "metadata": {},
     "output_type": "display_data"
    },
    {
     "data": {
      "text/plain": [
       "\"Лучшие параметры: {'preprocessor__num': StandardScaler(), 'models__weights': 'uniform', 'models__n_neighbors': 15, 'models': KNeighborsClassifier()}\""
      ]
     },
     "metadata": {},
     "output_type": "display_data"
    }
   ],
   "source": [
    "y_test_pred_2 = randomized_search.predict_proba(X_test_2)[:,1]\n",
    "display(f'Метрика ROC-AUC на тестовой выборке: {roc_auc_score(y_test_2, y_test_pred_2)}')\n",
    "display(f'Лучшие параметры: {randomized_search.best_params_}')"
   ]
  },
  {
   "cell_type": "markdown",
   "id": "1e2d7da7",
   "metadata": {},
   "source": [
    "**Метрика `ROC-AUC` довольно высокая - `0.92`, лучшая модель - kNN со следующими гиперпараметрами:**\n",
    "- models__weights: `uniform`;\n",
    "- models__n_neighbors: `15`."
   ]
  },
  {
   "cell_type": "markdown",
   "id": "019d8770",
   "metadata": {},
   "source": [
    "# Общий вывод"
   ]
  },
  {
   "cell_type": "markdown",
   "id": "ade4ed38",
   "metadata": {},
   "source": [
    "**Мы провели большую работу, подведём краткие выводы о каждом шаге.**\n",
    "\n",
    "**Во всех входных тренировочных данных было большое количество дубликатов и одно неизвестное значение, все эти моменты мы реализовали в пайплайнах, в случае, если предоставят новые данные, они корректно обработают все недостатки. Так же мы обнаружили неккоректно написанные данные в признаках(`sinior`, вместо `senior`), их уже обработали вручную.**\n",
    "\n",
    "**Задача 1 - удовлетворенность сотрудников.**\n",
    "\n",
    "**Портрет среднестатистического сотрудника(тренировочные данные): ЗП - `31000`, доволен работой, находится в штате `1-3 года`, имеет оценку руководителя `3-4`, работает в отделе `sales` на должности `middle` или `junior`, загружен на уровне `medium`, за последний год `не получал повышения` и `не нарушал трудовой договор`. Тренировочные абсолютно идентичны, не считая незначительных различии в ЗП - `30000`.**\n",
    "\n",
    "**Мы создали пайплайн из 4 моделей: `KNeighborsRegressor`, `DecisionTreeRegressor`, `LogisticRegression` и `SVR` с различными гипепараметрами, использовали два кодировщика:`OneHotEncoder` и `OrdinalEncoder` для категориальных признаков и три скейлера для масштабирования количественных:`RobustScaler`, `MinMaxScaler` и `StandardScaler`. Создали свою метрику - `SMAPE` (англ. symmetric mean absolute percentage error, «симметричное среднее абсолютное процентное отклонение»). Лучшей моделью оказалась `DecisionTreeRegressor` - метрика SMAPE `14.38` на тестовых данных, гиперпараметры модели:**\n",
    "- models__min_samples_split: `2`;\n",
    "- models__max_depth: `15`.\n",
    "\n",
    "**Задача 2 - вероятность увольнения сотрудника.**\n",
    "\n",
    "**Портрет среднестатистического сотрудника: ЗП - `33000`, доволен работой, находится в штате `1-4 года`, имеет оценку руководителя `3-4`, работает в отделе `sales` на должности `middle`, загружен на уровне `medium`, за последний год `не получал повышения` и `не нарушал трудовой договор`. Данные так же похожи на тестовые, основное раздичие так же в ЗП: `30000`.**\n",
    "\n",
    "**Портрет уволившегося сотрудника: работает на уровне `junior`, низкая ЗП от `10000` до `40000`, низкая загруженность. Так же уточним, что увольнения по процентным соотношениям уходят со всех отделов одинаково - `~25%`.**\n",
    "\n",
    "**Проверили и убедились, что уровень удовлетворённости влияет на увольнение, чем выше удовлетворённость, тем меньше увольнении.**\n",
    "\n",
    "**Для второй задачи мы создали похожий пайплайн, поменялись только модели: `KNeighborsClassifier`, `DecisionTreeClassifier`, `LogisticRegression` и `SVC`. Лучшей моделью оказался метод ближайших соседей `kNN` - метрика `ROC_AUC` показала `92.00` на тестовых данных, гиперпараметры модели:**\n",
    "- models__weights: `uniform`\n",
    "- models__n_neighbors: `15`.\n",
    "\n",
    "**Предлагаю бизнесу подробнее рассмотреть сотрудников, которые находятся на уровне `junior`, есть вероятность, что молодые сотрудники сталкиваются с большими моральными проблемами во время работы(возможно, нужно нанять психолога, так же стоит супервайзерам относиться более лояльно к молодым специалистам). Либо, сотрудники, получив достаточный опыт переходят в другую компанию с более большими ЗП, стоит более строже отбирать кандидатов, и, если есть возможность - индексировать их ЗП  раз в пол года.**"
   ]
  }
 ],
 "metadata": {
  "ExecuteTimeLog": [
   {
    "duration": 12,
    "start_time": "2025-05-30T11:25:27.800Z"
   },
   {
    "duration": 7,
    "start_time": "2025-05-30T11:25:27.814Z"
   },
   {
    "duration": 1241,
    "start_time": "2025-05-30T11:25:27.822Z"
   },
   {
    "duration": 6540,
    "start_time": "2025-05-30T11:25:29.065Z"
   },
   {
    "duration": 50311,
    "start_time": "2025-05-30T11:26:46.481Z"
   },
   {
    "duration": 14,
    "start_time": "2025-05-30T11:27:49.796Z"
   },
   {
    "duration": 9,
    "start_time": "2025-05-30T11:27:49.812Z"
   },
   {
    "duration": 1268,
    "start_time": "2025-05-30T11:27:49.822Z"
   },
   {
    "duration": 3111,
    "start_time": "2025-05-30T11:27:51.092Z"
   },
   {
    "duration": 8448,
    "start_time": "2025-05-30T17:45:47.983Z"
   },
   {
    "duration": 68349,
    "start_time": "2025-05-30T17:45:56.433Z"
   },
   {
    "duration": 93,
    "start_time": "2025-05-30T17:47:04.784Z"
   },
   {
    "duration": 0,
    "start_time": "2025-05-30T17:47:04.880Z"
   },
   {
    "duration": 0,
    "start_time": "2025-05-30T17:47:04.882Z"
   },
   {
    "duration": 0,
    "start_time": "2025-05-30T17:47:04.883Z"
   },
   {
    "duration": 0,
    "start_time": "2025-05-30T17:47:04.885Z"
   },
   {
    "duration": 0,
    "start_time": "2025-05-30T17:47:04.886Z"
   },
   {
    "duration": 0,
    "start_time": "2025-05-30T17:47:04.887Z"
   },
   {
    "duration": 0,
    "start_time": "2025-05-30T17:47:04.888Z"
   },
   {
    "duration": 0,
    "start_time": "2025-05-30T17:47:04.890Z"
   },
   {
    "duration": 0,
    "start_time": "2025-05-30T17:47:04.891Z"
   },
   {
    "duration": 0,
    "start_time": "2025-05-30T17:47:04.891Z"
   },
   {
    "duration": 0,
    "start_time": "2025-05-30T17:47:04.893Z"
   },
   {
    "duration": 0,
    "start_time": "2025-05-30T17:47:04.894Z"
   },
   {
    "duration": 0,
    "start_time": "2025-05-30T17:47:04.895Z"
   },
   {
    "duration": 0,
    "start_time": "2025-05-30T17:47:04.897Z"
   },
   {
    "duration": 0,
    "start_time": "2025-05-30T17:47:04.898Z"
   },
   {
    "duration": 0,
    "start_time": "2025-05-30T17:47:04.899Z"
   },
   {
    "duration": 0,
    "start_time": "2025-05-30T17:47:04.900Z"
   },
   {
    "duration": 0,
    "start_time": "2025-05-30T17:47:04.901Z"
   },
   {
    "duration": 0,
    "start_time": "2025-05-30T17:47:04.903Z"
   },
   {
    "duration": 0,
    "start_time": "2025-05-30T17:47:04.904Z"
   },
   {
    "duration": 0,
    "start_time": "2025-05-30T17:47:04.905Z"
   },
   {
    "duration": 0,
    "start_time": "2025-05-30T17:47:04.906Z"
   },
   {
    "duration": 0,
    "start_time": "2025-05-30T17:47:04.907Z"
   },
   {
    "duration": 0,
    "start_time": "2025-05-30T17:47:04.908Z"
   },
   {
    "duration": 0,
    "start_time": "2025-05-30T17:47:04.909Z"
   },
   {
    "duration": 0,
    "start_time": "2025-05-30T17:47:04.910Z"
   },
   {
    "duration": 0,
    "start_time": "2025-05-30T17:47:04.911Z"
   },
   {
    "duration": 0,
    "start_time": "2025-05-30T17:47:04.912Z"
   },
   {
    "duration": 0,
    "start_time": "2025-05-30T17:47:04.958Z"
   },
   {
    "duration": 0,
    "start_time": "2025-05-30T17:47:04.960Z"
   },
   {
    "duration": 0,
    "start_time": "2025-05-30T17:47:04.961Z"
   },
   {
    "duration": 0,
    "start_time": "2025-05-30T17:47:04.962Z"
   },
   {
    "duration": 0,
    "start_time": "2025-05-30T17:47:04.963Z"
   },
   {
    "duration": 0,
    "start_time": "2025-05-30T17:47:04.964Z"
   },
   {
    "duration": 0,
    "start_time": "2025-05-30T17:47:04.965Z"
   },
   {
    "duration": 0,
    "start_time": "2025-05-30T17:47:04.967Z"
   },
   {
    "duration": 0,
    "start_time": "2025-05-30T17:47:04.968Z"
   },
   {
    "duration": 0,
    "start_time": "2025-05-30T17:47:04.969Z"
   },
   {
    "duration": 8870,
    "start_time": "2025-05-30T20:36:32.441Z"
   },
   {
    "duration": 76577,
    "start_time": "2025-05-30T20:36:41.314Z"
   },
   {
    "duration": 103,
    "start_time": "2025-05-30T20:37:57.894Z"
   },
   {
    "duration": 0,
    "start_time": "2025-05-30T20:37:58.000Z"
   },
   {
    "duration": 0,
    "start_time": "2025-05-30T20:37:58.002Z"
   },
   {
    "duration": 0,
    "start_time": "2025-05-30T20:37:58.003Z"
   },
   {
    "duration": 0,
    "start_time": "2025-05-30T20:37:58.004Z"
   },
   {
    "duration": 0,
    "start_time": "2025-05-30T20:37:58.005Z"
   },
   {
    "duration": 0,
    "start_time": "2025-05-30T20:37:58.006Z"
   },
   {
    "duration": 0,
    "start_time": "2025-05-30T20:37:58.007Z"
   },
   {
    "duration": 0,
    "start_time": "2025-05-30T20:37:58.009Z"
   },
   {
    "duration": 0,
    "start_time": "2025-05-30T20:37:58.010Z"
   },
   {
    "duration": 0,
    "start_time": "2025-05-30T20:37:58.011Z"
   },
   {
    "duration": 0,
    "start_time": "2025-05-30T20:37:58.012Z"
   },
   {
    "duration": 0,
    "start_time": "2025-05-30T20:37:58.013Z"
   },
   {
    "duration": 0,
    "start_time": "2025-05-30T20:37:58.015Z"
   },
   {
    "duration": 0,
    "start_time": "2025-05-30T20:37:58.016Z"
   },
   {
    "duration": 0,
    "start_time": "2025-05-30T20:37:58.017Z"
   },
   {
    "duration": 0,
    "start_time": "2025-05-30T20:37:58.018Z"
   },
   {
    "duration": 0,
    "start_time": "2025-05-30T20:37:58.019Z"
   },
   {
    "duration": 0,
    "start_time": "2025-05-30T20:37:58.021Z"
   },
   {
    "duration": 0,
    "start_time": "2025-05-30T20:37:58.022Z"
   },
   {
    "duration": 0,
    "start_time": "2025-05-30T20:37:58.060Z"
   },
   {
    "duration": 0,
    "start_time": "2025-05-30T20:37:58.061Z"
   },
   {
    "duration": 0,
    "start_time": "2025-05-30T20:37:58.063Z"
   },
   {
    "duration": 0,
    "start_time": "2025-05-30T20:37:58.064Z"
   },
   {
    "duration": 0,
    "start_time": "2025-05-30T20:37:58.065Z"
   },
   {
    "duration": 0,
    "start_time": "2025-05-30T20:37:58.066Z"
   },
   {
    "duration": 0,
    "start_time": "2025-05-30T20:37:58.067Z"
   },
   {
    "duration": 0,
    "start_time": "2025-05-30T20:37:58.068Z"
   },
   {
    "duration": 0,
    "start_time": "2025-05-30T20:37:58.069Z"
   },
   {
    "duration": 0,
    "start_time": "2025-05-30T20:37:58.070Z"
   },
   {
    "duration": 0,
    "start_time": "2025-05-30T20:37:58.071Z"
   },
   {
    "duration": 0,
    "start_time": "2025-05-30T20:37:58.072Z"
   },
   {
    "duration": 0,
    "start_time": "2025-05-30T20:37:58.073Z"
   },
   {
    "duration": 0,
    "start_time": "2025-05-30T20:37:58.075Z"
   },
   {
    "duration": 0,
    "start_time": "2025-05-30T20:37:58.076Z"
   },
   {
    "duration": 0,
    "start_time": "2025-05-30T20:37:58.077Z"
   },
   {
    "duration": 0,
    "start_time": "2025-05-30T20:37:58.078Z"
   },
   {
    "duration": 0,
    "start_time": "2025-05-30T20:37:58.079Z"
   },
   {
    "duration": 1,
    "start_time": "2025-05-30T20:37:58.080Z"
   },
   {
    "duration": 1337,
    "start_time": "2025-05-30T20:38:23.931Z"
   },
   {
    "duration": 20,
    "start_time": "2025-05-30T20:39:43.112Z"
   },
   {
    "duration": 2664,
    "start_time": "2025-05-30T20:41:58.498Z"
   },
   {
    "duration": 37793,
    "start_time": "2025-05-30T20:42:01.165Z"
   },
   {
    "duration": 65,
    "start_time": "2025-05-30T20:42:38.961Z"
   },
   {
    "duration": 1384,
    "start_time": "2025-05-30T20:42:39.029Z"
   },
   {
    "duration": 326,
    "start_time": "2025-05-30T20:42:40.416Z"
   },
   {
    "duration": 22,
    "start_time": "2025-05-30T20:42:40.744Z"
   },
   {
    "duration": 40,
    "start_time": "2025-05-30T20:42:40.768Z"
   },
   {
    "duration": 12,
    "start_time": "2025-05-30T20:42:40.810Z"
   },
   {
    "duration": 7,
    "start_time": "2025-05-30T20:42:40.824Z"
   },
   {
    "duration": 10,
    "start_time": "2025-05-30T20:42:40.832Z"
   },
   {
    "duration": 8,
    "start_time": "2025-05-30T20:42:40.844Z"
   },
   {
    "duration": 23,
    "start_time": "2025-05-30T20:42:40.854Z"
   },
   {
    "duration": 1072,
    "start_time": "2025-05-30T20:42:40.879Z"
   },
   {
    "duration": 20,
    "start_time": "2025-05-30T20:42:41.954Z"
   },
   {
    "duration": 17,
    "start_time": "2025-05-30T20:42:41.975Z"
   },
   {
    "duration": 919,
    "start_time": "2025-05-30T20:42:41.994Z"
   },
   {
    "duration": 307,
    "start_time": "2025-05-30T20:42:42.915Z"
   },
   {
    "duration": 645,
    "start_time": "2025-05-30T20:42:43.224Z"
   },
   {
    "duration": 5,
    "start_time": "2025-05-30T20:42:43.871Z"
   },
   {
    "duration": 530,
    "start_time": "2025-05-30T20:42:43.878Z"
   },
   {
    "duration": 453,
    "start_time": "2025-05-30T20:42:44.410Z"
   },
   {
    "duration": 412,
    "start_time": "2025-05-30T20:42:44.866Z"
   },
   {
    "duration": 626,
    "start_time": "2025-05-30T20:42:45.280Z"
   },
   {
    "duration": 8,
    "start_time": "2025-05-30T20:42:45.908Z"
   },
   {
    "duration": 3,
    "start_time": "2025-05-30T20:42:45.918Z"
   },
   {
    "duration": 4,
    "start_time": "2025-05-30T20:42:45.922Z"
   },
   {
    "duration": 5,
    "start_time": "2025-05-30T20:42:45.928Z"
   },
   {
    "duration": 30,
    "start_time": "2025-05-30T20:42:45.934Z"
   },
   {
    "duration": 5,
    "start_time": "2025-05-30T20:42:45.966Z"
   },
   {
    "duration": 6315,
    "start_time": "2025-05-30T20:42:45.973Z"
   },
   {
    "duration": 27,
    "start_time": "2025-05-30T20:42:52.290Z"
   },
   {
    "duration": 630,
    "start_time": "2025-05-30T20:42:52.319Z"
   },
   {
    "duration": 4,
    "start_time": "2025-05-30T20:42:52.951Z"
   },
   {
    "duration": 409,
    "start_time": "2025-05-30T20:42:52.956Z"
   },
   {
    "duration": 454,
    "start_time": "2025-05-30T20:42:53.367Z"
   },
   {
    "duration": 4,
    "start_time": "2025-05-30T20:42:53.823Z"
   },
   {
    "duration": 253,
    "start_time": "2025-05-30T20:42:53.828Z"
   },
   {
    "duration": 334,
    "start_time": "2025-05-30T20:42:54.083Z"
   },
   {
    "duration": 15,
    "start_time": "2025-05-30T20:42:54.419Z"
   },
   {
    "duration": 443,
    "start_time": "2025-05-30T20:42:54.435Z"
   },
   {
    "duration": 5,
    "start_time": "2025-05-30T20:42:54.882Z"
   },
   {
    "duration": 3,
    "start_time": "2025-05-30T20:46:35.064Z"
   },
   {
    "duration": 4,
    "start_time": "2025-05-30T20:55:29.214Z"
   },
   {
    "duration": 6,
    "start_time": "2025-05-30T20:58:32.161Z"
   },
   {
    "duration": 6,
    "start_time": "2025-05-30T21:00:26.547Z"
   },
   {
    "duration": 3,
    "start_time": "2025-05-30T21:01:31.474Z"
   },
   {
    "duration": 167,
    "start_time": "2025-05-30T21:11:10.417Z"
   },
   {
    "duration": 6,
    "start_time": "2025-05-30T21:11:32.667Z"
   },
   {
    "duration": 7,
    "start_time": "2025-05-30T21:11:38.252Z"
   },
   {
    "duration": 13,
    "start_time": "2025-05-30T21:12:15.882Z"
   },
   {
    "duration": 13,
    "start_time": "2025-05-30T21:12:27.358Z"
   },
   {
    "duration": 4,
    "start_time": "2025-05-30T21:12:47.384Z"
   },
   {
    "duration": 5,
    "start_time": "2025-05-30T21:13:22.334Z"
   },
   {
    "duration": 2179,
    "start_time": "2025-05-30T21:54:18.334Z"
   },
   {
    "duration": 37027,
    "start_time": "2025-05-30T21:54:20.515Z"
   },
   {
    "duration": 47,
    "start_time": "2025-05-30T21:54:57.545Z"
   },
   {
    "duration": 1331,
    "start_time": "2025-05-30T21:54:57.594Z"
   },
   {
    "duration": 293,
    "start_time": "2025-05-30T21:54:58.928Z"
   },
   {
    "duration": 20,
    "start_time": "2025-05-30T21:54:59.223Z"
   },
   {
    "duration": 7,
    "start_time": "2025-05-30T21:54:59.245Z"
   },
   {
    "duration": 10,
    "start_time": "2025-05-30T21:54:59.253Z"
   },
   {
    "duration": 6,
    "start_time": "2025-05-30T21:54:59.265Z"
   },
   {
    "duration": 9,
    "start_time": "2025-05-30T21:54:59.272Z"
   },
   {
    "duration": 9,
    "start_time": "2025-05-30T21:54:59.283Z"
   },
   {
    "duration": 17,
    "start_time": "2025-05-30T21:54:59.294Z"
   },
   {
    "duration": 14,
    "start_time": "2025-05-30T21:54:59.313Z"
   },
   {
    "duration": 47,
    "start_time": "2025-05-30T21:54:59.329Z"
   },
   {
    "duration": 626,
    "start_time": "2025-05-30T21:54:59.378Z"
   },
   {
    "duration": 5,
    "start_time": "2025-05-30T21:55:00.007Z"
   },
   {
    "duration": 491,
    "start_time": "2025-05-30T21:55:00.014Z"
   },
   {
    "duration": 505,
    "start_time": "2025-05-30T21:55:00.507Z"
   },
   {
    "duration": 437,
    "start_time": "2025-05-30T21:55:01.014Z"
   },
   {
    "duration": 613,
    "start_time": "2025-05-30T21:55:01.453Z"
   },
   {
    "duration": 9,
    "start_time": "2025-05-30T21:55:02.068Z"
   },
   {
    "duration": 11,
    "start_time": "2025-05-30T21:55:02.078Z"
   },
   {
    "duration": 7,
    "start_time": "2025-05-30T21:55:02.091Z"
   },
   {
    "duration": 14,
    "start_time": "2025-05-30T21:55:02.100Z"
   },
   {
    "duration": 21,
    "start_time": "2025-05-30T21:55:02.116Z"
   },
   {
    "duration": 53,
    "start_time": "2025-05-30T21:55:02.139Z"
   },
   {
    "duration": 107,
    "start_time": "2025-05-30T21:55:02.194Z"
   },
   {
    "duration": 27153,
    "start_time": "2025-05-30T21:55:02.303Z"
   },
   {
    "duration": 1,
    "start_time": "2025-05-30T21:55:29.460Z"
   },
   {
    "duration": 0,
    "start_time": "2025-05-30T21:55:29.462Z"
   },
   {
    "duration": 0,
    "start_time": "2025-05-30T21:55:29.463Z"
   },
   {
    "duration": 0,
    "start_time": "2025-05-30T21:55:29.464Z"
   },
   {
    "duration": 0,
    "start_time": "2025-05-30T21:55:29.465Z"
   },
   {
    "duration": 0,
    "start_time": "2025-05-30T21:55:29.467Z"
   },
   {
    "duration": 0,
    "start_time": "2025-05-30T21:55:29.468Z"
   },
   {
    "duration": 0,
    "start_time": "2025-05-30T21:55:29.469Z"
   },
   {
    "duration": 0,
    "start_time": "2025-05-30T21:55:29.470Z"
   },
   {
    "duration": 0,
    "start_time": "2025-05-30T21:55:29.471Z"
   },
   {
    "duration": 0,
    "start_time": "2025-05-30T21:55:29.473Z"
   },
   {
    "duration": 18,
    "start_time": "2025-05-30T22:03:37.796Z"
   },
   {
    "duration": 16,
    "start_time": "2025-05-30T22:05:52.284Z"
   },
   {
    "duration": 574,
    "start_time": "2025-05-30T22:06:22.796Z"
   },
   {
    "duration": 5,
    "start_time": "2025-05-30T22:07:21.140Z"
   },
   {
    "duration": 375,
    "start_time": "2025-05-30T22:08:47.588Z"
   },
   {
    "duration": 431,
    "start_time": "2025-05-30T22:11:32.812Z"
   },
   {
    "duration": 405,
    "start_time": "2025-05-30T22:13:09.936Z"
   },
   {
    "duration": 26,
    "start_time": "2025-05-30T22:15:04.811Z"
   },
   {
    "duration": 18,
    "start_time": "2025-05-30T22:15:20.802Z"
   },
   {
    "duration": 587,
    "start_time": "2025-05-30T22:15:28.603Z"
   },
   {
    "duration": 617,
    "start_time": "2025-05-30T22:15:35.645Z"
   },
   {
    "duration": 8,
    "start_time": "2025-05-30T22:17:49.836Z"
   },
   {
    "duration": 3,
    "start_time": "2025-05-30T22:17:52.093Z"
   },
   {
    "duration": 7,
    "start_time": "2025-05-30T22:17:54.362Z"
   },
   {
    "duration": 4,
    "start_time": "2025-05-30T22:17:54.732Z"
   },
   {
    "duration": 4,
    "start_time": "2025-05-30T22:18:03.636Z"
   },
   {
    "duration": 7,
    "start_time": "2025-05-30T22:18:03.995Z"
   },
   {
    "duration": 417,
    "start_time": "2025-05-30T22:34:06.509Z"
   },
   {
    "duration": 4,
    "start_time": "2025-05-30T22:55:17.620Z"
   },
   {
    "duration": 8,
    "start_time": "2025-05-30T22:57:59.337Z"
   },
   {
    "duration": 3,
    "start_time": "2025-05-30T22:58:07.397Z"
   },
   {
    "duration": 7,
    "start_time": "2025-05-30T22:58:08.218Z"
   },
   {
    "duration": 4,
    "start_time": "2025-05-30T22:58:12.470Z"
   },
   {
    "duration": 5,
    "start_time": "2025-05-30T22:59:23.352Z"
   },
   {
    "duration": 6,
    "start_time": "2025-05-30T22:59:24.001Z"
   },
   {
    "duration": 14,
    "start_time": "2025-05-30T23:00:34.129Z"
   },
   {
    "duration": 7,
    "start_time": "2025-05-30T23:02:15.861Z"
   },
   {
    "duration": 4,
    "start_time": "2025-05-30T23:02:22.293Z"
   },
   {
    "duration": 4,
    "start_time": "2025-05-30T23:04:56.471Z"
   },
   {
    "duration": 9,
    "start_time": "2025-05-30T23:04:57.664Z"
   },
   {
    "duration": 3,
    "start_time": "2025-05-30T23:04:58.492Z"
   },
   {
    "duration": 8,
    "start_time": "2025-05-30T23:04:59.074Z"
   },
   {
    "duration": 3,
    "start_time": "2025-05-30T23:04:59.713Z"
   },
   {
    "duration": 5,
    "start_time": "2025-05-30T23:05:02.087Z"
   },
   {
    "duration": 7,
    "start_time": "2025-05-30T23:05:03.367Z"
   },
   {
    "duration": 3,
    "start_time": "2025-05-30T23:05:19.828Z"
   },
   {
    "duration": 15,
    "start_time": "2025-05-30T23:05:46.361Z"
   },
   {
    "duration": 3,
    "start_time": "2025-05-30T23:07:14.962Z"
   },
   {
    "duration": 27358,
    "start_time": "2025-05-30T23:07:16.753Z"
   },
   {
    "duration": 28098,
    "start_time": "2025-05-30T23:08:07.624Z"
   },
   {
    "duration": 5,
    "start_time": "2025-05-30T23:09:17.779Z"
   },
   {
    "duration": 4,
    "start_time": "2025-05-30T23:09:24.710Z"
   },
   {
    "duration": 27206,
    "start_time": "2025-05-30T23:09:27.160Z"
   },
   {
    "duration": 15,
    "start_time": "2025-05-30T23:21:30.165Z"
   },
   {
    "duration": 14,
    "start_time": "2025-05-30T23:22:51.824Z"
   },
   {
    "duration": 16,
    "start_time": "2025-05-30T23:24:27.654Z"
   },
   {
    "duration": 13,
    "start_time": "2025-05-30T23:25:23.584Z"
   },
   {
    "duration": 14,
    "start_time": "2025-05-30T23:25:38.388Z"
   },
   {
    "duration": 6,
    "start_time": "2025-05-30T23:26:40.855Z"
   },
   {
    "duration": 15,
    "start_time": "2025-05-30T23:26:52.152Z"
   },
   {
    "duration": 4,
    "start_time": "2025-05-30T23:27:52.553Z"
   },
   {
    "duration": 4,
    "start_time": "2025-05-30T23:28:09.927Z"
   },
   {
    "duration": 6,
    "start_time": "2025-05-30T23:29:04.876Z"
   },
   {
    "duration": 5,
    "start_time": "2025-05-30T23:29:51.421Z"
   },
   {
    "duration": 7,
    "start_time": "2025-05-30T23:29:57.862Z"
   },
   {
    "duration": 4,
    "start_time": "2025-05-30T23:30:00.410Z"
   },
   {
    "duration": 500,
    "start_time": "2025-05-30T23:30:02.178Z"
   },
   {
    "duration": 11,
    "start_time": "2025-05-30T23:32:04.602Z"
   },
   {
    "duration": 10,
    "start_time": "2025-05-30T23:32:26.463Z"
   },
   {
    "duration": 7,
    "start_time": "2025-05-30T23:32:41.778Z"
   },
   {
    "duration": 5,
    "start_time": "2025-05-30T23:34:08.509Z"
   },
   {
    "duration": 8,
    "start_time": "2025-05-30T23:34:09.374Z"
   },
   {
    "duration": 3,
    "start_time": "2025-05-30T23:34:10.300Z"
   },
   {
    "duration": 4,
    "start_time": "2025-05-30T23:34:11.169Z"
   },
   {
    "duration": 5,
    "start_time": "2025-05-30T23:34:12.680Z"
   },
   {
    "duration": 6,
    "start_time": "2025-05-30T23:34:13.164Z"
   },
   {
    "duration": 3,
    "start_time": "2025-05-30T23:34:13.810Z"
   },
   {
    "duration": 477,
    "start_time": "2025-05-30T23:34:15.634Z"
   },
   {
    "duration": 11,
    "start_time": "2025-05-30T23:34:54.453Z"
   },
   {
    "duration": 4,
    "start_time": "2025-05-30T23:40:44.374Z"
   },
   {
    "duration": 8,
    "start_time": "2025-05-30T23:40:45.473Z"
   },
   {
    "duration": 3,
    "start_time": "2025-05-30T23:40:46.602Z"
   },
   {
    "duration": 4,
    "start_time": "2025-05-30T23:40:47.271Z"
   },
   {
    "duration": 4,
    "start_time": "2025-05-30T23:40:48.549Z"
   },
   {
    "duration": 8,
    "start_time": "2025-05-30T23:40:49.059Z"
   },
   {
    "duration": 3,
    "start_time": "2025-05-30T23:40:50.000Z"
   },
   {
    "duration": 476,
    "start_time": "2025-05-30T23:40:51.809Z"
   },
   {
    "duration": 9,
    "start_time": "2025-05-30T23:41:31.917Z"
   },
   {
    "duration": 500,
    "start_time": "2025-05-30T23:41:35.812Z"
   },
   {
    "duration": 7,
    "start_time": "2025-05-30T23:42:12.786Z"
   },
   {
    "duration": 4,
    "start_time": "2025-05-30T23:42:14.588Z"
   },
   {
    "duration": 7,
    "start_time": "2025-05-30T23:42:14.739Z"
   },
   {
    "duration": 3,
    "start_time": "2025-05-30T23:42:15.357Z"
   },
   {
    "duration": 6428,
    "start_time": "2025-05-30T23:42:17.667Z"
   },
   {
    "duration": 5,
    "start_time": "2025-05-30T23:44:07.958Z"
   },
   {
    "duration": 4,
    "start_time": "2025-05-30T23:45:06.860Z"
   },
   {
    "duration": 8,
    "start_time": "2025-05-30T23:45:10.590Z"
   },
   {
    "duration": 3,
    "start_time": "2025-05-30T23:45:15.034Z"
   },
   {
    "duration": 7,
    "start_time": "2025-05-30T23:45:15.627Z"
   },
   {
    "duration": 5,
    "start_time": "2025-05-30T23:45:17.085Z"
   },
   {
    "duration": 6,
    "start_time": "2025-05-30T23:45:17.753Z"
   },
   {
    "duration": 3,
    "start_time": "2025-05-30T23:45:18.944Z"
   },
   {
    "duration": 6316,
    "start_time": "2025-05-30T23:45:20.666Z"
   },
   {
    "duration": 31,
    "start_time": "2025-05-30T23:48:26.730Z"
   },
   {
    "duration": 19,
    "start_time": "2025-05-30T23:48:41.392Z"
   },
   {
    "duration": 33,
    "start_time": "2025-05-30T23:49:37.220Z"
   },
   {
    "duration": 31,
    "start_time": "2025-05-30T23:49:56.459Z"
   },
   {
    "duration": 31,
    "start_time": "2025-05-30T23:50:01.366Z"
   },
   {
    "duration": 23,
    "start_time": "2025-05-30T23:51:15.390Z"
   },
   {
    "duration": 24,
    "start_time": "2025-05-30T23:51:22.369Z"
   },
   {
    "duration": 8758,
    "start_time": "2025-05-31T09:28:16.285Z"
   },
   {
    "duration": 77829,
    "start_time": "2025-05-31T09:28:25.045Z"
   },
   {
    "duration": 100,
    "start_time": "2025-05-31T09:29:42.876Z"
   },
   {
    "duration": 0,
    "start_time": "2025-05-31T09:29:42.979Z"
   },
   {
    "duration": 0,
    "start_time": "2025-05-31T09:29:42.980Z"
   },
   {
    "duration": 0,
    "start_time": "2025-05-31T09:29:42.981Z"
   },
   {
    "duration": 0,
    "start_time": "2025-05-31T09:29:42.982Z"
   },
   {
    "duration": 0,
    "start_time": "2025-05-31T09:29:42.983Z"
   },
   {
    "duration": 0,
    "start_time": "2025-05-31T09:29:42.984Z"
   },
   {
    "duration": 0,
    "start_time": "2025-05-31T09:29:42.985Z"
   },
   {
    "duration": 0,
    "start_time": "2025-05-31T09:29:42.986Z"
   },
   {
    "duration": 0,
    "start_time": "2025-05-31T09:29:42.987Z"
   },
   {
    "duration": 0,
    "start_time": "2025-05-31T09:29:42.988Z"
   },
   {
    "duration": 0,
    "start_time": "2025-05-31T09:29:42.989Z"
   },
   {
    "duration": 0,
    "start_time": "2025-05-31T09:29:42.990Z"
   },
   {
    "duration": 0,
    "start_time": "2025-05-31T09:29:42.991Z"
   },
   {
    "duration": 0,
    "start_time": "2025-05-31T09:29:42.992Z"
   },
   {
    "duration": 0,
    "start_time": "2025-05-31T09:29:42.993Z"
   },
   {
    "duration": 0,
    "start_time": "2025-05-31T09:29:42.995Z"
   },
   {
    "duration": 0,
    "start_time": "2025-05-31T09:29:42.996Z"
   },
   {
    "duration": 0,
    "start_time": "2025-05-31T09:29:42.997Z"
   },
   {
    "duration": 0,
    "start_time": "2025-05-31T09:29:42.998Z"
   },
   {
    "duration": 0,
    "start_time": "2025-05-31T09:29:42.999Z"
   },
   {
    "duration": 0,
    "start_time": "2025-05-31T09:29:43.000Z"
   },
   {
    "duration": 0,
    "start_time": "2025-05-31T09:29:43.001Z"
   },
   {
    "duration": 0,
    "start_time": "2025-05-31T09:29:43.002Z"
   },
   {
    "duration": 0,
    "start_time": "2025-05-31T09:29:43.003Z"
   },
   {
    "duration": 0,
    "start_time": "2025-05-31T09:29:43.004Z"
   },
   {
    "duration": 0,
    "start_time": "2025-05-31T09:29:43.005Z"
   },
   {
    "duration": 0,
    "start_time": "2025-05-31T09:29:43.006Z"
   },
   {
    "duration": 0,
    "start_time": "2025-05-31T09:29:43.007Z"
   },
   {
    "duration": 0,
    "start_time": "2025-05-31T09:29:43.008Z"
   },
   {
    "duration": 0,
    "start_time": "2025-05-31T09:29:43.009Z"
   },
   {
    "duration": 0,
    "start_time": "2025-05-31T09:29:43.010Z"
   },
   {
    "duration": 0,
    "start_time": "2025-05-31T09:29:43.012Z"
   },
   {
    "duration": 0,
    "start_time": "2025-05-31T09:29:43.013Z"
   },
   {
    "duration": 0,
    "start_time": "2025-05-31T09:29:43.013Z"
   },
   {
    "duration": 0,
    "start_time": "2025-05-31T09:29:43.071Z"
   },
   {
    "duration": 0,
    "start_time": "2025-05-31T09:29:43.072Z"
   },
   {
    "duration": 0,
    "start_time": "2025-05-31T09:29:43.074Z"
   },
   {
    "duration": 0,
    "start_time": "2025-05-31T09:29:43.076Z"
   },
   {
    "duration": 0,
    "start_time": "2025-05-31T09:29:43.077Z"
   },
   {
    "duration": 0,
    "start_time": "2025-05-31T09:29:43.078Z"
   },
   {
    "duration": 2359,
    "start_time": "2025-05-31T09:30:40.188Z"
   },
   {
    "duration": 37270,
    "start_time": "2025-05-31T09:30:42.549Z"
   },
   {
    "duration": 47,
    "start_time": "2025-05-31T09:31:19.822Z"
   },
   {
    "duration": 1318,
    "start_time": "2025-05-31T09:31:19.871Z"
   },
   {
    "duration": 330,
    "start_time": "2025-05-31T09:31:21.191Z"
   },
   {
    "duration": 19,
    "start_time": "2025-05-31T09:31:21.523Z"
   },
   {
    "duration": 7,
    "start_time": "2025-05-31T09:31:21.544Z"
   },
   {
    "duration": 16,
    "start_time": "2025-05-31T09:31:21.552Z"
   },
   {
    "duration": 29,
    "start_time": "2025-05-31T09:31:21.570Z"
   },
   {
    "duration": 15,
    "start_time": "2025-05-31T09:31:21.602Z"
   },
   {
    "duration": 15,
    "start_time": "2025-05-31T09:31:21.618Z"
   },
   {
    "duration": 19,
    "start_time": "2025-05-31T09:31:21.635Z"
   },
   {
    "duration": 15,
    "start_time": "2025-05-31T09:31:21.656Z"
   },
   {
    "duration": 17,
    "start_time": "2025-05-31T09:31:21.672Z"
   },
   {
    "duration": 653,
    "start_time": "2025-05-31T09:31:21.691Z"
   },
   {
    "duration": 5,
    "start_time": "2025-05-31T09:31:22.346Z"
   },
   {
    "duration": 448,
    "start_time": "2025-05-31T09:31:22.352Z"
   },
   {
    "duration": 470,
    "start_time": "2025-05-31T09:31:22.802Z"
   },
   {
    "duration": 372,
    "start_time": "2025-05-31T09:31:23.274Z"
   },
   {
    "duration": 578,
    "start_time": "2025-05-31T09:31:23.647Z"
   },
   {
    "duration": 16,
    "start_time": "2025-05-31T09:31:24.226Z"
   },
   {
    "duration": 617,
    "start_time": "2025-05-31T09:31:24.244Z"
   },
   {
    "duration": 419,
    "start_time": "2025-05-31T09:31:24.862Z"
   },
   {
    "duration": 427,
    "start_time": "2025-05-31T09:31:25.282Z"
   },
   {
    "duration": 394,
    "start_time": "2025-05-31T09:31:25.711Z"
   },
   {
    "duration": 5,
    "start_time": "2025-05-31T09:31:26.107Z"
   },
   {
    "duration": 9,
    "start_time": "2025-05-31T09:31:26.113Z"
   },
   {
    "duration": 4,
    "start_time": "2025-05-31T09:31:26.126Z"
   },
   {
    "duration": 8,
    "start_time": "2025-05-31T09:31:26.131Z"
   },
   {
    "duration": 30,
    "start_time": "2025-05-31T09:31:26.141Z"
   },
   {
    "duration": 7,
    "start_time": "2025-05-31T09:31:26.174Z"
   },
   {
    "duration": 6,
    "start_time": "2025-05-31T09:31:26.183Z"
   },
   {
    "duration": 6966,
    "start_time": "2025-05-31T09:31:26.190Z"
   },
   {
    "duration": 32,
    "start_time": "2025-05-31T09:31:33.158Z"
   },
   {
    "duration": 559,
    "start_time": "2025-05-31T09:31:33.192Z"
   },
   {
    "duration": 5,
    "start_time": "2025-05-31T09:31:33.753Z"
   },
   {
    "duration": 405,
    "start_time": "2025-05-31T09:31:33.759Z"
   },
   {
    "duration": 463,
    "start_time": "2025-05-31T09:31:34.165Z"
   },
   {
    "duration": 5,
    "start_time": "2025-05-31T09:31:34.630Z"
   },
   {
    "duration": 290,
    "start_time": "2025-05-31T09:31:34.637Z"
   },
   {
    "duration": 321,
    "start_time": "2025-05-31T09:31:34.929Z"
   },
   {
    "duration": 833,
    "start_time": "2025-05-31T09:31:35.252Z"
   },
   {
    "duration": 6,
    "start_time": "2025-05-31T09:31:36.087Z"
   },
   {
    "duration": 7,
    "start_time": "2025-05-31T09:40:22.071Z"
   },
   {
    "duration": 162,
    "start_time": "2025-05-31T09:40:32.059Z"
   },
   {
    "duration": 48,
    "start_time": "2025-05-31T09:40:36.155Z"
   },
   {
    "duration": 23,
    "start_time": "2025-05-31T09:43:49.255Z"
   },
   {
    "duration": 22,
    "start_time": "2025-05-31T09:44:01.257Z"
   },
   {
    "duration": 23,
    "start_time": "2025-05-31T09:44:06.016Z"
   },
   {
    "duration": 22,
    "start_time": "2025-05-31T09:44:12.445Z"
   },
   {
    "duration": 23,
    "start_time": "2025-05-31T09:44:16.438Z"
   },
   {
    "duration": 38,
    "start_time": "2025-05-31T09:44:25.203Z"
   },
   {
    "duration": 39,
    "start_time": "2025-05-31T09:44:37.729Z"
   },
   {
    "duration": 28,
    "start_time": "2025-05-31T09:49:15.658Z"
   },
   {
    "duration": 774,
    "start_time": "2025-05-31T09:49:19.246Z"
   },
   {
    "duration": 731,
    "start_time": "2025-05-31T09:49:24.280Z"
   },
   {
    "duration": 19,
    "start_time": "2025-05-31T09:49:46.611Z"
   },
   {
    "duration": 113,
    "start_time": "2025-05-31T09:51:32.938Z"
   },
   {
    "duration": 35,
    "start_time": "2025-05-31T09:51:39.977Z"
   },
   {
    "duration": 34,
    "start_time": "2025-05-31T09:51:46.818Z"
   },
   {
    "duration": 21,
    "start_time": "2025-05-31T09:52:21.038Z"
   },
   {
    "duration": 22,
    "start_time": "2025-05-31T10:23:14.804Z"
   },
   {
    "duration": 638,
    "start_time": "2025-05-31T10:31:46.915Z"
   },
   {
    "duration": 13,
    "start_time": "2025-05-31T10:40:43.716Z"
   },
   {
    "duration": 8,
    "start_time": "2025-05-31T10:40:52.000Z"
   },
   {
    "duration": 12,
    "start_time": "2025-05-31T10:40:57.341Z"
   },
   {
    "duration": 20,
    "start_time": "2025-05-31T10:53:51.348Z"
   },
   {
    "duration": 13,
    "start_time": "2025-05-31T10:59:51.873Z"
   },
   {
    "duration": 12,
    "start_time": "2025-05-31T11:00:03.477Z"
   },
   {
    "duration": 465,
    "start_time": "2025-05-31T11:02:42.737Z"
   },
   {
    "duration": 465,
    "start_time": "2025-05-31T11:02:51.565Z"
   },
   {
    "duration": 682,
    "start_time": "2025-05-31T11:08:22.373Z"
   },
   {
    "duration": 495,
    "start_time": "2025-05-31T11:08:37.209Z"
   },
   {
    "duration": 8352,
    "start_time": "2025-05-31T16:33:31.793Z"
   },
   {
    "duration": 71785,
    "start_time": "2025-05-31T16:33:40.147Z"
   },
   {
    "duration": 194,
    "start_time": "2025-05-31T16:34:51.935Z"
   },
   {
    "duration": 0,
    "start_time": "2025-05-31T16:34:52.135Z"
   },
   {
    "duration": 0,
    "start_time": "2025-05-31T16:34:52.138Z"
   },
   {
    "duration": 0,
    "start_time": "2025-05-31T16:34:52.140Z"
   },
   {
    "duration": 0,
    "start_time": "2025-05-31T16:34:52.143Z"
   },
   {
    "duration": 0,
    "start_time": "2025-05-31T16:34:52.144Z"
   },
   {
    "duration": 0,
    "start_time": "2025-05-31T16:34:52.145Z"
   },
   {
    "duration": 0,
    "start_time": "2025-05-31T16:34:52.147Z"
   },
   {
    "duration": 0,
    "start_time": "2025-05-31T16:34:52.148Z"
   },
   {
    "duration": 0,
    "start_time": "2025-05-31T16:34:52.150Z"
   },
   {
    "duration": 0,
    "start_time": "2025-05-31T16:34:52.152Z"
   },
   {
    "duration": 0,
    "start_time": "2025-05-31T16:34:52.153Z"
   },
   {
    "duration": 0,
    "start_time": "2025-05-31T16:34:52.154Z"
   },
   {
    "duration": 0,
    "start_time": "2025-05-31T16:34:52.156Z"
   },
   {
    "duration": 0,
    "start_time": "2025-05-31T16:34:52.157Z"
   },
   {
    "duration": 0,
    "start_time": "2025-05-31T16:34:52.158Z"
   },
   {
    "duration": 0,
    "start_time": "2025-05-31T16:34:52.159Z"
   },
   {
    "duration": 0,
    "start_time": "2025-05-31T16:34:52.161Z"
   },
   {
    "duration": 0,
    "start_time": "2025-05-31T16:34:52.162Z"
   },
   {
    "duration": 0,
    "start_time": "2025-05-31T16:34:52.163Z"
   },
   {
    "duration": 0,
    "start_time": "2025-05-31T16:34:52.165Z"
   },
   {
    "duration": 0,
    "start_time": "2025-05-31T16:34:52.166Z"
   },
   {
    "duration": 0,
    "start_time": "2025-05-31T16:34:52.168Z"
   },
   {
    "duration": 0,
    "start_time": "2025-05-31T16:34:52.169Z"
   },
   {
    "duration": 0,
    "start_time": "2025-05-31T16:34:52.170Z"
   },
   {
    "duration": 0,
    "start_time": "2025-05-31T16:34:52.172Z"
   },
   {
    "duration": 0,
    "start_time": "2025-05-31T16:34:52.173Z"
   },
   {
    "duration": 0,
    "start_time": "2025-05-31T16:34:52.174Z"
   },
   {
    "duration": 0,
    "start_time": "2025-05-31T16:34:52.175Z"
   },
   {
    "duration": 0,
    "start_time": "2025-05-31T16:34:52.177Z"
   },
   {
    "duration": 0,
    "start_time": "2025-05-31T16:34:52.178Z"
   },
   {
    "duration": 0,
    "start_time": "2025-05-31T16:34:52.239Z"
   },
   {
    "duration": 0,
    "start_time": "2025-05-31T16:34:52.241Z"
   },
   {
    "duration": 0,
    "start_time": "2025-05-31T16:34:52.242Z"
   },
   {
    "duration": 0,
    "start_time": "2025-05-31T16:34:52.243Z"
   },
   {
    "duration": 0,
    "start_time": "2025-05-31T16:34:52.244Z"
   },
   {
    "duration": 0,
    "start_time": "2025-05-31T16:34:52.246Z"
   },
   {
    "duration": 0,
    "start_time": "2025-05-31T16:34:52.247Z"
   },
   {
    "duration": 0,
    "start_time": "2025-05-31T16:34:52.248Z"
   },
   {
    "duration": 0,
    "start_time": "2025-05-31T16:34:52.249Z"
   },
   {
    "duration": 0,
    "start_time": "2025-05-31T16:34:52.251Z"
   },
   {
    "duration": 0,
    "start_time": "2025-05-31T16:34:52.252Z"
   },
   {
    "duration": 0,
    "start_time": "2025-05-31T16:34:52.253Z"
   },
   {
    "duration": 2233,
    "start_time": "2025-05-31T16:35:20.924Z"
   },
   {
    "duration": 33924,
    "start_time": "2025-05-31T16:35:23.160Z"
   },
   {
    "duration": 49,
    "start_time": "2025-05-31T16:35:57.087Z"
   },
   {
    "duration": 1240,
    "start_time": "2025-05-31T16:35:57.139Z"
   },
   {
    "duration": 299,
    "start_time": "2025-05-31T16:35:58.382Z"
   },
   {
    "duration": 18,
    "start_time": "2025-05-31T16:35:58.683Z"
   },
   {
    "duration": 25,
    "start_time": "2025-05-31T16:35:58.702Z"
   },
   {
    "duration": 15,
    "start_time": "2025-05-31T16:35:58.729Z"
   },
   {
    "duration": 6,
    "start_time": "2025-05-31T16:35:58.746Z"
   },
   {
    "duration": 14,
    "start_time": "2025-05-31T16:35:58.755Z"
   },
   {
    "duration": 18,
    "start_time": "2025-05-31T16:35:58.770Z"
   },
   {
    "duration": 18,
    "start_time": "2025-05-31T16:35:58.790Z"
   },
   {
    "duration": 30,
    "start_time": "2025-05-31T16:35:58.809Z"
   },
   {
    "duration": 15,
    "start_time": "2025-05-31T16:35:58.841Z"
   },
   {
    "duration": 615,
    "start_time": "2025-05-31T16:35:58.857Z"
   },
   {
    "duration": 5,
    "start_time": "2025-05-31T16:35:59.473Z"
   },
   {
    "duration": 377,
    "start_time": "2025-05-31T16:35:59.480Z"
   },
   {
    "duration": 420,
    "start_time": "2025-05-31T16:35:59.858Z"
   },
   {
    "duration": 364,
    "start_time": "2025-05-31T16:36:00.279Z"
   },
   {
    "duration": 562,
    "start_time": "2025-05-31T16:36:00.645Z"
   },
   {
    "duration": 15,
    "start_time": "2025-05-31T16:36:01.208Z"
   },
   {
    "duration": 593,
    "start_time": "2025-05-31T16:36:01.224Z"
   },
   {
    "duration": 425,
    "start_time": "2025-05-31T16:36:01.819Z"
   },
   {
    "duration": 403,
    "start_time": "2025-05-31T16:36:02.246Z"
   },
   {
    "duration": 367,
    "start_time": "2025-05-31T16:36:02.650Z"
   },
   {
    "duration": 4,
    "start_time": "2025-05-31T16:36:03.019Z"
   },
   {
    "duration": 20,
    "start_time": "2025-05-31T16:36:03.024Z"
   },
   {
    "duration": 6,
    "start_time": "2025-05-31T16:36:03.048Z"
   },
   {
    "duration": 17,
    "start_time": "2025-05-31T16:36:03.056Z"
   },
   {
    "duration": 53,
    "start_time": "2025-05-31T16:36:03.075Z"
   },
   {
    "duration": 49,
    "start_time": "2025-05-31T16:36:03.130Z"
   },
   {
    "duration": 22,
    "start_time": "2025-05-31T16:36:03.181Z"
   },
   {
    "duration": 5694,
    "start_time": "2025-05-31T16:36:03.204Z"
   },
   {
    "duration": 20,
    "start_time": "2025-05-31T16:36:08.900Z"
   },
   {
    "duration": 55,
    "start_time": "2025-05-31T16:36:08.921Z"
   },
   {
    "duration": 483,
    "start_time": "2025-05-31T16:36:08.978Z"
   },
   {
    "duration": 4,
    "start_time": "2025-05-31T16:36:09.463Z"
   },
   {
    "duration": 346,
    "start_time": "2025-05-31T16:36:09.468Z"
   },
   {
    "duration": 401,
    "start_time": "2025-05-31T16:36:09.815Z"
   },
   {
    "duration": 382,
    "start_time": "2025-05-31T16:36:10.217Z"
   },
   {
    "duration": 4,
    "start_time": "2025-05-31T16:36:10.601Z"
   },
   {
    "duration": 219,
    "start_time": "2025-05-31T16:36:10.607Z"
   },
   {
    "duration": 312,
    "start_time": "2025-05-31T16:36:10.828Z"
   },
   {
    "duration": 384,
    "start_time": "2025-05-31T16:36:11.142Z"
   },
   {
    "duration": 4,
    "start_time": "2025-05-31T16:36:11.528Z"
   },
   {
    "duration": 441,
    "start_time": "2025-05-31T16:36:56.702Z"
   },
   {
    "duration": 412,
    "start_time": "2025-05-31T16:37:15.636Z"
   },
   {
    "duration": 6,
    "start_time": "2025-05-31T16:56:34.209Z"
   },
   {
    "duration": 12,
    "start_time": "2025-05-31T18:42:18.951Z"
   },
   {
    "duration": 9,
    "start_time": "2025-05-31T18:43:35.885Z"
   },
   {
    "duration": 20,
    "start_time": "2025-05-31T18:43:39.690Z"
   },
   {
    "duration": 21,
    "start_time": "2025-05-31T18:44:35.674Z"
   },
   {
    "duration": 28,
    "start_time": "2025-05-31T18:44:40.544Z"
   },
   {
    "duration": 24,
    "start_time": "2025-05-31T18:44:49.563Z"
   },
   {
    "duration": 11,
    "start_time": "2025-05-31T18:45:55.266Z"
   },
   {
    "duration": 6,
    "start_time": "2025-05-31T18:46:02.005Z"
   },
   {
    "duration": 28,
    "start_time": "2025-05-31T18:46:09.270Z"
   },
   {
    "duration": 7,
    "start_time": "2025-05-31T18:47:21.764Z"
   },
   {
    "duration": 6,
    "start_time": "2025-05-31T18:48:18.246Z"
   },
   {
    "duration": 4,
    "start_time": "2025-05-31T18:49:27.175Z"
   },
   {
    "duration": 16,
    "start_time": "2025-05-31T18:51:34.431Z"
   },
   {
    "duration": 9,
    "start_time": "2025-05-31T18:51:42.535Z"
   },
   {
    "duration": 17,
    "start_time": "2025-05-31T18:52:30.148Z"
   },
   {
    "duration": 9,
    "start_time": "2025-05-31T18:52:53.978Z"
   },
   {
    "duration": 3,
    "start_time": "2025-05-31T18:52:55.540Z"
   },
   {
    "duration": 3,
    "start_time": "2025-05-31T18:52:58.376Z"
   },
   {
    "duration": 16,
    "start_time": "2025-05-31T18:53:00.420Z"
   },
   {
    "duration": 4,
    "start_time": "2025-05-31T18:53:16.213Z"
   },
   {
    "duration": 7579,
    "start_time": "2025-05-31T18:53:17.554Z"
   },
   {
    "duration": 5040,
    "start_time": "2025-05-31T18:56:25.927Z"
   },
   {
    "duration": 8365,
    "start_time": "2025-06-01T18:16:15.121Z"
   },
   {
    "duration": 71263,
    "start_time": "2025-06-01T18:16:23.488Z"
   },
   {
    "duration": 95,
    "start_time": "2025-06-01T18:17:34.753Z"
   },
   {
    "duration": 0,
    "start_time": "2025-06-01T18:17:34.851Z"
   },
   {
    "duration": 0,
    "start_time": "2025-06-01T18:17:34.853Z"
   },
   {
    "duration": 0,
    "start_time": "2025-06-01T18:17:34.862Z"
   },
   {
    "duration": 0,
    "start_time": "2025-06-01T18:17:34.864Z"
   },
   {
    "duration": 0,
    "start_time": "2025-06-01T18:17:34.866Z"
   },
   {
    "duration": 0,
    "start_time": "2025-06-01T18:17:34.867Z"
   },
   {
    "duration": 0,
    "start_time": "2025-06-01T18:17:34.869Z"
   },
   {
    "duration": 0,
    "start_time": "2025-06-01T18:17:34.871Z"
   },
   {
    "duration": 0,
    "start_time": "2025-06-01T18:17:34.872Z"
   },
   {
    "duration": 0,
    "start_time": "2025-06-01T18:17:34.874Z"
   },
   {
    "duration": 0,
    "start_time": "2025-06-01T18:17:34.875Z"
   },
   {
    "duration": 0,
    "start_time": "2025-06-01T18:17:34.877Z"
   },
   {
    "duration": 0,
    "start_time": "2025-06-01T18:17:34.879Z"
   },
   {
    "duration": 0,
    "start_time": "2025-06-01T18:17:34.880Z"
   },
   {
    "duration": 0,
    "start_time": "2025-06-01T18:17:34.882Z"
   },
   {
    "duration": 0,
    "start_time": "2025-06-01T18:17:34.883Z"
   },
   {
    "duration": 0,
    "start_time": "2025-06-01T18:17:34.885Z"
   },
   {
    "duration": 0,
    "start_time": "2025-06-01T18:17:34.887Z"
   },
   {
    "duration": 0,
    "start_time": "2025-06-01T18:17:34.888Z"
   },
   {
    "duration": 0,
    "start_time": "2025-06-01T18:17:34.890Z"
   },
   {
    "duration": 0,
    "start_time": "2025-06-01T18:17:34.892Z"
   },
   {
    "duration": 0,
    "start_time": "2025-06-01T18:17:34.893Z"
   },
   {
    "duration": 0,
    "start_time": "2025-06-01T18:17:34.894Z"
   },
   {
    "duration": 0,
    "start_time": "2025-06-01T18:17:34.896Z"
   },
   {
    "duration": 0,
    "start_time": "2025-06-01T18:17:34.898Z"
   },
   {
    "duration": 0,
    "start_time": "2025-06-01T18:17:34.899Z"
   },
   {
    "duration": 0,
    "start_time": "2025-06-01T18:17:34.900Z"
   },
   {
    "duration": 0,
    "start_time": "2025-06-01T18:17:34.902Z"
   },
   {
    "duration": 0,
    "start_time": "2025-06-01T18:17:34.903Z"
   },
   {
    "duration": 0,
    "start_time": "2025-06-01T18:17:34.903Z"
   },
   {
    "duration": 0,
    "start_time": "2025-06-01T18:17:34.904Z"
   },
   {
    "duration": 0,
    "start_time": "2025-06-01T18:17:34.904Z"
   },
   {
    "duration": 0,
    "start_time": "2025-06-01T18:17:34.905Z"
   },
   {
    "duration": 0,
    "start_time": "2025-06-01T18:17:34.962Z"
   },
   {
    "duration": 0,
    "start_time": "2025-06-01T18:17:34.964Z"
   },
   {
    "duration": 0,
    "start_time": "2025-06-01T18:17:34.965Z"
   },
   {
    "duration": 0,
    "start_time": "2025-06-01T18:17:34.967Z"
   },
   {
    "duration": 0,
    "start_time": "2025-06-01T18:17:34.968Z"
   },
   {
    "duration": 0,
    "start_time": "2025-06-01T18:17:34.969Z"
   },
   {
    "duration": 0,
    "start_time": "2025-06-01T18:17:34.971Z"
   },
   {
    "duration": 0,
    "start_time": "2025-06-01T18:17:34.973Z"
   },
   {
    "duration": 0,
    "start_time": "2025-06-01T18:17:34.974Z"
   },
   {
    "duration": 0,
    "start_time": "2025-06-01T18:17:34.976Z"
   },
   {
    "duration": 0,
    "start_time": "2025-06-01T18:17:34.978Z"
   },
   {
    "duration": 2245,
    "start_time": "2025-06-01T18:17:43.207Z"
   },
   {
    "duration": 36692,
    "start_time": "2025-06-01T18:17:45.455Z"
   },
   {
    "duration": 51,
    "start_time": "2025-06-01T18:18:22.150Z"
   },
   {
    "duration": 1239,
    "start_time": "2025-06-01T18:18:22.204Z"
   },
   {
    "duration": 321,
    "start_time": "2025-06-01T18:18:23.445Z"
   },
   {
    "duration": 19,
    "start_time": "2025-06-01T18:18:23.768Z"
   },
   {
    "duration": 6,
    "start_time": "2025-06-01T18:18:23.788Z"
   },
   {
    "duration": 11,
    "start_time": "2025-06-01T18:18:23.796Z"
   },
   {
    "duration": 6,
    "start_time": "2025-06-01T18:18:23.809Z"
   },
   {
    "duration": 14,
    "start_time": "2025-06-01T18:18:23.818Z"
   },
   {
    "duration": 35,
    "start_time": "2025-06-01T18:18:23.833Z"
   },
   {
    "duration": 20,
    "start_time": "2025-06-01T18:18:23.870Z"
   },
   {
    "duration": 18,
    "start_time": "2025-06-01T18:18:23.892Z"
   },
   {
    "duration": 16,
    "start_time": "2025-06-01T18:18:23.912Z"
   },
   {
    "duration": 714,
    "start_time": "2025-06-01T18:18:23.930Z"
   },
   {
    "duration": 5,
    "start_time": "2025-06-01T18:18:24.646Z"
   },
   {
    "duration": 463,
    "start_time": "2025-06-01T18:18:24.653Z"
   },
   {
    "duration": 421,
    "start_time": "2025-06-01T18:18:25.118Z"
   },
   {
    "duration": 358,
    "start_time": "2025-06-01T18:18:25.541Z"
   },
   {
    "duration": 545,
    "start_time": "2025-06-01T18:18:25.901Z"
   },
   {
    "duration": 23,
    "start_time": "2025-06-01T18:18:26.448Z"
   },
   {
    "duration": 657,
    "start_time": "2025-06-01T18:18:26.473Z"
   },
   {
    "duration": 563,
    "start_time": "2025-06-01T18:18:27.132Z"
   },
   {
    "duration": 443,
    "start_time": "2025-06-01T18:18:27.697Z"
   },
   {
    "duration": 376,
    "start_time": "2025-06-01T18:18:28.141Z"
   },
   {
    "duration": 4,
    "start_time": "2025-06-01T18:18:28.519Z"
   },
   {
    "duration": 18,
    "start_time": "2025-06-01T18:18:28.524Z"
   },
   {
    "duration": 3,
    "start_time": "2025-06-01T18:18:28.546Z"
   },
   {
    "duration": 7,
    "start_time": "2025-06-01T18:18:28.563Z"
   },
   {
    "duration": 6,
    "start_time": "2025-06-01T18:18:28.572Z"
   },
   {
    "duration": 6,
    "start_time": "2025-06-01T18:18:28.580Z"
   },
   {
    "duration": 5,
    "start_time": "2025-06-01T18:18:28.588Z"
   },
   {
    "duration": 5890,
    "start_time": "2025-06-01T18:18:28.595Z"
   },
   {
    "duration": 22,
    "start_time": "2025-06-01T18:18:34.486Z"
   },
   {
    "duration": 28,
    "start_time": "2025-06-01T18:18:34.509Z"
   },
   {
    "duration": 736,
    "start_time": "2025-06-01T18:18:34.538Z"
   },
   {
    "duration": 5,
    "start_time": "2025-06-01T18:18:35.275Z"
   },
   {
    "duration": 397,
    "start_time": "2025-06-01T18:18:35.282Z"
   },
   {
    "duration": 451,
    "start_time": "2025-06-01T18:18:35.680Z"
   },
   {
    "duration": 433,
    "start_time": "2025-06-01T18:18:36.134Z"
   },
   {
    "duration": 314,
    "start_time": "2025-06-01T18:18:36.569Z"
   },
   {
    "duration": 699,
    "start_time": "2025-06-01T18:18:36.885Z"
   },
   {
    "duration": 8,
    "start_time": "2025-06-01T18:18:37.586Z"
   },
   {
    "duration": 29,
    "start_time": "2025-06-01T18:18:37.596Z"
   },
   {
    "duration": 9,
    "start_time": "2025-06-01T18:18:37.627Z"
   },
   {
    "duration": 25,
    "start_time": "2025-06-01T18:18:37.638Z"
   },
   {
    "duration": 5131,
    "start_time": "2025-06-01T18:18:37.665Z"
   },
   {
    "duration": 9,
    "start_time": "2025-06-01T18:25:01.621Z"
   },
   {
    "duration": 3,
    "start_time": "2025-06-01T18:25:05.277Z"
   },
   {
    "duration": 2130,
    "start_time": "2025-06-01T18:30:06.374Z"
   },
   {
    "duration": 34919,
    "start_time": "2025-06-01T18:30:08.506Z"
   },
   {
    "duration": 53,
    "start_time": "2025-06-01T18:30:43.428Z"
   },
   {
    "duration": 1241,
    "start_time": "2025-06-01T18:30:43.484Z"
   },
   {
    "duration": 457,
    "start_time": "2025-06-01T18:30:44.727Z"
   },
   {
    "duration": 18,
    "start_time": "2025-06-01T18:30:45.186Z"
   },
   {
    "duration": 34,
    "start_time": "2025-06-01T18:30:45.206Z"
   },
   {
    "duration": 18,
    "start_time": "2025-06-01T18:30:45.242Z"
   },
   {
    "duration": 29,
    "start_time": "2025-06-01T18:30:45.262Z"
   },
   {
    "duration": 36,
    "start_time": "2025-06-01T18:30:45.294Z"
   },
   {
    "duration": 89,
    "start_time": "2025-06-01T18:30:45.332Z"
   },
   {
    "duration": 36,
    "start_time": "2025-06-01T18:30:45.423Z"
   },
   {
    "duration": 19,
    "start_time": "2025-06-01T18:30:45.461Z"
   },
   {
    "duration": 34,
    "start_time": "2025-06-01T18:30:45.482Z"
   },
   {
    "duration": 686,
    "start_time": "2025-06-01T18:30:45.518Z"
   },
   {
    "duration": 4,
    "start_time": "2025-06-01T18:30:46.206Z"
   },
   {
    "duration": 596,
    "start_time": "2025-06-01T18:30:46.212Z"
   },
   {
    "duration": 426,
    "start_time": "2025-06-01T18:30:46.810Z"
   },
   {
    "duration": 366,
    "start_time": "2025-06-01T18:30:47.238Z"
   },
   {
    "duration": 582,
    "start_time": "2025-06-01T18:30:47.606Z"
   },
   {
    "duration": 15,
    "start_time": "2025-06-01T18:30:48.190Z"
   },
   {
    "duration": 651,
    "start_time": "2025-06-01T18:30:48.207Z"
   },
   {
    "duration": 546,
    "start_time": "2025-06-01T18:30:48.862Z"
   },
   {
    "duration": 401,
    "start_time": "2025-06-01T18:30:49.410Z"
   },
   {
    "duration": 426,
    "start_time": "2025-06-01T18:30:49.813Z"
   },
   {
    "duration": 5,
    "start_time": "2025-06-01T18:30:50.240Z"
   },
   {
    "duration": 19,
    "start_time": "2025-06-01T18:30:50.246Z"
   },
   {
    "duration": 15,
    "start_time": "2025-06-01T18:30:50.269Z"
   },
   {
    "duration": 18,
    "start_time": "2025-06-01T18:30:50.286Z"
   },
   {
    "duration": 60,
    "start_time": "2025-06-01T18:30:50.306Z"
   },
   {
    "duration": 77,
    "start_time": "2025-06-01T18:30:50.368Z"
   },
   {
    "duration": 7,
    "start_time": "2025-06-01T18:30:50.447Z"
   },
   {
    "duration": 5792,
    "start_time": "2025-06-01T18:30:50.455Z"
   },
   {
    "duration": 28,
    "start_time": "2025-06-01T18:30:56.249Z"
   },
   {
    "duration": 22,
    "start_time": "2025-06-01T18:30:56.279Z"
   },
   {
    "duration": 714,
    "start_time": "2025-06-01T18:30:56.303Z"
   },
   {
    "duration": 4,
    "start_time": "2025-06-01T18:30:57.019Z"
   },
   {
    "duration": 365,
    "start_time": "2025-06-01T18:30:57.025Z"
   },
   {
    "duration": 439,
    "start_time": "2025-06-01T18:30:57.392Z"
   },
   {
    "duration": 461,
    "start_time": "2025-06-01T18:30:57.833Z"
   },
   {
    "duration": 302,
    "start_time": "2025-06-01T18:30:58.296Z"
   },
   {
    "duration": 793,
    "start_time": "2025-06-01T18:30:58.600Z"
   },
   {
    "duration": 8,
    "start_time": "2025-06-01T18:30:59.395Z"
   },
   {
    "duration": 33,
    "start_time": "2025-06-01T18:30:59.405Z"
   },
   {
    "duration": 9,
    "start_time": "2025-06-01T18:30:59.439Z"
   },
   {
    "duration": 16,
    "start_time": "2025-06-01T18:30:59.450Z"
   },
   {
    "duration": 2297,
    "start_time": "2025-06-01T18:38:10.126Z"
   },
   {
    "duration": 36693,
    "start_time": "2025-06-01T18:38:12.426Z"
   },
   {
    "duration": 50,
    "start_time": "2025-06-01T18:38:49.121Z"
   },
   {
    "duration": 1352,
    "start_time": "2025-06-01T18:38:49.175Z"
   },
   {
    "duration": 345,
    "start_time": "2025-06-01T18:38:50.530Z"
   },
   {
    "duration": 18,
    "start_time": "2025-06-01T18:38:50.878Z"
   },
   {
    "duration": 56,
    "start_time": "2025-06-01T18:38:50.897Z"
   },
   {
    "duration": 16,
    "start_time": "2025-06-01T18:38:50.954Z"
   },
   {
    "duration": 7,
    "start_time": "2025-06-01T18:38:50.975Z"
   },
   {
    "duration": 100,
    "start_time": "2025-06-01T18:38:50.985Z"
   },
   {
    "duration": 6,
    "start_time": "2025-06-01T18:38:51.087Z"
   },
   {
    "duration": 20,
    "start_time": "2025-06-01T18:38:51.095Z"
   },
   {
    "duration": 13,
    "start_time": "2025-06-01T18:38:51.117Z"
   },
   {
    "duration": 15,
    "start_time": "2025-06-01T18:38:51.131Z"
   },
   {
    "duration": 608,
    "start_time": "2025-06-01T18:38:51.148Z"
   },
   {
    "duration": 12,
    "start_time": "2025-06-01T18:38:51.757Z"
   },
   {
    "duration": 432,
    "start_time": "2025-06-01T18:38:51.773Z"
   },
   {
    "duration": 450,
    "start_time": "2025-06-01T18:38:52.207Z"
   },
   {
    "duration": 379,
    "start_time": "2025-06-01T18:38:52.662Z"
   },
   {
    "duration": 576,
    "start_time": "2025-06-01T18:38:53.043Z"
   },
   {
    "duration": 15,
    "start_time": "2025-06-01T18:38:53.622Z"
   },
   {
    "duration": 754,
    "start_time": "2025-06-01T18:38:53.639Z"
   },
   {
    "duration": 597,
    "start_time": "2025-06-01T18:38:54.395Z"
   },
   {
    "duration": 415,
    "start_time": "2025-06-01T18:38:54.994Z"
   },
   {
    "duration": 377,
    "start_time": "2025-06-01T18:38:55.411Z"
   },
   {
    "duration": 4,
    "start_time": "2025-06-01T18:38:55.790Z"
   },
   {
    "duration": 27,
    "start_time": "2025-06-01T18:38:55.796Z"
   },
   {
    "duration": 12,
    "start_time": "2025-06-01T18:38:55.826Z"
   },
   {
    "duration": 7,
    "start_time": "2025-06-01T18:38:55.839Z"
   },
   {
    "duration": 8,
    "start_time": "2025-06-01T18:38:55.847Z"
   },
   {
    "duration": 6,
    "start_time": "2025-06-01T18:38:55.857Z"
   },
   {
    "duration": 30,
    "start_time": "2025-06-01T18:38:55.865Z"
   },
   {
    "duration": 5933,
    "start_time": "2025-06-01T18:38:55.897Z"
   },
   {
    "duration": 32,
    "start_time": "2025-06-01T18:39:01.831Z"
   },
   {
    "duration": 22,
    "start_time": "2025-06-01T18:39:01.864Z"
   },
   {
    "duration": 646,
    "start_time": "2025-06-01T18:39:01.887Z"
   },
   {
    "duration": 4,
    "start_time": "2025-06-01T18:39:02.534Z"
   },
   {
    "duration": 385,
    "start_time": "2025-06-01T18:39:02.540Z"
   },
   {
    "duration": 436,
    "start_time": "2025-06-01T18:39:02.927Z"
   },
   {
    "duration": 420,
    "start_time": "2025-06-01T18:39:03.364Z"
   },
   {
    "duration": 305,
    "start_time": "2025-06-01T18:39:03.786Z"
   },
   {
    "duration": 666,
    "start_time": "2025-06-01T18:39:04.093Z"
   },
   {
    "duration": 8,
    "start_time": "2025-06-01T18:39:04.762Z"
   },
   {
    "duration": 39,
    "start_time": "2025-06-01T18:39:04.772Z"
   },
   {
    "duration": 9,
    "start_time": "2025-06-01T18:39:04.813Z"
   },
   {
    "duration": 5,
    "start_time": "2025-06-01T18:39:04.824Z"
   },
   {
    "duration": 9474,
    "start_time": "2025-06-01T20:05:08.033Z"
   },
   {
    "duration": 78747,
    "start_time": "2025-06-01T20:05:17.509Z"
   },
   {
    "duration": 96,
    "start_time": "2025-06-01T20:06:36.259Z"
   },
   {
    "duration": 0,
    "start_time": "2025-06-01T20:06:36.358Z"
   },
   {
    "duration": 0,
    "start_time": "2025-06-01T20:06:36.359Z"
   },
   {
    "duration": 0,
    "start_time": "2025-06-01T20:06:36.361Z"
   },
   {
    "duration": 0,
    "start_time": "2025-06-01T20:06:36.362Z"
   },
   {
    "duration": 0,
    "start_time": "2025-06-01T20:06:36.363Z"
   },
   {
    "duration": 0,
    "start_time": "2025-06-01T20:06:36.364Z"
   },
   {
    "duration": 0,
    "start_time": "2025-06-01T20:06:36.365Z"
   },
   {
    "duration": 0,
    "start_time": "2025-06-01T20:06:36.366Z"
   },
   {
    "duration": 0,
    "start_time": "2025-06-01T20:06:36.368Z"
   },
   {
    "duration": 0,
    "start_time": "2025-06-01T20:06:36.369Z"
   },
   {
    "duration": 0,
    "start_time": "2025-06-01T20:06:36.370Z"
   },
   {
    "duration": 0,
    "start_time": "2025-06-01T20:06:36.371Z"
   },
   {
    "duration": 0,
    "start_time": "2025-06-01T20:06:36.372Z"
   },
   {
    "duration": 0,
    "start_time": "2025-06-01T20:06:36.373Z"
   },
   {
    "duration": 0,
    "start_time": "2025-06-01T20:06:36.375Z"
   },
   {
    "duration": 0,
    "start_time": "2025-06-01T20:06:36.376Z"
   },
   {
    "duration": 0,
    "start_time": "2025-06-01T20:06:36.377Z"
   },
   {
    "duration": 0,
    "start_time": "2025-06-01T20:06:36.378Z"
   },
   {
    "duration": 0,
    "start_time": "2025-06-01T20:06:36.379Z"
   },
   {
    "duration": 0,
    "start_time": "2025-06-01T20:06:36.380Z"
   },
   {
    "duration": 0,
    "start_time": "2025-06-01T20:06:36.381Z"
   },
   {
    "duration": 0,
    "start_time": "2025-06-01T20:06:36.382Z"
   },
   {
    "duration": 0,
    "start_time": "2025-06-01T20:06:36.383Z"
   },
   {
    "duration": 0,
    "start_time": "2025-06-01T20:06:36.384Z"
   },
   {
    "duration": 0,
    "start_time": "2025-06-01T20:06:36.385Z"
   },
   {
    "duration": 0,
    "start_time": "2025-06-01T20:06:36.386Z"
   },
   {
    "duration": 0,
    "start_time": "2025-06-01T20:06:36.440Z"
   },
   {
    "duration": 0,
    "start_time": "2025-06-01T20:06:36.441Z"
   },
   {
    "duration": 0,
    "start_time": "2025-06-01T20:06:36.442Z"
   },
   {
    "duration": 0,
    "start_time": "2025-06-01T20:06:36.443Z"
   },
   {
    "duration": 0,
    "start_time": "2025-06-01T20:06:36.445Z"
   },
   {
    "duration": 0,
    "start_time": "2025-06-01T20:06:36.446Z"
   },
   {
    "duration": 0,
    "start_time": "2025-06-01T20:06:36.447Z"
   },
   {
    "duration": 0,
    "start_time": "2025-06-01T20:06:36.448Z"
   },
   {
    "duration": 0,
    "start_time": "2025-06-01T20:06:36.449Z"
   },
   {
    "duration": 0,
    "start_time": "2025-06-01T20:06:36.451Z"
   },
   {
    "duration": 0,
    "start_time": "2025-06-01T20:06:36.452Z"
   },
   {
    "duration": 0,
    "start_time": "2025-06-01T20:06:36.453Z"
   },
   {
    "duration": 0,
    "start_time": "2025-06-01T20:06:36.454Z"
   },
   {
    "duration": 0,
    "start_time": "2025-06-01T20:06:36.455Z"
   },
   {
    "duration": 0,
    "start_time": "2025-06-01T20:06:36.456Z"
   },
   {
    "duration": 0,
    "start_time": "2025-06-01T20:06:36.458Z"
   },
   {
    "duration": 0,
    "start_time": "2025-06-01T20:06:36.459Z"
   },
   {
    "duration": 0,
    "start_time": "2025-06-01T20:06:36.460Z"
   },
   {
    "duration": 0,
    "start_time": "2025-06-01T20:06:36.461Z"
   },
   {
    "duration": 2280,
    "start_time": "2025-06-01T20:06:42.833Z"
   },
   {
    "duration": 35496,
    "start_time": "2025-06-01T20:06:45.115Z"
   },
   {
    "duration": 120,
    "start_time": "2025-06-01T20:07:20.614Z"
   },
   {
    "duration": 1314,
    "start_time": "2025-06-01T20:07:20.737Z"
   },
   {
    "duration": 512,
    "start_time": "2025-06-01T20:07:22.054Z"
   },
   {
    "duration": 20,
    "start_time": "2025-06-01T20:07:22.568Z"
   },
   {
    "duration": 12,
    "start_time": "2025-06-01T20:07:22.589Z"
   },
   {
    "duration": 28,
    "start_time": "2025-06-01T20:07:22.602Z"
   },
   {
    "duration": 8,
    "start_time": "2025-06-01T20:07:22.632Z"
   },
   {
    "duration": 21,
    "start_time": "2025-06-01T20:07:22.643Z"
   },
   {
    "duration": 38,
    "start_time": "2025-06-01T20:07:22.666Z"
   },
   {
    "duration": 48,
    "start_time": "2025-06-01T20:07:22.706Z"
   },
   {
    "duration": 32,
    "start_time": "2025-06-01T20:07:22.756Z"
   },
   {
    "duration": 47,
    "start_time": "2025-06-01T20:07:22.790Z"
   },
   {
    "duration": 683,
    "start_time": "2025-06-01T20:07:22.839Z"
   },
   {
    "duration": 12,
    "start_time": "2025-06-01T20:07:23.527Z"
   },
   {
    "duration": 601,
    "start_time": "2025-06-01T20:07:23.540Z"
   },
   {
    "duration": 457,
    "start_time": "2025-06-01T20:07:24.143Z"
   },
   {
    "duration": 385,
    "start_time": "2025-06-01T20:07:24.602Z"
   },
   {
    "duration": 582,
    "start_time": "2025-06-01T20:07:24.988Z"
   },
   {
    "duration": 16,
    "start_time": "2025-06-01T20:07:25.572Z"
   },
   {
    "duration": 733,
    "start_time": "2025-06-01T20:07:25.590Z"
   },
   {
    "duration": 506,
    "start_time": "2025-06-01T20:07:26.325Z"
   },
   {
    "duration": 421,
    "start_time": "2025-06-01T20:07:26.833Z"
   },
   {
    "duration": 416,
    "start_time": "2025-06-01T20:07:27.256Z"
   },
   {
    "duration": 4,
    "start_time": "2025-06-01T20:07:27.674Z"
   },
   {
    "duration": 182,
    "start_time": "2025-06-01T20:07:27.680Z"
   },
   {
    "duration": 3,
    "start_time": "2025-06-01T20:07:27.865Z"
   },
   {
    "duration": 27,
    "start_time": "2025-06-01T20:07:27.870Z"
   },
   {
    "duration": 4,
    "start_time": "2025-06-01T20:07:27.899Z"
   },
   {
    "duration": 8,
    "start_time": "2025-06-01T20:07:27.905Z"
   },
   {
    "duration": 28,
    "start_time": "2025-06-01T20:07:27.915Z"
   },
   {
    "duration": 5911,
    "start_time": "2025-06-01T20:07:27.945Z"
   },
   {
    "duration": 23,
    "start_time": "2025-06-01T20:07:33.858Z"
   },
   {
    "duration": 23,
    "start_time": "2025-06-01T20:07:33.883Z"
   },
   {
    "duration": 636,
    "start_time": "2025-06-01T20:07:33.907Z"
   },
   {
    "duration": 5,
    "start_time": "2025-06-01T20:07:34.545Z"
   },
   {
    "duration": 396,
    "start_time": "2025-06-01T20:07:34.552Z"
   },
   {
    "duration": 455,
    "start_time": "2025-06-01T20:07:34.949Z"
   },
   {
    "duration": 421,
    "start_time": "2025-06-01T20:07:35.406Z"
   },
   {
    "duration": 325,
    "start_time": "2025-06-01T20:07:35.829Z"
   },
   {
    "duration": 707,
    "start_time": "2025-06-01T20:07:36.157Z"
   },
   {
    "duration": 9,
    "start_time": "2025-06-01T20:07:36.866Z"
   },
   {
    "duration": 43,
    "start_time": "2025-06-01T20:07:36.876Z"
   },
   {
    "duration": 8,
    "start_time": "2025-06-01T20:07:36.921Z"
   },
   {
    "duration": 8,
    "start_time": "2025-06-01T20:07:36.938Z"
   },
   {
    "duration": 46,
    "start_time": "2025-06-01T20:22:46.848Z"
   },
   {
    "duration": 2053,
    "start_time": "2025-06-01T20:23:42.216Z"
   },
   {
    "duration": 34274,
    "start_time": "2025-06-01T20:23:44.271Z"
   },
   {
    "duration": 43,
    "start_time": "2025-06-01T20:24:18.547Z"
   },
   {
    "duration": 1193,
    "start_time": "2025-06-01T20:24:18.592Z"
   },
   {
    "duration": 302,
    "start_time": "2025-06-01T20:24:19.787Z"
   },
   {
    "duration": 19,
    "start_time": "2025-06-01T20:24:20.090Z"
   },
   {
    "duration": 21,
    "start_time": "2025-06-01T20:24:20.111Z"
   },
   {
    "duration": 26,
    "start_time": "2025-06-01T20:24:20.134Z"
   },
   {
    "duration": 6,
    "start_time": "2025-06-01T20:24:20.161Z"
   },
   {
    "duration": 10,
    "start_time": "2025-06-01T20:24:20.169Z"
   },
   {
    "duration": 9,
    "start_time": "2025-06-01T20:24:20.181Z"
   },
   {
    "duration": 18,
    "start_time": "2025-06-01T20:24:20.191Z"
   },
   {
    "duration": 89,
    "start_time": "2025-06-01T20:24:20.211Z"
   },
   {
    "duration": 15,
    "start_time": "2025-06-01T20:24:20.301Z"
   },
   {
    "duration": 572,
    "start_time": "2025-06-01T20:24:20.317Z"
   },
   {
    "duration": 5,
    "start_time": "2025-06-01T20:24:20.891Z"
   },
   {
    "duration": 445,
    "start_time": "2025-06-01T20:24:20.897Z"
   },
   {
    "duration": 402,
    "start_time": "2025-06-01T20:24:21.344Z"
   },
   {
    "duration": 343,
    "start_time": "2025-06-01T20:24:21.747Z"
   },
   {
    "duration": 491,
    "start_time": "2025-06-01T20:24:22.092Z"
   },
   {
    "duration": 12,
    "start_time": "2025-06-01T20:24:22.585Z"
   },
   {
    "duration": 569,
    "start_time": "2025-06-01T20:24:22.599Z"
   },
   {
    "duration": 404,
    "start_time": "2025-06-01T20:24:23.169Z"
   },
   {
    "duration": 407,
    "start_time": "2025-06-01T20:24:23.575Z"
   },
   {
    "duration": 363,
    "start_time": "2025-06-01T20:24:23.983Z"
   },
   {
    "duration": 5,
    "start_time": "2025-06-01T20:24:24.348Z"
   },
   {
    "duration": 11,
    "start_time": "2025-06-01T20:24:24.354Z"
   },
   {
    "duration": 3,
    "start_time": "2025-06-01T20:24:24.368Z"
   },
   {
    "duration": 24,
    "start_time": "2025-06-01T20:24:24.373Z"
   },
   {
    "duration": 4,
    "start_time": "2025-06-01T20:24:24.399Z"
   },
   {
    "duration": 7,
    "start_time": "2025-06-01T20:24:24.405Z"
   },
   {
    "duration": 5,
    "start_time": "2025-06-01T20:24:24.413Z"
   },
   {
    "duration": 5450,
    "start_time": "2025-06-01T20:24:24.419Z"
   },
   {
    "duration": 20,
    "start_time": "2025-06-01T20:24:29.870Z"
   },
   {
    "duration": 37,
    "start_time": "2025-06-01T20:24:29.891Z"
   },
   {
    "duration": 543,
    "start_time": "2025-06-01T20:24:29.929Z"
   },
   {
    "duration": 5,
    "start_time": "2025-06-01T20:24:30.474Z"
   },
   {
    "duration": 368,
    "start_time": "2025-06-01T20:24:30.480Z"
   },
   {
    "duration": 398,
    "start_time": "2025-06-01T20:24:30.850Z"
   },
   {
    "duration": 378,
    "start_time": "2025-06-01T20:24:31.250Z"
   },
   {
    "duration": 289,
    "start_time": "2025-06-01T20:24:31.630Z"
   },
   {
    "duration": 413,
    "start_time": "2025-06-01T20:24:31.921Z"
   },
   {
    "duration": 8,
    "start_time": "2025-06-01T20:24:32.339Z"
   },
   {
    "duration": 24,
    "start_time": "2025-06-01T20:24:32.348Z"
   },
   {
    "duration": 8,
    "start_time": "2025-06-01T20:24:32.373Z"
   },
   {
    "duration": 25,
    "start_time": "2025-06-01T20:24:32.383Z"
   },
   {
    "duration": 22,
    "start_time": "2025-06-01T20:24:32.410Z"
   },
   {
    "duration": 140,
    "start_time": "2025-06-01T20:24:32.433Z"
   },
   {
    "duration": 0,
    "start_time": "2025-06-01T20:24:32.575Z"
   },
   {
    "duration": 0,
    "start_time": "2025-06-01T20:24:32.576Z"
   },
   {
    "duration": 0,
    "start_time": "2025-06-01T20:24:32.577Z"
   },
   {
    "duration": 11,
    "start_time": "2025-06-01T20:25:43.937Z"
   },
   {
    "duration": 12,
    "start_time": "2025-06-01T20:28:03.413Z"
   },
   {
    "duration": 10,
    "start_time": "2025-06-01T20:28:18.806Z"
   },
   {
    "duration": 13,
    "start_time": "2025-06-01T20:28:24.463Z"
   },
   {
    "duration": 5,
    "start_time": "2025-06-01T20:29:06.065Z"
   },
   {
    "duration": 11,
    "start_time": "2025-06-01T20:29:12.573Z"
   },
   {
    "duration": 6,
    "start_time": "2025-06-01T20:29:23.074Z"
   },
   {
    "duration": 18,
    "start_time": "2025-06-01T20:29:28.681Z"
   },
   {
    "duration": 8,
    "start_time": "2025-06-01T20:29:42.906Z"
   },
   {
    "duration": 4,
    "start_time": "2025-06-01T20:29:46.006Z"
   },
   {
    "duration": 7891,
    "start_time": "2025-06-01T20:29:53.677Z"
   },
   {
    "duration": 10,
    "start_time": "2025-06-01T20:30:28.107Z"
   },
   {
    "duration": 2118,
    "start_time": "2025-06-01T20:30:50.454Z"
   },
   {
    "duration": 34368,
    "start_time": "2025-06-01T20:30:52.574Z"
   },
   {
    "duration": 43,
    "start_time": "2025-06-01T20:31:26.944Z"
   },
   {
    "duration": 1240,
    "start_time": "2025-06-01T20:31:26.988Z"
   },
   {
    "duration": 280,
    "start_time": "2025-06-01T20:31:28.231Z"
   },
   {
    "duration": 17,
    "start_time": "2025-06-01T20:31:28.512Z"
   },
   {
    "duration": 22,
    "start_time": "2025-06-01T20:31:28.531Z"
   },
   {
    "duration": 37,
    "start_time": "2025-06-01T20:31:28.555Z"
   },
   {
    "duration": 34,
    "start_time": "2025-06-01T20:31:28.593Z"
   },
   {
    "duration": 34,
    "start_time": "2025-06-01T20:31:28.628Z"
   },
   {
    "duration": 43,
    "start_time": "2025-06-01T20:31:28.663Z"
   },
   {
    "duration": 42,
    "start_time": "2025-06-01T20:31:28.707Z"
   },
   {
    "duration": 22,
    "start_time": "2025-06-01T20:31:28.750Z"
   },
   {
    "duration": 26,
    "start_time": "2025-06-01T20:31:28.776Z"
   },
   {
    "duration": 600,
    "start_time": "2025-06-01T20:31:28.803Z"
   },
   {
    "duration": 4,
    "start_time": "2025-06-01T20:31:29.405Z"
   },
   {
    "duration": 439,
    "start_time": "2025-06-01T20:31:29.411Z"
   },
   {
    "duration": 431,
    "start_time": "2025-06-01T20:31:29.852Z"
   },
   {
    "duration": 351,
    "start_time": "2025-06-01T20:31:30.285Z"
   },
   {
    "duration": 529,
    "start_time": "2025-06-01T20:31:30.638Z"
   },
   {
    "duration": 13,
    "start_time": "2025-06-01T20:31:31.169Z"
   },
   {
    "duration": 615,
    "start_time": "2025-06-01T20:31:31.183Z"
   },
   {
    "duration": 418,
    "start_time": "2025-06-01T20:31:31.799Z"
   },
   {
    "duration": 382,
    "start_time": "2025-06-01T20:31:32.219Z"
   },
   {
    "duration": 363,
    "start_time": "2025-06-01T20:31:32.603Z"
   },
   {
    "duration": 4,
    "start_time": "2025-06-01T20:31:32.968Z"
   },
   {
    "duration": 10,
    "start_time": "2025-06-01T20:31:32.974Z"
   },
   {
    "duration": 3,
    "start_time": "2025-06-01T20:31:32.985Z"
   },
   {
    "duration": 10,
    "start_time": "2025-06-01T20:31:32.989Z"
   },
   {
    "duration": 8,
    "start_time": "2025-06-01T20:31:33.000Z"
   },
   {
    "duration": 12,
    "start_time": "2025-06-01T20:31:33.010Z"
   },
   {
    "duration": 28,
    "start_time": "2025-06-01T20:31:33.038Z"
   },
   {
    "duration": 5627,
    "start_time": "2025-06-01T20:31:33.068Z"
   },
   {
    "duration": 21,
    "start_time": "2025-06-01T20:31:38.697Z"
   },
   {
    "duration": 40,
    "start_time": "2025-06-01T20:31:38.719Z"
   },
   {
    "duration": 526,
    "start_time": "2025-06-01T20:31:38.761Z"
   },
   {
    "duration": 4,
    "start_time": "2025-06-01T20:31:39.289Z"
   },
   {
    "duration": 352,
    "start_time": "2025-06-01T20:31:39.295Z"
   },
   {
    "duration": 408,
    "start_time": "2025-06-01T20:31:39.648Z"
   },
   {
    "duration": 384,
    "start_time": "2025-06-01T20:31:40.057Z"
   },
   {
    "duration": 288,
    "start_time": "2025-06-01T20:31:40.445Z"
   },
   {
    "duration": 483,
    "start_time": "2025-06-01T20:31:40.738Z"
   },
   {
    "duration": 12,
    "start_time": "2025-06-01T20:31:41.223Z"
   },
   {
    "duration": 11,
    "start_time": "2025-06-01T20:31:41.239Z"
   },
   {
    "duration": 35,
    "start_time": "2025-06-01T20:31:41.252Z"
   },
   {
    "duration": 8,
    "start_time": "2025-06-01T20:31:41.288Z"
   },
   {
    "duration": 6,
    "start_time": "2025-06-01T20:31:41.297Z"
   },
   {
    "duration": 149,
    "start_time": "2025-06-01T20:31:41.304Z"
   },
   {
    "duration": 0,
    "start_time": "2025-06-01T20:31:41.454Z"
   },
   {
    "duration": 0,
    "start_time": "2025-06-01T20:31:41.456Z"
   },
   {
    "duration": 0,
    "start_time": "2025-06-01T20:31:41.457Z"
   },
   {
    "duration": 0,
    "start_time": "2025-06-01T20:31:41.458Z"
   },
   {
    "duration": 4961,
    "start_time": "2025-06-01T20:32:23.088Z"
   },
   {
    "duration": 8,
    "start_time": "2025-06-01T20:32:39.118Z"
   },
   {
    "duration": 3,
    "start_time": "2025-06-01T20:32:42.642Z"
   },
   {
    "duration": 6124,
    "start_time": "2025-06-01T20:32:45.516Z"
   },
   {
    "duration": 8,
    "start_time": "2025-06-01T20:33:02.458Z"
   },
   {
    "duration": 3,
    "start_time": "2025-06-01T20:33:07.445Z"
   },
   {
    "duration": 1950,
    "start_time": "2025-06-01T20:34:45.906Z"
   },
   {
    "duration": 33791,
    "start_time": "2025-06-01T20:34:47.858Z"
   },
   {
    "duration": 45,
    "start_time": "2025-06-01T20:35:21.652Z"
   },
   {
    "duration": 1234,
    "start_time": "2025-06-01T20:35:21.700Z"
   },
   {
    "duration": 291,
    "start_time": "2025-06-01T20:35:22.937Z"
   },
   {
    "duration": 17,
    "start_time": "2025-06-01T20:35:23.229Z"
   },
   {
    "duration": 6,
    "start_time": "2025-06-01T20:35:23.247Z"
   },
   {
    "duration": 11,
    "start_time": "2025-06-01T20:35:23.255Z"
   },
   {
    "duration": 12,
    "start_time": "2025-06-01T20:35:23.267Z"
   },
   {
    "duration": 12,
    "start_time": "2025-06-01T20:35:23.282Z"
   },
   {
    "duration": 10,
    "start_time": "2025-06-01T20:35:23.295Z"
   },
   {
    "duration": 34,
    "start_time": "2025-06-01T20:35:23.307Z"
   },
   {
    "duration": 14,
    "start_time": "2025-06-01T20:35:23.342Z"
   },
   {
    "duration": 15,
    "start_time": "2025-06-01T20:35:23.357Z"
   },
   {
    "duration": 681,
    "start_time": "2025-06-01T20:35:23.374Z"
   },
   {
    "duration": 5,
    "start_time": "2025-06-01T20:35:24.057Z"
   },
   {
    "duration": 480,
    "start_time": "2025-06-01T20:35:24.063Z"
   },
   {
    "duration": 428,
    "start_time": "2025-06-01T20:35:24.544Z"
   },
   {
    "duration": 367,
    "start_time": "2025-06-01T20:35:24.974Z"
   },
   {
    "duration": 555,
    "start_time": "2025-06-01T20:35:25.343Z"
   },
   {
    "duration": 15,
    "start_time": "2025-06-01T20:35:25.900Z"
   },
   {
    "duration": 604,
    "start_time": "2025-06-01T20:35:25.917Z"
   },
   {
    "duration": 453,
    "start_time": "2025-06-01T20:35:26.523Z"
   },
   {
    "duration": 422,
    "start_time": "2025-06-01T20:35:26.978Z"
   },
   {
    "duration": 421,
    "start_time": "2025-06-01T20:35:27.402Z"
   },
   {
    "duration": 6,
    "start_time": "2025-06-01T20:35:27.825Z"
   },
   {
    "duration": 101,
    "start_time": "2025-06-01T20:35:27.839Z"
   },
   {
    "duration": 3,
    "start_time": "2025-06-01T20:35:27.944Z"
   },
   {
    "duration": 10,
    "start_time": "2025-06-01T20:35:27.949Z"
   },
   {
    "duration": 9,
    "start_time": "2025-06-01T20:35:27.960Z"
   },
   {
    "duration": 14,
    "start_time": "2025-06-01T20:35:27.971Z"
   },
   {
    "duration": 7,
    "start_time": "2025-06-01T20:35:27.986Z"
   },
   {
    "duration": 5770,
    "start_time": "2025-06-01T20:35:27.995Z"
   },
   {
    "duration": 24,
    "start_time": "2025-06-01T20:35:33.767Z"
   },
   {
    "duration": 150,
    "start_time": "2025-06-01T20:35:33.793Z"
   },
   {
    "duration": 611,
    "start_time": "2025-06-01T20:35:33.945Z"
   },
   {
    "duration": 5,
    "start_time": "2025-06-01T20:35:34.558Z"
   },
   {
    "duration": 406,
    "start_time": "2025-06-01T20:35:34.564Z"
   },
   {
    "duration": 432,
    "start_time": "2025-06-01T20:35:34.972Z"
   },
   {
    "duration": 426,
    "start_time": "2025-06-01T20:35:35.406Z"
   },
   {
    "duration": 306,
    "start_time": "2025-06-01T20:35:35.833Z"
   },
   {
    "duration": 391,
    "start_time": "2025-06-01T20:35:36.141Z"
   },
   {
    "duration": 13,
    "start_time": "2025-06-01T20:35:36.534Z"
   },
   {
    "duration": 32,
    "start_time": "2025-06-01T20:35:36.548Z"
   },
   {
    "duration": 50,
    "start_time": "2025-06-01T20:35:36.582Z"
   },
   {
    "duration": 8,
    "start_time": "2025-06-01T20:35:36.634Z"
   },
   {
    "duration": 53,
    "start_time": "2025-06-01T20:35:36.644Z"
   },
   {
    "duration": 31,
    "start_time": "2025-06-01T20:35:36.699Z"
   },
   {
    "duration": 6246,
    "start_time": "2025-06-01T20:35:36.731Z"
   },
   {
    "duration": 162,
    "start_time": "2025-06-01T20:35:42.979Z"
   },
   {
    "duration": 0,
    "start_time": "2025-06-01T20:35:43.143Z"
   },
   {
    "duration": 0,
    "start_time": "2025-06-01T20:35:43.144Z"
   },
   {
    "duration": 89,
    "start_time": "2025-06-01T20:36:14.382Z"
   },
   {
    "duration": 8,
    "start_time": "2025-06-01T20:36:27.227Z"
   },
   {
    "duration": 3,
    "start_time": "2025-06-01T20:36:28.196Z"
   },
   {
    "duration": 4701,
    "start_time": "2025-06-01T20:36:30.960Z"
   },
   {
    "duration": 59,
    "start_time": "2025-06-01T20:36:39.709Z"
   },
   {
    "duration": 1783,
    "start_time": "2025-06-01T21:32:24.267Z"
   },
   {
    "duration": 32293,
    "start_time": "2025-06-01T21:32:26.052Z"
   },
   {
    "duration": 39,
    "start_time": "2025-06-01T21:32:58.347Z"
   },
   {
    "duration": 1164,
    "start_time": "2025-06-01T21:32:58.388Z"
   },
   {
    "duration": 350,
    "start_time": "2025-06-01T21:32:59.555Z"
   },
   {
    "duration": 19,
    "start_time": "2025-06-01T21:32:59.906Z"
   },
   {
    "duration": 7,
    "start_time": "2025-06-01T21:32:59.926Z"
   },
   {
    "duration": 9,
    "start_time": "2025-06-01T21:32:59.934Z"
   },
   {
    "duration": 6,
    "start_time": "2025-06-01T21:32:59.945Z"
   },
   {
    "duration": 11,
    "start_time": "2025-06-01T21:32:59.954Z"
   },
   {
    "duration": 16,
    "start_time": "2025-06-01T21:32:59.966Z"
   },
   {
    "duration": 51,
    "start_time": "2025-06-01T21:32:59.984Z"
   },
   {
    "duration": 117,
    "start_time": "2025-06-01T21:33:00.037Z"
   },
   {
    "duration": 86,
    "start_time": "2025-06-01T21:33:00.156Z"
   },
   {
    "duration": 613,
    "start_time": "2025-06-01T21:33:00.244Z"
   },
   {
    "duration": 5,
    "start_time": "2025-06-01T21:33:00.859Z"
   },
   {
    "duration": 513,
    "start_time": "2025-06-01T21:33:00.866Z"
   },
   {
    "duration": 398,
    "start_time": "2025-06-01T21:33:01.381Z"
   },
   {
    "duration": 325,
    "start_time": "2025-06-01T21:33:01.781Z"
   },
   {
    "duration": 481,
    "start_time": "2025-06-01T21:33:02.108Z"
   },
   {
    "duration": 13,
    "start_time": "2025-06-01T21:33:02.591Z"
   },
   {
    "duration": 565,
    "start_time": "2025-06-01T21:33:02.606Z"
   },
   {
    "duration": 341,
    "start_time": "2025-06-01T21:33:03.173Z"
   },
   {
    "duration": 369,
    "start_time": "2025-06-01T21:33:03.516Z"
   },
   {
    "duration": 329,
    "start_time": "2025-06-01T21:33:03.887Z"
   },
   {
    "duration": 5,
    "start_time": "2025-06-01T21:33:04.218Z"
   },
   {
    "duration": 19,
    "start_time": "2025-06-01T21:33:04.225Z"
   },
   {
    "duration": 13,
    "start_time": "2025-06-01T21:33:04.247Z"
   },
   {
    "duration": 6,
    "start_time": "2025-06-01T21:33:04.261Z"
   },
   {
    "duration": 5,
    "start_time": "2025-06-01T21:33:04.268Z"
   },
   {
    "duration": 5,
    "start_time": "2025-06-01T21:33:04.274Z"
   },
   {
    "duration": 39,
    "start_time": "2025-06-01T21:33:04.281Z"
   },
   {
    "duration": 5297,
    "start_time": "2025-06-01T21:33:04.322Z"
   },
   {
    "duration": 28,
    "start_time": "2025-06-01T21:33:09.621Z"
   },
   {
    "duration": 18,
    "start_time": "2025-06-01T21:33:09.650Z"
   },
   {
    "duration": 500,
    "start_time": "2025-06-01T21:33:09.670Z"
   },
   {
    "duration": 4,
    "start_time": "2025-06-01T21:33:10.172Z"
   },
   {
    "duration": 404,
    "start_time": "2025-06-01T21:33:10.177Z"
   },
   {
    "duration": 401,
    "start_time": "2025-06-01T21:33:10.582Z"
   },
   {
    "duration": 369,
    "start_time": "2025-06-01T21:33:10.985Z"
   },
   {
    "duration": 272,
    "start_time": "2025-06-01T21:33:11.356Z"
   },
   {
    "duration": 481,
    "start_time": "2025-06-01T21:33:11.629Z"
   },
   {
    "duration": 5,
    "start_time": "2025-06-01T21:33:12.112Z"
   },
   {
    "duration": 110,
    "start_time": "2025-06-01T21:33:12.118Z"
   },
   {
    "duration": 7,
    "start_time": "2025-06-01T21:33:12.229Z"
   },
   {
    "duration": 7,
    "start_time": "2025-06-01T21:33:12.237Z"
   },
   {
    "duration": 4539,
    "start_time": "2025-06-01T21:33:12.245Z"
   },
   {
    "duration": 67,
    "start_time": "2025-06-01T21:33:16.786Z"
   },
   {
    "duration": 6659,
    "start_time": "2025-06-02T11:55:07.134Z"
   },
   {
    "duration": 72929,
    "start_time": "2025-06-02T11:55:13.795Z"
   },
   {
    "duration": 49,
    "start_time": "2025-06-02T11:56:26.727Z"
   },
   {
    "duration": 1365,
    "start_time": "2025-06-02T11:56:26.777Z"
   },
   {
    "duration": 531,
    "start_time": "2025-06-02T11:56:28.145Z"
   },
   {
    "duration": 28,
    "start_time": "2025-06-02T11:56:28.678Z"
   },
   {
    "duration": 62,
    "start_time": "2025-06-02T11:56:28.707Z"
   },
   {
    "duration": 30,
    "start_time": "2025-06-02T11:56:28.770Z"
   },
   {
    "duration": 17,
    "start_time": "2025-06-02T11:56:28.801Z"
   },
   {
    "duration": 17,
    "start_time": "2025-06-02T11:56:28.819Z"
   },
   {
    "duration": 7,
    "start_time": "2025-06-02T11:56:28.838Z"
   },
   {
    "duration": 30,
    "start_time": "2025-06-02T11:56:28.846Z"
   },
   {
    "duration": 18,
    "start_time": "2025-06-02T11:56:28.877Z"
   },
   {
    "duration": 44,
    "start_time": "2025-06-02T11:56:28.897Z"
   },
   {
    "duration": 476,
    "start_time": "2025-06-02T11:56:28.943Z"
   },
   {
    "duration": 0,
    "start_time": "2025-06-02T11:56:29.421Z"
   },
   {
    "duration": 0,
    "start_time": "2025-06-02T11:56:29.422Z"
   },
   {
    "duration": 0,
    "start_time": "2025-06-02T11:56:29.423Z"
   },
   {
    "duration": 0,
    "start_time": "2025-06-02T11:56:29.424Z"
   },
   {
    "duration": 0,
    "start_time": "2025-06-02T11:56:29.425Z"
   },
   {
    "duration": 0,
    "start_time": "2025-06-02T11:56:29.426Z"
   },
   {
    "duration": 0,
    "start_time": "2025-06-02T11:56:29.437Z"
   },
   {
    "duration": 0,
    "start_time": "2025-06-02T11:56:29.438Z"
   },
   {
    "duration": 0,
    "start_time": "2025-06-02T11:56:29.439Z"
   },
   {
    "duration": 0,
    "start_time": "2025-06-02T11:56:29.441Z"
   },
   {
    "duration": 0,
    "start_time": "2025-06-02T11:56:29.441Z"
   },
   {
    "duration": 0,
    "start_time": "2025-06-02T11:56:29.442Z"
   },
   {
    "duration": 0,
    "start_time": "2025-06-02T11:56:29.443Z"
   },
   {
    "duration": 0,
    "start_time": "2025-06-02T11:56:29.444Z"
   },
   {
    "duration": 0,
    "start_time": "2025-06-02T11:56:29.445Z"
   },
   {
    "duration": 0,
    "start_time": "2025-06-02T11:56:29.446Z"
   },
   {
    "duration": 0,
    "start_time": "2025-06-02T11:56:29.447Z"
   },
   {
    "duration": 0,
    "start_time": "2025-06-02T11:56:29.448Z"
   },
   {
    "duration": 9313,
    "start_time": "2025-06-02T19:43:54.171Z"
   },
   {
    "duration": 77479,
    "start_time": "2025-06-02T19:44:03.487Z"
   },
   {
    "duration": 101,
    "start_time": "2025-06-02T19:45:20.968Z"
   },
   {
    "duration": 0,
    "start_time": "2025-06-02T19:45:21.073Z"
   },
   {
    "duration": 0,
    "start_time": "2025-06-02T19:45:21.075Z"
   },
   {
    "duration": 0,
    "start_time": "2025-06-02T19:45:21.077Z"
   },
   {
    "duration": 0,
    "start_time": "2025-06-02T19:45:21.079Z"
   },
   {
    "duration": 0,
    "start_time": "2025-06-02T19:45:21.080Z"
   },
   {
    "duration": 0,
    "start_time": "2025-06-02T19:45:21.082Z"
   },
   {
    "duration": 0,
    "start_time": "2025-06-02T19:45:21.083Z"
   },
   {
    "duration": 0,
    "start_time": "2025-06-02T19:45:21.085Z"
   },
   {
    "duration": 0,
    "start_time": "2025-06-02T19:45:21.110Z"
   },
   {
    "duration": 0,
    "start_time": "2025-06-02T19:45:21.111Z"
   },
   {
    "duration": 0,
    "start_time": "2025-06-02T19:45:21.113Z"
   },
   {
    "duration": 0,
    "start_time": "2025-06-02T19:45:21.115Z"
   },
   {
    "duration": 0,
    "start_time": "2025-06-02T19:45:21.117Z"
   },
   {
    "duration": 0,
    "start_time": "2025-06-02T19:45:21.118Z"
   },
   {
    "duration": 0,
    "start_time": "2025-06-02T19:45:21.120Z"
   },
   {
    "duration": 0,
    "start_time": "2025-06-02T19:45:21.121Z"
   },
   {
    "duration": 0,
    "start_time": "2025-06-02T19:45:21.123Z"
   },
   {
    "duration": 0,
    "start_time": "2025-06-02T19:45:21.124Z"
   },
   {
    "duration": 0,
    "start_time": "2025-06-02T19:45:21.126Z"
   },
   {
    "duration": 0,
    "start_time": "2025-06-02T19:45:21.128Z"
   },
   {
    "duration": 0,
    "start_time": "2025-06-02T19:45:21.129Z"
   },
   {
    "duration": 0,
    "start_time": "2025-06-02T19:45:21.131Z"
   },
   {
    "duration": 0,
    "start_time": "2025-06-02T19:45:21.132Z"
   },
   {
    "duration": 0,
    "start_time": "2025-06-02T19:45:21.134Z"
   },
   {
    "duration": 0,
    "start_time": "2025-06-02T19:45:21.135Z"
   },
   {
    "duration": 0,
    "start_time": "2025-06-02T19:45:21.137Z"
   },
   {
    "duration": 0,
    "start_time": "2025-06-02T19:45:21.139Z"
   },
   {
    "duration": 0,
    "start_time": "2025-06-02T19:45:21.140Z"
   },
   {
    "duration": 0,
    "start_time": "2025-06-02T19:45:21.141Z"
   },
   {
    "duration": 0,
    "start_time": "2025-06-02T19:45:21.142Z"
   },
   {
    "duration": 0,
    "start_time": "2025-06-02T19:45:21.143Z"
   },
   {
    "duration": 0,
    "start_time": "2025-06-02T19:45:21.145Z"
   },
   {
    "duration": 0,
    "start_time": "2025-06-02T19:45:21.206Z"
   },
   {
    "duration": 0,
    "start_time": "2025-06-02T19:45:21.207Z"
   },
   {
    "duration": 0,
    "start_time": "2025-06-02T19:45:21.208Z"
   },
   {
    "duration": 0,
    "start_time": "2025-06-02T19:45:21.209Z"
   },
   {
    "duration": 0,
    "start_time": "2025-06-02T19:45:21.210Z"
   },
   {
    "duration": 0,
    "start_time": "2025-06-02T19:45:21.211Z"
   },
   {
    "duration": 0,
    "start_time": "2025-06-02T19:45:21.213Z"
   },
   {
    "duration": 0,
    "start_time": "2025-06-02T19:45:21.214Z"
   },
   {
    "duration": 0,
    "start_time": "2025-06-02T19:45:21.215Z"
   },
   {
    "duration": 0,
    "start_time": "2025-06-02T19:45:21.216Z"
   },
   {
    "duration": 0,
    "start_time": "2025-06-02T19:45:21.216Z"
   },
   {
    "duration": 0,
    "start_time": "2025-06-02T19:45:21.218Z"
   },
   {
    "duration": 0,
    "start_time": "2025-06-02T19:45:21.219Z"
   },
   {
    "duration": 2341,
    "start_time": "2025-06-02T19:45:42.239Z"
   },
   {
    "duration": 37622,
    "start_time": "2025-06-02T19:45:44.583Z"
   },
   {
    "duration": 48,
    "start_time": "2025-06-02T19:46:22.207Z"
   },
   {
    "duration": 1371,
    "start_time": "2025-06-02T19:46:22.257Z"
   },
   {
    "duration": 332,
    "start_time": "2025-06-02T19:46:23.630Z"
   },
   {
    "duration": 21,
    "start_time": "2025-06-02T19:46:23.964Z"
   },
   {
    "duration": 28,
    "start_time": "2025-06-02T19:46:23.987Z"
   },
   {
    "duration": 92,
    "start_time": "2025-06-02T19:46:24.017Z"
   },
   {
    "duration": 24,
    "start_time": "2025-06-02T19:46:24.110Z"
   },
   {
    "duration": 10,
    "start_time": "2025-06-02T19:46:24.137Z"
   },
   {
    "duration": 12,
    "start_time": "2025-06-02T19:46:24.149Z"
   },
   {
    "duration": 19,
    "start_time": "2025-06-02T19:46:24.162Z"
   },
   {
    "duration": 24,
    "start_time": "2025-06-02T19:46:24.183Z"
   },
   {
    "duration": 17,
    "start_time": "2025-06-02T19:46:24.209Z"
   },
   {
    "duration": 628,
    "start_time": "2025-06-02T19:46:24.227Z"
   },
   {
    "duration": 5,
    "start_time": "2025-06-02T19:46:24.857Z"
   },
   {
    "duration": 470,
    "start_time": "2025-06-02T19:46:24.863Z"
   },
   {
    "duration": 480,
    "start_time": "2025-06-02T19:46:25.335Z"
   },
   {
    "duration": 431,
    "start_time": "2025-06-02T19:46:25.816Z"
   },
   {
    "duration": 578,
    "start_time": "2025-06-02T19:46:26.249Z"
   },
   {
    "duration": 15,
    "start_time": "2025-06-02T19:46:26.829Z"
   },
   {
    "duration": 623,
    "start_time": "2025-06-02T19:46:26.846Z"
   },
   {
    "duration": 465,
    "start_time": "2025-06-02T19:46:27.471Z"
   },
   {
    "duration": 434,
    "start_time": "2025-06-02T19:46:27.938Z"
   },
   {
    "duration": 531,
    "start_time": "2025-06-02T19:46:28.374Z"
   },
   {
    "duration": 5,
    "start_time": "2025-06-02T19:46:28.906Z"
   },
   {
    "duration": 17,
    "start_time": "2025-06-02T19:46:28.913Z"
   },
   {
    "duration": 4,
    "start_time": "2025-06-02T19:46:28.934Z"
   },
   {
    "duration": 7,
    "start_time": "2025-06-02T19:46:28.939Z"
   },
   {
    "duration": 35,
    "start_time": "2025-06-02T19:46:28.947Z"
   },
   {
    "duration": 12,
    "start_time": "2025-06-02T19:46:28.984Z"
   },
   {
    "duration": 9,
    "start_time": "2025-06-02T19:46:28.997Z"
   },
   {
    "duration": 6409,
    "start_time": "2025-06-02T19:46:29.008Z"
   },
   {
    "duration": 22,
    "start_time": "2025-06-02T19:46:35.419Z"
   },
   {
    "duration": 27,
    "start_time": "2025-06-02T19:46:35.443Z"
   },
   {
    "duration": 628,
    "start_time": "2025-06-02T19:46:35.471Z"
   },
   {
    "duration": 5,
    "start_time": "2025-06-02T19:46:36.106Z"
   },
   {
    "duration": 798,
    "start_time": "2025-06-02T19:46:36.113Z"
   },
   {
    "duration": 914,
    "start_time": "2025-06-02T19:46:36.912Z"
   },
   {
    "duration": 516,
    "start_time": "2025-06-02T19:46:37.828Z"
   },
   {
    "duration": 324,
    "start_time": "2025-06-02T19:46:38.346Z"
   },
   {
    "duration": 446,
    "start_time": "2025-06-02T19:46:38.672Z"
   },
   {
    "duration": 6,
    "start_time": "2025-06-02T19:46:39.119Z"
   },
   {
    "duration": 63,
    "start_time": "2025-06-02T19:46:39.127Z"
   },
   {
    "duration": 8,
    "start_time": "2025-06-02T19:46:39.192Z"
   },
   {
    "duration": 11,
    "start_time": "2025-06-02T19:46:39.202Z"
   },
   {
    "duration": 5436,
    "start_time": "2025-06-02T19:46:39.215Z"
   },
   {
    "duration": 78,
    "start_time": "2025-06-02T19:46:44.653Z"
   },
   {
    "duration": 2168,
    "start_time": "2025-06-02T20:09:44.327Z"
   },
   {
    "duration": 148729,
    "start_time": "2025-06-02T20:09:46.497Z"
   },
   {
    "duration": 57,
    "start_time": "2025-06-02T20:12:15.229Z"
   },
   {
    "duration": 1450,
    "start_time": "2025-06-02T20:12:15.289Z"
   },
   {
    "duration": 312,
    "start_time": "2025-06-02T20:12:16.742Z"
   },
   {
    "duration": 28,
    "start_time": "2025-06-02T20:12:17.056Z"
   },
   {
    "duration": 15,
    "start_time": "2025-06-02T20:12:17.086Z"
   },
   {
    "duration": 13,
    "start_time": "2025-06-02T20:12:17.103Z"
   },
   {
    "duration": 11,
    "start_time": "2025-06-02T20:12:17.118Z"
   },
   {
    "duration": 13,
    "start_time": "2025-06-02T20:12:17.132Z"
   },
   {
    "duration": 53,
    "start_time": "2025-06-02T20:12:17.147Z"
   },
   {
    "duration": 123,
    "start_time": "2025-06-02T20:12:17.202Z"
   },
   {
    "duration": 17,
    "start_time": "2025-06-02T20:12:17.327Z"
   },
   {
    "duration": 28,
    "start_time": "2025-06-02T20:12:17.346Z"
   },
   {
    "duration": 892,
    "start_time": "2025-06-02T20:12:17.376Z"
   },
   {
    "duration": 0,
    "start_time": "2025-06-02T20:12:18.270Z"
   },
   {
    "duration": 0,
    "start_time": "2025-06-02T20:12:18.272Z"
   },
   {
    "duration": 0,
    "start_time": "2025-06-02T20:12:18.273Z"
   },
   {
    "duration": 0,
    "start_time": "2025-06-02T20:12:18.274Z"
   },
   {
    "duration": 0,
    "start_time": "2025-06-02T20:12:18.275Z"
   },
   {
    "duration": 0,
    "start_time": "2025-06-02T20:12:18.276Z"
   },
   {
    "duration": 0,
    "start_time": "2025-06-02T20:12:18.277Z"
   },
   {
    "duration": 0,
    "start_time": "2025-06-02T20:12:18.278Z"
   },
   {
    "duration": 0,
    "start_time": "2025-06-02T20:12:18.280Z"
   },
   {
    "duration": 0,
    "start_time": "2025-06-02T20:12:18.281Z"
   },
   {
    "duration": 0,
    "start_time": "2025-06-02T20:12:18.282Z"
   },
   {
    "duration": 0,
    "start_time": "2025-06-02T20:12:18.306Z"
   },
   {
    "duration": 0,
    "start_time": "2025-06-02T20:12:18.307Z"
   },
   {
    "duration": 0,
    "start_time": "2025-06-02T20:12:18.308Z"
   },
   {
    "duration": 0,
    "start_time": "2025-06-02T20:12:18.310Z"
   },
   {
    "duration": 0,
    "start_time": "2025-06-02T20:12:18.311Z"
   },
   {
    "duration": 0,
    "start_time": "2025-06-02T20:12:18.312Z"
   },
   {
    "duration": 0,
    "start_time": "2025-06-02T20:12:18.313Z"
   },
   {
    "duration": 0,
    "start_time": "2025-06-02T20:12:18.314Z"
   },
   {
    "duration": 0,
    "start_time": "2025-06-02T20:12:18.316Z"
   },
   {
    "duration": 0,
    "start_time": "2025-06-02T20:12:18.317Z"
   },
   {
    "duration": 0,
    "start_time": "2025-06-02T20:12:18.318Z"
   },
   {
    "duration": 0,
    "start_time": "2025-06-02T20:12:18.319Z"
   },
   {
    "duration": 0,
    "start_time": "2025-06-02T20:12:18.320Z"
   },
   {
    "duration": 0,
    "start_time": "2025-06-02T20:12:18.322Z"
   },
   {
    "duration": 0,
    "start_time": "2025-06-02T20:12:18.323Z"
   },
   {
    "duration": 0,
    "start_time": "2025-06-02T20:12:18.324Z"
   },
   {
    "duration": 0,
    "start_time": "2025-06-02T20:12:18.325Z"
   },
   {
    "duration": 0,
    "start_time": "2025-06-02T20:12:18.326Z"
   },
   {
    "duration": 0,
    "start_time": "2025-06-02T20:12:18.327Z"
   },
   {
    "duration": 0,
    "start_time": "2025-06-02T20:12:18.328Z"
   },
   {
    "duration": 539,
    "start_time": "2025-06-02T20:15:13.049Z"
   },
   {
    "duration": 0,
    "start_time": "2025-06-02T20:15:13.591Z"
   },
   {
    "duration": 0,
    "start_time": "2025-06-02T20:15:13.595Z"
   },
   {
    "duration": 0,
    "start_time": "2025-06-02T20:15:13.596Z"
   },
   {
    "duration": 0,
    "start_time": "2025-06-02T20:15:13.598Z"
   },
   {
    "duration": 0,
    "start_time": "2025-06-02T20:15:13.599Z"
   },
   {
    "duration": 0,
    "start_time": "2025-06-02T20:15:13.600Z"
   },
   {
    "duration": 0,
    "start_time": "2025-06-02T20:15:13.601Z"
   },
   {
    "duration": 0,
    "start_time": "2025-06-02T20:15:13.602Z"
   },
   {
    "duration": 0,
    "start_time": "2025-06-02T20:15:13.603Z"
   },
   {
    "duration": 0,
    "start_time": "2025-06-02T20:15:13.605Z"
   },
   {
    "duration": 0,
    "start_time": "2025-06-02T20:15:13.606Z"
   },
   {
    "duration": 0,
    "start_time": "2025-06-02T20:15:13.607Z"
   },
   {
    "duration": 0,
    "start_time": "2025-06-02T20:15:13.608Z"
   },
   {
    "duration": 0,
    "start_time": "2025-06-02T20:15:13.609Z"
   },
   {
    "duration": 0,
    "start_time": "2025-06-02T20:15:13.610Z"
   },
   {
    "duration": 0,
    "start_time": "2025-06-02T20:15:13.611Z"
   },
   {
    "duration": 0,
    "start_time": "2025-06-02T20:15:13.612Z"
   },
   {
    "duration": 0,
    "start_time": "2025-06-02T20:15:13.613Z"
   },
   {
    "duration": 0,
    "start_time": "2025-06-02T20:15:13.615Z"
   },
   {
    "duration": 0,
    "start_time": "2025-06-02T20:15:13.616Z"
   },
   {
    "duration": 0,
    "start_time": "2025-06-02T20:15:13.617Z"
   },
   {
    "duration": 0,
    "start_time": "2025-06-02T20:15:13.618Z"
   },
   {
    "duration": 0,
    "start_time": "2025-06-02T20:15:13.619Z"
   },
   {
    "duration": 0,
    "start_time": "2025-06-02T20:15:13.620Z"
   },
   {
    "duration": 0,
    "start_time": "2025-06-02T20:15:13.621Z"
   },
   {
    "duration": 0,
    "start_time": "2025-06-02T20:15:13.622Z"
   },
   {
    "duration": 0,
    "start_time": "2025-06-02T20:15:13.623Z"
   },
   {
    "duration": 0,
    "start_time": "2025-06-02T20:15:13.624Z"
   },
   {
    "duration": 0,
    "start_time": "2025-06-02T20:15:13.626Z"
   },
   {
    "duration": 0,
    "start_time": "2025-06-02T20:15:13.626Z"
   },
   {
    "duration": 0,
    "start_time": "2025-06-02T20:15:13.628Z"
   },
   {
    "duration": 0,
    "start_time": "2025-06-02T20:15:13.629Z"
   },
   {
    "duration": 0,
    "start_time": "2025-06-02T20:15:13.630Z"
   },
   {
    "duration": 0,
    "start_time": "2025-06-02T20:15:13.631Z"
   },
   {
    "duration": 0,
    "start_time": "2025-06-02T20:15:13.632Z"
   },
   {
    "duration": 0,
    "start_time": "2025-06-02T20:15:13.633Z"
   },
   {
    "duration": 0,
    "start_time": "2025-06-02T20:15:13.634Z"
   },
   {
    "duration": 0,
    "start_time": "2025-06-02T20:15:13.635Z"
   },
   {
    "duration": 0,
    "start_time": "2025-06-02T20:15:13.637Z"
   },
   {
    "duration": 0,
    "start_time": "2025-06-02T20:15:13.638Z"
   },
   {
    "duration": 0,
    "start_time": "2025-06-02T20:15:13.639Z"
   },
   {
    "duration": 0,
    "start_time": "2025-06-02T20:15:13.640Z"
   },
   {
    "duration": 0,
    "start_time": "2025-06-02T20:15:13.641Z"
   },
   {
    "duration": 0,
    "start_time": "2025-06-02T20:15:13.642Z"
   },
   {
    "duration": 0,
    "start_time": "2025-06-02T20:15:13.643Z"
   },
   {
    "duration": 569,
    "start_time": "2025-06-02T20:16:11.378Z"
   },
   {
    "duration": 0,
    "start_time": "2025-06-02T20:16:11.950Z"
   },
   {
    "duration": 0,
    "start_time": "2025-06-02T20:16:11.952Z"
   },
   {
    "duration": 0,
    "start_time": "2025-06-02T20:16:11.953Z"
   },
   {
    "duration": 0,
    "start_time": "2025-06-02T20:16:11.954Z"
   },
   {
    "duration": 0,
    "start_time": "2025-06-02T20:16:11.955Z"
   },
   {
    "duration": 0,
    "start_time": "2025-06-02T20:16:11.957Z"
   },
   {
    "duration": 0,
    "start_time": "2025-06-02T20:16:11.958Z"
   },
   {
    "duration": 0,
    "start_time": "2025-06-02T20:16:11.959Z"
   },
   {
    "duration": 0,
    "start_time": "2025-06-02T20:16:11.960Z"
   },
   {
    "duration": 0,
    "start_time": "2025-06-02T20:16:11.961Z"
   },
   {
    "duration": 0,
    "start_time": "2025-06-02T20:16:11.962Z"
   },
   {
    "duration": 0,
    "start_time": "2025-06-02T20:16:11.963Z"
   },
   {
    "duration": 0,
    "start_time": "2025-06-02T20:16:11.964Z"
   },
   {
    "duration": 0,
    "start_time": "2025-06-02T20:16:11.966Z"
   },
   {
    "duration": 0,
    "start_time": "2025-06-02T20:16:11.967Z"
   },
   {
    "duration": 0,
    "start_time": "2025-06-02T20:16:11.968Z"
   },
   {
    "duration": 0,
    "start_time": "2025-06-02T20:16:11.969Z"
   },
   {
    "duration": 0,
    "start_time": "2025-06-02T20:16:11.970Z"
   },
   {
    "duration": 0,
    "start_time": "2025-06-02T20:16:11.971Z"
   },
   {
    "duration": 0,
    "start_time": "2025-06-02T20:16:11.972Z"
   },
   {
    "duration": 0,
    "start_time": "2025-06-02T20:16:11.974Z"
   },
   {
    "duration": 0,
    "start_time": "2025-06-02T20:16:11.975Z"
   },
   {
    "duration": 0,
    "start_time": "2025-06-02T20:16:11.976Z"
   },
   {
    "duration": 0,
    "start_time": "2025-06-02T20:16:11.977Z"
   },
   {
    "duration": 0,
    "start_time": "2025-06-02T20:16:11.979Z"
   },
   {
    "duration": 0,
    "start_time": "2025-06-02T20:16:11.980Z"
   },
   {
    "duration": 0,
    "start_time": "2025-06-02T20:16:11.981Z"
   },
   {
    "duration": 0,
    "start_time": "2025-06-02T20:16:11.983Z"
   },
   {
    "duration": 0,
    "start_time": "2025-06-02T20:16:11.984Z"
   },
   {
    "duration": 0,
    "start_time": "2025-06-02T20:16:11.985Z"
   },
   {
    "duration": 0,
    "start_time": "2025-06-02T20:16:11.986Z"
   },
   {
    "duration": 0,
    "start_time": "2025-06-02T20:16:11.987Z"
   },
   {
    "duration": 0,
    "start_time": "2025-06-02T20:16:11.988Z"
   },
   {
    "duration": 0,
    "start_time": "2025-06-02T20:16:12.005Z"
   },
   {
    "duration": 0,
    "start_time": "2025-06-02T20:16:12.006Z"
   },
   {
    "duration": 0,
    "start_time": "2025-06-02T20:16:12.008Z"
   },
   {
    "duration": 0,
    "start_time": "2025-06-02T20:16:12.008Z"
   },
   {
    "duration": 0,
    "start_time": "2025-06-02T20:16:12.010Z"
   },
   {
    "duration": 0,
    "start_time": "2025-06-02T20:16:12.011Z"
   },
   {
    "duration": 0,
    "start_time": "2025-06-02T20:16:12.012Z"
   },
   {
    "duration": 0,
    "start_time": "2025-06-02T20:16:12.012Z"
   },
   {
    "duration": 0,
    "start_time": "2025-06-02T20:16:12.014Z"
   },
   {
    "duration": 0,
    "start_time": "2025-06-02T20:16:12.015Z"
   },
   {
    "duration": 0,
    "start_time": "2025-06-02T20:16:12.016Z"
   },
   {
    "duration": 0,
    "start_time": "2025-06-02T20:16:12.017Z"
   },
   {
    "duration": 543,
    "start_time": "2025-06-02T20:19:36.116Z"
   },
   {
    "duration": 0,
    "start_time": "2025-06-02T20:19:36.662Z"
   },
   {
    "duration": 0,
    "start_time": "2025-06-02T20:19:36.663Z"
   },
   {
    "duration": 0,
    "start_time": "2025-06-02T20:19:36.665Z"
   },
   {
    "duration": 0,
    "start_time": "2025-06-02T20:19:36.667Z"
   },
   {
    "duration": 0,
    "start_time": "2025-06-02T20:19:36.669Z"
   },
   {
    "duration": 0,
    "start_time": "2025-06-02T20:19:36.670Z"
   },
   {
    "duration": 0,
    "start_time": "2025-06-02T20:19:36.672Z"
   },
   {
    "duration": 0,
    "start_time": "2025-06-02T20:19:36.674Z"
   },
   {
    "duration": 0,
    "start_time": "2025-06-02T20:19:36.675Z"
   },
   {
    "duration": 0,
    "start_time": "2025-06-02T20:19:36.676Z"
   },
   {
    "duration": 0,
    "start_time": "2025-06-02T20:19:36.678Z"
   },
   {
    "duration": 0,
    "start_time": "2025-06-02T20:19:36.680Z"
   },
   {
    "duration": 0,
    "start_time": "2025-06-02T20:19:36.681Z"
   },
   {
    "duration": 1,
    "start_time": "2025-06-02T20:19:36.682Z"
   },
   {
    "duration": 0,
    "start_time": "2025-06-02T20:19:36.684Z"
   },
   {
    "duration": 0,
    "start_time": "2025-06-02T20:19:36.686Z"
   },
   {
    "duration": 0,
    "start_time": "2025-06-02T20:19:36.687Z"
   },
   {
    "duration": 0,
    "start_time": "2025-06-02T20:19:36.689Z"
   },
   {
    "duration": 0,
    "start_time": "2025-06-02T20:19:36.690Z"
   },
   {
    "duration": 0,
    "start_time": "2025-06-02T20:19:36.691Z"
   },
   {
    "duration": 0,
    "start_time": "2025-06-02T20:19:36.693Z"
   },
   {
    "duration": 0,
    "start_time": "2025-06-02T20:19:36.695Z"
   },
   {
    "duration": 0,
    "start_time": "2025-06-02T20:19:36.696Z"
   },
   {
    "duration": 0,
    "start_time": "2025-06-02T20:19:36.698Z"
   },
   {
    "duration": 0,
    "start_time": "2025-06-02T20:19:36.699Z"
   },
   {
    "duration": 0,
    "start_time": "2025-06-02T20:19:36.704Z"
   },
   {
    "duration": 0,
    "start_time": "2025-06-02T20:19:36.706Z"
   },
   {
    "duration": 0,
    "start_time": "2025-06-02T20:19:36.707Z"
   },
   {
    "duration": 0,
    "start_time": "2025-06-02T20:19:36.709Z"
   },
   {
    "duration": 0,
    "start_time": "2025-06-02T20:19:36.711Z"
   },
   {
    "duration": 0,
    "start_time": "2025-06-02T20:19:36.712Z"
   },
   {
    "duration": 0,
    "start_time": "2025-06-02T20:19:36.714Z"
   },
   {
    "duration": 0,
    "start_time": "2025-06-02T20:19:36.715Z"
   },
   {
    "duration": 0,
    "start_time": "2025-06-02T20:19:36.716Z"
   },
   {
    "duration": 0,
    "start_time": "2025-06-02T20:19:36.718Z"
   },
   {
    "duration": 0,
    "start_time": "2025-06-02T20:19:36.720Z"
   },
   {
    "duration": 0,
    "start_time": "2025-06-02T20:19:36.721Z"
   },
   {
    "duration": 0,
    "start_time": "2025-06-02T20:19:36.723Z"
   },
   {
    "duration": 0,
    "start_time": "2025-06-02T20:19:36.725Z"
   },
   {
    "duration": 0,
    "start_time": "2025-06-02T20:19:36.726Z"
   },
   {
    "duration": 0,
    "start_time": "2025-06-02T20:19:36.728Z"
   },
   {
    "duration": 0,
    "start_time": "2025-06-02T20:19:36.729Z"
   },
   {
    "duration": 0,
    "start_time": "2025-06-02T20:19:36.731Z"
   },
   {
    "duration": 0,
    "start_time": "2025-06-02T20:19:36.732Z"
   },
   {
    "duration": 0,
    "start_time": "2025-06-02T20:19:36.734Z"
   },
   {
    "duration": 804,
    "start_time": "2025-06-02T20:19:55.615Z"
   },
   {
    "duration": 0,
    "start_time": "2025-06-02T20:19:56.424Z"
   },
   {
    "duration": 0,
    "start_time": "2025-06-02T20:19:56.425Z"
   },
   {
    "duration": 0,
    "start_time": "2025-06-02T20:19:56.426Z"
   },
   {
    "duration": 0,
    "start_time": "2025-06-02T20:19:56.428Z"
   },
   {
    "duration": 0,
    "start_time": "2025-06-02T20:19:56.429Z"
   },
   {
    "duration": 0,
    "start_time": "2025-06-02T20:19:56.431Z"
   },
   {
    "duration": 0,
    "start_time": "2025-06-02T20:19:56.433Z"
   },
   {
    "duration": 0,
    "start_time": "2025-06-02T20:19:56.434Z"
   },
   {
    "duration": 0,
    "start_time": "2025-06-02T20:19:56.436Z"
   },
   {
    "duration": 0,
    "start_time": "2025-06-02T20:19:56.437Z"
   },
   {
    "duration": 0,
    "start_time": "2025-06-02T20:19:56.439Z"
   },
   {
    "duration": 0,
    "start_time": "2025-06-02T20:19:56.440Z"
   },
   {
    "duration": 0,
    "start_time": "2025-06-02T20:19:56.442Z"
   },
   {
    "duration": 0,
    "start_time": "2025-06-02T20:19:56.443Z"
   },
   {
    "duration": 0,
    "start_time": "2025-06-02T20:19:56.444Z"
   },
   {
    "duration": 0,
    "start_time": "2025-06-02T20:19:56.445Z"
   },
   {
    "duration": 0,
    "start_time": "2025-06-02T20:19:56.447Z"
   },
   {
    "duration": 0,
    "start_time": "2025-06-02T20:19:56.448Z"
   },
   {
    "duration": 0,
    "start_time": "2025-06-02T20:19:56.449Z"
   },
   {
    "duration": 0,
    "start_time": "2025-06-02T20:19:56.450Z"
   },
   {
    "duration": 0,
    "start_time": "2025-06-02T20:19:56.451Z"
   },
   {
    "duration": 0,
    "start_time": "2025-06-02T20:19:56.452Z"
   },
   {
    "duration": 0,
    "start_time": "2025-06-02T20:19:56.453Z"
   },
   {
    "duration": 0,
    "start_time": "2025-06-02T20:19:56.454Z"
   },
   {
    "duration": 0,
    "start_time": "2025-06-02T20:19:56.455Z"
   },
   {
    "duration": 0,
    "start_time": "2025-06-02T20:19:56.456Z"
   },
   {
    "duration": 0,
    "start_time": "2025-06-02T20:19:56.457Z"
   },
   {
    "duration": 0,
    "start_time": "2025-06-02T20:19:56.459Z"
   },
   {
    "duration": 0,
    "start_time": "2025-06-02T20:19:56.460Z"
   },
   {
    "duration": 0,
    "start_time": "2025-06-02T20:19:56.504Z"
   },
   {
    "duration": 0,
    "start_time": "2025-06-02T20:19:56.506Z"
   },
   {
    "duration": 0,
    "start_time": "2025-06-02T20:19:56.508Z"
   },
   {
    "duration": 0,
    "start_time": "2025-06-02T20:19:56.509Z"
   },
   {
    "duration": 0,
    "start_time": "2025-06-02T20:19:56.510Z"
   },
   {
    "duration": 0,
    "start_time": "2025-06-02T20:19:56.511Z"
   },
   {
    "duration": 0,
    "start_time": "2025-06-02T20:19:56.512Z"
   },
   {
    "duration": 0,
    "start_time": "2025-06-02T20:19:56.513Z"
   },
   {
    "duration": 0,
    "start_time": "2025-06-02T20:19:56.515Z"
   },
   {
    "duration": 0,
    "start_time": "2025-06-02T20:19:56.516Z"
   },
   {
    "duration": 0,
    "start_time": "2025-06-02T20:19:56.517Z"
   },
   {
    "duration": 0,
    "start_time": "2025-06-02T20:19:56.518Z"
   },
   {
    "duration": 0,
    "start_time": "2025-06-02T20:19:56.519Z"
   },
   {
    "duration": 0,
    "start_time": "2025-06-02T20:19:56.520Z"
   },
   {
    "duration": 0,
    "start_time": "2025-06-02T20:19:56.521Z"
   },
   {
    "duration": 0,
    "start_time": "2025-06-02T20:19:56.522Z"
   },
   {
    "duration": 1339,
    "start_time": "2025-06-02T20:20:09.217Z"
   },
   {
    "duration": 42718,
    "start_time": "2025-06-02T20:21:01.551Z"
   },
   {
    "duration": 323,
    "start_time": "2025-06-02T20:22:21.441Z"
   },
   {
    "duration": 1340,
    "start_time": "2025-06-02T20:22:41.244Z"
   },
   {
    "duration": 38110,
    "start_time": "2025-06-02T20:23:05.753Z"
   },
   {
    "duration": 2109,
    "start_time": "2025-06-02T20:23:43.867Z"
   },
   {
    "duration": 52,
    "start_time": "2025-06-02T20:23:45.978Z"
   },
   {
    "duration": 1344,
    "start_time": "2025-06-02T20:23:46.033Z"
   },
   {
    "duration": 285,
    "start_time": "2025-06-02T20:23:47.380Z"
   },
   {
    "duration": 20,
    "start_time": "2025-06-02T20:23:47.667Z"
   },
   {
    "duration": 56,
    "start_time": "2025-06-02T20:23:47.688Z"
   },
   {
    "duration": 12,
    "start_time": "2025-06-02T20:23:47.746Z"
   },
   {
    "duration": 7,
    "start_time": "2025-06-02T20:23:47.759Z"
   },
   {
    "duration": 13,
    "start_time": "2025-06-02T20:23:47.769Z"
   },
   {
    "duration": 8,
    "start_time": "2025-06-02T20:23:47.784Z"
   },
   {
    "duration": 18,
    "start_time": "2025-06-02T20:23:47.794Z"
   },
   {
    "duration": 14,
    "start_time": "2025-06-02T20:23:47.814Z"
   },
   {
    "duration": 16,
    "start_time": "2025-06-02T20:23:47.830Z"
   },
   {
    "duration": 657,
    "start_time": "2025-06-02T20:23:47.848Z"
   },
   {
    "duration": 431,
    "start_time": "2025-06-02T20:23:48.507Z"
   },
   {
    "duration": 452,
    "start_time": "2025-06-02T20:23:48.939Z"
   },
   {
    "duration": 402,
    "start_time": "2025-06-02T20:23:49.393Z"
   },
   {
    "duration": 572,
    "start_time": "2025-06-02T20:23:49.805Z"
   },
   {
    "duration": 27,
    "start_time": "2025-06-02T20:23:50.379Z"
   },
   {
    "duration": 570,
    "start_time": "2025-06-02T20:23:50.408Z"
   },
   {
    "duration": 426,
    "start_time": "2025-06-02T20:23:50.980Z"
   },
   {
    "duration": 427,
    "start_time": "2025-06-02T20:23:51.408Z"
   },
   {
    "duration": 395,
    "start_time": "2025-06-02T20:23:51.837Z"
   },
   {
    "duration": 5,
    "start_time": "2025-06-02T20:23:52.233Z"
   },
   {
    "duration": 146,
    "start_time": "2025-06-02T20:23:52.240Z"
   },
   {
    "duration": 3,
    "start_time": "2025-06-02T20:23:52.388Z"
   },
   {
    "duration": 6,
    "start_time": "2025-06-02T20:23:52.395Z"
   },
   {
    "duration": 7,
    "start_time": "2025-06-02T20:23:52.402Z"
   },
   {
    "duration": 9,
    "start_time": "2025-06-02T20:23:52.411Z"
   },
   {
    "duration": 11,
    "start_time": "2025-06-02T20:23:52.421Z"
   },
   {
    "duration": 6699,
    "start_time": "2025-06-02T20:23:52.434Z"
   },
   {
    "duration": 22,
    "start_time": "2025-06-02T20:23:59.135Z"
   },
   {
    "duration": 7,
    "start_time": "2025-06-02T20:23:59.159Z"
   },
   {
    "duration": 623,
    "start_time": "2025-06-02T20:23:59.168Z"
   },
   {
    "duration": 397,
    "start_time": "2025-06-02T20:23:59.793Z"
   },
   {
    "duration": 458,
    "start_time": "2025-06-02T20:24:00.192Z"
   },
   {
    "duration": 443,
    "start_time": "2025-06-02T20:24:00.652Z"
   },
   {
    "duration": 301,
    "start_time": "2025-06-02T20:24:01.105Z"
   },
   {
    "duration": 502,
    "start_time": "2025-06-02T20:24:01.408Z"
   },
   {
    "duration": 6,
    "start_time": "2025-06-02T20:24:01.911Z"
   },
   {
    "duration": 52,
    "start_time": "2025-06-02T20:24:01.918Z"
   },
   {
    "duration": 9,
    "start_time": "2025-06-02T20:24:01.972Z"
   },
   {
    "duration": 13,
    "start_time": "2025-06-02T20:24:01.982Z"
   },
   {
    "duration": 5695,
    "start_time": "2025-06-02T20:24:01.997Z"
   },
   {
    "duration": 66,
    "start_time": "2025-06-02T20:24:07.705Z"
   },
   {
    "duration": 507,
    "start_time": "2025-06-02T20:25:17.720Z"
   },
   {
    "duration": 554,
    "start_time": "2025-06-02T20:27:02.265Z"
   },
   {
    "duration": 555,
    "start_time": "2025-06-02T20:29:54.388Z"
   },
   {
    "duration": 7,
    "start_time": "2025-06-02T20:33:39.382Z"
   },
   {
    "duration": 4,
    "start_time": "2025-06-02T20:36:25.356Z"
   },
   {
    "duration": 4,
    "start_time": "2025-06-02T20:36:34.713Z"
   },
   {
    "duration": 4,
    "start_time": "2025-06-02T20:36:41.623Z"
   },
   {
    "duration": 170,
    "start_time": "2025-06-02T20:37:04.391Z"
   },
   {
    "duration": 5,
    "start_time": "2025-06-02T20:37:25.496Z"
   },
   {
    "duration": 18,
    "start_time": "2025-06-02T20:37:28.868Z"
   },
   {
    "duration": 38696,
    "start_time": "2025-06-02T20:38:06.910Z"
   },
   {
    "duration": 2122,
    "start_time": "2025-06-02T20:38:45.610Z"
   },
   {
    "duration": 44,
    "start_time": "2025-06-02T20:38:47.734Z"
   },
   {
    "duration": 1362,
    "start_time": "2025-06-02T20:38:47.780Z"
   },
   {
    "duration": 285,
    "start_time": "2025-06-02T20:38:49.146Z"
   },
   {
    "duration": 19,
    "start_time": "2025-06-02T20:38:49.433Z"
   },
   {
    "duration": 8,
    "start_time": "2025-06-02T20:38:49.454Z"
   },
   {
    "duration": 12,
    "start_time": "2025-06-02T20:38:49.464Z"
   },
   {
    "duration": 30,
    "start_time": "2025-06-02T20:38:49.478Z"
   },
   {
    "duration": 12,
    "start_time": "2025-06-02T20:38:49.510Z"
   },
   {
    "duration": 17,
    "start_time": "2025-06-02T20:38:49.523Z"
   },
   {
    "duration": 19,
    "start_time": "2025-06-02T20:38:49.542Z"
   },
   {
    "duration": 15,
    "start_time": "2025-06-02T20:38:49.563Z"
   },
   {
    "duration": 35,
    "start_time": "2025-06-02T20:38:49.581Z"
   },
   {
    "duration": 547,
    "start_time": "2025-06-02T20:38:49.618Z"
   },
   {
    "duration": 472,
    "start_time": "2025-06-02T20:38:50.167Z"
   },
   {
    "duration": 464,
    "start_time": "2025-06-02T20:38:50.641Z"
   },
   {
    "duration": 386,
    "start_time": "2025-06-02T20:38:51.107Z"
   },
   {
    "duration": 584,
    "start_time": "2025-06-02T20:38:51.495Z"
   },
   {
    "duration": 28,
    "start_time": "2025-06-02T20:38:52.081Z"
   },
   {
    "duration": 503,
    "start_time": "2025-06-02T20:38:52.111Z"
   },
   {
    "duration": 401,
    "start_time": "2025-06-02T20:38:52.616Z"
   },
   {
    "duration": 431,
    "start_time": "2025-06-02T20:38:53.019Z"
   },
   {
    "duration": 396,
    "start_time": "2025-06-02T20:38:53.451Z"
   },
   {
    "duration": 6,
    "start_time": "2025-06-02T20:38:53.849Z"
   },
   {
    "duration": 13,
    "start_time": "2025-06-02T20:38:53.857Z"
   },
   {
    "duration": 3,
    "start_time": "2025-06-02T20:38:53.872Z"
   },
   {
    "duration": 34,
    "start_time": "2025-06-02T20:38:53.877Z"
   },
   {
    "duration": 14,
    "start_time": "2025-06-02T20:38:53.913Z"
   },
   {
    "duration": 12,
    "start_time": "2025-06-02T20:38:53.930Z"
   },
   {
    "duration": 6,
    "start_time": "2025-06-02T20:38:53.944Z"
   },
   {
    "duration": 6722,
    "start_time": "2025-06-02T20:38:53.952Z"
   },
   {
    "duration": 32,
    "start_time": "2025-06-02T20:39:00.676Z"
   },
   {
    "duration": 9,
    "start_time": "2025-06-02T20:39:00.711Z"
   },
   {
    "duration": 605,
    "start_time": "2025-06-02T20:39:00.721Z"
   },
   {
    "duration": 417,
    "start_time": "2025-06-02T20:39:01.328Z"
   },
   {
    "duration": 443,
    "start_time": "2025-06-02T20:39:01.747Z"
   },
   {
    "duration": 441,
    "start_time": "2025-06-02T20:39:02.192Z"
   },
   {
    "duration": 317,
    "start_time": "2025-06-02T20:39:02.635Z"
   },
   {
    "duration": 463,
    "start_time": "2025-06-02T20:39:02.954Z"
   },
   {
    "duration": 6,
    "start_time": "2025-06-02T20:39:03.421Z"
   },
   {
    "duration": 54,
    "start_time": "2025-06-02T20:39:03.428Z"
   },
   {
    "duration": 9,
    "start_time": "2025-06-02T20:39:03.483Z"
   },
   {
    "duration": 7,
    "start_time": "2025-06-02T20:39:03.494Z"
   },
   {
    "duration": 5651,
    "start_time": "2025-06-02T20:39:03.502Z"
   },
   {
    "duration": 84,
    "start_time": "2025-06-02T20:39:09.155Z"
   },
   {
    "duration": 8,
    "start_time": "2025-06-02T20:50:04.885Z"
   },
   {
    "duration": 37103,
    "start_time": "2025-06-02T20:50:12.802Z"
   },
   {
    "duration": 2168,
    "start_time": "2025-06-02T20:50:49.907Z"
   },
   {
    "duration": 49,
    "start_time": "2025-06-02T20:50:52.077Z"
   },
   {
    "duration": 1385,
    "start_time": "2025-06-02T20:50:52.128Z"
   },
   {
    "duration": 283,
    "start_time": "2025-06-02T20:50:53.516Z"
   },
   {
    "duration": 20,
    "start_time": "2025-06-02T20:50:53.800Z"
   },
   {
    "duration": 7,
    "start_time": "2025-06-02T20:50:53.822Z"
   },
   {
    "duration": 17,
    "start_time": "2025-06-02T20:50:53.830Z"
   },
   {
    "duration": 7,
    "start_time": "2025-06-02T20:50:53.848Z"
   },
   {
    "duration": 9,
    "start_time": "2025-06-02T20:50:53.858Z"
   },
   {
    "duration": 17,
    "start_time": "2025-06-02T20:50:53.869Z"
   },
   {
    "duration": 19,
    "start_time": "2025-06-02T20:50:53.904Z"
   },
   {
    "duration": 14,
    "start_time": "2025-06-02T20:50:53.925Z"
   },
   {
    "duration": 17,
    "start_time": "2025-06-02T20:50:53.941Z"
   },
   {
    "duration": 787,
    "start_time": "2025-06-02T20:50:53.960Z"
   },
   {
    "duration": 449,
    "start_time": "2025-06-02T20:50:54.748Z"
   },
   {
    "duration": 457,
    "start_time": "2025-06-02T20:50:55.199Z"
   },
   {
    "duration": 408,
    "start_time": "2025-06-02T20:50:55.658Z"
   },
   {
    "duration": 613,
    "start_time": "2025-06-02T20:50:56.068Z"
   },
   {
    "duration": 27,
    "start_time": "2025-06-02T20:50:56.683Z"
   },
   {
    "duration": 518,
    "start_time": "2025-06-02T20:50:56.712Z"
   },
   {
    "duration": 389,
    "start_time": "2025-06-02T20:50:57.232Z"
   },
   {
    "duration": 444,
    "start_time": "2025-06-02T20:50:57.623Z"
   },
   {
    "duration": 418,
    "start_time": "2025-06-02T20:50:58.069Z"
   },
   {
    "duration": 5,
    "start_time": "2025-06-02T20:50:58.489Z"
   },
   {
    "duration": 47,
    "start_time": "2025-06-02T20:50:58.495Z"
   },
   {
    "duration": 3,
    "start_time": "2025-06-02T20:50:58.544Z"
   },
   {
    "duration": 11,
    "start_time": "2025-06-02T20:50:58.550Z"
   },
   {
    "duration": 5,
    "start_time": "2025-06-02T20:50:58.562Z"
   },
   {
    "duration": 27,
    "start_time": "2025-06-02T20:50:58.568Z"
   },
   {
    "duration": 7,
    "start_time": "2025-06-02T20:50:58.596Z"
   },
   {
    "duration": 6942,
    "start_time": "2025-06-02T20:50:58.604Z"
   },
   {
    "duration": 22,
    "start_time": "2025-06-02T20:51:05.548Z"
   },
   {
    "duration": 8,
    "start_time": "2025-06-02T20:51:05.572Z"
   },
   {
    "duration": 1042,
    "start_time": "2025-06-02T20:51:05.582Z"
   },
   {
    "duration": 823,
    "start_time": "2025-06-02T20:51:06.626Z"
   },
   {
    "duration": 531,
    "start_time": "2025-06-02T20:51:07.451Z"
   },
   {
    "duration": 461,
    "start_time": "2025-06-02T20:51:07.984Z"
   },
   {
    "duration": 317,
    "start_time": "2025-06-02T20:51:08.447Z"
   },
   {
    "duration": 454,
    "start_time": "2025-06-02T20:51:08.766Z"
   },
   {
    "duration": 5,
    "start_time": "2025-06-02T20:51:09.222Z"
   },
   {
    "duration": 33,
    "start_time": "2025-06-02T20:51:09.229Z"
   },
   {
    "duration": 9,
    "start_time": "2025-06-02T20:51:09.264Z"
   },
   {
    "duration": 39,
    "start_time": "2025-06-02T20:51:09.274Z"
   },
   {
    "duration": 6622,
    "start_time": "2025-06-02T20:51:09.315Z"
   },
   {
    "duration": 78,
    "start_time": "2025-06-02T20:51:15.939Z"
   },
   {
    "duration": 38636,
    "start_time": "2025-06-02T20:53:47.772Z"
   },
   {
    "duration": 2117,
    "start_time": "2025-06-02T20:54:26.411Z"
   },
   {
    "duration": 45,
    "start_time": "2025-06-02T20:54:28.530Z"
   },
   {
    "duration": 1371,
    "start_time": "2025-06-02T20:54:28.577Z"
   },
   {
    "duration": 348,
    "start_time": "2025-06-02T20:54:29.951Z"
   },
   {
    "duration": 20,
    "start_time": "2025-06-02T20:54:30.301Z"
   },
   {
    "duration": 73,
    "start_time": "2025-06-02T20:54:30.322Z"
   },
   {
    "duration": 69,
    "start_time": "2025-06-02T20:54:30.397Z"
   },
   {
    "duration": 93,
    "start_time": "2025-06-02T20:54:30.468Z"
   },
   {
    "duration": 34,
    "start_time": "2025-06-02T20:54:30.563Z"
   },
   {
    "duration": 46,
    "start_time": "2025-06-02T20:54:30.599Z"
   },
   {
    "duration": 19,
    "start_time": "2025-06-02T20:54:30.647Z"
   },
   {
    "duration": 14,
    "start_time": "2025-06-02T20:54:30.667Z"
   },
   {
    "duration": 118,
    "start_time": "2025-06-02T20:54:30.683Z"
   },
   {
    "duration": 576,
    "start_time": "2025-06-02T20:54:30.803Z"
   },
   {
    "duration": 473,
    "start_time": "2025-06-02T20:54:31.380Z"
   },
   {
    "duration": 460,
    "start_time": "2025-06-02T20:54:31.855Z"
   },
   {
    "duration": 399,
    "start_time": "2025-06-02T20:54:32.317Z"
   },
   {
    "duration": 589,
    "start_time": "2025-06-02T20:54:32.718Z"
   },
   {
    "duration": 14,
    "start_time": "2025-06-02T20:54:33.309Z"
   },
   {
    "duration": 497,
    "start_time": "2025-06-02T20:54:33.325Z"
   },
   {
    "duration": 386,
    "start_time": "2025-06-02T20:54:33.824Z"
   },
   {
    "duration": 438,
    "start_time": "2025-06-02T20:54:34.212Z"
   },
   {
    "duration": 420,
    "start_time": "2025-06-02T20:54:34.651Z"
   },
   {
    "duration": 5,
    "start_time": "2025-06-02T20:54:35.072Z"
   },
   {
    "duration": 36,
    "start_time": "2025-06-02T20:54:35.078Z"
   },
   {
    "duration": 43,
    "start_time": "2025-06-02T20:54:35.115Z"
   },
   {
    "duration": 27,
    "start_time": "2025-06-02T20:54:35.163Z"
   },
   {
    "duration": 42,
    "start_time": "2025-06-02T20:54:35.191Z"
   },
   {
    "duration": 40,
    "start_time": "2025-06-02T20:54:35.235Z"
   },
   {
    "duration": 51,
    "start_time": "2025-06-02T20:54:35.276Z"
   },
   {
    "duration": 6790,
    "start_time": "2025-06-02T20:54:35.329Z"
   },
   {
    "duration": 24,
    "start_time": "2025-06-02T20:54:42.121Z"
   },
   {
    "duration": 9,
    "start_time": "2025-06-02T20:54:42.146Z"
   },
   {
    "duration": 572,
    "start_time": "2025-06-02T20:54:42.156Z"
   },
   {
    "duration": 403,
    "start_time": "2025-06-02T20:54:42.730Z"
   },
   {
    "duration": 452,
    "start_time": "2025-06-02T20:54:43.134Z"
   },
   {
    "duration": 468,
    "start_time": "2025-06-02T20:54:43.588Z"
   },
   {
    "duration": 308,
    "start_time": "2025-06-02T20:54:44.058Z"
   },
   {
    "duration": 451,
    "start_time": "2025-06-02T20:54:44.368Z"
   },
   {
    "duration": 6,
    "start_time": "2025-06-02T20:54:44.822Z"
   },
   {
    "duration": 32,
    "start_time": "2025-06-02T20:54:44.830Z"
   },
   {
    "duration": 10,
    "start_time": "2025-06-02T20:54:44.864Z"
   },
   {
    "duration": 5,
    "start_time": "2025-06-02T20:54:44.876Z"
   },
   {
    "duration": 7330,
    "start_time": "2025-06-02T20:54:44.906Z"
   },
   {
    "duration": 83,
    "start_time": "2025-06-02T20:54:52.238Z"
   },
   {
    "duration": 9,
    "start_time": "2025-06-02T20:55:22.268Z"
   },
   {
    "duration": 16,
    "start_time": "2025-06-02T20:58:22.928Z"
   },
   {
    "duration": 37571,
    "start_time": "2025-06-02T21:00:12.986Z"
   },
   {
    "duration": 2147,
    "start_time": "2025-06-02T21:00:50.560Z"
   },
   {
    "duration": 43,
    "start_time": "2025-06-02T21:00:52.709Z"
   },
   {
    "duration": 1392,
    "start_time": "2025-06-02T21:00:52.755Z"
   },
   {
    "duration": 324,
    "start_time": "2025-06-02T21:00:54.150Z"
   },
   {
    "duration": 20,
    "start_time": "2025-06-02T21:00:54.476Z"
   },
   {
    "duration": 11,
    "start_time": "2025-06-02T21:00:54.498Z"
   },
   {
    "duration": 11,
    "start_time": "2025-06-02T21:00:54.511Z"
   },
   {
    "duration": 8,
    "start_time": "2025-06-02T21:00:54.524Z"
   },
   {
    "duration": 10,
    "start_time": "2025-06-02T21:00:54.535Z"
   },
   {
    "duration": 7,
    "start_time": "2025-06-02T21:00:54.547Z"
   },
   {
    "duration": 51,
    "start_time": "2025-06-02T21:00:54.556Z"
   },
   {
    "duration": 15,
    "start_time": "2025-06-02T21:00:54.610Z"
   },
   {
    "duration": 17,
    "start_time": "2025-06-02T21:00:54.627Z"
   },
   {
    "duration": 750,
    "start_time": "2025-06-02T21:00:54.646Z"
   },
   {
    "duration": 468,
    "start_time": "2025-06-02T21:00:55.405Z"
   },
   {
    "duration": 508,
    "start_time": "2025-06-02T21:00:55.875Z"
   },
   {
    "duration": 399,
    "start_time": "2025-06-02T21:00:56.385Z"
   },
   {
    "duration": 600,
    "start_time": "2025-06-02T21:00:56.786Z"
   },
   {
    "duration": 23,
    "start_time": "2025-06-02T21:00:57.388Z"
   },
   {
    "duration": 792,
    "start_time": "2025-06-02T21:00:57.413Z"
   },
   {
    "duration": 533,
    "start_time": "2025-06-02T21:00:58.207Z"
   },
   {
    "duration": 438,
    "start_time": "2025-06-02T21:00:58.742Z"
   },
   {
    "duration": 413,
    "start_time": "2025-06-02T21:00:59.182Z"
   },
   {
    "duration": 5,
    "start_time": "2025-06-02T21:00:59.605Z"
   },
   {
    "duration": 13,
    "start_time": "2025-06-02T21:00:59.612Z"
   },
   {
    "duration": 3,
    "start_time": "2025-06-02T21:00:59.627Z"
   },
   {
    "duration": 11,
    "start_time": "2025-06-02T21:00:59.634Z"
   },
   {
    "duration": 14,
    "start_time": "2025-06-02T21:00:59.647Z"
   },
   {
    "duration": 7,
    "start_time": "2025-06-02T21:00:59.663Z"
   },
   {
    "duration": 23,
    "start_time": "2025-06-02T21:00:59.672Z"
   },
   {
    "duration": 6850,
    "start_time": "2025-06-02T21:00:59.697Z"
   },
   {
    "duration": 23,
    "start_time": "2025-06-02T21:01:06.549Z"
   },
   {
    "duration": 106,
    "start_time": "2025-06-02T21:01:06.573Z"
   },
   {
    "duration": 646,
    "start_time": "2025-06-02T21:01:06.680Z"
   },
   {
    "duration": 398,
    "start_time": "2025-06-02T21:01:07.328Z"
   },
   {
    "duration": 455,
    "start_time": "2025-06-02T21:01:07.727Z"
   },
   {
    "duration": 444,
    "start_time": "2025-06-02T21:01:08.184Z"
   },
   {
    "duration": 309,
    "start_time": "2025-06-02T21:01:08.629Z"
   },
   {
    "duration": 478,
    "start_time": "2025-06-02T21:01:08.940Z"
   },
   {
    "duration": 6,
    "start_time": "2025-06-02T21:01:09.419Z"
   },
   {
    "duration": 121,
    "start_time": "2025-06-02T21:01:09.427Z"
   },
   {
    "duration": 9,
    "start_time": "2025-06-02T21:01:09.550Z"
   },
   {
    "duration": 30,
    "start_time": "2025-06-02T21:01:09.561Z"
   },
   {
    "duration": 5729,
    "start_time": "2025-06-02T21:01:09.593Z"
   },
   {
    "duration": 81,
    "start_time": "2025-06-02T21:01:15.324Z"
   }
  ],
  "kernelspec": {
   "display_name": "Python 3 (ipykernel)",
   "language": "python",
   "name": "python3"
  },
  "language_info": {
   "codemirror_mode": {
    "name": "ipython",
    "version": 3
   },
   "file_extension": ".py",
   "mimetype": "text/x-python",
   "name": "python",
   "nbconvert_exporter": "python",
   "pygments_lexer": "ipython3",
   "version": "3.9.5"
  },
  "toc": {
   "base_numbering": 1,
   "nav_menu": {},
   "number_sections": true,
   "sideBar": true,
   "skip_h1_title": false,
   "title_cell": "Table of Contents",
   "title_sidebar": "Contents",
   "toc_cell": false,
   "toc_position": {
    "height": "calc(100% - 180px)",
    "left": "10px",
    "top": "150px",
    "width": "202.667px"
   },
   "toc_section_display": true,
   "toc_window_display": true
  }
 },
 "nbformat": 4,
 "nbformat_minor": 5
}
